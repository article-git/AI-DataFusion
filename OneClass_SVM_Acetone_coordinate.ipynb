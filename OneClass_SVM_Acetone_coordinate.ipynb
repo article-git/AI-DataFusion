{
 "cells": [
  {
   "cell_type": "code",
   "execution_count": 142,
   "metadata": {},
   "outputs": [
    {
     "name": "stdout",
     "output_type": "stream",
     "text": [
      "The following data fusion module was developed by the University of Bergamo whithin the scope of the RISEN project (under Grant Agreement No 883116). \n",
      "One Class Suppport Vectore Machines was implemented as classification method to detect Acetone by fusing the experimental data of IMS and GC-QEPAS. \n",
      "The module has been written to allow modifications and experimental data integrations in the last TTT.\n"
     ]
    }
   ],
   "source": [
    "print(\"The following data fusion module was developed by the University of Bergamo whithin the scope of the RISEN project (under Grant Agreement No 883116). \\nOne Class Suppport Vectore Machines was implemented as classification method to detect Acetone by fusing the experimental data of IMS and GC-QEPAS. \\nThe module has been written to allow modifications and experimental data integrations in the last TTT.\")"
   ]
  },
  {
   "cell_type": "code",
   "execution_count": 143,
   "metadata": {},
   "outputs": [],
   "source": [
    "import pandas as pd\n",
    "import numpy as np\n",
    "import seaborn as sns\n",
    "from sklearn.svm import OneClassSVM\n",
    "from sklearn import svm\n",
    "import matplotlib.pyplot as plt\n",
    "import matplotlib.font_manager\n",
    "import matplotlib.pyplot as plt\n",
    "import plotly.express as px"
   ]
  },
  {
   "cell_type": "code",
   "execution_count": 144,
   "metadata": {},
   "outputs": [],
   "source": [
    "#IMS data\n",
    "data_IMS = pd.read_excel(\"/Users/giorgiofelizzato/Desktop/RISEN project/data fusion/Moduli python data fusion-final version/Acetone.xlsx\", sheet_name='IMS', index_col=0, header=0)"
   ]
  },
  {
   "cell_type": "code",
   "execution_count": 145,
   "metadata": {},
   "outputs": [],
   "source": [
    "#Gas chromatography data\n",
    "data_GC = pd.read_excel(\"/Users/giorgiofelizzato/Desktop/RISEN project/data fusion/Moduli python data fusion-final version/Acetone.xlsx\", sheet_name='GC', index_col=0, header=0)"
   ]
  },
  {
   "cell_type": "code",
   "execution_count": 146,
   "metadata": {},
   "outputs": [],
   "source": [
    "#QEPAS (IR spectra) data\n",
    "data_QEPAS = pd.read_excel(\"/Users/giorgiofelizzato/Desktop/RISEN project/data fusion/Moduli python data fusion-final version/Acetone.xlsx\", sheet_name='QEPAS', index_col=0, header=0)"
   ]
  },
  {
   "cell_type": "code",
   "execution_count": 147,
   "metadata": {},
   "outputs": [],
   "source": [
    "X_IMS = data_IMS.iloc[:10,1:]"
   ]
  },
  {
   "cell_type": "code",
   "execution_count": 148,
   "metadata": {},
   "outputs": [],
   "source": [
    "X_GC = data_GC.iloc[:10,1:]"
   ]
  },
  {
   "cell_type": "code",
   "execution_count": 149,
   "metadata": {},
   "outputs": [],
   "source": [
    "X_GC_array = X_GC.values"
   ]
  },
  {
   "cell_type": "code",
   "execution_count": 150,
   "metadata": {},
   "outputs": [],
   "source": [
    "X_QEPAS = data_QEPAS.iloc[:10,1:]"
   ]
  },
  {
   "cell_type": "code",
   "execution_count": 151,
   "metadata": {},
   "outputs": [],
   "source": [
    "#pre-processing for IMS data\n",
    "def snv_IMS(X_IMS, mean_IMS=None, std_dev_IMS=None):\n",
    "    if mean_IMS is None:\n",
    "        mean_IMS = np.mean(X_IMS, axis=1, keepdims=True)\n",
    "    if std_dev_IMS is None:\n",
    "        std_dev_IMS = np.std(X_IMS, axis=1, keepdims=True)\n",
    "\n",
    "    # Apply correction\n",
    "    output_data_IMS = (X_IMS - mean_IMS) / std_dev_IMS\n",
    "\n",
    "    return output_data_IMS"
   ]
  },
  {
   "cell_type": "code",
   "execution_count": 152,
   "metadata": {},
   "outputs": [],
   "source": [
    "#Pre-processing for QEPAS (IR spectra)\n",
    "def snv_QEPAS(X_QEPAS, mean_QEPAS=None, std_dev_QEPAS=None):\n",
    "    if mean_QEPAS is None:\n",
    "        mean_QEPAS = np.mean(X_QEPAS, axis=1, keepdims=True)\n",
    "    if std_dev_QEPAS is None:\n",
    "        std_dev_QEPAS = np.std(X_QEPAS, axis=1, keepdims=True)\n",
    "\n",
    "    # Apply correction\n",
    "    output_data_QEPAS = (X_QEPAS - mean_QEPAS) / std_dev_QEPAS\n",
    "\n",
    "    return output_data_QEPAS"
   ]
  },
  {
   "cell_type": "code",
   "execution_count": 153,
   "metadata": {},
   "outputs": [],
   "source": [
    "# Compute the SNV on IMS raw data\n",
    "X_snv_IMS = snv_IMS(X_IMS.values)"
   ]
  },
  {
   "cell_type": "code",
   "execution_count": 154,
   "metadata": {},
   "outputs": [],
   "source": [
    "# Compute the SNV on IMS raw data\n",
    "X_snv_QEPAS = snv_QEPAS(X_QEPAS.values)"
   ]
  },
  {
   "cell_type": "code",
   "execution_count": 155,
   "metadata": {},
   "outputs": [],
   "source": [
    "# Create a new DataFrame with the processed IMS plasmagrams\n",
    "dataframe_snv_IMS = pd.DataFrame(X_snv_IMS, columns=data_IMS.columns[1:])"
   ]
  },
  {
   "cell_type": "code",
   "execution_count": 156,
   "metadata": {},
   "outputs": [],
   "source": [
    "# Create a new DataFrame with the processed QEPAS plasmagrams\n",
    "dataframe_snv_QEPAS = pd.DataFrame(X_snv_QEPAS, columns=data_QEPAS.columns[1:])"
   ]
  },
  {
   "cell_type": "code",
   "execution_count": 157,
   "metadata": {},
   "outputs": [],
   "source": [
    "# Create a new DataFrame with the processed RTs\n",
    "dataframe_RT = pd.DataFrame(X_GC_array, columns=data_GC.columns[1:])"
   ]
  },
  {
   "cell_type": "code",
   "execution_count": 158,
   "metadata": {},
   "outputs": [
    {
     "data": {
      "text/html": [
       "<div>\n",
       "<style scoped>\n",
       "    .dataframe tbody tr th:only-of-type {\n",
       "        vertical-align: middle;\n",
       "    }\n",
       "\n",
       "    .dataframe tbody tr th {\n",
       "        vertical-align: top;\n",
       "    }\n",
       "\n",
       "    .dataframe thead th {\n",
       "        text-align: right;\n",
       "    }\n",
       "</style>\n",
       "<table border=\"1\" class=\"dataframe\">\n",
       "  <thead>\n",
       "    <tr style=\"text-align: right;\">\n",
       "      <th></th>\n",
       "      <th>0.52</th>\n",
       "      <th>0.54</th>\n",
       "      <th>0.56</th>\n",
       "      <th>0.58</th>\n",
       "      <th>0.6</th>\n",
       "      <th>0.62</th>\n",
       "      <th>0.64</th>\n",
       "      <th>0.66</th>\n",
       "      <th>0.68</th>\n",
       "      <th>0.7</th>\n",
       "      <th>...</th>\n",
       "      <th>8.1021</th>\n",
       "      <th>8.0892</th>\n",
       "      <th>8.0763</th>\n",
       "      <th>8.0635</th>\n",
       "      <th>8.0507</th>\n",
       "      <th>8.038</th>\n",
       "      <th>8.0253</th>\n",
       "      <th>8.0126</th>\n",
       "      <th>8</th>\n",
       "      <th>RT</th>\n",
       "    </tr>\n",
       "  </thead>\n",
       "  <tbody>\n",
       "    <tr>\n",
       "      <th>0</th>\n",
       "      <td>-0.184356</td>\n",
       "      <td>-0.184357</td>\n",
       "      <td>-0.184360</td>\n",
       "      <td>-0.184357</td>\n",
       "      <td>-0.184360</td>\n",
       "      <td>-0.184359</td>\n",
       "      <td>-0.184356</td>\n",
       "      <td>-0.184358</td>\n",
       "      <td>-0.184358</td>\n",
       "      <td>-0.184357</td>\n",
       "      <td>...</td>\n",
       "      <td>2.273491</td>\n",
       "      <td>2.108096</td>\n",
       "      <td>1.814539</td>\n",
       "      <td>1.396518</td>\n",
       "      <td>0.917965</td>\n",
       "      <td>0.445707</td>\n",
       "      <td>0.059779</td>\n",
       "      <td>-0.252275</td>\n",
       "      <td>-0.477630</td>\n",
       "      <td>55.78</td>\n",
       "    </tr>\n",
       "    <tr>\n",
       "      <th>1</th>\n",
       "      <td>-0.182964</td>\n",
       "      <td>-0.182965</td>\n",
       "      <td>-0.182966</td>\n",
       "      <td>-0.182965</td>\n",
       "      <td>-0.182966</td>\n",
       "      <td>-0.182963</td>\n",
       "      <td>-0.182960</td>\n",
       "      <td>-0.182962</td>\n",
       "      <td>-0.182962</td>\n",
       "      <td>-0.182964</td>\n",
       "      <td>...</td>\n",
       "      <td>2.157777</td>\n",
       "      <td>1.974751</td>\n",
       "      <td>1.657661</td>\n",
       "      <td>1.276768</td>\n",
       "      <td>0.847929</td>\n",
       "      <td>0.420787</td>\n",
       "      <td>0.053737</td>\n",
       "      <td>-0.225854</td>\n",
       "      <td>-0.385676</td>\n",
       "      <td>55.99</td>\n",
       "    </tr>\n",
       "    <tr>\n",
       "      <th>2</th>\n",
       "      <td>-0.169640</td>\n",
       "      <td>-0.169637</td>\n",
       "      <td>-0.169638</td>\n",
       "      <td>-0.169637</td>\n",
       "      <td>-0.169638</td>\n",
       "      <td>-0.169641</td>\n",
       "      <td>-0.169638</td>\n",
       "      <td>-0.169638</td>\n",
       "      <td>-0.169640</td>\n",
       "      <td>-0.169642</td>\n",
       "      <td>...</td>\n",
       "      <td>2.178575</td>\n",
       "      <td>1.924728</td>\n",
       "      <td>1.516539</td>\n",
       "      <td>1.040500</td>\n",
       "      <td>0.487147</td>\n",
       "      <td>-0.007824</td>\n",
       "      <td>-0.457916</td>\n",
       "      <td>-0.754298</td>\n",
       "      <td>-0.926490</td>\n",
       "      <td>55.80</td>\n",
       "    </tr>\n",
       "    <tr>\n",
       "      <th>3</th>\n",
       "      <td>-0.171054</td>\n",
       "      <td>-0.171056</td>\n",
       "      <td>-0.171059</td>\n",
       "      <td>-0.171056</td>\n",
       "      <td>-0.171058</td>\n",
       "      <td>-0.171053</td>\n",
       "      <td>-0.171052</td>\n",
       "      <td>-0.171055</td>\n",
       "      <td>-0.171056</td>\n",
       "      <td>-0.171056</td>\n",
       "      <td>...</td>\n",
       "      <td>2.143762</td>\n",
       "      <td>1.990467</td>\n",
       "      <td>1.717142</td>\n",
       "      <td>1.305451</td>\n",
       "      <td>0.821863</td>\n",
       "      <td>0.362280</td>\n",
       "      <td>-0.022936</td>\n",
       "      <td>-0.307918</td>\n",
       "      <td>-0.478578</td>\n",
       "      <td>55.82</td>\n",
       "    </tr>\n",
       "    <tr>\n",
       "      <th>4</th>\n",
       "      <td>-0.182780</td>\n",
       "      <td>-0.182782</td>\n",
       "      <td>-0.182777</td>\n",
       "      <td>-0.182777</td>\n",
       "      <td>-0.182779</td>\n",
       "      <td>-0.182778</td>\n",
       "      <td>-0.182775</td>\n",
       "      <td>-0.182776</td>\n",
       "      <td>-0.182777</td>\n",
       "      <td>-0.182782</td>\n",
       "      <td>...</td>\n",
       "      <td>1.788077</td>\n",
       "      <td>1.610163</td>\n",
       "      <td>1.302771</td>\n",
       "      <td>0.989703</td>\n",
       "      <td>0.655974</td>\n",
       "      <td>0.281079</td>\n",
       "      <td>-0.000523</td>\n",
       "      <td>-0.187454</td>\n",
       "      <td>-0.344440</td>\n",
       "      <td>60.40</td>\n",
       "    </tr>\n",
       "    <tr>\n",
       "      <th>5</th>\n",
       "      <td>-0.179288</td>\n",
       "      <td>-0.179288</td>\n",
       "      <td>-0.179289</td>\n",
       "      <td>-0.179290</td>\n",
       "      <td>-0.179287</td>\n",
       "      <td>-0.179290</td>\n",
       "      <td>-0.179288</td>\n",
       "      <td>-0.179287</td>\n",
       "      <td>-0.179288</td>\n",
       "      <td>-0.179285</td>\n",
       "      <td>...</td>\n",
       "      <td>2.055816</td>\n",
       "      <td>1.902216</td>\n",
       "      <td>1.652976</td>\n",
       "      <td>1.293258</td>\n",
       "      <td>0.868028</td>\n",
       "      <td>0.461980</td>\n",
       "      <td>0.107461</td>\n",
       "      <td>-0.166176</td>\n",
       "      <td>-0.352908</td>\n",
       "      <td>60.45</td>\n",
       "    </tr>\n",
       "    <tr>\n",
       "      <th>6</th>\n",
       "      <td>-0.208262</td>\n",
       "      <td>-0.208262</td>\n",
       "      <td>-0.208260</td>\n",
       "      <td>-0.208259</td>\n",
       "      <td>-0.208260</td>\n",
       "      <td>-0.208262</td>\n",
       "      <td>-0.208259</td>\n",
       "      <td>-0.208260</td>\n",
       "      <td>-0.208259</td>\n",
       "      <td>-0.208261</td>\n",
       "      <td>...</td>\n",
       "      <td>2.003994</td>\n",
       "      <td>1.869415</td>\n",
       "      <td>1.597288</td>\n",
       "      <td>1.224223</td>\n",
       "      <td>0.806658</td>\n",
       "      <td>0.361338</td>\n",
       "      <td>0.004472</td>\n",
       "      <td>-0.204122</td>\n",
       "      <td>-0.376286</td>\n",
       "      <td>60.42</td>\n",
       "    </tr>\n",
       "    <tr>\n",
       "      <th>7</th>\n",
       "      <td>-0.224847</td>\n",
       "      <td>-0.224845</td>\n",
       "      <td>-0.224844</td>\n",
       "      <td>-0.224844</td>\n",
       "      <td>-0.224844</td>\n",
       "      <td>-0.224847</td>\n",
       "      <td>-0.224848</td>\n",
       "      <td>-0.224846</td>\n",
       "      <td>-0.224846</td>\n",
       "      <td>-0.224844</td>\n",
       "      <td>...</td>\n",
       "      <td>2.274077</td>\n",
       "      <td>2.123505</td>\n",
       "      <td>1.895599</td>\n",
       "      <td>1.534143</td>\n",
       "      <td>1.120050</td>\n",
       "      <td>0.690092</td>\n",
       "      <td>0.293499</td>\n",
       "      <td>-0.029402</td>\n",
       "      <td>-0.270744</td>\n",
       "      <td>60.46</td>\n",
       "    </tr>\n",
       "    <tr>\n",
       "      <th>8</th>\n",
       "      <td>-0.244779</td>\n",
       "      <td>-0.244781</td>\n",
       "      <td>-0.244774</td>\n",
       "      <td>-0.244779</td>\n",
       "      <td>-0.244774</td>\n",
       "      <td>-0.244773</td>\n",
       "      <td>-0.244772</td>\n",
       "      <td>-0.244775</td>\n",
       "      <td>-0.244777</td>\n",
       "      <td>-0.244777</td>\n",
       "      <td>...</td>\n",
       "      <td>2.247325</td>\n",
       "      <td>2.154583</td>\n",
       "      <td>1.875651</td>\n",
       "      <td>1.553470</td>\n",
       "      <td>1.134082</td>\n",
       "      <td>0.695945</td>\n",
       "      <td>0.274497</td>\n",
       "      <td>-0.024158</td>\n",
       "      <td>-0.235229</td>\n",
       "      <td>60.54</td>\n",
       "    </tr>\n",
       "    <tr>\n",
       "      <th>9</th>\n",
       "      <td>-0.265092</td>\n",
       "      <td>-0.265092</td>\n",
       "      <td>-0.265089</td>\n",
       "      <td>-0.265084</td>\n",
       "      <td>-0.265089</td>\n",
       "      <td>-0.265092</td>\n",
       "      <td>-0.265086</td>\n",
       "      <td>-0.265084</td>\n",
       "      <td>-0.265086</td>\n",
       "      <td>-0.265092</td>\n",
       "      <td>...</td>\n",
       "      <td>2.324010</td>\n",
       "      <td>2.213991</td>\n",
       "      <td>1.994795</td>\n",
       "      <td>1.586933</td>\n",
       "      <td>1.174345</td>\n",
       "      <td>0.774175</td>\n",
       "      <td>0.369789</td>\n",
       "      <td>0.022009</td>\n",
       "      <td>-0.226519</td>\n",
       "      <td>60.36</td>\n",
       "    </tr>\n",
       "  </tbody>\n",
       "</table>\n",
       "<p>10 rows × 797 columns</p>\n",
       "</div>"
      ],
      "text/plain": [
       "       0.52      0.54      0.56      0.58       0.6      0.62      0.64  \\\n",
       "0 -0.184356 -0.184357 -0.184360 -0.184357 -0.184360 -0.184359 -0.184356   \n",
       "1 -0.182964 -0.182965 -0.182966 -0.182965 -0.182966 -0.182963 -0.182960   \n",
       "2 -0.169640 -0.169637 -0.169638 -0.169637 -0.169638 -0.169641 -0.169638   \n",
       "3 -0.171054 -0.171056 -0.171059 -0.171056 -0.171058 -0.171053 -0.171052   \n",
       "4 -0.182780 -0.182782 -0.182777 -0.182777 -0.182779 -0.182778 -0.182775   \n",
       "5 -0.179288 -0.179288 -0.179289 -0.179290 -0.179287 -0.179290 -0.179288   \n",
       "6 -0.208262 -0.208262 -0.208260 -0.208259 -0.208260 -0.208262 -0.208259   \n",
       "7 -0.224847 -0.224845 -0.224844 -0.224844 -0.224844 -0.224847 -0.224848   \n",
       "8 -0.244779 -0.244781 -0.244774 -0.244779 -0.244774 -0.244773 -0.244772   \n",
       "9 -0.265092 -0.265092 -0.265089 -0.265084 -0.265089 -0.265092 -0.265086   \n",
       "\n",
       "       0.66      0.68       0.7  ...    8.1021    8.0892    8.0763    8.0635  \\\n",
       "0 -0.184358 -0.184358 -0.184357  ...  2.273491  2.108096  1.814539  1.396518   \n",
       "1 -0.182962 -0.182962 -0.182964  ...  2.157777  1.974751  1.657661  1.276768   \n",
       "2 -0.169638 -0.169640 -0.169642  ...  2.178575  1.924728  1.516539  1.040500   \n",
       "3 -0.171055 -0.171056 -0.171056  ...  2.143762  1.990467  1.717142  1.305451   \n",
       "4 -0.182776 -0.182777 -0.182782  ...  1.788077  1.610163  1.302771  0.989703   \n",
       "5 -0.179287 -0.179288 -0.179285  ...  2.055816  1.902216  1.652976  1.293258   \n",
       "6 -0.208260 -0.208259 -0.208261  ...  2.003994  1.869415  1.597288  1.224223   \n",
       "7 -0.224846 -0.224846 -0.224844  ...  2.274077  2.123505  1.895599  1.534143   \n",
       "8 -0.244775 -0.244777 -0.244777  ...  2.247325  2.154583  1.875651  1.553470   \n",
       "9 -0.265084 -0.265086 -0.265092  ...  2.324010  2.213991  1.994795  1.586933   \n",
       "\n",
       "     8.0507     8.038    8.0253    8.0126         8     RT  \n",
       "0  0.917965  0.445707  0.059779 -0.252275 -0.477630  55.78  \n",
       "1  0.847929  0.420787  0.053737 -0.225854 -0.385676  55.99  \n",
       "2  0.487147 -0.007824 -0.457916 -0.754298 -0.926490  55.80  \n",
       "3  0.821863  0.362280 -0.022936 -0.307918 -0.478578  55.82  \n",
       "4  0.655974  0.281079 -0.000523 -0.187454 -0.344440  60.40  \n",
       "5  0.868028  0.461980  0.107461 -0.166176 -0.352908  60.45  \n",
       "6  0.806658  0.361338  0.004472 -0.204122 -0.376286  60.42  \n",
       "7  1.120050  0.690092  0.293499 -0.029402 -0.270744  60.46  \n",
       "8  1.134082  0.695945  0.274497 -0.024158 -0.235229  60.54  \n",
       "9  1.174345  0.774175  0.369789  0.022009 -0.226519  60.36  \n",
       "\n",
       "[10 rows x 797 columns]"
      ]
     },
     "execution_count": 158,
     "metadata": {},
     "output_type": "execute_result"
    }
   ],
   "source": [
    "# X training set\n",
    "X_train = pd.concat([dataframe_snv_IMS, dataframe_snv_QEPAS, dataframe_RT], axis = 1)\n",
    "X_train"
   ]
  },
  {
   "cell_type": "code",
   "execution_count": 159,
   "metadata": {},
   "outputs": [],
   "source": [
    "X_train.columns = X_train.columns.astype(str)"
   ]
  },
  {
   "cell_type": "code",
   "execution_count": 160,
   "metadata": {},
   "outputs": [
    {
     "data": {
      "text/html": [
       "<style>#sk-container-id-4 {\n",
       "  /* Definition of color scheme common for light and dark mode */\n",
       "  --sklearn-color-text: black;\n",
       "  --sklearn-color-line: gray;\n",
       "  /* Definition of color scheme for unfitted estimators */\n",
       "  --sklearn-color-unfitted-level-0: #fff5e6;\n",
       "  --sklearn-color-unfitted-level-1: #f6e4d2;\n",
       "  --sklearn-color-unfitted-level-2: #ffe0b3;\n",
       "  --sklearn-color-unfitted-level-3: chocolate;\n",
       "  /* Definition of color scheme for fitted estimators */\n",
       "  --sklearn-color-fitted-level-0: #f0f8ff;\n",
       "  --sklearn-color-fitted-level-1: #d4ebff;\n",
       "  --sklearn-color-fitted-level-2: #b3dbfd;\n",
       "  --sklearn-color-fitted-level-3: cornflowerblue;\n",
       "\n",
       "  /* Specific color for light theme */\n",
       "  --sklearn-color-text-on-default-background: var(--sg-text-color, var(--theme-code-foreground, var(--jp-content-font-color1, black)));\n",
       "  --sklearn-color-background: var(--sg-background-color, var(--theme-background, var(--jp-layout-color0, white)));\n",
       "  --sklearn-color-border-box: var(--sg-text-color, var(--theme-code-foreground, var(--jp-content-font-color1, black)));\n",
       "  --sklearn-color-icon: #696969;\n",
       "\n",
       "  @media (prefers-color-scheme: dark) {\n",
       "    /* Redefinition of color scheme for dark theme */\n",
       "    --sklearn-color-text-on-default-background: var(--sg-text-color, var(--theme-code-foreground, var(--jp-content-font-color1, white)));\n",
       "    --sklearn-color-background: var(--sg-background-color, var(--theme-background, var(--jp-layout-color0, #111)));\n",
       "    --sklearn-color-border-box: var(--sg-text-color, var(--theme-code-foreground, var(--jp-content-font-color1, white)));\n",
       "    --sklearn-color-icon: #878787;\n",
       "  }\n",
       "}\n",
       "\n",
       "#sk-container-id-4 {\n",
       "  color: var(--sklearn-color-text);\n",
       "}\n",
       "\n",
       "#sk-container-id-4 pre {\n",
       "  padding: 0;\n",
       "}\n",
       "\n",
       "#sk-container-id-4 input.sk-hidden--visually {\n",
       "  border: 0;\n",
       "  clip: rect(1px 1px 1px 1px);\n",
       "  clip: rect(1px, 1px, 1px, 1px);\n",
       "  height: 1px;\n",
       "  margin: -1px;\n",
       "  overflow: hidden;\n",
       "  padding: 0;\n",
       "  position: absolute;\n",
       "  width: 1px;\n",
       "}\n",
       "\n",
       "#sk-container-id-4 div.sk-dashed-wrapped {\n",
       "  border: 1px dashed var(--sklearn-color-line);\n",
       "  margin: 0 0.4em 0.5em 0.4em;\n",
       "  box-sizing: border-box;\n",
       "  padding-bottom: 0.4em;\n",
       "  background-color: var(--sklearn-color-background);\n",
       "}\n",
       "\n",
       "#sk-container-id-4 div.sk-container {\n",
       "  /* jupyter's `normalize.less` sets `[hidden] { display: none; }`\n",
       "     but bootstrap.min.css set `[hidden] { display: none !important; }`\n",
       "     so we also need the `!important` here to be able to override the\n",
       "     default hidden behavior on the sphinx rendered scikit-learn.org.\n",
       "     See: https://github.com/scikit-learn/scikit-learn/issues/21755 */\n",
       "  display: inline-block !important;\n",
       "  position: relative;\n",
       "}\n",
       "\n",
       "#sk-container-id-4 div.sk-text-repr-fallback {\n",
       "  display: none;\n",
       "}\n",
       "\n",
       "div.sk-parallel-item,\n",
       "div.sk-serial,\n",
       "div.sk-item {\n",
       "  /* draw centered vertical line to link estimators */\n",
       "  background-image: linear-gradient(var(--sklearn-color-text-on-default-background), var(--sklearn-color-text-on-default-background));\n",
       "  background-size: 2px 100%;\n",
       "  background-repeat: no-repeat;\n",
       "  background-position: center center;\n",
       "}\n",
       "\n",
       "/* Parallel-specific style estimator block */\n",
       "\n",
       "#sk-container-id-4 div.sk-parallel-item::after {\n",
       "  content: \"\";\n",
       "  width: 100%;\n",
       "  border-bottom: 2px solid var(--sklearn-color-text-on-default-background);\n",
       "  flex-grow: 1;\n",
       "}\n",
       "\n",
       "#sk-container-id-4 div.sk-parallel {\n",
       "  display: flex;\n",
       "  align-items: stretch;\n",
       "  justify-content: center;\n",
       "  background-color: var(--sklearn-color-background);\n",
       "  position: relative;\n",
       "}\n",
       "\n",
       "#sk-container-id-4 div.sk-parallel-item {\n",
       "  display: flex;\n",
       "  flex-direction: column;\n",
       "}\n",
       "\n",
       "#sk-container-id-4 div.sk-parallel-item:first-child::after {\n",
       "  align-self: flex-end;\n",
       "  width: 50%;\n",
       "}\n",
       "\n",
       "#sk-container-id-4 div.sk-parallel-item:last-child::after {\n",
       "  align-self: flex-start;\n",
       "  width: 50%;\n",
       "}\n",
       "\n",
       "#sk-container-id-4 div.sk-parallel-item:only-child::after {\n",
       "  width: 0;\n",
       "}\n",
       "\n",
       "/* Serial-specific style estimator block */\n",
       "\n",
       "#sk-container-id-4 div.sk-serial {\n",
       "  display: flex;\n",
       "  flex-direction: column;\n",
       "  align-items: center;\n",
       "  background-color: var(--sklearn-color-background);\n",
       "  padding-right: 1em;\n",
       "  padding-left: 1em;\n",
       "}\n",
       "\n",
       "\n",
       "/* Toggleable style: style used for estimator/Pipeline/ColumnTransformer box that is\n",
       "clickable and can be expanded/collapsed.\n",
       "- Pipeline and ColumnTransformer use this feature and define the default style\n",
       "- Estimators will overwrite some part of the style using the `sk-estimator` class\n",
       "*/\n",
       "\n",
       "/* Pipeline and ColumnTransformer style (default) */\n",
       "\n",
       "#sk-container-id-4 div.sk-toggleable {\n",
       "  /* Default theme specific background. It is overwritten whether we have a\n",
       "  specific estimator or a Pipeline/ColumnTransformer */\n",
       "  background-color: var(--sklearn-color-background);\n",
       "}\n",
       "\n",
       "/* Toggleable label */\n",
       "#sk-container-id-4 label.sk-toggleable__label {\n",
       "  cursor: pointer;\n",
       "  display: block;\n",
       "  width: 100%;\n",
       "  margin-bottom: 0;\n",
       "  padding: 0.5em;\n",
       "  box-sizing: border-box;\n",
       "  text-align: center;\n",
       "}\n",
       "\n",
       "#sk-container-id-4 label.sk-toggleable__label-arrow:before {\n",
       "  /* Arrow on the left of the label */\n",
       "  content: \"▸\";\n",
       "  float: left;\n",
       "  margin-right: 0.25em;\n",
       "  color: var(--sklearn-color-icon);\n",
       "}\n",
       "\n",
       "#sk-container-id-4 label.sk-toggleable__label-arrow:hover:before {\n",
       "  color: var(--sklearn-color-text);\n",
       "}\n",
       "\n",
       "/* Toggleable content - dropdown */\n",
       "\n",
       "#sk-container-id-4 div.sk-toggleable__content {\n",
       "  max-height: 0;\n",
       "  max-width: 0;\n",
       "  overflow: hidden;\n",
       "  text-align: left;\n",
       "  /* unfitted */\n",
       "  background-color: var(--sklearn-color-unfitted-level-0);\n",
       "}\n",
       "\n",
       "#sk-container-id-4 div.sk-toggleable__content.fitted {\n",
       "  /* fitted */\n",
       "  background-color: var(--sklearn-color-fitted-level-0);\n",
       "}\n",
       "\n",
       "#sk-container-id-4 div.sk-toggleable__content pre {\n",
       "  margin: 0.2em;\n",
       "  border-radius: 0.25em;\n",
       "  color: var(--sklearn-color-text);\n",
       "  /* unfitted */\n",
       "  background-color: var(--sklearn-color-unfitted-level-0);\n",
       "}\n",
       "\n",
       "#sk-container-id-4 div.sk-toggleable__content.fitted pre {\n",
       "  /* unfitted */\n",
       "  background-color: var(--sklearn-color-fitted-level-0);\n",
       "}\n",
       "\n",
       "#sk-container-id-4 input.sk-toggleable__control:checked~div.sk-toggleable__content {\n",
       "  /* Expand drop-down */\n",
       "  max-height: 200px;\n",
       "  max-width: 100%;\n",
       "  overflow: auto;\n",
       "}\n",
       "\n",
       "#sk-container-id-4 input.sk-toggleable__control:checked~label.sk-toggleable__label-arrow:before {\n",
       "  content: \"▾\";\n",
       "}\n",
       "\n",
       "/* Pipeline/ColumnTransformer-specific style */\n",
       "\n",
       "#sk-container-id-4 div.sk-label input.sk-toggleable__control:checked~label.sk-toggleable__label {\n",
       "  color: var(--sklearn-color-text);\n",
       "  background-color: var(--sklearn-color-unfitted-level-2);\n",
       "}\n",
       "\n",
       "#sk-container-id-4 div.sk-label.fitted input.sk-toggleable__control:checked~label.sk-toggleable__label {\n",
       "  background-color: var(--sklearn-color-fitted-level-2);\n",
       "}\n",
       "\n",
       "/* Estimator-specific style */\n",
       "\n",
       "/* Colorize estimator box */\n",
       "#sk-container-id-4 div.sk-estimator input.sk-toggleable__control:checked~label.sk-toggleable__label {\n",
       "  /* unfitted */\n",
       "  background-color: var(--sklearn-color-unfitted-level-2);\n",
       "}\n",
       "\n",
       "#sk-container-id-4 div.sk-estimator.fitted input.sk-toggleable__control:checked~label.sk-toggleable__label {\n",
       "  /* fitted */\n",
       "  background-color: var(--sklearn-color-fitted-level-2);\n",
       "}\n",
       "\n",
       "#sk-container-id-4 div.sk-label label.sk-toggleable__label,\n",
       "#sk-container-id-4 div.sk-label label {\n",
       "  /* The background is the default theme color */\n",
       "  color: var(--sklearn-color-text-on-default-background);\n",
       "}\n",
       "\n",
       "/* On hover, darken the color of the background */\n",
       "#sk-container-id-4 div.sk-label:hover label.sk-toggleable__label {\n",
       "  color: var(--sklearn-color-text);\n",
       "  background-color: var(--sklearn-color-unfitted-level-2);\n",
       "}\n",
       "\n",
       "/* Label box, darken color on hover, fitted */\n",
       "#sk-container-id-4 div.sk-label.fitted:hover label.sk-toggleable__label.fitted {\n",
       "  color: var(--sklearn-color-text);\n",
       "  background-color: var(--sklearn-color-fitted-level-2);\n",
       "}\n",
       "\n",
       "/* Estimator label */\n",
       "\n",
       "#sk-container-id-4 div.sk-label label {\n",
       "  font-family: monospace;\n",
       "  font-weight: bold;\n",
       "  display: inline-block;\n",
       "  line-height: 1.2em;\n",
       "}\n",
       "\n",
       "#sk-container-id-4 div.sk-label-container {\n",
       "  text-align: center;\n",
       "}\n",
       "\n",
       "/* Estimator-specific */\n",
       "#sk-container-id-4 div.sk-estimator {\n",
       "  font-family: monospace;\n",
       "  border: 1px dotted var(--sklearn-color-border-box);\n",
       "  border-radius: 0.25em;\n",
       "  box-sizing: border-box;\n",
       "  margin-bottom: 0.5em;\n",
       "  /* unfitted */\n",
       "  background-color: var(--sklearn-color-unfitted-level-0);\n",
       "}\n",
       "\n",
       "#sk-container-id-4 div.sk-estimator.fitted {\n",
       "  /* fitted */\n",
       "  background-color: var(--sklearn-color-fitted-level-0);\n",
       "}\n",
       "\n",
       "/* on hover */\n",
       "#sk-container-id-4 div.sk-estimator:hover {\n",
       "  /* unfitted */\n",
       "  background-color: var(--sklearn-color-unfitted-level-2);\n",
       "}\n",
       "\n",
       "#sk-container-id-4 div.sk-estimator.fitted:hover {\n",
       "  /* fitted */\n",
       "  background-color: var(--sklearn-color-fitted-level-2);\n",
       "}\n",
       "\n",
       "/* Specification for estimator info (e.g. \"i\" and \"?\") */\n",
       "\n",
       "/* Common style for \"i\" and \"?\" */\n",
       "\n",
       ".sk-estimator-doc-link,\n",
       "a:link.sk-estimator-doc-link,\n",
       "a:visited.sk-estimator-doc-link {\n",
       "  float: right;\n",
       "  font-size: smaller;\n",
       "  line-height: 1em;\n",
       "  font-family: monospace;\n",
       "  background-color: var(--sklearn-color-background);\n",
       "  border-radius: 1em;\n",
       "  height: 1em;\n",
       "  width: 1em;\n",
       "  text-decoration: none !important;\n",
       "  margin-left: 1ex;\n",
       "  /* unfitted */\n",
       "  border: var(--sklearn-color-unfitted-level-1) 1pt solid;\n",
       "  color: var(--sklearn-color-unfitted-level-1);\n",
       "}\n",
       "\n",
       ".sk-estimator-doc-link.fitted,\n",
       "a:link.sk-estimator-doc-link.fitted,\n",
       "a:visited.sk-estimator-doc-link.fitted {\n",
       "  /* fitted */\n",
       "  border: var(--sklearn-color-fitted-level-1) 1pt solid;\n",
       "  color: var(--sklearn-color-fitted-level-1);\n",
       "}\n",
       "\n",
       "/* On hover */\n",
       "div.sk-estimator:hover .sk-estimator-doc-link:hover,\n",
       ".sk-estimator-doc-link:hover,\n",
       "div.sk-label-container:hover .sk-estimator-doc-link:hover,\n",
       ".sk-estimator-doc-link:hover {\n",
       "  /* unfitted */\n",
       "  background-color: var(--sklearn-color-unfitted-level-3);\n",
       "  color: var(--sklearn-color-background);\n",
       "  text-decoration: none;\n",
       "}\n",
       "\n",
       "div.sk-estimator.fitted:hover .sk-estimator-doc-link.fitted:hover,\n",
       ".sk-estimator-doc-link.fitted:hover,\n",
       "div.sk-label-container:hover .sk-estimator-doc-link.fitted:hover,\n",
       ".sk-estimator-doc-link.fitted:hover {\n",
       "  /* fitted */\n",
       "  background-color: var(--sklearn-color-fitted-level-3);\n",
       "  color: var(--sklearn-color-background);\n",
       "  text-decoration: none;\n",
       "}\n",
       "\n",
       "/* Span, style for the box shown on hovering the info icon */\n",
       ".sk-estimator-doc-link span {\n",
       "  display: none;\n",
       "  z-index: 9999;\n",
       "  position: relative;\n",
       "  font-weight: normal;\n",
       "  right: .2ex;\n",
       "  padding: .5ex;\n",
       "  margin: .5ex;\n",
       "  width: min-content;\n",
       "  min-width: 20ex;\n",
       "  max-width: 50ex;\n",
       "  color: var(--sklearn-color-text);\n",
       "  box-shadow: 2pt 2pt 4pt #999;\n",
       "  /* unfitted */\n",
       "  background: var(--sklearn-color-unfitted-level-0);\n",
       "  border: .5pt solid var(--sklearn-color-unfitted-level-3);\n",
       "}\n",
       "\n",
       ".sk-estimator-doc-link.fitted span {\n",
       "  /* fitted */\n",
       "  background: var(--sklearn-color-fitted-level-0);\n",
       "  border: var(--sklearn-color-fitted-level-3);\n",
       "}\n",
       "\n",
       ".sk-estimator-doc-link:hover span {\n",
       "  display: block;\n",
       "}\n",
       "\n",
       "/* \"?\"-specific style due to the `<a>` HTML tag */\n",
       "\n",
       "#sk-container-id-4 a.estimator_doc_link {\n",
       "  float: right;\n",
       "  font-size: 1rem;\n",
       "  line-height: 1em;\n",
       "  font-family: monospace;\n",
       "  background-color: var(--sklearn-color-background);\n",
       "  border-radius: 1rem;\n",
       "  height: 1rem;\n",
       "  width: 1rem;\n",
       "  text-decoration: none;\n",
       "  /* unfitted */\n",
       "  color: var(--sklearn-color-unfitted-level-1);\n",
       "  border: var(--sklearn-color-unfitted-level-1) 1pt solid;\n",
       "}\n",
       "\n",
       "#sk-container-id-4 a.estimator_doc_link.fitted {\n",
       "  /* fitted */\n",
       "  border: var(--sklearn-color-fitted-level-1) 1pt solid;\n",
       "  color: var(--sklearn-color-fitted-level-1);\n",
       "}\n",
       "\n",
       "/* On hover */\n",
       "#sk-container-id-4 a.estimator_doc_link:hover {\n",
       "  /* unfitted */\n",
       "  background-color: var(--sklearn-color-unfitted-level-3);\n",
       "  color: var(--sklearn-color-background);\n",
       "  text-decoration: none;\n",
       "}\n",
       "\n",
       "#sk-container-id-4 a.estimator_doc_link.fitted:hover {\n",
       "  /* fitted */\n",
       "  background-color: var(--sklearn-color-fitted-level-3);\n",
       "}\n",
       "</style><div id=\"sk-container-id-4\" class=\"sk-top-container\"><div class=\"sk-text-repr-fallback\"><pre>OneClassSVM(gamma=&#x27;auto&#x27;, kernel=&#x27;linear&#x27;, nu=0.001)</pre><b>In a Jupyter environment, please rerun this cell to show the HTML representation or trust the notebook. <br />On GitHub, the HTML representation is unable to render, please try loading this page with nbviewer.org.</b></div><div class=\"sk-container\" hidden><div class=\"sk-item\"><div class=\"sk-estimator fitted sk-toggleable\"><input class=\"sk-toggleable__control sk-hidden--visually\" id=\"sk-estimator-id-4\" type=\"checkbox\" checked><label for=\"sk-estimator-id-4\" class=\"sk-toggleable__label fitted sk-toggleable__label-arrow fitted\">&nbsp;&nbsp;OneClassSVM<a class=\"sk-estimator-doc-link fitted\" rel=\"noreferrer\" target=\"_blank\" href=\"https://scikit-learn.org/1.4/modules/generated/sklearn.svm.OneClassSVM.html\">?<span>Documentation for OneClassSVM</span></a><span class=\"sk-estimator-doc-link fitted\">i<span>Fitted</span></span></label><div class=\"sk-toggleable__content fitted\"><pre>OneClassSVM(gamma=&#x27;auto&#x27;, kernel=&#x27;linear&#x27;, nu=0.001)</pre></div> </div></div></div></div>"
      ],
      "text/plain": [
       "OneClassSVM(gamma='auto', kernel='linear', nu=0.001)"
      ]
     },
     "execution_count": 160,
     "metadata": {},
     "output_type": "execute_result"
    }
   ],
   "source": [
    "# Create a one-class SVM model\n",
    "clf = svm.OneClassSVM(nu=0.001, kernel=\"linear\", gamma='auto')\n",
    "clf.fit(X_train)"
   ]
  },
  {
   "cell_type": "code",
   "execution_count": 161,
   "metadata": {},
   "outputs": [
    {
     "name": "stdout",
     "output_type": "stream",
     "text": [
      "Polynomial, sigmoid, linear and radial basis kernel function were evaluated during the data fusion delevopment. \n",
      "Linear kernel was evaluated as the best one for the type of experimental data recorded by IMS and GC-QEPAs sensors.\n"
     ]
    }
   ],
   "source": [
    "print(\"Polynomial, sigmoid, linear and radial basis kernel function were evaluated during the data fusion delevopment. \\nLinear kernel was evaluated as the best one for the type of experimental data recorded by IMS and GC-QEPAs sensors.\")"
   ]
  },
  {
   "cell_type": "code",
   "execution_count": 162,
   "metadata": {},
   "outputs": [
    {
     "data": {
      "text/plain": [
       "array([-1,  1,  1,  1,  1,  1,  1,  1,  1,  1])"
      ]
     },
     "execution_count": 162,
     "metadata": {},
     "output_type": "execute_result"
    }
   ],
   "source": [
    "y_pred_train = clf.predict(X_train)\n",
    "y_pred_train"
   ]
  },
  {
   "cell_type": "code",
   "execution_count": 163,
   "metadata": {},
   "outputs": [
    {
     "data": {
      "text/plain": [
       "array([38.4652755 , 38.48127182, 38.46527597, 38.56387853, 40.89618033,\n",
       "       41.08835892, 40.72405615, 40.66652957, 40.56320256, 39.78176234])"
      ]
     },
     "execution_count": 163,
     "metadata": {},
     "output_type": "execute_result"
    }
   ],
   "source": [
    "clf.score_samples(X_train)"
   ]
  },
  {
   "cell_type": "code",
   "execution_count": 164,
   "metadata": {},
   "outputs": [
    {
     "data": {
      "text/plain": [
       "array([-2.20693572e-07,  1.59960934e-02,  2.49578484e-07,  9.86028022e-02,\n",
       "        2.43090460e+00,  2.62308320e+00,  2.25878043e+00,  2.20125384e+00,\n",
       "        2.09792684e+00,  1.31648662e+00])"
      ]
     },
     "execution_count": 164,
     "metadata": {},
     "output_type": "execute_result"
    }
   ],
   "source": [
    "clf.decision_function(X_train)"
   ]
  },
  {
   "cell_type": "code",
   "execution_count": 165,
   "metadata": {},
   "outputs": [
    {
     "data": {
      "image/png": "[encoded data removed]",
      "text/plain": [
       "<Figure size 640x480 with 1 Axes>"
      ]
     },
     "metadata": {},
     "output_type": "display_data"
    }
   ],
   "source": [
    "# Plotting the training set data for score samples\n",
    "Z_train = clf.score_samples(X_train)\n",
    "\n",
    "plt.title(\"Training set Detection\")\n",
    "plt.plot(Z_train, marker='o', linestyle='-', color='b', label='Training Samples')\n",
    "\n",
    "plt.xlabel(\"Sample Index\")\n",
    "plt.ylabel(\"Score Samples Value\")\n",
    "plt.axhline(y=-0.5, color='r', linestyle='--', label='Decision Boundary')\n",
    "\n",
    "plt.legend()\n",
    "plt.show()"
   ]
  },
  {
   "cell_type": "code",
   "execution_count": 166,
   "metadata": {},
   "outputs": [
    {
     "data": {
      "image/png": "[encoded data removed]",
      "text/plain": [
       "<Figure size 640x480 with 1 Axes>"
      ]
     },
     "metadata": {},
     "output_type": "display_data"
    }
   ],
   "source": [
    "# Plotting the training set data\n",
    "Z_train = clf.decision_function(X_train)\n",
    "\n",
    "plt.title(\"Training set Detection\")\n",
    "plt.plot(Z_train, marker='o', linestyle='-', color='b', label='Training Samples')\n",
    "\n",
    "plt.xlabel(\"Sample Index\")\n",
    "plt.ylabel(\"Decision Function Value\")\n",
    "plt.axhline(y=-0, color='r', linestyle='--', label='Decision Boundary')\n",
    "\n",
    "plt.legend()\n",
    "plt.show()"
   ]
  },
  {
   "cell_type": "markdown",
   "metadata": {},
   "source": [
    "### Import the new data and use the model for the prediction"
   ]
  },
  {
   "cell_type": "code",
   "execution_count": 167,
   "metadata": {},
   "outputs": [],
   "source": [
    "new_data_IMS = pd.read_excel(\"/Users/giorgiofelizzato/Desktop/RISEN project/data fusion/Moduli python data fusion-final version/Acetone.xlsx\", sheet_name='test_ims', index_col=None, header=0)"
   ]
  },
  {
   "cell_type": "code",
   "execution_count": 168,
   "metadata": {},
   "outputs": [],
   "source": [
    "new_data_QEPAS = pd.read_excel(\"/Users/giorgiofelizzato/Desktop/RISEN project/data fusion/Moduli python data fusion-final version/Acetone.xlsx\", sheet_name='test_qepas', index_col=None, header=0)"
   ]
  },
  {
   "cell_type": "code",
   "execution_count": 169,
   "metadata": {},
   "outputs": [],
   "source": [
    "new_data_GC = pd.read_excel(\"/Users/giorgiofelizzato/Desktop/RISEN project/data fusion/Moduli python data fusion-final version/Acetone.xlsx\", sheet_name='test_gc', index_col=None, header=0)"
   ]
  },
  {
   "cell_type": "code",
   "execution_count": 170,
   "metadata": {},
   "outputs": [],
   "source": [
    "new_X_IMS = new_data_IMS.iloc[:,:]"
   ]
  },
  {
   "cell_type": "code",
   "execution_count": 171,
   "metadata": {},
   "outputs": [],
   "source": [
    "# Compute the SNV on IMS raw data\n",
    "new_X_snv_IMS = snv_IMS(new_X_IMS.values)"
   ]
  },
  {
   "cell_type": "code",
   "execution_count": 172,
   "metadata": {},
   "outputs": [],
   "source": [
    "new_X_QEPAS = new_data_QEPAS.iloc[:,:]"
   ]
  },
  {
   "cell_type": "code",
   "execution_count": 173,
   "metadata": {},
   "outputs": [],
   "source": [
    "# Compute the SNV on QEPAS raw data\n",
    "new_X_snv_QEPAS = snv_QEPAS(new_X_QEPAS.values)"
   ]
  },
  {
   "cell_type": "code",
   "execution_count": 174,
   "metadata": {},
   "outputs": [],
   "source": [
    "new_X_GC = new_data_GC.iloc[:,:]\n"
   ]
  },
  {
   "cell_type": "code",
   "execution_count": 175,
   "metadata": {},
   "outputs": [],
   "source": [
    "new_X_GC_array = new_X_GC.values"
   ]
  },
  {
   "cell_type": "code",
   "execution_count": 176,
   "metadata": {},
   "outputs": [
    {
     "data": {
      "text/html": [
       "<div>\n",
       "<style scoped>\n",
       "    .dataframe tbody tr th:only-of-type {\n",
       "        vertical-align: middle;\n",
       "    }\n",
       "\n",
       "    .dataframe tbody tr th {\n",
       "        vertical-align: top;\n",
       "    }\n",
       "\n",
       "    .dataframe thead th {\n",
       "        text-align: right;\n",
       "    }\n",
       "</style>\n",
       "<table border=\"1\" class=\"dataframe\">\n",
       "  <thead>\n",
       "    <tr style=\"text-align: right;\">\n",
       "      <th></th>\n",
       "      <th>0.52</th>\n",
       "      <th>0.54</th>\n",
       "      <th>0.56</th>\n",
       "      <th>0.58</th>\n",
       "      <th>0.60</th>\n",
       "      <th>0.62</th>\n",
       "      <th>0.64</th>\n",
       "      <th>0.66</th>\n",
       "      <th>0.68</th>\n",
       "      <th>0.70</th>\n",
       "      <th>...</th>\n",
       "      <th>13.68</th>\n",
       "      <th>13.70</th>\n",
       "      <th>13.72</th>\n",
       "      <th>13.74</th>\n",
       "      <th>13.76</th>\n",
       "      <th>13.78</th>\n",
       "      <th>13.80</th>\n",
       "      <th>13.82</th>\n",
       "      <th>13.84</th>\n",
       "      <th>13.86</th>\n",
       "    </tr>\n",
       "  </thead>\n",
       "  <tbody>\n",
       "    <tr>\n",
       "      <th>0</th>\n",
       "      <td>-0.184356</td>\n",
       "      <td>-0.184357</td>\n",
       "      <td>-0.18436</td>\n",
       "      <td>-0.184357</td>\n",
       "      <td>-0.18436</td>\n",
       "      <td>-0.184359</td>\n",
       "      <td>-0.184356</td>\n",
       "      <td>-0.184358</td>\n",
       "      <td>-0.184358</td>\n",
       "      <td>-0.184357</td>\n",
       "      <td>...</td>\n",
       "      <td>-0.184356</td>\n",
       "      <td>-0.184358</td>\n",
       "      <td>-0.184358</td>\n",
       "      <td>-0.184356</td>\n",
       "      <td>-0.184356</td>\n",
       "      <td>-0.184359</td>\n",
       "      <td>-0.184358</td>\n",
       "      <td>-0.184354</td>\n",
       "      <td>-0.184356</td>\n",
       "      <td>-0.184389</td>\n",
       "    </tr>\n",
       "  </tbody>\n",
       "</table>\n",
       "<p>1 rows × 668 columns</p>\n",
       "</div>"
      ],
      "text/plain": [
       "      0.52      0.54     0.56      0.58     0.60      0.62      0.64   \\\n",
       "0 -0.184356 -0.184357 -0.18436 -0.184357 -0.18436 -0.184359 -0.184356   \n",
       "\n",
       "      0.66      0.68      0.70   ...     13.68     13.70     13.72     13.74  \\\n",
       "0 -0.184358 -0.184358 -0.184357  ... -0.184356 -0.184358 -0.184358 -0.184356   \n",
       "\n",
       "      13.76     13.78     13.80     13.82     13.84     13.86  \n",
       "0 -0.184356 -0.184359 -0.184358 -0.184354 -0.184356 -0.184389  \n",
       "\n",
       "[1 rows x 668 columns]"
      ]
     },
     "execution_count": 176,
     "metadata": {},
     "output_type": "execute_result"
    }
   ],
   "source": [
    "# Create a new DataFrame with the processed IMS plasmagrams\n",
    "new_processed_dataframe_IMS = pd.DataFrame(new_X_snv_IMS, columns=data_IMS.columns[1:])\n",
    "new_processed_dataframe_IMS"
   ]
  },
  {
   "cell_type": "code",
   "execution_count": 177,
   "metadata": {},
   "outputs": [
    {
     "data": {
      "text/html": [
       "<div>\n",
       "<style scoped>\n",
       "    .dataframe tbody tr th:only-of-type {\n",
       "        vertical-align: middle;\n",
       "    }\n",
       "\n",
       "    .dataframe tbody tr th {\n",
       "        vertical-align: top;\n",
       "    }\n",
       "\n",
       "    .dataframe thead th {\n",
       "        text-align: right;\n",
       "    }\n",
       "</style>\n",
       "<table border=\"1\" class=\"dataframe\">\n",
       "  <thead>\n",
       "    <tr style=\"text-align: right;\">\n",
       "      <th></th>\n",
       "      <th>10.0000</th>\n",
       "      <th>9.9804</th>\n",
       "      <th>9.9608</th>\n",
       "      <th>9.9413</th>\n",
       "      <th>9.9219</th>\n",
       "      <th>9.9025</th>\n",
       "      <th>9.8833</th>\n",
       "      <th>9.8641</th>\n",
       "      <th>9.8450</th>\n",
       "      <th>9.8259</th>\n",
       "      <th>...</th>\n",
       "      <th>8.1150</th>\n",
       "      <th>8.1021</th>\n",
       "      <th>8.0892</th>\n",
       "      <th>8.0763</th>\n",
       "      <th>8.0635</th>\n",
       "      <th>8.0507</th>\n",
       "      <th>8.0380</th>\n",
       "      <th>8.0253</th>\n",
       "      <th>8.0126</th>\n",
       "      <th>8.0000</th>\n",
       "    </tr>\n",
       "  </thead>\n",
       "  <tbody>\n",
       "    <tr>\n",
       "      <th>0</th>\n",
       "      <td>-0.347955</td>\n",
       "      <td>-0.332007</td>\n",
       "      <td>-0.350919</td>\n",
       "      <td>-0.369564</td>\n",
       "      <td>-0.391369</td>\n",
       "      <td>-0.388447</td>\n",
       "      <td>-0.401436</td>\n",
       "      <td>-0.398748</td>\n",
       "      <td>-0.399118</td>\n",
       "      <td>-0.415215</td>\n",
       "      <td>...</td>\n",
       "      <td>2.271516</td>\n",
       "      <td>2.157777</td>\n",
       "      <td>1.974751</td>\n",
       "      <td>1.657661</td>\n",
       "      <td>1.276768</td>\n",
       "      <td>0.847929</td>\n",
       "      <td>0.420787</td>\n",
       "      <td>0.053737</td>\n",
       "      <td>-0.225854</td>\n",
       "      <td>-0.385676</td>\n",
       "    </tr>\n",
       "  </tbody>\n",
       "</table>\n",
       "<p>1 rows × 128 columns</p>\n",
       "</div>"
      ],
      "text/plain": [
       "    10.0000   9.9804    9.9608    9.9413    9.9219    9.9025    9.8833   \\\n",
       "0 -0.347955 -0.332007 -0.350919 -0.369564 -0.391369 -0.388447 -0.401436   \n",
       "\n",
       "    9.8641    9.8450    9.8259   ...   8.1150    8.1021    8.0892    8.0763   \\\n",
       "0 -0.398748 -0.399118 -0.415215  ...  2.271516  2.157777  1.974751  1.657661   \n",
       "\n",
       "    8.0635    8.0507    8.0380    8.0253    8.0126    8.0000   \n",
       "0  1.276768  0.847929  0.420787  0.053737 -0.225854 -0.385676  \n",
       "\n",
       "[1 rows x 128 columns]"
      ]
     },
     "execution_count": 177,
     "metadata": {},
     "output_type": "execute_result"
    }
   ],
   "source": [
    "# Create a new DataFrame with the processed QEPAS spectra\n",
    "new_processed_dataframe_QEPAS = pd.DataFrame(new_X_snv_QEPAS, columns=data_QEPAS.columns[1:])\n",
    "new_processed_dataframe_QEPAS"
   ]
  },
  {
   "cell_type": "code",
   "execution_count": 178,
   "metadata": {},
   "outputs": [],
   "source": [
    "# Create a new DataFrame with the processed RTs\n",
    "new_processed_dataframe_RT = pd.DataFrame(new_X_GC_array, columns=data_GC.columns[1:])"
   ]
  },
  {
   "cell_type": "markdown",
   "metadata": {},
   "source": [
    "import coordinate of trace"
   ]
  },
  {
   "cell_type": "code",
   "execution_count": 179,
   "metadata": {},
   "outputs": [
    {
     "data": {
      "text/html": [
       "<div>\n",
       "<style scoped>\n",
       "    .dataframe tbody tr th:only-of-type {\n",
       "        vertical-align: middle;\n",
       "    }\n",
       "\n",
       "    .dataframe tbody tr th {\n",
       "        vertical-align: top;\n",
       "    }\n",
       "\n",
       "    .dataframe thead th {\n",
       "        text-align: right;\n",
       "    }\n",
       "</style>\n",
       "<table border=\"1\" class=\"dataframe\">\n",
       "  <thead>\n",
       "    <tr style=\"text-align: right;\">\n",
       "      <th></th>\n",
       "      <th>X (meter)</th>\n",
       "      <th>Delta X</th>\n",
       "      <th>Y (meter)</th>\n",
       "      <th>Delta Y</th>\n",
       "      <th>Z (meter)</th>\n",
       "      <th>Delta Z</th>\n",
       "    </tr>\n",
       "  </thead>\n",
       "  <tbody>\n",
       "    <tr>\n",
       "      <th>0</th>\n",
       "      <td>2.0</td>\n",
       "      <td>0.01</td>\n",
       "      <td>3.0</td>\n",
       "      <td>0.01</td>\n",
       "      <td>-3.0</td>\n",
       "      <td>0.01</td>\n",
       "    </tr>\n",
       "  </tbody>\n",
       "</table>\n",
       "</div>"
      ],
      "text/plain": [
       "   X (meter)  Delta X  Y (meter)  Delta Y  Z (meter)  Delta Z\n",
       "0        2.0     0.01        3.0     0.01       -3.0     0.01"
      ]
     },
     "execution_count": 179,
     "metadata": {},
     "output_type": "execute_result"
    }
   ],
   "source": [
    "#import coordinates trace GC-QEPAS\n",
    "coordinates_GCQEPAS = pd.read_excel(\"/Users/giorgiofelizzato/Desktop/RISEN project/data fusion/Moduli python data fusion-final version/coordinate_trace.xlsx\", sheet_name='Coordinate_GCQEPAS_trace', header=0)\n",
    "coordinates_GCQEPAS.head()"
   ]
  },
  {
   "cell_type": "code",
   "execution_count": 180,
   "metadata": {},
   "outputs": [
    {
     "data": {
      "text/html": [
       "<div>\n",
       "<style scoped>\n",
       "    .dataframe tbody tr th:only-of-type {\n",
       "        vertical-align: middle;\n",
       "    }\n",
       "\n",
       "    .dataframe tbody tr th {\n",
       "        vertical-align: top;\n",
       "    }\n",
       "\n",
       "    .dataframe thead th {\n",
       "        text-align: right;\n",
       "    }\n",
       "</style>\n",
       "<table border=\"1\" class=\"dataframe\">\n",
       "  <thead>\n",
       "    <tr style=\"text-align: right;\">\n",
       "      <th></th>\n",
       "      <th>X (meter)</th>\n",
       "      <th>Delta X</th>\n",
       "      <th>Y (meter)</th>\n",
       "      <th>Delta Y</th>\n",
       "      <th>Z (meter)</th>\n",
       "      <th>Delta Z</th>\n",
       "    </tr>\n",
       "  </thead>\n",
       "  <tbody>\n",
       "    <tr>\n",
       "      <th>0</th>\n",
       "      <td>2.0</td>\n",
       "      <td>0.01</td>\n",
       "      <td>3.0</td>\n",
       "      <td>0.01</td>\n",
       "      <td>-3.0</td>\n",
       "      <td>0.01</td>\n",
       "    </tr>\n",
       "  </tbody>\n",
       "</table>\n",
       "</div>"
      ],
      "text/plain": [
       "   X (meter)  Delta X  Y (meter)  Delta Y  Z (meter)  Delta Z\n",
       "0        2.0     0.01        3.0     0.01       -3.0     0.01"
      ]
     },
     "execution_count": 180,
     "metadata": {},
     "output_type": "execute_result"
    }
   ],
   "source": [
    "#import coordinates trace IMS\n",
    "coordinates_IMS = pd.read_excel(\"/Users/giorgiofelizzato/Desktop/RISEN project/data fusion/Moduli python data fusion-final version/coordinate_trace.xlsx\", sheet_name='Coordinate_IMS_trace', header=0)\n",
    "coordinates_IMS.head()"
   ]
  },
  {
   "cell_type": "code",
   "execution_count": 181,
   "metadata": {},
   "outputs": [
    {
     "name": "stdout",
     "output_type": "stream",
     "text": [
      "Data from coordinates_GCQEPAS at index 0 and coordinates_IMS at index 0 can be combined.\n",
      "Combined data:\n",
      "       0.52      0.54     0.56      0.58      0.6      0.62      0.64  \\\n",
      "0 -0.184356 -0.184357 -0.18436 -0.184357 -0.18436 -0.184359 -0.184356   \n",
      "\n",
      "       0.66      0.68       0.7  ...    8.1021    8.0892    8.0763    8.0635  \\\n",
      "0 -0.184358 -0.184358 -0.184357  ...  2.157777  1.974751  1.657661  1.276768   \n",
      "\n",
      "     8.0507     8.038    8.0253    8.0126         8     RT  \n",
      "0  0.847929  0.420787  0.053737 -0.225854 -0.385676  55.99  \n",
      "\n",
      "[1 rows x 797 columns]\n"
     ]
    }
   ],
   "source": [
    "THRESHOLD = 0.03  # Threshold for trace position difference\n",
    "\n",
    "def check_trace_position(coord1, coord2):\n",
    "    # Precalculate differences\n",
    "    diff_x = abs(coord1['X (meter)'] - coord2['X (meter)'] + coord1['Delta X'] + coord2['Delta X'])\n",
    "    diff_y = abs(coord1['Y (meter)'] - coord2['Y (meter)'] + coord1['Delta Y'] + coord2['Delta Y'])\n",
    "    diff_z = abs(coord1['Z (meter)'] - coord2['Z (meter)'] + coord1['Delta Z'] + coord2['Delta Z'])\n",
    "\n",
    "    # Differences must be lower than the threshold to accept the concatenation of the data\n",
    "    return diff_x < THRESHOLD and diff_y < THRESHOLD and diff_z < THRESHOLD\n",
    "\n",
    "def concatenation(coord1, coord2, IMS_data, QEPAS_data, RT_data):\n",
    "    # Check sensors position\n",
    "    if check_trace_position(coord1, coord2):\n",
    "        # Concatenation of data if the trace position is ok\n",
    "        combined_dataframe = pd.concat([IMS_data, QEPAS_data, RT_data], axis=1)\n",
    "        return combined_dataframe\n",
    "    else:\n",
    "        return None\n",
    "\n",
    "coordinates_associate = []  # Combined coordinates and data\n",
    "coordinates_non_associate = []  # Non-associated coordinates\n",
    "\n",
    "for index_gc, row_gc in coordinates_GCQEPAS.iterrows():\n",
    "    coord_sensor1 = {'X (meter)': row_gc['X (meter)'], 'Y (meter)': row_gc['Y (meter)'],\n",
    "                     'Z (meter)': row_gc['Z (meter)'], 'Delta X': row_gc['Delta X'],\n",
    "                     'Delta Y': row_gc['Delta Y'], 'Delta Z': row_gc['Delta Z']}\n",
    "\n",
    "    for index_ims, row_ims in coordinates_IMS.iterrows():\n",
    "        coord_sensor2 = {'X (meter)': row_ims['X (meter)'], 'Y (meter)': row_ims['Y (meter)'],\n",
    "                         'Z (meter)': row_ims['Z (meter)'], 'Delta X': row_ims['Delta X'],\n",
    "                         'Delta Y': row_ims['Delta Y'], 'Delta Z': row_ims['Delta Z']}\n",
    "\n",
    "        # Concatenation of data if the trace position is ok\n",
    "        combined_dataframe = concatenation(coord_sensor1, coord_sensor2, new_processed_dataframe_IMS,\n",
    "                                           new_processed_dataframe_QEPAS, new_processed_dataframe_RT)\n",
    "\n",
    "        if combined_dataframe is not None:\n",
    "            coordinates_associate.append(((index_gc, index_ims), combined_dataframe))\n",
    "        else:\n",
    "            coordinates_non_associate.append((index_gc, index_ims))\n",
    "\n",
    "# Print outputs\n",
    "for (index_gc, index_ims), combined_dataframe in coordinates_associate:\n",
    "    print(f\"Data from coordinates_GCQEPAS at index {index_gc} and coordinates_IMS at index {index_ims} can be combined.\")\n",
    "    print(\"Combined data:\")\n",
    "    print(combined_dataframe)\n",
    "\n",
    "# Print non-associated coordinates\n",
    "for index_gc, index_ims in coordinates_non_associate:\n",
    "    print(f\"Data from coordinates_GCQEPAS at index {index_gc} and coordinates_IMS at index {index_ims} CANNOT be combined.\")\n"
   ]
  },
  {
   "cell_type": "code",
   "execution_count": 182,
   "metadata": {},
   "outputs": [],
   "source": [
    "combined_dataframe.columns = combined_dataframe.columns.astype(str)"
   ]
  },
  {
   "cell_type": "code",
   "execution_count": 183,
   "metadata": {},
   "outputs": [
    {
     "data": {
      "text/plain": [
       "array([1])"
      ]
     },
     "execution_count": 183,
     "metadata": {},
     "output_type": "execute_result"
    }
   ],
   "source": [
    "y_pred_unknown = clf.predict(combined_dataframe)\n",
    "y_pred_unknown"
   ]
  },
  {
   "cell_type": "code",
   "execution_count": 184,
   "metadata": {},
   "outputs": [
    {
     "data": {
      "text/plain": [
       "array([38.56884213])"
      ]
     },
     "execution_count": 184,
     "metadata": {},
     "output_type": "execute_result"
    }
   ],
   "source": [
    "clf.score_samples(combined_dataframe)"
   ]
  },
  {
   "cell_type": "code",
   "execution_count": 185,
   "metadata": {},
   "outputs": [
    {
     "data": {
      "text/plain": [
       "array([0.10356641])"
      ]
     },
     "execution_count": 185,
     "metadata": {},
     "output_type": "execute_result"
    }
   ],
   "source": [
    "# Use the decision function to get the signed distance\n",
    "decision_values = clf.decision_function(combined_dataframe)\n",
    "decision_values"
   ]
  },
  {
   "cell_type": "code",
   "execution_count": 186,
   "metadata": {},
   "outputs": [],
   "source": [
    "# Set your threshold\n",
    "threshold = -0.50  # Adjust this threshold as needed"
   ]
  },
  {
   "cell_type": "code",
   "execution_count": 187,
   "metadata": {},
   "outputs": [
    {
     "data": {
      "text/plain": [
       "array(['Acetone'], dtype='<U7')"
      ]
     },
     "execution_count": 187,
     "metadata": {},
     "output_type": "execute_result"
    }
   ],
   "source": [
    "# Predict inliers and outliers based on the threshold\n",
    "predictions = np.where(decision_values < threshold, \"unknown\", \"Acetone\")\n",
    "predictions"
   ]
  },
  {
   "cell_type": "code",
   "execution_count": 188,
   "metadata": {},
   "outputs": [
    {
     "data": {
      "application/vnd.plotly.v1+json": {
       "config": {
        "plotlyServerURL": "https://plot.ly"
       },
       "data": [
        {
         "line": {
          "color": "blue"
         },
         "mode": "lines+markers",
         "name": "Training Samples",
         "type": "scatter",
         "x": [
          0,
          1,
          2,
          3,
          4,
          5,
          6,
          7,
          8,
          9
         ],
         "y": [
          38.46527550383742,
          38.481271817884675,
          38.465275974109474,
          38.56387852671239,
          40.8961803264424,
          41.08835892461964,
          40.72405615169977,
          40.66652956791794,
          40.56320256080637,
          39.78176234195705
         ]
        },
        {
         "marker": {
          "color": "red",
          "size": 10
         },
         "mode": "markers",
         "name": "Unknown Sample (Acetone)",
         "type": "scatter",
         "x": [
          10
         ],
         "y": [
          38.57
         ]
        },
        {
         "line": {
          "color": "green",
          "dash": "dash"
         },
         "mode": "lines",
         "name": "Lower Threshold",
         "type": "scatter",
         "x": [
          0,
          9
         ],
         "y": [
          20,
          20
         ]
        },
        {
         "line": {
          "color": "orange",
          "dash": "dash"
         },
         "mode": "lines",
         "name": "Upper Threshold",
         "type": "scatter",
         "x": [
          0,
          9
         ],
         "y": [
          50,
          50
         ]
        }
       ],
       "layout": {
        "annotations": [
         {
          "arrowhead": 2,
          "ax": 0,
          "ay": -30,
          "showarrow": true,
          "text": "Acetone",
          "x": 0,
          "y": 38.46527550383742
         },
         {
          "arrowhead": 2,
          "ax": 0,
          "ay": -30,
          "showarrow": true,
          "text": "Acetone",
          "x": 1,
          "y": 38.481271817884675
         },
         {
          "arrowhead": 2,
          "ax": 0,
          "ay": -30,
          "showarrow": true,
          "text": "Acetone",
          "x": 2,
          "y": 38.465275974109474
         },
         {
          "arrowhead": 2,
          "ax": 0,
          "ay": -30,
          "showarrow": true,
          "text": "Acetone",
          "x": 3,
          "y": 38.56387852671239
         },
         {
          "arrowhead": 2,
          "ax": 0,
          "ay": -30,
          "showarrow": true,
          "text": "Acetone",
          "x": 4,
          "y": 40.8961803264424
         },
         {
          "arrowhead": 2,
          "ax": 0,
          "ay": -30,
          "showarrow": true,
          "text": "Acetone",
          "x": 5,
          "y": 41.08835892461964
         },
         {
          "arrowhead": 2,
          "ax": 0,
          "ay": -30,
          "showarrow": true,
          "text": "Acetone",
          "x": 6,
          "y": 40.72405615169977
         },
         {
          "arrowhead": 2,
          "ax": 0,
          "ay": -30,
          "showarrow": true,
          "text": "Acetone",
          "x": 7,
          "y": 40.66652956791794
         },
         {
          "arrowhead": 2,
          "ax": 0,
          "ay": -30,
          "showarrow": true,
          "text": "Acetone",
          "x": 8,
          "y": 40.56320256080637
         },
         {
          "arrowhead": 2,
          "ax": 0,
          "ay": -30,
          "showarrow": true,
          "text": "Acetone",
          "x": 9,
          "y": 39.78176234195705
         },
         {
          "arrowhead": 2,
          "ax": 0,
          "ay": -30,
          "showarrow": true,
          "text": "Acetone",
          "x": 10,
          "y": 38.57
         }
        ],
        "legend": {
         "x": 1,
         "y": 0.5
        },
        "template": {
         "data": {
          "bar": [
           {
            "error_x": {
             "color": "#2a3f5f"
            },
            "error_y": {
             "color": "#2a3f5f"
            },
            "marker": {
             "line": {
              "color": "#E5ECF6",
              "width": 0.5
             },
             "pattern": {
              "fillmode": "overlay",
              "size": 10,
              "solidity": 0.2
             }
            },
            "type": "bar"
           }
          ],
          "barpolar": [
           {
            "marker": {
             "line": {
              "color": "#E5ECF6",
              "width": 0.5
             },
             "pattern": {
              "fillmode": "overlay",
              "size": 10,
              "solidity": 0.2
             }
            },
            "type": "barpolar"
           }
          ],
          "carpet": [
           {
            "aaxis": {
             "endlinecolor": "#2a3f5f",
             "gridcolor": "white",
             "linecolor": "white",
             "minorgridcolor": "white",
             "startlinecolor": "#2a3f5f"
            },
            "baxis": {
             "endlinecolor": "#2a3f5f",
             "gridcolor": "white",
             "linecolor": "white",
             "minorgridcolor": "white",
             "startlinecolor": "#2a3f5f"
            },
            "type": "carpet"
           }
          ],
          "choropleth": [
           {
            "colorbar": {
             "outlinewidth": 0,
             "ticks": ""
            },
            "type": "choropleth"
           }
          ],
          "contour": [
           {
            "colorbar": {
             "outlinewidth": 0,
             "ticks": ""
            },
            "colorscale": [
             [
              0,
              "#0d0887"
             ],
             [
              0.1111111111111111,
              "#46039f"
             ],
             [
              0.2222222222222222,
              "#7201a8"
             ],
             [
              0.3333333333333333,
              "#9c179e"
             ],
             [
              0.4444444444444444,
              "#bd3786"
             ],
             [
              0.5555555555555556,
              "#d8576b"
             ],
             [
              0.6666666666666666,
              "#ed7953"
             ],
             [
              0.7777777777777778,
              "#fb9f3a"
             ],
             [
              0.8888888888888888,
              "#fdca26"
             ],
             [
              1,
              "#f0f921"
             ]
            ],
            "type": "contour"
           }
          ],
          "contourcarpet": [
           {
            "colorbar": {
             "outlinewidth": 0,
             "ticks": ""
            },
            "type": "contourcarpet"
           }
          ],
          "heatmap": [
           {
            "colorbar": {
             "outlinewidth": 0,
             "ticks": ""
            },
            "colorscale": [
             [
              0,
              "#0d0887"
             ],
             [
              0.1111111111111111,
              "#46039f"
             ],
             [
              0.2222222222222222,
              "#7201a8"
             ],
             [
              0.3333333333333333,
              "#9c179e"
             ],
             [
              0.4444444444444444,
              "#bd3786"
             ],
             [
              0.5555555555555556,
              "#d8576b"
             ],
             [
              0.6666666666666666,
              "#ed7953"
             ],
             [
              0.7777777777777778,
              "#fb9f3a"
             ],
             [
              0.8888888888888888,
              "#fdca26"
             ],
             [
              1,
              "#f0f921"
             ]
            ],
            "type": "heatmap"
           }
          ],
          "heatmapgl": [
           {
            "colorbar": {
             "outlinewidth": 0,
             "ticks": ""
            },
            "colorscale": [
             [
              0,
              "#0d0887"
             ],
             [
              0.1111111111111111,
              "#46039f"
             ],
             [
              0.2222222222222222,
              "#7201a8"
             ],
             [
              0.3333333333333333,
              "#9c179e"
             ],
             [
              0.4444444444444444,
              "#bd3786"
             ],
             [
              0.5555555555555556,
              "#d8576b"
             ],
             [
              0.6666666666666666,
              "#ed7953"
             ],
             [
              0.7777777777777778,
              "#fb9f3a"
             ],
             [
              0.8888888888888888,
              "#fdca26"
             ],
             [
              1,
              "#f0f921"
             ]
            ],
            "type": "heatmapgl"
           }
          ],
          "histogram": [
           {
            "marker": {
             "pattern": {
              "fillmode": "overlay",
              "size": 10,
              "solidity": 0.2
             }
            },
            "type": "histogram"
           }
          ],
          "histogram2d": [
           {
            "colorbar": {
             "outlinewidth": 0,
             "ticks": ""
            },
            "colorscale": [
             [
              0,
              "#0d0887"
             ],
             [
              0.1111111111111111,
              "#46039f"
             ],
             [
              0.2222222222222222,
              "#7201a8"
             ],
             [
              0.3333333333333333,
              "#9c179e"
             ],
             [
              0.4444444444444444,
              "#bd3786"
             ],
             [
              0.5555555555555556,
              "#d8576b"
             ],
             [
              0.6666666666666666,
              "#ed7953"
             ],
             [
              0.7777777777777778,
              "#fb9f3a"
             ],
             [
              0.8888888888888888,
              "#fdca26"
             ],
             [
              1,
              "#f0f921"
             ]
            ],
            "type": "histogram2d"
           }
          ],
          "histogram2dcontour": [
           {
            "colorbar": {
             "outlinewidth": 0,
             "ticks": ""
            },
            "colorscale": [
             [
              0,
              "#0d0887"
             ],
             [
              0.1111111111111111,
              "#46039f"
             ],
             [
              0.2222222222222222,
              "#7201a8"
             ],
             [
              0.3333333333333333,
              "#9c179e"
             ],
             [
              0.4444444444444444,
              "#bd3786"
             ],
             [
              0.5555555555555556,
              "#d8576b"
             ],
             [
              0.6666666666666666,
              "#ed7953"
             ],
             [
              0.7777777777777778,
              "#fb9f3a"
             ],
             [
              0.8888888888888888,
              "#fdca26"
             ],
             [
              1,
              "#f0f921"
             ]
            ],
            "type": "histogram2dcontour"
           }
          ],
          "mesh3d": [
           {
            "colorbar": {
             "outlinewidth": 0,
             "ticks": ""
            },
            "type": "mesh3d"
           }
          ],
          "parcoords": [
           {
            "line": {
             "colorbar": {
              "outlinewidth": 0,
              "ticks": ""
             }
            },
            "type": "parcoords"
           }
          ],
          "pie": [
           {
            "automargin": true,
            "type": "pie"
           }
          ],
          "scatter": [
           {
            "fillpattern": {
             "fillmode": "overlay",
             "size": 10,
             "solidity": 0.2
            },
            "type": "scatter"
           }
          ],
          "scatter3d": [
           {
            "line": {
             "colorbar": {
              "outlinewidth": 0,
              "ticks": ""
             }
            },
            "marker": {
             "colorbar": {
              "outlinewidth": 0,
              "ticks": ""
             }
            },
            "type": "scatter3d"
           }
          ],
          "scattercarpet": [
           {
            "marker": {
             "colorbar": {
              "outlinewidth": 0,
              "ticks": ""
             }
            },
            "type": "scattercarpet"
           }
          ],
          "scattergeo": [
           {
            "marker": {
             "colorbar": {
              "outlinewidth": 0,
              "ticks": ""
             }
            },
            "type": "scattergeo"
           }
          ],
          "scattergl": [
           {
            "marker": {
             "colorbar": {
              "outlinewidth": 0,
              "ticks": ""
             }
            },
            "type": "scattergl"
           }
          ],
          "scattermapbox": [
           {
            "marker": {
             "colorbar": {
              "outlinewidth": 0,
              "ticks": ""
             }
            },
            "type": "scattermapbox"
           }
          ],
          "scatterpolar": [
           {
            "marker": {
             "colorbar": {
              "outlinewidth": 0,
              "ticks": ""
             }
            },
            "type": "scatterpolar"
           }
          ],
          "scatterpolargl": [
           {
            "marker": {
             "colorbar": {
              "outlinewidth": 0,
              "ticks": ""
             }
            },
            "type": "scatterpolargl"
           }
          ],
          "scatterternary": [
           {
            "marker": {
             "colorbar": {
              "outlinewidth": 0,
              "ticks": ""
             }
            },
            "type": "scatterternary"
           }
          ],
          "surface": [
           {
            "colorbar": {
             "outlinewidth": 0,
             "ticks": ""
            },
            "colorscale": [
             [
              0,
              "#0d0887"
             ],
             [
              0.1111111111111111,
              "#46039f"
             ],
             [
              0.2222222222222222,
              "#7201a8"
             ],
             [
              0.3333333333333333,
              "#9c179e"
             ],
             [
              0.4444444444444444,
              "#bd3786"
             ],
             [
              0.5555555555555556,
              "#d8576b"
             ],
             [
              0.6666666666666666,
              "#ed7953"
             ],
             [
              0.7777777777777778,
              "#fb9f3a"
             ],
             [
              0.8888888888888888,
              "#fdca26"
             ],
             [
              1,
              "#f0f921"
             ]
            ],
            "type": "surface"
           }
          ],
          "table": [
           {
            "cells": {
             "fill": {
              "color": "#EBF0F8"
             },
             "line": {
              "color": "white"
             }
            },
            "header": {
             "fill": {
              "color": "#C8D4E3"
             },
             "line": {
              "color": "white"
             }
            },
            "type": "table"
           }
          ]
         },
         "layout": {
          "annotationdefaults": {
           "arrowcolor": "#2a3f5f",
           "arrowhead": 0,
           "arrowwidth": 1
          },
          "autotypenumbers": "strict",
          "coloraxis": {
           "colorbar": {
            "outlinewidth": 0,
            "ticks": ""
           }
          },
          "colorscale": {
           "diverging": [
            [
             0,
             "#8e0152"
            ],
            [
             0.1,
             "#c51b7d"
            ],
            [
             0.2,
             "#de77ae"
            ],
            [
             0.3,
             "#f1b6da"
            ],
            [
             0.4,
             "#fde0ef"
            ],
            [
             0.5,
             "#f7f7f7"
            ],
            [
             0.6,
             "#e6f5d0"
            ],
            [
             0.7,
             "#b8e186"
            ],
            [
             0.8,
             "#7fbc41"
            ],
            [
             0.9,
             "#4d9221"
            ],
            [
             1,
             "#276419"
            ]
           ],
           "sequential": [
            [
             0,
             "#0d0887"
            ],
            [
             0.1111111111111111,
             "#46039f"
            ],
            [
             0.2222222222222222,
             "#7201a8"
            ],
            [
             0.3333333333333333,
             "#9c179e"
            ],
            [
             0.4444444444444444,
             "#bd3786"
            ],
            [
             0.5555555555555556,
             "#d8576b"
            ],
            [
             0.6666666666666666,
             "#ed7953"
            ],
            [
             0.7777777777777778,
             "#fb9f3a"
            ],
            [
             0.8888888888888888,
             "#fdca26"
            ],
            [
             1,
             "#f0f921"
            ]
           ],
           "sequentialminus": [
            [
             0,
             "#0d0887"
            ],
            [
             0.1111111111111111,
             "#46039f"
            ],
            [
             0.2222222222222222,
             "#7201a8"
            ],
            [
             0.3333333333333333,
             "#9c179e"
            ],
            [
             0.4444444444444444,
             "#bd3786"
            ],
            [
             0.5555555555555556,
             "#d8576b"
            ],
            [
             0.6666666666666666,
             "#ed7953"
            ],
            [
             0.7777777777777778,
             "#fb9f3a"
            ],
            [
             0.8888888888888888,
             "#fdca26"
            ],
            [
             1,
             "#f0f921"
            ]
           ]
          },
          "colorway": [
           "#636efa",
           "#EF553B",
           "#00cc96",
           "#ab63fa",
           "#FFA15A",
           "#19d3f3",
           "#FF6692",
           "#B6E880",
           "#FF97FF",
           "#FECB52"
          ],
          "font": {
           "color": "#2a3f5f"
          },
          "geo": {
           "bgcolor": "white",
           "lakecolor": "white",
           "landcolor": "#E5ECF6",
           "showlakes": true,
           "showland": true,
           "subunitcolor": "white"
          },
          "hoverlabel": {
           "align": "left"
          },
          "hovermode": "closest",
          "mapbox": {
           "style": "light"
          },
          "paper_bgcolor": "white",
          "plot_bgcolor": "#E5ECF6",
          "polar": {
           "angularaxis": {
            "gridcolor": "white",
            "linecolor": "white",
            "ticks": ""
           },
           "bgcolor": "#E5ECF6",
           "radialaxis": {
            "gridcolor": "white",
            "linecolor": "white",
            "ticks": ""
           }
          },
          "scene": {
           "xaxis": {
            "backgroundcolor": "#E5ECF6",
            "gridcolor": "white",
            "gridwidth": 2,
            "linecolor": "white",
            "showbackground": true,
            "ticks": "",
            "zerolinecolor": "white"
           },
           "yaxis": {
            "backgroundcolor": "#E5ECF6",
            "gridcolor": "white",
            "gridwidth": 2,
            "linecolor": "white",
            "showbackground": true,
            "ticks": "",
            "zerolinecolor": "white"
           },
           "zaxis": {
            "backgroundcolor": "#E5ECF6",
            "gridcolor": "white",
            "gridwidth": 2,
            "linecolor": "white",
            "showbackground": true,
            "ticks": "",
            "zerolinecolor": "white"
           }
          },
          "shapedefaults": {
           "line": {
            "color": "#2a3f5f"
           }
          },
          "ternary": {
           "aaxis": {
            "gridcolor": "white",
            "linecolor": "white",
            "ticks": ""
           },
           "baxis": {
            "gridcolor": "white",
            "linecolor": "white",
            "ticks": ""
           },
           "bgcolor": "#E5ECF6",
           "caxis": {
            "gridcolor": "white",
            "linecolor": "white",
            "ticks": ""
           }
          },
          "title": {
           "x": 0.05
          },
          "xaxis": {
           "automargin": true,
           "gridcolor": "white",
           "linecolor": "white",
           "ticks": "",
           "title": {
            "standoff": 15
           },
           "zerolinecolor": "white",
           "zerolinewidth": 2
          },
          "yaxis": {
           "automargin": true,
           "gridcolor": "white",
           "linecolor": "white",
           "ticks": "",
           "title": {
            "standoff": 15
           },
           "zerolinecolor": "white",
           "zerolinewidth": 2
          }
         }
        },
        "title": {
         "text": "One-Class SVM Detection of Acetone"
        },
        "xaxis": {
         "title": {
          "text": "Sample Index"
         }
        },
        "yaxis": {
         "title": {
          "text": "Score Samples Value"
         }
        }
       }
      }
     },
     "metadata": {},
     "output_type": "display_data"
    }
   ],
   "source": [
    "import plotly.graph_objects as go\n",
    "\n",
    "# OneClassSVM model\n",
    "Z_train = clf.score_samples(X_train)\n",
    "decision_function_scores_unknown = clf.score_samples(combined_dataframe)\n",
    "\n",
    "# Convert the scores to a pandas DataFrame\n",
    "scores_df_train = pd.DataFrame({'Sample Index': X_train.index, 'Decision Function Scores': Z_train})\n",
    "scores_df_unknown = pd.DataFrame({'Sample Index': [X_train.index.max() + 1], 'Decision Function Scores': decision_function_scores_unknown})\n",
    "scores_df_unknown['Decision Function Scores'] = scores_df_unknown['Decision Function Scores'].round(decimals=2)\n",
    "\n",
    "# Define thresholds\n",
    "lower_threshold = 20\n",
    "upper_threshold = 50\n",
    "\n",
    "# Predict inliers and outliers based on the threshold for score samples\n",
    "unknown_prediction = \"Acetone\"\n",
    "if scores_df_unknown['Decision Function Scores'].iloc[0] < lower_threshold or scores_df_unknown['Decision Function Scores'].iloc[0] > upper_threshold:\n",
    "    unknown_prediction = \"Unknown sample\"\n",
    "\n",
    "# Create traces for training samples, unknown sample, and decision boundary\n",
    "trace_train = go.Scatter(x=scores_df_train['Sample Index'], y=scores_df_train['Decision Function Scores'], mode='lines+markers',\n",
    "                         name='Training Samples', line=dict(color='blue'))\n",
    "\n",
    "trace_unknown = go.Scatter(x=scores_df_unknown['Sample Index'], y=scores_df_unknown['Decision Function Scores'], mode='markers',\n",
    "                           name=f'Unknown Sample ({unknown_prediction})', marker=dict(color='red', size=10))\n",
    "\n",
    "# Add labels for training samples\n",
    "predictions = np.where(scores_df_train['Decision Function Scores'] < lower_threshold, \"Unknown sample\",\n",
    "                       np.where(scores_df_train['Decision Function Scores'] > upper_threshold, \"Unknown sample\", \"Acetone\"))\n",
    "annotations_train = [dict(x=scores_df_train['Sample Index'][i], y=scores_df_train['Decision Function Scores'][i],\n",
    "                          text=predictions[i], showarrow=True, arrowhead=2, ax=0, ay=-30) for i in range(len(predictions))]\n",
    "\n",
    "# Add label for unknown sample\n",
    "annotations_unknown = [dict(x=scores_df_unknown['Sample Index'].iloc[0], y=scores_df_unknown['Decision Function Scores'].iloc[0],\n",
    "                            text=unknown_prediction, showarrow=True, arrowhead=2, ax=0, ay=-30)]\n",
    "\n",
    "# Create decision boundary traces\n",
    "lower_decision_boundary_trace = go.Scatter(x=[scores_df_train['Sample Index'].min(), scores_df_train['Sample Index'].max()],\n",
    "                                            y=[lower_threshold, lower_threshold], mode='lines', name='Lower Threshold',\n",
    "                                            line=dict(color='green', dash='dash'))\n",
    "upper_decision_boundary_trace = go.Scatter(x=[scores_df_train['Sample Index'].min(), scores_df_train['Sample Index'].max()],\n",
    "                                            y=[upper_threshold, upper_threshold], mode='lines', name='Upper Threshold',\n",
    "                                            line=dict(color='orange', dash='dash'))\n",
    "\n",
    "# Create layout\n",
    "layout = go.Layout(title=\"One-Class SVM Detection of Acetone\", xaxis=dict(title=\"Sample Index\"), yaxis=dict(title=\"Score Samples Value\"),\n",
    "                   legend=dict(x=1, y=0.5), annotations=annotations_train + annotations_unknown)\n",
    "\n",
    "# Create figure\n",
    "fig = go.Figure(data=[trace_train, trace_unknown, lower_decision_boundary_trace, upper_decision_boundary_trace], layout=layout)\n",
    "\n",
    "fig.show()\n",
    "\n"
   ]
  },
  {
   "cell_type": "code",
   "execution_count": 189,
   "metadata": {},
   "outputs": [
    {
     "data": {
      "application/vnd.plotly.v1+json": {
       "config": {
        "plotlyServerURL": "https://plot.ly"
       },
       "data": [
        {
         "line": {
          "color": "blue"
         },
         "mode": "lines+markers",
         "name": "Training Samples",
         "type": "scatter",
         "x": [
          0,
          1,
          2,
          3,
          4,
          5,
          6,
          7,
          8,
          9
         ],
         "y": [
          -2.206935718618297e-7,
          0.015996093353685126,
          2.495784841016757e-7,
          0.0986028021813965,
          2.430904601911408,
          2.623083200088651,
          2.25878042716878,
          2.201253843386951,
          2.097926836275377,
          1.316486617426058
         ]
        },
        {
         "marker": {
          "color": "red",
          "size": 10
         },
         "mode": "markers",
         "name": "Unknown Sample (Acetone)",
         "type": "scatter",
         "x": [
          10
         ],
         "y": [
          0.1
         ]
        },
        {
         "line": {
          "color": "red",
          "dash": "dash"
         },
         "mode": "lines",
         "name": "Decision Boundary",
         "type": "scatter",
         "x": [
          0,
          9
         ],
         "y": [
          -1,
          -1
         ]
        }
       ],
       "layout": {
        "annotations": [
         {
          "arrowhead": 2,
          "ax": 0,
          "ay": -30,
          "showarrow": true,
          "text": "Acetone",
          "x": 0,
          "y": -2.206935718618297e-7
         },
         {
          "arrowhead": 2,
          "ax": 0,
          "ay": -30,
          "showarrow": true,
          "text": "Acetone",
          "x": 1,
          "y": 0.015996093353685126
         },
         {
          "arrowhead": 2,
          "ax": 0,
          "ay": -30,
          "showarrow": true,
          "text": "Acetone",
          "x": 2,
          "y": 2.495784841016757e-7
         },
         {
          "arrowhead": 2,
          "ax": 0,
          "ay": -30,
          "showarrow": true,
          "text": "Acetone",
          "x": 3,
          "y": 0.0986028021813965
         },
         {
          "arrowhead": 2,
          "ax": 0,
          "ay": -30,
          "showarrow": true,
          "text": "Acetone",
          "x": 4,
          "y": 2.430904601911408
         },
         {
          "arrowhead": 2,
          "ax": 0,
          "ay": -30,
          "showarrow": true,
          "text": "Acetone",
          "x": 5,
          "y": 2.623083200088651
         },
         {
          "arrowhead": 2,
          "ax": 0,
          "ay": -30,
          "showarrow": true,
          "text": "Acetone",
          "x": 6,
          "y": 2.25878042716878
         },
         {
          "arrowhead": 2,
          "ax": 0,
          "ay": -30,
          "showarrow": true,
          "text": "Acetone",
          "x": 7,
          "y": 2.201253843386951
         },
         {
          "arrowhead": 2,
          "ax": 0,
          "ay": -30,
          "showarrow": true,
          "text": "Acetone",
          "x": 8,
          "y": 2.097926836275377
         },
         {
          "arrowhead": 2,
          "ax": 0,
          "ay": -30,
          "showarrow": true,
          "text": "Acetone",
          "x": 9,
          "y": 1.316486617426058
         },
         {
          "arrowhead": 2,
          "ax": 0,
          "ay": -30,
          "showarrow": true,
          "text": "Acetone",
          "x": 10,
          "y": 0.1
         }
        ],
        "legend": {
         "x": 1,
         "y": 0.5
        },
        "template": {
         "data": {
          "bar": [
           {
            "error_x": {
             "color": "#2a3f5f"
            },
            "error_y": {
             "color": "#2a3f5f"
            },
            "marker": {
             "line": {
              "color": "#E5ECF6",
              "width": 0.5
             },
             "pattern": {
              "fillmode": "overlay",
              "size": 10,
              "solidity": 0.2
             }
            },
            "type": "bar"
           }
          ],
          "barpolar": [
           {
            "marker": {
             "line": {
              "color": "#E5ECF6",
              "width": 0.5
             },
             "pattern": {
              "fillmode": "overlay",
              "size": 10,
              "solidity": 0.2
             }
            },
            "type": "barpolar"
           }
          ],
          "carpet": [
           {
            "aaxis": {
             "endlinecolor": "#2a3f5f",
             "gridcolor": "white",
             "linecolor": "white",
             "minorgridcolor": "white",
             "startlinecolor": "#2a3f5f"
            },
            "baxis": {
             "endlinecolor": "#2a3f5f",
             "gridcolor": "white",
             "linecolor": "white",
             "minorgridcolor": "white",
             "startlinecolor": "#2a3f5f"
            },
            "type": "carpet"
           }
          ],
          "choropleth": [
           {
            "colorbar": {
             "outlinewidth": 0,
             "ticks": ""
            },
            "type": "choropleth"
           }
          ],
          "contour": [
           {
            "colorbar": {
             "outlinewidth": 0,
             "ticks": ""
            },
            "colorscale": [
             [
              0,
              "#0d0887"
             ],
             [
              0.1111111111111111,
              "#46039f"
             ],
             [
              0.2222222222222222,
              "#7201a8"
             ],
             [
              0.3333333333333333,
              "#9c179e"
             ],
             [
              0.4444444444444444,
              "#bd3786"
             ],
             [
              0.5555555555555556,
              "#d8576b"
             ],
             [
              0.6666666666666666,
              "#ed7953"
             ],
             [
              0.7777777777777778,
              "#fb9f3a"
             ],
             [
              0.8888888888888888,
              "#fdca26"
             ],
             [
              1,
              "#f0f921"
             ]
            ],
            "type": "contour"
           }
          ],
          "contourcarpet": [
           {
            "colorbar": {
             "outlinewidth": 0,
             "ticks": ""
            },
            "type": "contourcarpet"
           }
          ],
          "heatmap": [
           {
            "colorbar": {
             "outlinewidth": 0,
             "ticks": ""
            },
            "colorscale": [
             [
              0,
              "#0d0887"
             ],
             [
              0.1111111111111111,
              "#46039f"
             ],
             [
              0.2222222222222222,
              "#7201a8"
             ],
             [
              0.3333333333333333,
              "#9c179e"
             ],
             [
              0.4444444444444444,
              "#bd3786"
             ],
             [
              0.5555555555555556,
              "#d8576b"
             ],
             [
              0.6666666666666666,
              "#ed7953"
             ],
             [
              0.7777777777777778,
              "#fb9f3a"
             ],
             [
              0.8888888888888888,
              "#fdca26"
             ],
             [
              1,
              "#f0f921"
             ]
            ],
            "type": "heatmap"
           }
          ],
          "heatmapgl": [
           {
            "colorbar": {
             "outlinewidth": 0,
             "ticks": ""
            },
            "colorscale": [
             [
              0,
              "#0d0887"
             ],
             [
              0.1111111111111111,
              "#46039f"
             ],
             [
              0.2222222222222222,
              "#7201a8"
             ],
             [
              0.3333333333333333,
              "#9c179e"
             ],
             [
              0.4444444444444444,
              "#bd3786"
             ],
             [
              0.5555555555555556,
              "#d8576b"
             ],
             [
              0.6666666666666666,
              "#ed7953"
             ],
             [
              0.7777777777777778,
              "#fb9f3a"
             ],
             [
              0.8888888888888888,
              "#fdca26"
             ],
             [
              1,
              "#f0f921"
             ]
            ],
            "type": "heatmapgl"
           }
          ],
          "histogram": [
           {
            "marker": {
             "pattern": {
              "fillmode": "overlay",
              "size": 10,
              "solidity": 0.2
             }
            },
            "type": "histogram"
           }
          ],
          "histogram2d": [
           {
            "colorbar": {
             "outlinewidth": 0,
             "ticks": ""
            },
            "colorscale": [
             [
              0,
              "#0d0887"
             ],
             [
              0.1111111111111111,
              "#46039f"
             ],
             [
              0.2222222222222222,
              "#7201a8"
             ],
             [
              0.3333333333333333,
              "#9c179e"
             ],
             [
              0.4444444444444444,
              "#bd3786"
             ],
             [
              0.5555555555555556,
              "#d8576b"
             ],
             [
              0.6666666666666666,
              "#ed7953"
             ],
             [
              0.7777777777777778,
              "#fb9f3a"
             ],
             [
              0.8888888888888888,
              "#fdca26"
             ],
             [
              1,
              "#f0f921"
             ]
            ],
            "type": "histogram2d"
           }
          ],
          "histogram2dcontour": [
           {
            "colorbar": {
             "outlinewidth": 0,
             "ticks": ""
            },
            "colorscale": [
             [
              0,
              "#0d0887"
             ],
             [
              0.1111111111111111,
              "#46039f"
             ],
             [
              0.2222222222222222,
              "#7201a8"
             ],
             [
              0.3333333333333333,
              "#9c179e"
             ],
             [
              0.4444444444444444,
              "#bd3786"
             ],
             [
              0.5555555555555556,
              "#d8576b"
             ],
             [
              0.6666666666666666,
              "#ed7953"
             ],
             [
              0.7777777777777778,
              "#fb9f3a"
             ],
             [
              0.8888888888888888,
              "#fdca26"
             ],
             [
              1,
              "#f0f921"
             ]
            ],
            "type": "histogram2dcontour"
           }
          ],
          "mesh3d": [
           {
            "colorbar": {
             "outlinewidth": 0,
             "ticks": ""
            },
            "type": "mesh3d"
           }
          ],
          "parcoords": [
           {
            "line": {
             "colorbar": {
              "outlinewidth": 0,
              "ticks": ""
             }
            },
            "type": "parcoords"
           }
          ],
          "pie": [
           {
            "automargin": true,
            "type": "pie"
           }
          ],
          "scatter": [
           {
            "fillpattern": {
             "fillmode": "overlay",
             "size": 10,
             "solidity": 0.2
            },
            "type": "scatter"
           }
          ],
          "scatter3d": [
           {
            "line": {
             "colorbar": {
              "outlinewidth": 0,
              "ticks": ""
             }
            },
            "marker": {
             "colorbar": {
              "outlinewidth": 0,
              "ticks": ""
             }
            },
            "type": "scatter3d"
           }
          ],
          "scattercarpet": [
           {
            "marker": {
             "colorbar": {
              "outlinewidth": 0,
              "ticks": ""
             }
            },
            "type": "scattercarpet"
           }
          ],
          "scattergeo": [
           {
            "marker": {
             "colorbar": {
              "outlinewidth": 0,
              "ticks": ""
             }
            },
            "type": "scattergeo"
           }
          ],
          "scattergl": [
           {
            "marker": {
             "colorbar": {
              "outlinewidth": 0,
              "ticks": ""
             }
            },
            "type": "scattergl"
           }
          ],
          "scattermapbox": [
           {
            "marker": {
             "colorbar": {
              "outlinewidth": 0,
              "ticks": ""
             }
            },
            "type": "scattermapbox"
           }
          ],
          "scatterpolar": [
           {
            "marker": {
             "colorbar": {
              "outlinewidth": 0,
              "ticks": ""
             }
            },
            "type": "scatterpolar"
           }
          ],
          "scatterpolargl": [
           {
            "marker": {
             "colorbar": {
              "outlinewidth": 0,
              "ticks": ""
             }
            },
            "type": "scatterpolargl"
           }
          ],
          "scatterternary": [
           {
            "marker": {
             "colorbar": {
              "outlinewidth": 0,
              "ticks": ""
             }
            },
            "type": "scatterternary"
           }
          ],
          "surface": [
           {
            "colorbar": {
             "outlinewidth": 0,
             "ticks": ""
            },
            "colorscale": [
             [
              0,
              "#0d0887"
             ],
             [
              0.1111111111111111,
              "#46039f"
             ],
             [
              0.2222222222222222,
              "#7201a8"
             ],
             [
              0.3333333333333333,
              "#9c179e"
             ],
             [
              0.4444444444444444,
              "#bd3786"
             ],
             [
              0.5555555555555556,
              "#d8576b"
             ],
             [
              0.6666666666666666,
              "#ed7953"
             ],
             [
              0.7777777777777778,
              "#fb9f3a"
             ],
             [
              0.8888888888888888,
              "#fdca26"
             ],
             [
              1,
              "#f0f921"
             ]
            ],
            "type": "surface"
           }
          ],
          "table": [
           {
            "cells": {
             "fill": {
              "color": "#EBF0F8"
             },
             "line": {
              "color": "white"
             }
            },
            "header": {
             "fill": {
              "color": "#C8D4E3"
             },
             "line": {
              "color": "white"
             }
            },
            "type": "table"
           }
          ]
         },
         "layout": {
          "annotationdefaults": {
           "arrowcolor": "#2a3f5f",
           "arrowhead": 0,
           "arrowwidth": 1
          },
          "autotypenumbers": "strict",
          "coloraxis": {
           "colorbar": {
            "outlinewidth": 0,
            "ticks": ""
           }
          },
          "colorscale": {
           "diverging": [
            [
             0,
             "#8e0152"
            ],
            [
             0.1,
             "#c51b7d"
            ],
            [
             0.2,
             "#de77ae"
            ],
            [
             0.3,
             "#f1b6da"
            ],
            [
             0.4,
             "#fde0ef"
            ],
            [
             0.5,
             "#f7f7f7"
            ],
            [
             0.6,
             "#e6f5d0"
            ],
            [
             0.7,
             "#b8e186"
            ],
            [
             0.8,
             "#7fbc41"
            ],
            [
             0.9,
             "#4d9221"
            ],
            [
             1,
             "#276419"
            ]
           ],
           "sequential": [
            [
             0,
             "#0d0887"
            ],
            [
             0.1111111111111111,
             "#46039f"
            ],
            [
             0.2222222222222222,
             "#7201a8"
            ],
            [
             0.3333333333333333,
             "#9c179e"
            ],
            [
             0.4444444444444444,
             "#bd3786"
            ],
            [
             0.5555555555555556,
             "#d8576b"
            ],
            [
             0.6666666666666666,
             "#ed7953"
            ],
            [
             0.7777777777777778,
             "#fb9f3a"
            ],
            [
             0.8888888888888888,
             "#fdca26"
            ],
            [
             1,
             "#f0f921"
            ]
           ],
           "sequentialminus": [
            [
             0,
             "#0d0887"
            ],
            [
             0.1111111111111111,
             "#46039f"
            ],
            [
             0.2222222222222222,
             "#7201a8"
            ],
            [
             0.3333333333333333,
             "#9c179e"
            ],
            [
             0.4444444444444444,
             "#bd3786"
            ],
            [
             0.5555555555555556,
             "#d8576b"
            ],
            [
             0.6666666666666666,
             "#ed7953"
            ],
            [
             0.7777777777777778,
             "#fb9f3a"
            ],
            [
             0.8888888888888888,
             "#fdca26"
            ],
            [
             1,
             "#f0f921"
            ]
           ]
          },
          "colorway": [
           "#636efa",
           "#EF553B",
           "#00cc96",
           "#ab63fa",
           "#FFA15A",
           "#19d3f3",
           "#FF6692",
           "#B6E880",
           "#FF97FF",
           "#FECB52"
          ],
          "font": {
           "color": "#2a3f5f"
          },
          "geo": {
           "bgcolor": "white",
           "lakecolor": "white",
           "landcolor": "#E5ECF6",
           "showlakes": true,
           "showland": true,
           "subunitcolor": "white"
          },
          "hoverlabel": {
           "align": "left"
          },
          "hovermode": "closest",
          "mapbox": {
           "style": "light"
          },
          "paper_bgcolor": "white",
          "plot_bgcolor": "#E5ECF6",
          "polar": {
           "angularaxis": {
            "gridcolor": "white",
            "linecolor": "white",
            "ticks": ""
           },
           "bgcolor": "#E5ECF6",
           "radialaxis": {
            "gridcolor": "white",
            "linecolor": "white",
            "ticks": ""
           }
          },
          "scene": {
           "xaxis": {
            "backgroundcolor": "#E5ECF6",
            "gridcolor": "white",
            "gridwidth": 2,
            "linecolor": "white",
            "showbackground": true,
            "ticks": "",
            "zerolinecolor": "white"
           },
           "yaxis": {
            "backgroundcolor": "#E5ECF6",
            "gridcolor": "white",
            "gridwidth": 2,
            "linecolor": "white",
            "showbackground": true,
            "ticks": "",
            "zerolinecolor": "white"
           },
           "zaxis": {
            "backgroundcolor": "#E5ECF6",
            "gridcolor": "white",
            "gridwidth": 2,
            "linecolor": "white",
            "showbackground": true,
            "ticks": "",
            "zerolinecolor": "white"
           }
          },
          "shapedefaults": {
           "line": {
            "color": "#2a3f5f"
           }
          },
          "ternary": {
           "aaxis": {
            "gridcolor": "white",
            "linecolor": "white",
            "ticks": ""
           },
           "baxis": {
            "gridcolor": "white",
            "linecolor": "white",
            "ticks": ""
           },
           "bgcolor": "#E5ECF6",
           "caxis": {
            "gridcolor": "white",
            "linecolor": "white",
            "ticks": ""
           }
          },
          "title": {
           "x": 0.05
          },
          "xaxis": {
           "automargin": true,
           "gridcolor": "white",
           "linecolor": "white",
           "ticks": "",
           "title": {
            "standoff": 15
           },
           "zerolinecolor": "white",
           "zerolinewidth": 2
          },
          "yaxis": {
           "automargin": true,
           "gridcolor": "white",
           "linecolor": "white",
           "ticks": "",
           "title": {
            "standoff": 15
           },
           "zerolinecolor": "white",
           "zerolinewidth": 2
          }
         }
        },
        "title": {
         "text": "One-Class SVM Detection of Acetone"
        },
        "xaxis": {
         "title": {
          "text": "Sample Index"
         }
        },
        "yaxis": {
         "title": {
          "text": "Decision Function Scores"
         }
        }
       }
      }
     },
     "metadata": {},
     "output_type": "display_data"
    }
   ],
   "source": [
    "# OneClassSVM model\n",
    "Z_train = clf.decision_function(X_train)\n",
    "decision_function_scores_unknown = clf.decision_function(combined_dataframe)\n",
    "\n",
    "# Convert the scores to a pandas DataFrame\n",
    "scores_df_train = pd.DataFrame({'Sample Index': X_train.index, 'Decision Function Scores': Z_train})\n",
    "scores_df_unknown = pd.DataFrame({'Sample Index': [X_train.index.max() + 1], 'Decision Function Scores': decision_function_scores_unknown})\n",
    "scores_df_unknown['Decision Function Scores'] = scores_df_unknown['Decision Function Scores'].round(decimals=2)\n",
    "\n",
    "# Predict inliers and outliers based on the threshold for decision function value\n",
    "threshold = -1\n",
    "unknown_prediction = \"unknown\" if scores_df_unknown['Decision Function Scores'].iloc[0] < threshold else \"Acetone\"\n",
    "\n",
    "# Create traces for training samples, unknown sample, and decision boundary\n",
    "trace_train = go.Scatter(x=scores_df_train['Sample Index'], y=scores_df_train['Decision Function Scores'], mode='lines+markers',\n",
    "                         name='Training Samples', line=dict(color='blue'))\n",
    "\n",
    "trace_unknown = go.Scatter(x=scores_df_unknown['Sample Index'], y=scores_df_unknown['Decision Function Scores'], mode='markers',\n",
    "                           name=f'Unknown Sample ({unknown_prediction})', marker=dict(color='red', size=10))\n",
    "\n",
    "# Add labels for training samples\n",
    "predictions = np.where(scores_df_train['Decision Function Scores'] < threshold, \"unknown\", \"Acetone\")\n",
    "annotations_train = [dict(x=scores_df_train['Sample Index'][i], y=scores_df_train['Decision Function Scores'][i],\n",
    "                           text=predictions[i], showarrow=True, arrowhead=2, ax=0, ay=-30) for i in range(len(predictions))]\n",
    "\n",
    "# Add label for unknown sample\n",
    "annotations_unknown = [dict(x=scores_df_unknown['Sample Index'].iloc[0], y=scores_df_unknown['Decision Function Scores'].iloc[0],\n",
    "                             text=unknown_prediction, showarrow=True, arrowhead=2, ax=0, ay=-30)]\n",
    "\n",
    "# Create decision boundary trace\n",
    "decision_boundary_trace = go.Scatter(x=[scores_df_train['Sample Index'].min(), scores_df_train['Sample Index'].max()],\n",
    "                                     y=[threshold, threshold], mode='lines', name='Decision Boundary', line=dict(color='red', dash='dash'))\n",
    "\n",
    "# Create layout\n",
    "layout = go.Layout(title=\"One-Class SVM Detection of Acetone\", xaxis=dict(title=\"Sample Index\"), yaxis=dict(title=\"Decision Function Scores\"),\n",
    "                   legend=dict(x=1, y=0.5), annotations=annotations_train + annotations_unknown)\n",
    "\n",
    "# Create figure\n",
    "fig = go.Figure(data=[trace_train, trace_unknown, decision_boundary_trace], layout=layout)\n",
    "\n",
    "fig.show()"
   ]
  },
  {
   "cell_type": "code",
   "execution_count": 190,
   "metadata": {},
   "outputs": [
    {
     "name": "stdout",
     "output_type": "stream",
     "text": [
      "The method parameters were not calculated due to the lack of experimental data. \n",
      "Model accuracy = N/A \n",
      "Model precision = N/A \n",
      "Model selectivity = N/A \n",
      "As a result, the data fusion method developed should be considered as a pilot study.\n"
     ]
    }
   ],
   "source": [
    "print(\"The method parameters were not calculated due to the lack of experimental data. \\nModel accuracy = N/A \\nModel precision = N/A \\nModel selectivity = N/A \\nAs a result, the data fusion method developed should be considered as a pilot study.\")"
   ]
  },
  {
   "cell_type": "code",
   "execution_count": 191,
   "metadata": {},
   "outputs": [
    {
     "name": "stdout",
     "output_type": "stream",
     "text": [
      "This data fusion method was written in python code by the Univerity of Bergamo. \n",
      "Its use, distribution, sharing or reproduction outside the RISEN consortium is prohibited without explicit permission\n"
     ]
    }
   ],
   "source": [
    "print(\"This data fusion method was written in python code by the Univerity of Bergamo. \\nIts use, distribution, sharing or reproduction outside the RISEN consortium is prohibited without explicit permission\")"
   ]
  }
 ],
 "metadata": {
  "kernelspec": {
   "display_name": "env",
   "language": "python",
   "name": "python3"
  },
  "language_info": {
   "codemirror_mode": {
    "name": "ipython",
    "version": 3
   },
   "file_extension": ".py",
   "mimetype": "text/x-python",
   "name": "python",
   "nbconvert_exporter": "python",
   "pygments_lexer": "ipython3",
   "version": "3.12.2"
  }
 },
 "nbformat": 4,
 "nbformat_minor": 2
}
