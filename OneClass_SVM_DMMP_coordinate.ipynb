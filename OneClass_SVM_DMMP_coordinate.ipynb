{
 "cells": [
  {
   "cell_type": "code",
   "execution_count": 7,
   "metadata": {},
   "outputs": [
    {
     "name": "stdout",
     "output_type": "stream",
     "text": [
      "The following data fusion module was developed by the University of Bergamo whithin the scope of the RISEN project (under Grant Agreement No 883116). \n",
      "One Class Suppport Vectore Machines was implemented as classification method to detect DMMP by fusing the experimental data of IMS and GC-QEPAS. \n",
      "The module has been written to allow modifications and experimental data integrations in the last TTT.\n"
     ]
    }
   ],
   "source": [
    "print(\"The following data fusion module was developed by the University of Bergamo whithin the scope of the RISEN project (under Grant Agreement No 883116). \\nOne Class Suppport Vectore Machines was implemented as classification method to detect DMMP by fusing the experimental data of IMS and GC-QEPAS. \\nThe module has been written to allow modifications and experimental data integrations in the last TTT.\")"
   ]
  },
  {
   "cell_type": "code",
   "execution_count": 8,
   "metadata": {},
   "outputs": [],
   "source": [
    "import pandas as pd\n",
    "import numpy as np\n",
    "import seaborn as sns\n",
    "from sklearn.svm import OneClassSVM\n",
    "from sklearn import svm\n",
    "import matplotlib.pyplot as plt\n",
    "import matplotlib.font_manager\n",
    "import matplotlib.pyplot as plt\n",
    "import plotly.express as px"
   ]
  },
  {
   "cell_type": "code",
   "execution_count": 9,
   "metadata": {},
   "outputs": [
    {
     "data": {
      "text/html": [
       "<div>\n",
       "<style scoped>\n",
       "    .dataframe tbody tr th:only-of-type {\n",
       "        vertical-align: middle;\n",
       "    }\n",
       "\n",
       "    .dataframe tbody tr th {\n",
       "        vertical-align: top;\n",
       "    }\n",
       "\n",
       "    .dataframe thead th {\n",
       "        text-align: right;\n",
       "    }\n",
       "</style>\n",
       "<table border=\"1\" class=\"dataframe\">\n",
       "  <thead>\n",
       "    <tr style=\"text-align: right;\">\n",
       "      <th></th>\n",
       "      <th>Class</th>\n",
       "      <th>0.52</th>\n",
       "      <th>0.54</th>\n",
       "      <th>0.56</th>\n",
       "      <th>0.58</th>\n",
       "      <th>0.6</th>\n",
       "      <th>0.62</th>\n",
       "      <th>0.64</th>\n",
       "      <th>0.66</th>\n",
       "      <th>0.68</th>\n",
       "      <th>...</th>\n",
       "      <th>13.68</th>\n",
       "      <th>13.7</th>\n",
       "      <th>13.72</th>\n",
       "      <th>13.74</th>\n",
       "      <th>13.76</th>\n",
       "      <th>13.78</th>\n",
       "      <th>13.8</th>\n",
       "      <th>13.82</th>\n",
       "      <th>13.84</th>\n",
       "      <th>13.86</th>\n",
       "    </tr>\n",
       "    <tr>\n",
       "      <th>Sample_id</th>\n",
       "      <th></th>\n",
       "      <th></th>\n",
       "      <th></th>\n",
       "      <th></th>\n",
       "      <th></th>\n",
       "      <th></th>\n",
       "      <th></th>\n",
       "      <th></th>\n",
       "      <th></th>\n",
       "      <th></th>\n",
       "      <th></th>\n",
       "      <th></th>\n",
       "      <th></th>\n",
       "      <th></th>\n",
       "      <th></th>\n",
       "      <th></th>\n",
       "      <th></th>\n",
       "      <th></th>\n",
       "      <th></th>\n",
       "      <th></th>\n",
       "      <th></th>\n",
       "    </tr>\n",
       "  </thead>\n",
       "  <tbody>\n",
       "    <tr>\n",
       "      <th>1</th>\n",
       "      <td>DMMP</td>\n",
       "      <td>0.022</td>\n",
       "      <td>0.022</td>\n",
       "      <td>0.019</td>\n",
       "      <td>0.016</td>\n",
       "      <td>0.021</td>\n",
       "      <td>0.019</td>\n",
       "      <td>0.020</td>\n",
       "      <td>0.018</td>\n",
       "      <td>0.019</td>\n",
       "      <td>...</td>\n",
       "      <td>0.022</td>\n",
       "      <td>0.019</td>\n",
       "      <td>0.025</td>\n",
       "      <td>0.024</td>\n",
       "      <td>0.023</td>\n",
       "      <td>0.025</td>\n",
       "      <td>0.023</td>\n",
       "      <td>0.023</td>\n",
       "      <td>0.024</td>\n",
       "      <td>-0.035</td>\n",
       "    </tr>\n",
       "    <tr>\n",
       "      <th>2</th>\n",
       "      <td>DMMP</td>\n",
       "      <td>0.020</td>\n",
       "      <td>0.019</td>\n",
       "      <td>0.018</td>\n",
       "      <td>0.017</td>\n",
       "      <td>0.018</td>\n",
       "      <td>0.020</td>\n",
       "      <td>0.022</td>\n",
       "      <td>0.023</td>\n",
       "      <td>0.021</td>\n",
       "      <td>...</td>\n",
       "      <td>0.021</td>\n",
       "      <td>0.022</td>\n",
       "      <td>0.022</td>\n",
       "      <td>0.021</td>\n",
       "      <td>0.018</td>\n",
       "      <td>0.024</td>\n",
       "      <td>0.022</td>\n",
       "      <td>0.020</td>\n",
       "      <td>0.021</td>\n",
       "      <td>-0.035</td>\n",
       "    </tr>\n",
       "    <tr>\n",
       "      <th>3</th>\n",
       "      <td>DMMP</td>\n",
       "      <td>0.016</td>\n",
       "      <td>0.022</td>\n",
       "      <td>0.021</td>\n",
       "      <td>0.020</td>\n",
       "      <td>0.020</td>\n",
       "      <td>0.020</td>\n",
       "      <td>0.020</td>\n",
       "      <td>0.018</td>\n",
       "      <td>0.018</td>\n",
       "      <td>...</td>\n",
       "      <td>0.020</td>\n",
       "      <td>0.022</td>\n",
       "      <td>0.023</td>\n",
       "      <td>0.024</td>\n",
       "      <td>0.023</td>\n",
       "      <td>0.019</td>\n",
       "      <td>0.018</td>\n",
       "      <td>0.021</td>\n",
       "      <td>0.019</td>\n",
       "      <td>-0.035</td>\n",
       "    </tr>\n",
       "    <tr>\n",
       "      <th>4</th>\n",
       "      <td>DMMP</td>\n",
       "      <td>0.015</td>\n",
       "      <td>0.020</td>\n",
       "      <td>0.020</td>\n",
       "      <td>0.024</td>\n",
       "      <td>0.021</td>\n",
       "      <td>0.022</td>\n",
       "      <td>0.021</td>\n",
       "      <td>0.023</td>\n",
       "      <td>0.023</td>\n",
       "      <td>...</td>\n",
       "      <td>0.024</td>\n",
       "      <td>0.025</td>\n",
       "      <td>0.025</td>\n",
       "      <td>0.023</td>\n",
       "      <td>0.022</td>\n",
       "      <td>0.025</td>\n",
       "      <td>0.022</td>\n",
       "      <td>0.019</td>\n",
       "      <td>0.022</td>\n",
       "      <td>-0.035</td>\n",
       "    </tr>\n",
       "    <tr>\n",
       "      <th>5</th>\n",
       "      <td>DMMP</td>\n",
       "      <td>0.016</td>\n",
       "      <td>0.015</td>\n",
       "      <td>0.020</td>\n",
       "      <td>0.020</td>\n",
       "      <td>0.018</td>\n",
       "      <td>0.018</td>\n",
       "      <td>0.018</td>\n",
       "      <td>0.024</td>\n",
       "      <td>0.024</td>\n",
       "      <td>...</td>\n",
       "      <td>0.021</td>\n",
       "      <td>0.020</td>\n",
       "      <td>0.018</td>\n",
       "      <td>0.024</td>\n",
       "      <td>0.026</td>\n",
       "      <td>0.027</td>\n",
       "      <td>0.023</td>\n",
       "      <td>0.025</td>\n",
       "      <td>0.020</td>\n",
       "      <td>-0.035</td>\n",
       "    </tr>\n",
       "  </tbody>\n",
       "</table>\n",
       "<p>5 rows × 669 columns</p>\n",
       "</div>"
      ],
      "text/plain": [
       "          Class   0.52   0.54   0.56   0.58    0.6   0.62   0.64   0.66  \\\n",
       "Sample_id                                                                 \n",
       "1          DMMP  0.022  0.022  0.019  0.016  0.021  0.019  0.020  0.018   \n",
       "2          DMMP  0.020  0.019  0.018  0.017  0.018  0.020  0.022  0.023   \n",
       "3          DMMP  0.016  0.022  0.021  0.020  0.020  0.020  0.020  0.018   \n",
       "4          DMMP  0.015  0.020  0.020  0.024  0.021  0.022  0.021  0.023   \n",
       "5          DMMP  0.016  0.015  0.020  0.020  0.018  0.018  0.018  0.024   \n",
       "\n",
       "            0.68  ...  13.68   13.7  13.72  13.74  13.76  13.78   13.8  13.82  \\\n",
       "Sample_id         ...                                                           \n",
       "1          0.019  ...  0.022  0.019  0.025  0.024  0.023  0.025  0.023  0.023   \n",
       "2          0.021  ...  0.021  0.022  0.022  0.021  0.018  0.024  0.022  0.020   \n",
       "3          0.018  ...  0.020  0.022  0.023  0.024  0.023  0.019  0.018  0.021   \n",
       "4          0.023  ...  0.024  0.025  0.025  0.023  0.022  0.025  0.022  0.019   \n",
       "5          0.024  ...  0.021  0.020  0.018  0.024  0.026  0.027  0.023  0.025   \n",
       "\n",
       "           13.84  13.86  \n",
       "Sample_id                \n",
       "1          0.024 -0.035  \n",
       "2          0.021 -0.035  \n",
       "3          0.019 -0.035  \n",
       "4          0.022 -0.035  \n",
       "5          0.020 -0.035  \n",
       "\n",
       "[5 rows x 669 columns]"
      ]
     },
     "execution_count": 9,
     "metadata": {},
     "output_type": "execute_result"
    }
   ],
   "source": [
    "#IMS data\n",
    "data_IMS = pd.read_excel(\"/Users/giorgiofelizzato/Desktop/RISEN project/data fusion/Moduli python data fusion-final version/DMMP.xlsx\", sheet_name='IMS', index_col=0, header=0)\n",
    "data_IMS.head()"
   ]
  },
  {
   "cell_type": "code",
   "execution_count": 10,
   "metadata": {},
   "outputs": [
    {
     "data": {
      "text/html": [
       "<div>\n",
       "<style scoped>\n",
       "    .dataframe tbody tr th:only-of-type {\n",
       "        vertical-align: middle;\n",
       "    }\n",
       "\n",
       "    .dataframe tbody tr th {\n",
       "        vertical-align: top;\n",
       "    }\n",
       "\n",
       "    .dataframe thead th {\n",
       "        text-align: right;\n",
       "    }\n",
       "</style>\n",
       "<table border=\"1\" class=\"dataframe\">\n",
       "  <thead>\n",
       "    <tr style=\"text-align: right;\">\n",
       "      <th></th>\n",
       "      <th>Class</th>\n",
       "      <th>RT</th>\n",
       "    </tr>\n",
       "    <tr>\n",
       "      <th>Sample_id</th>\n",
       "      <th></th>\n",
       "      <th></th>\n",
       "    </tr>\n",
       "  </thead>\n",
       "  <tbody>\n",
       "    <tr>\n",
       "      <th>1</th>\n",
       "      <td>DMMP</td>\n",
       "      <td>131.01</td>\n",
       "    </tr>\n",
       "    <tr>\n",
       "      <th>2</th>\n",
       "      <td>DMMP</td>\n",
       "      <td>130.94</td>\n",
       "    </tr>\n",
       "    <tr>\n",
       "      <th>3</th>\n",
       "      <td>DMMP</td>\n",
       "      <td>130.89</td>\n",
       "    </tr>\n",
       "    <tr>\n",
       "      <th>4</th>\n",
       "      <td>DMMP</td>\n",
       "      <td>130.93</td>\n",
       "    </tr>\n",
       "    <tr>\n",
       "      <th>5</th>\n",
       "      <td>DMMP</td>\n",
       "      <td>137.54</td>\n",
       "    </tr>\n",
       "  </tbody>\n",
       "</table>\n",
       "</div>"
      ],
      "text/plain": [
       "          Class      RT\n",
       "Sample_id              \n",
       "1          DMMP  131.01\n",
       "2          DMMP  130.94\n",
       "3          DMMP  130.89\n",
       "4          DMMP  130.93\n",
       "5          DMMP  137.54"
      ]
     },
     "execution_count": 10,
     "metadata": {},
     "output_type": "execute_result"
    }
   ],
   "source": [
    "#Gas chromatography data\n",
    "data_GC = pd.read_excel(\"/Users/giorgiofelizzato/Desktop/RISEN project/data fusion/Moduli python data fusion-final version/DMMP.xlsx\", sheet_name='GC', index_col=0, header=0)\n",
    "data_GC.head()"
   ]
  },
  {
   "cell_type": "code",
   "execution_count": 11,
   "metadata": {},
   "outputs": [
    {
     "data": {
      "text/html": [
       "<div>\n",
       "<style scoped>\n",
       "    .dataframe tbody tr th:only-of-type {\n",
       "        vertical-align: middle;\n",
       "    }\n",
       "\n",
       "    .dataframe tbody tr th {\n",
       "        vertical-align: top;\n",
       "    }\n",
       "\n",
       "    .dataframe thead th {\n",
       "        text-align: right;\n",
       "    }\n",
       "</style>\n",
       "<table border=\"1\" class=\"dataframe\">\n",
       "  <thead>\n",
       "    <tr style=\"text-align: right;\">\n",
       "      <th></th>\n",
       "      <th>Class</th>\n",
       "      <th>10</th>\n",
       "      <th>9.9804</th>\n",
       "      <th>9.9608</th>\n",
       "      <th>9.9413</th>\n",
       "      <th>9.9219</th>\n",
       "      <th>9.9025</th>\n",
       "      <th>9.8833</th>\n",
       "      <th>9.8641</th>\n",
       "      <th>9.845</th>\n",
       "      <th>...</th>\n",
       "      <th>8.115</th>\n",
       "      <th>8.1021</th>\n",
       "      <th>8.0892</th>\n",
       "      <th>8.0763</th>\n",
       "      <th>8.0635</th>\n",
       "      <th>8.0507</th>\n",
       "      <th>8.038</th>\n",
       "      <th>8.0253</th>\n",
       "      <th>8.0126</th>\n",
       "      <th>8</th>\n",
       "    </tr>\n",
       "    <tr>\n",
       "      <th>Sample_id</th>\n",
       "      <th></th>\n",
       "      <th></th>\n",
       "      <th></th>\n",
       "      <th></th>\n",
       "      <th></th>\n",
       "      <th></th>\n",
       "      <th></th>\n",
       "      <th></th>\n",
       "      <th></th>\n",
       "      <th></th>\n",
       "      <th></th>\n",
       "      <th></th>\n",
       "      <th></th>\n",
       "      <th></th>\n",
       "      <th></th>\n",
       "      <th></th>\n",
       "      <th></th>\n",
       "      <th></th>\n",
       "      <th></th>\n",
       "      <th></th>\n",
       "      <th></th>\n",
       "    </tr>\n",
       "  </thead>\n",
       "  <tbody>\n",
       "    <tr>\n",
       "      <th>1</th>\n",
       "      <td>DMMP</td>\n",
       "      <td>8.1717</td>\n",
       "      <td>37.1438</td>\n",
       "      <td>66.8731</td>\n",
       "      <td>90.8546</td>\n",
       "      <td>113.0400</td>\n",
       "      <td>139.4977</td>\n",
       "      <td>173.2324</td>\n",
       "      <td>208.6131</td>\n",
       "      <td>255.5320</td>\n",
       "      <td>...</td>\n",
       "      <td>200.7267</td>\n",
       "      <td>184.5932</td>\n",
       "      <td>177.5523</td>\n",
       "      <td>178.7678</td>\n",
       "      <td>173.6169</td>\n",
       "      <td>174.8573</td>\n",
       "      <td>182.8558</td>\n",
       "      <td>197.8315</td>\n",
       "      <td>223.3692</td>\n",
       "      <td>271.9961</td>\n",
       "    </tr>\n",
       "    <tr>\n",
       "      <th>2</th>\n",
       "      <td>DMMP</td>\n",
       "      <td>9.2612</td>\n",
       "      <td>51.1400</td>\n",
       "      <td>90.7564</td>\n",
       "      <td>128.8867</td>\n",
       "      <td>162.6930</td>\n",
       "      <td>191.4779</td>\n",
       "      <td>233.6499</td>\n",
       "      <td>281.9241</td>\n",
       "      <td>336.9116</td>\n",
       "      <td>...</td>\n",
       "      <td>303.7412</td>\n",
       "      <td>292.3957</td>\n",
       "      <td>279.7354</td>\n",
       "      <td>266.3711</td>\n",
       "      <td>263.9257</td>\n",
       "      <td>268.4817</td>\n",
       "      <td>281.3166</td>\n",
       "      <td>301.9533</td>\n",
       "      <td>335.3702</td>\n",
       "      <td>389.2788</td>\n",
       "    </tr>\n",
       "    <tr>\n",
       "      <th>3</th>\n",
       "      <td>DMMP</td>\n",
       "      <td>20.1568</td>\n",
       "      <td>100.1268</td>\n",
       "      <td>173.5516</td>\n",
       "      <td>236.6444</td>\n",
       "      <td>295.2773</td>\n",
       "      <td>353.2528</td>\n",
       "      <td>413.2983</td>\n",
       "      <td>481.9123</td>\n",
       "      <td>571.2848</td>\n",
       "      <td>...</td>\n",
       "      <td>591.5758</td>\n",
       "      <td>566.3320</td>\n",
       "      <td>549.3250</td>\n",
       "      <td>544.1378</td>\n",
       "      <td>550.9537</td>\n",
       "      <td>570.6957</td>\n",
       "      <td>589.4253</td>\n",
       "      <td>626.0325</td>\n",
       "      <td>690.9891</td>\n",
       "      <td>793.5299</td>\n",
       "    </tr>\n",
       "    <tr>\n",
       "      <th>4</th>\n",
       "      <td>DMMP</td>\n",
       "      <td>1.6343</td>\n",
       "      <td>23.1476</td>\n",
       "      <td>38.2132</td>\n",
       "      <td>55.9918</td>\n",
       "      <td>66.5562</td>\n",
       "      <td>83.8047</td>\n",
       "      <td>103.7256</td>\n",
       "      <td>129.3724</td>\n",
       "      <td>162.7592</td>\n",
       "      <td>...</td>\n",
       "      <td>187.0925</td>\n",
       "      <td>172.7793</td>\n",
       "      <td>159.4347</td>\n",
       "      <td>151.7033</td>\n",
       "      <td>155.4152</td>\n",
       "      <td>159.0238</td>\n",
       "      <td>169.4598</td>\n",
       "      <td>188.7208</td>\n",
       "      <td>218.9398</td>\n",
       "      <td>263.2623</td>\n",
       "    </tr>\n",
       "    <tr>\n",
       "      <th>5</th>\n",
       "      <td>DMMP</td>\n",
       "      <td>9.8060</td>\n",
       "      <td>29.0691</td>\n",
       "      <td>39.8054</td>\n",
       "      <td>52.8224</td>\n",
       "      <td>61.2740</td>\n",
       "      <td>66.8316</td>\n",
       "      <td>74.3188</td>\n",
       "      <td>90.0217</td>\n",
       "      <td>113.3889</td>\n",
       "      <td>...</td>\n",
       "      <td>143.1598</td>\n",
       "      <td>119.6164</td>\n",
       "      <td>109.4302</td>\n",
       "      <td>101.1356</td>\n",
       "      <td>89.6087</td>\n",
       "      <td>85.3634</td>\n",
       "      <td>83.0554</td>\n",
       "      <td>81.3452</td>\n",
       "      <td>93.6505</td>\n",
       "      <td>123.5212</td>\n",
       "    </tr>\n",
       "  </tbody>\n",
       "</table>\n",
       "<p>5 rows × 129 columns</p>\n",
       "</div>"
      ],
      "text/plain": [
       "          Class       10    9.9804    9.9608    9.9413    9.9219    9.9025  \\\n",
       "Sample_id                                                                    \n",
       "1          DMMP   8.1717   37.1438   66.8731   90.8546  113.0400  139.4977   \n",
       "2          DMMP   9.2612   51.1400   90.7564  128.8867  162.6930  191.4779   \n",
       "3          DMMP  20.1568  100.1268  173.5516  236.6444  295.2773  353.2528   \n",
       "4          DMMP   1.6343   23.1476   38.2132   55.9918   66.5562   83.8047   \n",
       "5          DMMP   9.8060   29.0691   39.8054   52.8224   61.2740   66.8316   \n",
       "\n",
       "             9.8833    9.8641     9.845  ...     8.115    8.1021    8.0892  \\\n",
       "Sample_id                                ...                                 \n",
       "1          173.2324  208.6131  255.5320  ...  200.7267  184.5932  177.5523   \n",
       "2          233.6499  281.9241  336.9116  ...  303.7412  292.3957  279.7354   \n",
       "3          413.2983  481.9123  571.2848  ...  591.5758  566.3320  549.3250   \n",
       "4          103.7256  129.3724  162.7592  ...  187.0925  172.7793  159.4347   \n",
       "5           74.3188   90.0217  113.3889  ...  143.1598  119.6164  109.4302   \n",
       "\n",
       "             8.0763    8.0635    8.0507     8.038    8.0253    8.0126  \\\n",
       "Sample_id                                                               \n",
       "1          178.7678  173.6169  174.8573  182.8558  197.8315  223.3692   \n",
       "2          266.3711  263.9257  268.4817  281.3166  301.9533  335.3702   \n",
       "3          544.1378  550.9537  570.6957  589.4253  626.0325  690.9891   \n",
       "4          151.7033  155.4152  159.0238  169.4598  188.7208  218.9398   \n",
       "5          101.1356   89.6087   85.3634   83.0554   81.3452   93.6505   \n",
       "\n",
       "                  8  \n",
       "Sample_id            \n",
       "1          271.9961  \n",
       "2          389.2788  \n",
       "3          793.5299  \n",
       "4          263.2623  \n",
       "5          123.5212  \n",
       "\n",
       "[5 rows x 129 columns]"
      ]
     },
     "execution_count": 11,
     "metadata": {},
     "output_type": "execute_result"
    }
   ],
   "source": [
    "#QEPAS (IR spectra) data\n",
    "data_QEPAS = pd.read_excel(\"/Users/giorgiofelizzato/Desktop/RISEN project/data fusion/Moduli python data fusion-final version/DMMP.xlsx\", sheet_name='QEPAS', index_col=0, header=0)\n",
    "data_QEPAS.head()"
   ]
  },
  {
   "cell_type": "code",
   "execution_count": 12,
   "metadata": {},
   "outputs": [],
   "source": [
    "X_IMS = data_IMS.iloc[:14,1:]"
   ]
  },
  {
   "cell_type": "code",
   "execution_count": 13,
   "metadata": {},
   "outputs": [],
   "source": [
    "X_GC = data_GC.iloc[:14,1:]"
   ]
  },
  {
   "cell_type": "code",
   "execution_count": 14,
   "metadata": {},
   "outputs": [],
   "source": [
    "X_GC_array = X_GC.values"
   ]
  },
  {
   "cell_type": "code",
   "execution_count": 15,
   "metadata": {},
   "outputs": [],
   "source": [
    "X_QEPAS = data_QEPAS.iloc[:14,1:]"
   ]
  },
  {
   "cell_type": "code",
   "execution_count": 16,
   "metadata": {},
   "outputs": [],
   "source": [
    "#pre-processing for IMS data\n",
    "def snv_IMS(X_IMS, mean_IMS=None, std_dev_IMS=None):\n",
    "    if mean_IMS is None:\n",
    "        mean_IMS = np.mean(X_IMS, axis=1, keepdims=True)\n",
    "    if std_dev_IMS is None:\n",
    "        std_dev_IMS = np.std(X_IMS, axis=1, keepdims=True)\n",
    "\n",
    "    # Apply correction\n",
    "    output_data_IMS = (X_IMS - mean_IMS) / std_dev_IMS\n",
    "\n",
    "    return output_data_IMS"
   ]
  },
  {
   "cell_type": "code",
   "execution_count": 17,
   "metadata": {},
   "outputs": [],
   "source": [
    "#Pre-processing for QEPAS (IR spectra)\n",
    "def snv_QEPAS(X_QEPAS, mean_QEPAS=None, std_dev_QEPAS=None):\n",
    "    if mean_QEPAS is None:\n",
    "        mean_QEPAS = np.mean(X_QEPAS, axis=1, keepdims=True)\n",
    "    if std_dev_QEPAS is None:\n",
    "        std_dev_QEPAS = np.std(X_QEPAS, axis=1, keepdims=True)\n",
    "\n",
    "    # Apply correction\n",
    "    output_data_QEPAS = (X_QEPAS - mean_QEPAS) / std_dev_QEPAS\n",
    "\n",
    "    return output_data_QEPAS"
   ]
  },
  {
   "cell_type": "code",
   "execution_count": 18,
   "metadata": {},
   "outputs": [],
   "source": [
    "# Compute the SNV on IMS raw data\n",
    "X_snv_IMS = snv_IMS(X_IMS.values)"
   ]
  },
  {
   "cell_type": "code",
   "execution_count": 19,
   "metadata": {},
   "outputs": [],
   "source": [
    "# Compute the SNV on IMS raw data\n",
    "X_snv_QEPAS = snv_QEPAS(X_QEPAS.values)"
   ]
  },
  {
   "cell_type": "code",
   "execution_count": 20,
   "metadata": {},
   "outputs": [],
   "source": [
    "# Create a new DataFrame with the processed IMS nplasmagrams\n",
    "dataframe_snv_IMS = pd.DataFrame(X_snv_IMS, columns=data_IMS.columns[1:])"
   ]
  },
  {
   "cell_type": "code",
   "execution_count": 21,
   "metadata": {},
   "outputs": [],
   "source": [
    "# Create a new DataFrame with the processed QEPAS spectra\n",
    "dataframe_snv_QEPAS = pd.DataFrame(X_snv_QEPAS, columns=data_QEPAS.columns[1:])"
   ]
  },
  {
   "cell_type": "code",
   "execution_count": 22,
   "metadata": {},
   "outputs": [],
   "source": [
    "# Create a new DataFrame with the processed RTs\n",
    "dataframe_RT = pd.DataFrame(X_GC_array, columns=data_GC.columns[1:])"
   ]
  },
  {
   "cell_type": "code",
   "execution_count": 23,
   "metadata": {},
   "outputs": [
    {
     "data": {
      "text/html": [
       "<div>\n",
       "<style scoped>\n",
       "    .dataframe tbody tr th:only-of-type {\n",
       "        vertical-align: middle;\n",
       "    }\n",
       "\n",
       "    .dataframe tbody tr th {\n",
       "        vertical-align: top;\n",
       "    }\n",
       "\n",
       "    .dataframe thead th {\n",
       "        text-align: right;\n",
       "    }\n",
       "</style>\n",
       "<table border=\"1\" class=\"dataframe\">\n",
       "  <thead>\n",
       "    <tr style=\"text-align: right;\">\n",
       "      <th></th>\n",
       "      <th>0.52</th>\n",
       "      <th>0.54</th>\n",
       "      <th>0.56</th>\n",
       "      <th>0.58</th>\n",
       "      <th>0.6</th>\n",
       "      <th>0.62</th>\n",
       "      <th>0.64</th>\n",
       "      <th>0.66</th>\n",
       "      <th>0.68</th>\n",
       "      <th>0.7</th>\n",
       "      <th>...</th>\n",
       "      <th>8.1021</th>\n",
       "      <th>8.0892</th>\n",
       "      <th>8.0763</th>\n",
       "      <th>8.0635</th>\n",
       "      <th>8.0507</th>\n",
       "      <th>8.038</th>\n",
       "      <th>8.0253</th>\n",
       "      <th>8.0126</th>\n",
       "      <th>8</th>\n",
       "      <th>RT</th>\n",
       "    </tr>\n",
       "  </thead>\n",
       "  <tbody>\n",
       "    <tr>\n",
       "      <th>0</th>\n",
       "      <td>-0.205934</td>\n",
       "      <td>-0.205934</td>\n",
       "      <td>-0.207721</td>\n",
       "      <td>-0.209509</td>\n",
       "      <td>-0.206529</td>\n",
       "      <td>-0.207721</td>\n",
       "      <td>-0.207125</td>\n",
       "      <td>-0.208317</td>\n",
       "      <td>-0.207721</td>\n",
       "      <td>-0.208317</td>\n",
       "      <td>...</td>\n",
       "      <td>-0.670570</td>\n",
       "      <td>-0.672643</td>\n",
       "      <td>-0.672285</td>\n",
       "      <td>-0.673801</td>\n",
       "      <td>-0.673436</td>\n",
       "      <td>-0.671081</td>\n",
       "      <td>-0.666672</td>\n",
       "      <td>-0.659154</td>\n",
       "      <td>-0.644838</td>\n",
       "      <td>131.01</td>\n",
       "    </tr>\n",
       "    <tr>\n",
       "      <th>1</th>\n",
       "      <td>-0.206026</td>\n",
       "      <td>-0.206638</td>\n",
       "      <td>-0.207250</td>\n",
       "      <td>-0.207862</td>\n",
       "      <td>-0.207250</td>\n",
       "      <td>-0.206026</td>\n",
       "      <td>-0.204801</td>\n",
       "      <td>-0.204189</td>\n",
       "      <td>-0.205413</td>\n",
       "      <td>-0.206026</td>\n",
       "      <td>...</td>\n",
       "      <td>-0.663351</td>\n",
       "      <td>-0.666539</td>\n",
       "      <td>-0.669904</td>\n",
       "      <td>-0.670520</td>\n",
       "      <td>-0.669373</td>\n",
       "      <td>-0.666141</td>\n",
       "      <td>-0.660944</td>\n",
       "      <td>-0.652529</td>\n",
       "      <td>-0.638954</td>\n",
       "      <td>130.94</td>\n",
       "    </tr>\n",
       "    <tr>\n",
       "      <th>2</th>\n",
       "      <td>-0.214844</td>\n",
       "      <td>-0.211158</td>\n",
       "      <td>-0.211772</td>\n",
       "      <td>-0.212387</td>\n",
       "      <td>-0.212387</td>\n",
       "      <td>-0.212387</td>\n",
       "      <td>-0.212387</td>\n",
       "      <td>-0.213616</td>\n",
       "      <td>-0.213616</td>\n",
       "      <td>-0.213616</td>\n",
       "      <td>...</td>\n",
       "      <td>-0.691581</td>\n",
       "      <td>-0.694673</td>\n",
       "      <td>-0.695616</td>\n",
       "      <td>-0.694377</td>\n",
       "      <td>-0.690788</td>\n",
       "      <td>-0.687382</td>\n",
       "      <td>-0.680727</td>\n",
       "      <td>-0.668917</td>\n",
       "      <td>-0.650275</td>\n",
       "      <td>130.89</td>\n",
       "    </tr>\n",
       "    <tr>\n",
       "      <th>3</th>\n",
       "      <td>-0.172786</td>\n",
       "      <td>-0.172783</td>\n",
       "      <td>-0.172783</td>\n",
       "      <td>-0.172781</td>\n",
       "      <td>-0.172783</td>\n",
       "      <td>-0.172782</td>\n",
       "      <td>-0.172783</td>\n",
       "      <td>-0.172781</td>\n",
       "      <td>-0.172781</td>\n",
       "      <td>-0.172782</td>\n",
       "      <td>...</td>\n",
       "      <td>-0.668750</td>\n",
       "      <td>-0.673325</td>\n",
       "      <td>-0.675975</td>\n",
       "      <td>-0.674702</td>\n",
       "      <td>-0.673465</td>\n",
       "      <td>-0.669888</td>\n",
       "      <td>-0.663286</td>\n",
       "      <td>-0.652928</td>\n",
       "      <td>-0.637736</td>\n",
       "      <td>130.93</td>\n",
       "    </tr>\n",
       "    <tr>\n",
       "      <th>4</th>\n",
       "      <td>-0.248999</td>\n",
       "      <td>-0.249728</td>\n",
       "      <td>-0.246084</td>\n",
       "      <td>-0.246084</td>\n",
       "      <td>-0.247541</td>\n",
       "      <td>-0.247541</td>\n",
       "      <td>-0.247541</td>\n",
       "      <td>-0.243168</td>\n",
       "      <td>-0.243168</td>\n",
       "      <td>-0.244626</td>\n",
       "      <td>...</td>\n",
       "      <td>-0.664968</td>\n",
       "      <td>-0.669049</td>\n",
       "      <td>-0.672372</td>\n",
       "      <td>-0.676991</td>\n",
       "      <td>-0.678692</td>\n",
       "      <td>-0.679617</td>\n",
       "      <td>-0.680302</td>\n",
       "      <td>-0.675371</td>\n",
       "      <td>-0.663403</td>\n",
       "      <td>137.54</td>\n",
       "    </tr>\n",
       "    <tr>\n",
       "      <th>5</th>\n",
       "      <td>-0.249097</td>\n",
       "      <td>-0.244665</td>\n",
       "      <td>-0.250575</td>\n",
       "      <td>-0.247620</td>\n",
       "      <td>-0.248359</td>\n",
       "      <td>-0.249097</td>\n",
       "      <td>-0.248359</td>\n",
       "      <td>-0.246142</td>\n",
       "      <td>-0.247620</td>\n",
       "      <td>-0.249836</td>\n",
       "      <td>...</td>\n",
       "      <td>-0.647119</td>\n",
       "      <td>-0.651542</td>\n",
       "      <td>-0.654994</td>\n",
       "      <td>-0.655632</td>\n",
       "      <td>-0.654918</td>\n",
       "      <td>-0.653780</td>\n",
       "      <td>-0.650074</td>\n",
       "      <td>-0.645702</td>\n",
       "      <td>-0.636920</td>\n",
       "      <td>142.06</td>\n",
       "    </tr>\n",
       "    <tr>\n",
       "      <th>6</th>\n",
       "      <td>-0.256143</td>\n",
       "      <td>-0.254009</td>\n",
       "      <td>-0.254720</td>\n",
       "      <td>-0.254009</td>\n",
       "      <td>-0.254009</td>\n",
       "      <td>-0.253298</td>\n",
       "      <td>-0.256143</td>\n",
       "      <td>-0.254009</td>\n",
       "      <td>-0.254009</td>\n",
       "      <td>-0.253298</td>\n",
       "      <td>...</td>\n",
       "      <td>-0.638446</td>\n",
       "      <td>-0.641737</td>\n",
       "      <td>-0.645113</td>\n",
       "      <td>-0.649066</td>\n",
       "      <td>-0.651305</td>\n",
       "      <td>-0.653048</td>\n",
       "      <td>-0.652612</td>\n",
       "      <td>-0.647226</td>\n",
       "      <td>-0.638426</td>\n",
       "      <td>142.01</td>\n",
       "    </tr>\n",
       "    <tr>\n",
       "      <th>7</th>\n",
       "      <td>-0.249715</td>\n",
       "      <td>-0.251820</td>\n",
       "      <td>-0.251118</td>\n",
       "      <td>-0.250417</td>\n",
       "      <td>-0.251820</td>\n",
       "      <td>-0.249715</td>\n",
       "      <td>-0.251118</td>\n",
       "      <td>-0.251820</td>\n",
       "      <td>-0.252521</td>\n",
       "      <td>-0.254625</td>\n",
       "      <td>...</td>\n",
       "      <td>-0.654926</td>\n",
       "      <td>-0.657117</td>\n",
       "      <td>-0.658172</td>\n",
       "      <td>-0.658697</td>\n",
       "      <td>-0.658543</td>\n",
       "      <td>-0.658513</td>\n",
       "      <td>-0.655317</td>\n",
       "      <td>-0.650340</td>\n",
       "      <td>-0.641517</td>\n",
       "      <td>141.95</td>\n",
       "    </tr>\n",
       "    <tr>\n",
       "      <th>8</th>\n",
       "      <td>-0.279630</td>\n",
       "      <td>-0.278759</td>\n",
       "      <td>-0.278759</td>\n",
       "      <td>-0.279630</td>\n",
       "      <td>-0.279630</td>\n",
       "      <td>-0.282246</td>\n",
       "      <td>-0.282246</td>\n",
       "      <td>-0.281374</td>\n",
       "      <td>-0.279630</td>\n",
       "      <td>-0.277887</td>\n",
       "      <td>...</td>\n",
       "      <td>-0.635748</td>\n",
       "      <td>-0.637972</td>\n",
       "      <td>-0.639850</td>\n",
       "      <td>-0.641142</td>\n",
       "      <td>-0.641364</td>\n",
       "      <td>-0.640052</td>\n",
       "      <td>-0.636626</td>\n",
       "      <td>-0.632680</td>\n",
       "      <td>-0.625556</td>\n",
       "      <td>143.25</td>\n",
       "    </tr>\n",
       "    <tr>\n",
       "      <th>9</th>\n",
       "      <td>-0.275543</td>\n",
       "      <td>-0.280705</td>\n",
       "      <td>-0.276403</td>\n",
       "      <td>-0.279845</td>\n",
       "      <td>-0.278124</td>\n",
       "      <td>-0.274682</td>\n",
       "      <td>-0.276403</td>\n",
       "      <td>-0.276403</td>\n",
       "      <td>-0.272101</td>\n",
       "      <td>-0.279845</td>\n",
       "      <td>...</td>\n",
       "      <td>-0.649434</td>\n",
       "      <td>-0.651285</td>\n",
       "      <td>-0.651774</td>\n",
       "      <td>-0.653705</td>\n",
       "      <td>-0.653524</td>\n",
       "      <td>-0.652641</td>\n",
       "      <td>-0.650705</td>\n",
       "      <td>-0.645871</td>\n",
       "      <td>-0.640237</td>\n",
       "      <td>142.59</td>\n",
       "    </tr>\n",
       "    <tr>\n",
       "      <th>10</th>\n",
       "      <td>-0.283424</td>\n",
       "      <td>-0.285064</td>\n",
       "      <td>-0.286703</td>\n",
       "      <td>-0.284244</td>\n",
       "      <td>-0.284244</td>\n",
       "      <td>-0.284244</td>\n",
       "      <td>-0.281785</td>\n",
       "      <td>-0.283424</td>\n",
       "      <td>-0.280965</td>\n",
       "      <td>-0.281785</td>\n",
       "      <td>...</td>\n",
       "      <td>-0.642775</td>\n",
       "      <td>-0.642249</td>\n",
       "      <td>-0.640517</td>\n",
       "      <td>-0.640753</td>\n",
       "      <td>-0.640979</td>\n",
       "      <td>-0.637463</td>\n",
       "      <td>-0.633954</td>\n",
       "      <td>-0.628916</td>\n",
       "      <td>-0.621415</td>\n",
       "      <td>142.42</td>\n",
       "    </tr>\n",
       "    <tr>\n",
       "      <th>11</th>\n",
       "      <td>-0.282564</td>\n",
       "      <td>-0.278546</td>\n",
       "      <td>-0.276938</td>\n",
       "      <td>-0.278546</td>\n",
       "      <td>-0.276938</td>\n",
       "      <td>-0.276938</td>\n",
       "      <td>-0.273724</td>\n",
       "      <td>-0.276135</td>\n",
       "      <td>-0.276135</td>\n",
       "      <td>-0.278546</td>\n",
       "      <td>...</td>\n",
       "      <td>-0.565059</td>\n",
       "      <td>-0.568333</td>\n",
       "      <td>-0.568946</td>\n",
       "      <td>-0.566185</td>\n",
       "      <td>-0.568462</td>\n",
       "      <td>-0.576902</td>\n",
       "      <td>-0.580158</td>\n",
       "      <td>-0.581720</td>\n",
       "      <td>-0.574615</td>\n",
       "      <td>142.29</td>\n",
       "    </tr>\n",
       "    <tr>\n",
       "      <th>12</th>\n",
       "      <td>-0.307010</td>\n",
       "      <td>-0.310386</td>\n",
       "      <td>-0.312636</td>\n",
       "      <td>-0.314886</td>\n",
       "      <td>-0.317136</td>\n",
       "      <td>-0.313761</td>\n",
       "      <td>-0.313761</td>\n",
       "      <td>-0.312636</td>\n",
       "      <td>-0.311511</td>\n",
       "      <td>-0.317136</td>\n",
       "      <td>...</td>\n",
       "      <td>-0.626182</td>\n",
       "      <td>-0.630674</td>\n",
       "      <td>-0.631579</td>\n",
       "      <td>-0.635259</td>\n",
       "      <td>-0.635231</td>\n",
       "      <td>-0.633577</td>\n",
       "      <td>-0.630970</td>\n",
       "      <td>-0.627239</td>\n",
       "      <td>-0.622580</td>\n",
       "      <td>143.48</td>\n",
       "    </tr>\n",
       "    <tr>\n",
       "      <th>13</th>\n",
       "      <td>-0.314130</td>\n",
       "      <td>-0.314130</td>\n",
       "      <td>-0.314130</td>\n",
       "      <td>-0.308518</td>\n",
       "      <td>-0.317497</td>\n",
       "      <td>-0.318619</td>\n",
       "      <td>-0.316375</td>\n",
       "      <td>-0.310763</td>\n",
       "      <td>-0.315252</td>\n",
       "      <td>-0.313008</td>\n",
       "      <td>...</td>\n",
       "      <td>-0.635066</td>\n",
       "      <td>-0.636487</td>\n",
       "      <td>-0.638701</td>\n",
       "      <td>-0.637888</td>\n",
       "      <td>-0.638345</td>\n",
       "      <td>-0.638132</td>\n",
       "      <td>-0.634237</td>\n",
       "      <td>-0.631319</td>\n",
       "      <td>-0.623352</td>\n",
       "      <td>142.68</td>\n",
       "    </tr>\n",
       "  </tbody>\n",
       "</table>\n",
       "<p>14 rows × 797 columns</p>\n",
       "</div>"
      ],
      "text/plain": [
       "        0.52      0.54      0.56      0.58       0.6      0.62      0.64  \\\n",
       "0  -0.205934 -0.205934 -0.207721 -0.209509 -0.206529 -0.207721 -0.207125   \n",
       "1  -0.206026 -0.206638 -0.207250 -0.207862 -0.207250 -0.206026 -0.204801   \n",
       "2  -0.214844 -0.211158 -0.211772 -0.212387 -0.212387 -0.212387 -0.212387   \n",
       "3  -0.172786 -0.172783 -0.172783 -0.172781 -0.172783 -0.172782 -0.172783   \n",
       "4  -0.248999 -0.249728 -0.246084 -0.246084 -0.247541 -0.247541 -0.247541   \n",
       "5  -0.249097 -0.244665 -0.250575 -0.247620 -0.248359 -0.249097 -0.248359   \n",
       "6  -0.256143 -0.254009 -0.254720 -0.254009 -0.254009 -0.253298 -0.256143   \n",
       "7  -0.249715 -0.251820 -0.251118 -0.250417 -0.251820 -0.249715 -0.251118   \n",
       "8  -0.279630 -0.278759 -0.278759 -0.279630 -0.279630 -0.282246 -0.282246   \n",
       "9  -0.275543 -0.280705 -0.276403 -0.279845 -0.278124 -0.274682 -0.276403   \n",
       "10 -0.283424 -0.285064 -0.286703 -0.284244 -0.284244 -0.284244 -0.281785   \n",
       "11 -0.282564 -0.278546 -0.276938 -0.278546 -0.276938 -0.276938 -0.273724   \n",
       "12 -0.307010 -0.310386 -0.312636 -0.314886 -0.317136 -0.313761 -0.313761   \n",
       "13 -0.314130 -0.314130 -0.314130 -0.308518 -0.317497 -0.318619 -0.316375   \n",
       "\n",
       "        0.66      0.68       0.7  ...    8.1021    8.0892    8.0763    8.0635  \\\n",
       "0  -0.208317 -0.207721 -0.208317  ... -0.670570 -0.672643 -0.672285 -0.673801   \n",
       "1  -0.204189 -0.205413 -0.206026  ... -0.663351 -0.666539 -0.669904 -0.670520   \n",
       "2  -0.213616 -0.213616 -0.213616  ... -0.691581 -0.694673 -0.695616 -0.694377   \n",
       "3  -0.172781 -0.172781 -0.172782  ... -0.668750 -0.673325 -0.675975 -0.674702   \n",
       "4  -0.243168 -0.243168 -0.244626  ... -0.664968 -0.669049 -0.672372 -0.676991   \n",
       "5  -0.246142 -0.247620 -0.249836  ... -0.647119 -0.651542 -0.654994 -0.655632   \n",
       "6  -0.254009 -0.254009 -0.253298  ... -0.638446 -0.641737 -0.645113 -0.649066   \n",
       "7  -0.251820 -0.252521 -0.254625  ... -0.654926 -0.657117 -0.658172 -0.658697   \n",
       "8  -0.281374 -0.279630 -0.277887  ... -0.635748 -0.637972 -0.639850 -0.641142   \n",
       "9  -0.276403 -0.272101 -0.279845  ... -0.649434 -0.651285 -0.651774 -0.653705   \n",
       "10 -0.283424 -0.280965 -0.281785  ... -0.642775 -0.642249 -0.640517 -0.640753   \n",
       "11 -0.276135 -0.276135 -0.278546  ... -0.565059 -0.568333 -0.568946 -0.566185   \n",
       "12 -0.312636 -0.311511 -0.317136  ... -0.626182 -0.630674 -0.631579 -0.635259   \n",
       "13 -0.310763 -0.315252 -0.313008  ... -0.635066 -0.636487 -0.638701 -0.637888   \n",
       "\n",
       "      8.0507     8.038    8.0253    8.0126         8      RT  \n",
       "0  -0.673436 -0.671081 -0.666672 -0.659154 -0.644838  131.01  \n",
       "1  -0.669373 -0.666141 -0.660944 -0.652529 -0.638954  130.94  \n",
       "2  -0.690788 -0.687382 -0.680727 -0.668917 -0.650275  130.89  \n",
       "3  -0.673465 -0.669888 -0.663286 -0.652928 -0.637736  130.93  \n",
       "4  -0.678692 -0.679617 -0.680302 -0.675371 -0.663403  137.54  \n",
       "5  -0.654918 -0.653780 -0.650074 -0.645702 -0.636920  142.06  \n",
       "6  -0.651305 -0.653048 -0.652612 -0.647226 -0.638426  142.01  \n",
       "7  -0.658543 -0.658513 -0.655317 -0.650340 -0.641517  141.95  \n",
       "8  -0.641364 -0.640052 -0.636626 -0.632680 -0.625556  143.25  \n",
       "9  -0.653524 -0.652641 -0.650705 -0.645871 -0.640237  142.59  \n",
       "10 -0.640979 -0.637463 -0.633954 -0.628916 -0.621415  142.42  \n",
       "11 -0.568462 -0.576902 -0.580158 -0.581720 -0.574615  142.29  \n",
       "12 -0.635231 -0.633577 -0.630970 -0.627239 -0.622580  143.48  \n",
       "13 -0.638345 -0.638132 -0.634237 -0.631319 -0.623352  142.68  \n",
       "\n",
       "[14 rows x 797 columns]"
      ]
     },
     "execution_count": 23,
     "metadata": {},
     "output_type": "execute_result"
    }
   ],
   "source": [
    "# X training set\n",
    "X_train = pd.concat([dataframe_snv_IMS, dataframe_snv_QEPAS, dataframe_RT], axis = 1)\n",
    "X_train"
   ]
  },
  {
   "cell_type": "code",
   "execution_count": 24,
   "metadata": {},
   "outputs": [],
   "source": [
    "X_train.columns = X_train.columns.astype(str)"
   ]
  },
  {
   "cell_type": "code",
   "execution_count": 25,
   "metadata": {},
   "outputs": [
    {
     "data": {
      "text/html": [
       "<style>#sk-container-id-1 {\n",
       "  /* Definition of color scheme common for light and dark mode */\n",
       "  --sklearn-color-text: black;\n",
       "  --sklearn-color-line: gray;\n",
       "  /* Definition of color scheme for unfitted estimators */\n",
       "  --sklearn-color-unfitted-level-0: #fff5e6;\n",
       "  --sklearn-color-unfitted-level-1: #f6e4d2;\n",
       "  --sklearn-color-unfitted-level-2: #ffe0b3;\n",
       "  --sklearn-color-unfitted-level-3: chocolate;\n",
       "  /* Definition of color scheme for fitted estimators */\n",
       "  --sklearn-color-fitted-level-0: #f0f8ff;\n",
       "  --sklearn-color-fitted-level-1: #d4ebff;\n",
       "  --sklearn-color-fitted-level-2: #b3dbfd;\n",
       "  --sklearn-color-fitted-level-3: cornflowerblue;\n",
       "\n",
       "  /* Specific color for light theme */\n",
       "  --sklearn-color-text-on-default-background: var(--sg-text-color, var(--theme-code-foreground, var(--jp-content-font-color1, black)));\n",
       "  --sklearn-color-background: var(--sg-background-color, var(--theme-background, var(--jp-layout-color0, white)));\n",
       "  --sklearn-color-border-box: var(--sg-text-color, var(--theme-code-foreground, var(--jp-content-font-color1, black)));\n",
       "  --sklearn-color-icon: #696969;\n",
       "\n",
       "  @media (prefers-color-scheme: dark) {\n",
       "    /* Redefinition of color scheme for dark theme */\n",
       "    --sklearn-color-text-on-default-background: var(--sg-text-color, var(--theme-code-foreground, var(--jp-content-font-color1, white)));\n",
       "    --sklearn-color-background: var(--sg-background-color, var(--theme-background, var(--jp-layout-color0, #111)));\n",
       "    --sklearn-color-border-box: var(--sg-text-color, var(--theme-code-foreground, var(--jp-content-font-color1, white)));\n",
       "    --sklearn-color-icon: #878787;\n",
       "  }\n",
       "}\n",
       "\n",
       "#sk-container-id-1 {\n",
       "  color: var(--sklearn-color-text);\n",
       "}\n",
       "\n",
       "#sk-container-id-1 pre {\n",
       "  padding: 0;\n",
       "}\n",
       "\n",
       "#sk-container-id-1 input.sk-hidden--visually {\n",
       "  border: 0;\n",
       "  clip: rect(1px 1px 1px 1px);\n",
       "  clip: rect(1px, 1px, 1px, 1px);\n",
       "  height: 1px;\n",
       "  margin: -1px;\n",
       "  overflow: hidden;\n",
       "  padding: 0;\n",
       "  position: absolute;\n",
       "  width: 1px;\n",
       "}\n",
       "\n",
       "#sk-container-id-1 div.sk-dashed-wrapped {\n",
       "  border: 1px dashed var(--sklearn-color-line);\n",
       "  margin: 0 0.4em 0.5em 0.4em;\n",
       "  box-sizing: border-box;\n",
       "  padding-bottom: 0.4em;\n",
       "  background-color: var(--sklearn-color-background);\n",
       "}\n",
       "\n",
       "#sk-container-id-1 div.sk-container {\n",
       "  /* jupyter's `normalize.less` sets `[hidden] { display: none; }`\n",
       "     but bootstrap.min.css set `[hidden] { display: none !important; }`\n",
       "     so we also need the `!important` here to be able to override the\n",
       "     default hidden behavior on the sphinx rendered scikit-learn.org.\n",
       "     See: https://github.com/scikit-learn/scikit-learn/issues/21755 */\n",
       "  display: inline-block !important;\n",
       "  position: relative;\n",
       "}\n",
       "\n",
       "#sk-container-id-1 div.sk-text-repr-fallback {\n",
       "  display: none;\n",
       "}\n",
       "\n",
       "div.sk-parallel-item,\n",
       "div.sk-serial,\n",
       "div.sk-item {\n",
       "  /* draw centered vertical line to link estimators */\n",
       "  background-image: linear-gradient(var(--sklearn-color-text-on-default-background), var(--sklearn-color-text-on-default-background));\n",
       "  background-size: 2px 100%;\n",
       "  background-repeat: no-repeat;\n",
       "  background-position: center center;\n",
       "}\n",
       "\n",
       "/* Parallel-specific style estimator block */\n",
       "\n",
       "#sk-container-id-1 div.sk-parallel-item::after {\n",
       "  content: \"\";\n",
       "  width: 100%;\n",
       "  border-bottom: 2px solid var(--sklearn-color-text-on-default-background);\n",
       "  flex-grow: 1;\n",
       "}\n",
       "\n",
       "#sk-container-id-1 div.sk-parallel {\n",
       "  display: flex;\n",
       "  align-items: stretch;\n",
       "  justify-content: center;\n",
       "  background-color: var(--sklearn-color-background);\n",
       "  position: relative;\n",
       "}\n",
       "\n",
       "#sk-container-id-1 div.sk-parallel-item {\n",
       "  display: flex;\n",
       "  flex-direction: column;\n",
       "}\n",
       "\n",
       "#sk-container-id-1 div.sk-parallel-item:first-child::after {\n",
       "  align-self: flex-end;\n",
       "  width: 50%;\n",
       "}\n",
       "\n",
       "#sk-container-id-1 div.sk-parallel-item:last-child::after {\n",
       "  align-self: flex-start;\n",
       "  width: 50%;\n",
       "}\n",
       "\n",
       "#sk-container-id-1 div.sk-parallel-item:only-child::after {\n",
       "  width: 0;\n",
       "}\n",
       "\n",
       "/* Serial-specific style estimator block */\n",
       "\n",
       "#sk-container-id-1 div.sk-serial {\n",
       "  display: flex;\n",
       "  flex-direction: column;\n",
       "  align-items: center;\n",
       "  background-color: var(--sklearn-color-background);\n",
       "  padding-right: 1em;\n",
       "  padding-left: 1em;\n",
       "}\n",
       "\n",
       "\n",
       "/* Toggleable style: style used for estimator/Pipeline/ColumnTransformer box that is\n",
       "clickable and can be expanded/collapsed.\n",
       "- Pipeline and ColumnTransformer use this feature and define the default style\n",
       "- Estimators will overwrite some part of the style using the `sk-estimator` class\n",
       "*/\n",
       "\n",
       "/* Pipeline and ColumnTransformer style (default) */\n",
       "\n",
       "#sk-container-id-1 div.sk-toggleable {\n",
       "  /* Default theme specific background. It is overwritten whether we have a\n",
       "  specific estimator or a Pipeline/ColumnTransformer */\n",
       "  background-color: var(--sklearn-color-background);\n",
       "}\n",
       "\n",
       "/* Toggleable label */\n",
       "#sk-container-id-1 label.sk-toggleable__label {\n",
       "  cursor: pointer;\n",
       "  display: block;\n",
       "  width: 100%;\n",
       "  margin-bottom: 0;\n",
       "  padding: 0.5em;\n",
       "  box-sizing: border-box;\n",
       "  text-align: center;\n",
       "}\n",
       "\n",
       "#sk-container-id-1 label.sk-toggleable__label-arrow:before {\n",
       "  /* Arrow on the left of the label */\n",
       "  content: \"▸\";\n",
       "  float: left;\n",
       "  margin-right: 0.25em;\n",
       "  color: var(--sklearn-color-icon);\n",
       "}\n",
       "\n",
       "#sk-container-id-1 label.sk-toggleable__label-arrow:hover:before {\n",
       "  color: var(--sklearn-color-text);\n",
       "}\n",
       "\n",
       "/* Toggleable content - dropdown */\n",
       "\n",
       "#sk-container-id-1 div.sk-toggleable__content {\n",
       "  max-height: 0;\n",
       "  max-width: 0;\n",
       "  overflow: hidden;\n",
       "  text-align: left;\n",
       "  /* unfitted */\n",
       "  background-color: var(--sklearn-color-unfitted-level-0);\n",
       "}\n",
       "\n",
       "#sk-container-id-1 div.sk-toggleable__content.fitted {\n",
       "  /* fitted */\n",
       "  background-color: var(--sklearn-color-fitted-level-0);\n",
       "}\n",
       "\n",
       "#sk-container-id-1 div.sk-toggleable__content pre {\n",
       "  margin: 0.2em;\n",
       "  border-radius: 0.25em;\n",
       "  color: var(--sklearn-color-text);\n",
       "  /* unfitted */\n",
       "  background-color: var(--sklearn-color-unfitted-level-0);\n",
       "}\n",
       "\n",
       "#sk-container-id-1 div.sk-toggleable__content.fitted pre {\n",
       "  /* unfitted */\n",
       "  background-color: var(--sklearn-color-fitted-level-0);\n",
       "}\n",
       "\n",
       "#sk-container-id-1 input.sk-toggleable__control:checked~div.sk-toggleable__content {\n",
       "  /* Expand drop-down */\n",
       "  max-height: 200px;\n",
       "  max-width: 100%;\n",
       "  overflow: auto;\n",
       "}\n",
       "\n",
       "#sk-container-id-1 input.sk-toggleable__control:checked~label.sk-toggleable__label-arrow:before {\n",
       "  content: \"▾\";\n",
       "}\n",
       "\n",
       "/* Pipeline/ColumnTransformer-specific style */\n",
       "\n",
       "#sk-container-id-1 div.sk-label input.sk-toggleable__control:checked~label.sk-toggleable__label {\n",
       "  color: var(--sklearn-color-text);\n",
       "  background-color: var(--sklearn-color-unfitted-level-2);\n",
       "}\n",
       "\n",
       "#sk-container-id-1 div.sk-label.fitted input.sk-toggleable__control:checked~label.sk-toggleable__label {\n",
       "  background-color: var(--sklearn-color-fitted-level-2);\n",
       "}\n",
       "\n",
       "/* Estimator-specific style */\n",
       "\n",
       "/* Colorize estimator box */\n",
       "#sk-container-id-1 div.sk-estimator input.sk-toggleable__control:checked~label.sk-toggleable__label {\n",
       "  /* unfitted */\n",
       "  background-color: var(--sklearn-color-unfitted-level-2);\n",
       "}\n",
       "\n",
       "#sk-container-id-1 div.sk-estimator.fitted input.sk-toggleable__control:checked~label.sk-toggleable__label {\n",
       "  /* fitted */\n",
       "  background-color: var(--sklearn-color-fitted-level-2);\n",
       "}\n",
       "\n",
       "#sk-container-id-1 div.sk-label label.sk-toggleable__label,\n",
       "#sk-container-id-1 div.sk-label label {\n",
       "  /* The background is the default theme color */\n",
       "  color: var(--sklearn-color-text-on-default-background);\n",
       "}\n",
       "\n",
       "/* On hover, darken the color of the background */\n",
       "#sk-container-id-1 div.sk-label:hover label.sk-toggleable__label {\n",
       "  color: var(--sklearn-color-text);\n",
       "  background-color: var(--sklearn-color-unfitted-level-2);\n",
       "}\n",
       "\n",
       "/* Label box, darken color on hover, fitted */\n",
       "#sk-container-id-1 div.sk-label.fitted:hover label.sk-toggleable__label.fitted {\n",
       "  color: var(--sklearn-color-text);\n",
       "  background-color: var(--sklearn-color-fitted-level-2);\n",
       "}\n",
       "\n",
       "/* Estimator label */\n",
       "\n",
       "#sk-container-id-1 div.sk-label label {\n",
       "  font-family: monospace;\n",
       "  font-weight: bold;\n",
       "  display: inline-block;\n",
       "  line-height: 1.2em;\n",
       "}\n",
       "\n",
       "#sk-container-id-1 div.sk-label-container {\n",
       "  text-align: center;\n",
       "}\n",
       "\n",
       "/* Estimator-specific */\n",
       "#sk-container-id-1 div.sk-estimator {\n",
       "  font-family: monospace;\n",
       "  border: 1px dotted var(--sklearn-color-border-box);\n",
       "  border-radius: 0.25em;\n",
       "  box-sizing: border-box;\n",
       "  margin-bottom: 0.5em;\n",
       "  /* unfitted */\n",
       "  background-color: var(--sklearn-color-unfitted-level-0);\n",
       "}\n",
       "\n",
       "#sk-container-id-1 div.sk-estimator.fitted {\n",
       "  /* fitted */\n",
       "  background-color: var(--sklearn-color-fitted-level-0);\n",
       "}\n",
       "\n",
       "/* on hover */\n",
       "#sk-container-id-1 div.sk-estimator:hover {\n",
       "  /* unfitted */\n",
       "  background-color: var(--sklearn-color-unfitted-level-2);\n",
       "}\n",
       "\n",
       "#sk-container-id-1 div.sk-estimator.fitted:hover {\n",
       "  /* fitted */\n",
       "  background-color: var(--sklearn-color-fitted-level-2);\n",
       "}\n",
       "\n",
       "/* Specification for estimator info (e.g. \"i\" and \"?\") */\n",
       "\n",
       "/* Common style for \"i\" and \"?\" */\n",
       "\n",
       ".sk-estimator-doc-link,\n",
       "a:link.sk-estimator-doc-link,\n",
       "a:visited.sk-estimator-doc-link {\n",
       "  float: right;\n",
       "  font-size: smaller;\n",
       "  line-height: 1em;\n",
       "  font-family: monospace;\n",
       "  background-color: var(--sklearn-color-background);\n",
       "  border-radius: 1em;\n",
       "  height: 1em;\n",
       "  width: 1em;\n",
       "  text-decoration: none !important;\n",
       "  margin-left: 1ex;\n",
       "  /* unfitted */\n",
       "  border: var(--sklearn-color-unfitted-level-1) 1pt solid;\n",
       "  color: var(--sklearn-color-unfitted-level-1);\n",
       "}\n",
       "\n",
       ".sk-estimator-doc-link.fitted,\n",
       "a:link.sk-estimator-doc-link.fitted,\n",
       "a:visited.sk-estimator-doc-link.fitted {\n",
       "  /* fitted */\n",
       "  border: var(--sklearn-color-fitted-level-1) 1pt solid;\n",
       "  color: var(--sklearn-color-fitted-level-1);\n",
       "}\n",
       "\n",
       "/* On hover */\n",
       "div.sk-estimator:hover .sk-estimator-doc-link:hover,\n",
       ".sk-estimator-doc-link:hover,\n",
       "div.sk-label-container:hover .sk-estimator-doc-link:hover,\n",
       ".sk-estimator-doc-link:hover {\n",
       "  /* unfitted */\n",
       "  background-color: var(--sklearn-color-unfitted-level-3);\n",
       "  color: var(--sklearn-color-background);\n",
       "  text-decoration: none;\n",
       "}\n",
       "\n",
       "div.sk-estimator.fitted:hover .sk-estimator-doc-link.fitted:hover,\n",
       ".sk-estimator-doc-link.fitted:hover,\n",
       "div.sk-label-container:hover .sk-estimator-doc-link.fitted:hover,\n",
       ".sk-estimator-doc-link.fitted:hover {\n",
       "  /* fitted */\n",
       "  background-color: var(--sklearn-color-fitted-level-3);\n",
       "  color: var(--sklearn-color-background);\n",
       "  text-decoration: none;\n",
       "}\n",
       "\n",
       "/* Span, style for the box shown on hovering the info icon */\n",
       ".sk-estimator-doc-link span {\n",
       "  display: none;\n",
       "  z-index: 9999;\n",
       "  position: relative;\n",
       "  font-weight: normal;\n",
       "  right: .2ex;\n",
       "  padding: .5ex;\n",
       "  margin: .5ex;\n",
       "  width: min-content;\n",
       "  min-width: 20ex;\n",
       "  max-width: 50ex;\n",
       "  color: var(--sklearn-color-text);\n",
       "  box-shadow: 2pt 2pt 4pt #999;\n",
       "  /* unfitted */\n",
       "  background: var(--sklearn-color-unfitted-level-0);\n",
       "  border: .5pt solid var(--sklearn-color-unfitted-level-3);\n",
       "}\n",
       "\n",
       ".sk-estimator-doc-link.fitted span {\n",
       "  /* fitted */\n",
       "  background: var(--sklearn-color-fitted-level-0);\n",
       "  border: var(--sklearn-color-fitted-level-3);\n",
       "}\n",
       "\n",
       ".sk-estimator-doc-link:hover span {\n",
       "  display: block;\n",
       "}\n",
       "\n",
       "/* \"?\"-specific style due to the `<a>` HTML tag */\n",
       "\n",
       "#sk-container-id-1 a.estimator_doc_link {\n",
       "  float: right;\n",
       "  font-size: 1rem;\n",
       "  line-height: 1em;\n",
       "  font-family: monospace;\n",
       "  background-color: var(--sklearn-color-background);\n",
       "  border-radius: 1rem;\n",
       "  height: 1rem;\n",
       "  width: 1rem;\n",
       "  text-decoration: none;\n",
       "  /* unfitted */\n",
       "  color: var(--sklearn-color-unfitted-level-1);\n",
       "  border: var(--sklearn-color-unfitted-level-1) 1pt solid;\n",
       "}\n",
       "\n",
       "#sk-container-id-1 a.estimator_doc_link.fitted {\n",
       "  /* fitted */\n",
       "  border: var(--sklearn-color-fitted-level-1) 1pt solid;\n",
       "  color: var(--sklearn-color-fitted-level-1);\n",
       "}\n",
       "\n",
       "/* On hover */\n",
       "#sk-container-id-1 a.estimator_doc_link:hover {\n",
       "  /* unfitted */\n",
       "  background-color: var(--sklearn-color-unfitted-level-3);\n",
       "  color: var(--sklearn-color-background);\n",
       "  text-decoration: none;\n",
       "}\n",
       "\n",
       "#sk-container-id-1 a.estimator_doc_link.fitted:hover {\n",
       "  /* fitted */\n",
       "  background-color: var(--sklearn-color-fitted-level-3);\n",
       "}\n",
       "</style><div id=\"sk-container-id-1\" class=\"sk-top-container\"><div class=\"sk-text-repr-fallback\"><pre>OneClassSVM(gamma=&#x27;auto&#x27;, kernel=&#x27;linear&#x27;, nu=0.001)</pre><b>In a Jupyter environment, please rerun this cell to show the HTML representation or trust the notebook. <br />On GitHub, the HTML representation is unable to render, please try loading this page with nbviewer.org.</b></div><div class=\"sk-container\" hidden><div class=\"sk-item\"><div class=\"sk-estimator fitted sk-toggleable\"><input class=\"sk-toggleable__control sk-hidden--visually\" id=\"sk-estimator-id-1\" type=\"checkbox\" checked><label for=\"sk-estimator-id-1\" class=\"sk-toggleable__label fitted sk-toggleable__label-arrow fitted\">&nbsp;&nbsp;OneClassSVM<a class=\"sk-estimator-doc-link fitted\" rel=\"noreferrer\" target=\"_blank\" href=\"https://scikit-learn.org/1.4/modules/generated/sklearn.svm.OneClassSVM.html\">?<span>Documentation for OneClassSVM</span></a><span class=\"sk-estimator-doc-link fitted\">i<span>Fitted</span></span></label><div class=\"sk-toggleable__content fitted\"><pre>OneClassSVM(gamma=&#x27;auto&#x27;, kernel=&#x27;linear&#x27;, nu=0.001)</pre></div> </div></div></div></div>"
      ],
      "text/plain": [
       "OneClassSVM(gamma='auto', kernel='linear', nu=0.001)"
      ]
     },
     "execution_count": 25,
     "metadata": {},
     "output_type": "execute_result"
    }
   ],
   "source": [
    "# Create a one-class SVM model\n",
    "clf = svm.OneClassSVM(nu=0.001, kernel=\"linear\", gamma='auto')\n",
    "clf.fit(X_train)"
   ]
  },
  {
   "cell_type": "code",
   "execution_count": 26,
   "metadata": {},
   "outputs": [
    {
     "name": "stdout",
     "output_type": "stream",
     "text": [
      "Polynomial, sigmoid, linear and radial basis kernel function were evaluated during the data fusion delevopment. \n",
      "Linear kernel was evaluated as the best one for the type of experimental data recorded by IMS and GC-QEPAs sensors.\n"
     ]
    }
   ],
   "source": [
    "print(\"Polynomial, sigmoid, linear and radial basis kernel function were evaluated during the data fusion delevopment. \\nLinear kernel was evaluated as the best one for the type of experimental data recorded by IMS and GC-QEPAs sensors.\")"
   ]
  },
  {
   "cell_type": "code",
   "execution_count": 27,
   "metadata": {},
   "outputs": [
    {
     "data": {
      "text/plain": [
       "array([1, 1, 1, 1, 1, 1, 1, 1, 1, 1, 1, 1, 1, 1])"
      ]
     },
     "execution_count": 27,
     "metadata": {},
     "output_type": "execute_result"
    }
   ],
   "source": [
    "y_pred_train = clf.predict(X_train)\n",
    "y_pred_train"
   ]
  },
  {
   "cell_type": "code",
   "execution_count": 28,
   "metadata": {},
   "outputs": [
    {
     "data": {
      "text/plain": [
       "array([251.195184  , 251.06252891, 250.9946894 , 251.02945555,\n",
       "       262.76452747, 271.05099201, 266.35349266, 266.32090288,\n",
       "       272.37180748, 271.18433759, 266.87992721, 266.6684624 ,\n",
       "       268.19475278, 266.80656555])"
      ]
     },
     "execution_count": 28,
     "metadata": {},
     "output_type": "execute_result"
    }
   ],
   "source": [
    "clf.score_samples(X_train)"
   ]
  },
  {
   "cell_type": "code",
   "execution_count": 29,
   "metadata": {},
   "outputs": [
    {
     "data": {
      "text/plain": [
       "array([2.00504312e-01, 6.78492254e-02, 9.71249995e-06, 3.47758637e-02,\n",
       "       1.17698478e+01, 2.00563123e+01, 1.53588130e+01, 1.53262232e+01,\n",
       "       2.13771278e+01, 2.01896579e+01, 1.58852475e+01, 1.56737827e+01,\n",
       "       1.72000731e+01, 1.58118859e+01])"
      ]
     },
     "execution_count": 29,
     "metadata": {},
     "output_type": "execute_result"
    }
   ],
   "source": [
    "clf.decision_function(X_train)"
   ]
  },
  {
   "cell_type": "code",
   "execution_count": 30,
   "metadata": {},
   "outputs": [
    {
     "data": {
      "image/png": "[encoded data removed]",
      "text/plain": [
       "<Figure size 640x480 with 1 Axes>"
      ]
     },
     "metadata": {},
     "output_type": "display_data"
    }
   ],
   "source": [
    "# Plotting score values\n",
    "Z_train = clf.score_samples(X_train)\n",
    "\n",
    "plt.title(\"Training set Detection\")\n",
    "plt.plot(Z_train, marker='o', linestyle='-', color='b', label='Training Samples')\n",
    "\n",
    "plt.xlabel(\"Sample Index\")\n",
    "plt.ylabel(\"Score Samples Value\")\n",
    "plt.axhline(y=245, color='r', linestyle='--', label='Decision Boundary')\n",
    "\n",
    "plt.legend()\n",
    "plt.show()"
   ]
  },
  {
   "cell_type": "code",
   "execution_count": 31,
   "metadata": {},
   "outputs": [
    {
     "data": {
      "image/png": "[encoded data removed]",
      "text/plain": [
       "<Figure size 640x480 with 1 Axes>"
      ]
     },
     "metadata": {},
     "output_type": "display_data"
    }
   ],
   "source": [
    "# Plotting decision function values\n",
    "Z_train = clf.decision_function(X_train)\n",
    "\n",
    "plt.title(\"Training set Detection\")\n",
    "plt.plot(Z_train, marker='o', linestyle='-', color='b', label='Training Samples')\n",
    "\n",
    "plt.xlabel(\"Sample Index\")\n",
    "plt.ylabel(\"Decision Function Value\")\n",
    "plt.axhline(y=-0.5, color='r', linestyle='--', label='Decision Boundary')\n",
    "\n",
    "plt.legend()\n",
    "plt.show()"
   ]
  },
  {
   "cell_type": "markdown",
   "metadata": {},
   "source": [
    "The first four samples were analysed at low concentration (2.8ppb and 5.7 ppb). "
   ]
  },
  {
   "cell_type": "markdown",
   "metadata": {},
   "source": [
    "### Import the new data and use the model for  prediction"
   ]
  },
  {
   "cell_type": "code",
   "execution_count": 32,
   "metadata": {},
   "outputs": [],
   "source": [
    "new_data_IMS = pd.read_excel(\"/Users/giorgiofelizzato/Desktop/RISEN project/data fusion/Moduli python data fusion-final version/DMMP.xlsx\", sheet_name='test_ims', index_col=None, header=0)"
   ]
  },
  {
   "cell_type": "code",
   "execution_count": 33,
   "metadata": {},
   "outputs": [],
   "source": [
    "new_data_QEPAS = pd.read_excel(\"/Users/giorgiofelizzato/Desktop/RISEN project/data fusion/Moduli python data fusion-final version/DMMP.xlsx\", sheet_name='test_qepas', index_col=None, header=0)"
   ]
  },
  {
   "cell_type": "code",
   "execution_count": 34,
   "metadata": {},
   "outputs": [],
   "source": [
    "new_data_GC = pd.read_excel(\"/Users/giorgiofelizzato/Desktop/RISEN project/data fusion/Moduli python data fusion-final version/DMMP.xlsx\", sheet_name='test_gc', index_col=None, header=0)"
   ]
  },
  {
   "cell_type": "code",
   "execution_count": 35,
   "metadata": {},
   "outputs": [],
   "source": [
    "new_X_IMS = new_data_IMS.iloc[:,:]"
   ]
  },
  {
   "cell_type": "code",
   "execution_count": 36,
   "metadata": {},
   "outputs": [],
   "source": [
    "# Compute the SNV on new IMS raw data\n",
    "new_X_snv_IMS = snv_IMS(new_X_IMS.values)"
   ]
  },
  {
   "cell_type": "code",
   "execution_count": 37,
   "metadata": {},
   "outputs": [],
   "source": [
    "new_X_QEPAS = new_data_QEPAS.iloc[:,:]"
   ]
  },
  {
   "cell_type": "code",
   "execution_count": 38,
   "metadata": {},
   "outputs": [],
   "source": [
    "# Compute the SNV on new QEPAS raw data\n",
    "new_X_snv_QEPAS = snv_QEPAS(new_X_QEPAS.values)"
   ]
  },
  {
   "cell_type": "code",
   "execution_count": 39,
   "metadata": {},
   "outputs": [],
   "source": [
    "new_X_GC = new_data_GC.iloc[:,:]\n"
   ]
  },
  {
   "cell_type": "code",
   "execution_count": 40,
   "metadata": {},
   "outputs": [],
   "source": [
    "new_X_GC_array = new_X_GC.values"
   ]
  },
  {
   "cell_type": "code",
   "execution_count": 41,
   "metadata": {},
   "outputs": [
    {
     "data": {
      "text/html": [
       "<div>\n",
       "<style scoped>\n",
       "    .dataframe tbody tr th:only-of-type {\n",
       "        vertical-align: middle;\n",
       "    }\n",
       "\n",
       "    .dataframe tbody tr th {\n",
       "        vertical-align: top;\n",
       "    }\n",
       "\n",
       "    .dataframe thead th {\n",
       "        text-align: right;\n",
       "    }\n",
       "</style>\n",
       "<table border=\"1\" class=\"dataframe\">\n",
       "  <thead>\n",
       "    <tr style=\"text-align: right;\">\n",
       "      <th></th>\n",
       "      <th>0.52</th>\n",
       "      <th>0.54</th>\n",
       "      <th>0.56</th>\n",
       "      <th>0.58</th>\n",
       "      <th>0.60</th>\n",
       "      <th>0.62</th>\n",
       "      <th>0.64</th>\n",
       "      <th>0.66</th>\n",
       "      <th>0.68</th>\n",
       "      <th>0.70</th>\n",
       "      <th>...</th>\n",
       "      <th>13.68</th>\n",
       "      <th>13.70</th>\n",
       "      <th>13.72</th>\n",
       "      <th>13.74</th>\n",
       "      <th>13.76</th>\n",
       "      <th>13.78</th>\n",
       "      <th>13.80</th>\n",
       "      <th>13.82</th>\n",
       "      <th>13.84</th>\n",
       "      <th>13.86</th>\n",
       "    </tr>\n",
       "  </thead>\n",
       "  <tbody>\n",
       "    <tr>\n",
       "      <th>0</th>\n",
       "      <td>-0.184356</td>\n",
       "      <td>-0.184357</td>\n",
       "      <td>-0.18436</td>\n",
       "      <td>-0.184357</td>\n",
       "      <td>-0.18436</td>\n",
       "      <td>-0.184359</td>\n",
       "      <td>-0.184356</td>\n",
       "      <td>-0.184358</td>\n",
       "      <td>-0.184358</td>\n",
       "      <td>-0.184357</td>\n",
       "      <td>...</td>\n",
       "      <td>-0.184356</td>\n",
       "      <td>-0.184358</td>\n",
       "      <td>-0.184358</td>\n",
       "      <td>-0.184356</td>\n",
       "      <td>-0.184356</td>\n",
       "      <td>-0.184359</td>\n",
       "      <td>-0.184358</td>\n",
       "      <td>-0.184354</td>\n",
       "      <td>-0.184356</td>\n",
       "      <td>-0.184389</td>\n",
       "    </tr>\n",
       "  </tbody>\n",
       "</table>\n",
       "<p>1 rows × 668 columns</p>\n",
       "</div>"
      ],
      "text/plain": [
       "      0.52      0.54     0.56      0.58     0.60      0.62      0.64   \\\n",
       "0 -0.184356 -0.184357 -0.18436 -0.184357 -0.18436 -0.184359 -0.184356   \n",
       "\n",
       "      0.66      0.68      0.70   ...     13.68     13.70     13.72     13.74  \\\n",
       "0 -0.184358 -0.184358 -0.184357  ... -0.184356 -0.184358 -0.184358 -0.184356   \n",
       "\n",
       "      13.76     13.78     13.80     13.82     13.84     13.86  \n",
       "0 -0.184356 -0.184359 -0.184358 -0.184354 -0.184356 -0.184389  \n",
       "\n",
       "[1 rows x 668 columns]"
      ]
     },
     "execution_count": 41,
     "metadata": {},
     "output_type": "execute_result"
    }
   ],
   "source": [
    "# Create a new DataFrame with the processed IMS plasmagrams\n",
    "new_processed_dataframe_IMS = pd.DataFrame(new_X_snv_IMS, columns=data_IMS.columns[1:])\n",
    "new_processed_dataframe_IMS"
   ]
  },
  {
   "cell_type": "code",
   "execution_count": 42,
   "metadata": {},
   "outputs": [
    {
     "data": {
      "text/html": [
       "<div>\n",
       "<style scoped>\n",
       "    .dataframe tbody tr th:only-of-type {\n",
       "        vertical-align: middle;\n",
       "    }\n",
       "\n",
       "    .dataframe tbody tr th {\n",
       "        vertical-align: top;\n",
       "    }\n",
       "\n",
       "    .dataframe thead th {\n",
       "        text-align: right;\n",
       "    }\n",
       "</style>\n",
       "<table border=\"1\" class=\"dataframe\">\n",
       "  <thead>\n",
       "    <tr style=\"text-align: right;\">\n",
       "      <th></th>\n",
       "      <th>10.0000</th>\n",
       "      <th>9.9804</th>\n",
       "      <th>9.9608</th>\n",
       "      <th>9.9413</th>\n",
       "      <th>9.9219</th>\n",
       "      <th>9.9025</th>\n",
       "      <th>9.8833</th>\n",
       "      <th>9.8641</th>\n",
       "      <th>9.8450</th>\n",
       "      <th>9.8259</th>\n",
       "      <th>...</th>\n",
       "      <th>8.1150</th>\n",
       "      <th>8.1021</th>\n",
       "      <th>8.0892</th>\n",
       "      <th>8.0763</th>\n",
       "      <th>8.0635</th>\n",
       "      <th>8.0507</th>\n",
       "      <th>8.0380</th>\n",
       "      <th>8.0253</th>\n",
       "      <th>8.0126</th>\n",
       "      <th>8.0000</th>\n",
       "    </tr>\n",
       "  </thead>\n",
       "  <tbody>\n",
       "    <tr>\n",
       "      <th>0</th>\n",
       "      <td>-0.347955</td>\n",
       "      <td>-0.332007</td>\n",
       "      <td>-0.350919</td>\n",
       "      <td>-0.369564</td>\n",
       "      <td>-0.391369</td>\n",
       "      <td>-0.388447</td>\n",
       "      <td>-0.401436</td>\n",
       "      <td>-0.398748</td>\n",
       "      <td>-0.399118</td>\n",
       "      <td>-0.415215</td>\n",
       "      <td>...</td>\n",
       "      <td>2.271516</td>\n",
       "      <td>2.157777</td>\n",
       "      <td>1.974751</td>\n",
       "      <td>1.657661</td>\n",
       "      <td>1.276768</td>\n",
       "      <td>0.847929</td>\n",
       "      <td>0.420787</td>\n",
       "      <td>0.053737</td>\n",
       "      <td>-0.225854</td>\n",
       "      <td>-0.385676</td>\n",
       "    </tr>\n",
       "  </tbody>\n",
       "</table>\n",
       "<p>1 rows × 128 columns</p>\n",
       "</div>"
      ],
      "text/plain": [
       "    10.0000   9.9804    9.9608    9.9413    9.9219    9.9025    9.8833   \\\n",
       "0 -0.347955 -0.332007 -0.350919 -0.369564 -0.391369 -0.388447 -0.401436   \n",
       "\n",
       "    9.8641    9.8450    9.8259   ...   8.1150    8.1021    8.0892    8.0763   \\\n",
       "0 -0.398748 -0.399118 -0.415215  ...  2.271516  2.157777  1.974751  1.657661   \n",
       "\n",
       "    8.0635    8.0507    8.0380    8.0253    8.0126    8.0000   \n",
       "0  1.276768  0.847929  0.420787  0.053737 -0.225854 -0.385676  \n",
       "\n",
       "[1 rows x 128 columns]"
      ]
     },
     "execution_count": 42,
     "metadata": {},
     "output_type": "execute_result"
    }
   ],
   "source": [
    "# Create a new DataFrame with the processed QEPAS plasmagrams\n",
    "new_processed_dataframe_QEPAS = pd.DataFrame(new_X_snv_QEPAS, columns=data_QEPAS.columns[1:])\n",
    "new_processed_dataframe_QEPAS"
   ]
  },
  {
   "cell_type": "code",
   "execution_count": 43,
   "metadata": {},
   "outputs": [],
   "source": [
    "# Create a new DataFrame with the processed RTs\n",
    "new_processed_dataframe_RT = pd.DataFrame(new_X_GC_array, columns=data_GC.columns[1:])"
   ]
  },
  {
   "cell_type": "markdown",
   "metadata": {},
   "source": [
    "import trace coordinate"
   ]
  },
  {
   "cell_type": "code",
   "execution_count": 44,
   "metadata": {},
   "outputs": [
    {
     "data": {
      "text/html": [
       "<div>\n",
       "<style scoped>\n",
       "    .dataframe tbody tr th:only-of-type {\n",
       "        vertical-align: middle;\n",
       "    }\n",
       "\n",
       "    .dataframe tbody tr th {\n",
       "        vertical-align: top;\n",
       "    }\n",
       "\n",
       "    .dataframe thead th {\n",
       "        text-align: right;\n",
       "    }\n",
       "</style>\n",
       "<table border=\"1\" class=\"dataframe\">\n",
       "  <thead>\n",
       "    <tr style=\"text-align: right;\">\n",
       "      <th></th>\n",
       "      <th>X (meter)</th>\n",
       "      <th>Delta X</th>\n",
       "      <th>Y (meter)</th>\n",
       "      <th>Delta Y</th>\n",
       "      <th>Z (meter)</th>\n",
       "      <th>Delta Z</th>\n",
       "    </tr>\n",
       "  </thead>\n",
       "  <tbody>\n",
       "    <tr>\n",
       "      <th>0</th>\n",
       "      <td>2.0</td>\n",
       "      <td>0.01</td>\n",
       "      <td>3.0</td>\n",
       "      <td>0.01</td>\n",
       "      <td>3.0</td>\n",
       "      <td>0.01</td>\n",
       "    </tr>\n",
       "  </tbody>\n",
       "</table>\n",
       "</div>"
      ],
      "text/plain": [
       "   X (meter)  Delta X  Y (meter)  Delta Y  Z (meter)  Delta Z\n",
       "0        2.0     0.01        3.0     0.01        3.0     0.01"
      ]
     },
     "execution_count": 44,
     "metadata": {},
     "output_type": "execute_result"
    }
   ],
   "source": [
    "#import coordinates trace GC-QEPAS\n",
    "coordinates_GCQEPAS = pd.read_excel(\"/Users/giorgiofelizzato/Desktop/RISEN project/data fusion/Moduli python data fusion-final version/coordinate_trace.xlsx\", sheet_name='Coordinate_GCQEPAS_trace', header=0)\n",
    "coordinates_GCQEPAS.head()"
   ]
  },
  {
   "cell_type": "code",
   "execution_count": 45,
   "metadata": {},
   "outputs": [
    {
     "data": {
      "text/html": [
       "<div>\n",
       "<style scoped>\n",
       "    .dataframe tbody tr th:only-of-type {\n",
       "        vertical-align: middle;\n",
       "    }\n",
       "\n",
       "    .dataframe tbody tr th {\n",
       "        vertical-align: top;\n",
       "    }\n",
       "\n",
       "    .dataframe thead th {\n",
       "        text-align: right;\n",
       "    }\n",
       "</style>\n",
       "<table border=\"1\" class=\"dataframe\">\n",
       "  <thead>\n",
       "    <tr style=\"text-align: right;\">\n",
       "      <th></th>\n",
       "      <th>X (meter)</th>\n",
       "      <th>Delta X</th>\n",
       "      <th>Y (meter)</th>\n",
       "      <th>Delta Y</th>\n",
       "      <th>Z (meter)</th>\n",
       "      <th>Delta Z</th>\n",
       "    </tr>\n",
       "  </thead>\n",
       "  <tbody>\n",
       "    <tr>\n",
       "      <th>0</th>\n",
       "      <td>2.0</td>\n",
       "      <td>0.01</td>\n",
       "      <td>3.0</td>\n",
       "      <td>0.01</td>\n",
       "      <td>3.0</td>\n",
       "      <td>0.01</td>\n",
       "    </tr>\n",
       "  </tbody>\n",
       "</table>\n",
       "</div>"
      ],
      "text/plain": [
       "   X (meter)  Delta X  Y (meter)  Delta Y  Z (meter)  Delta Z\n",
       "0        2.0     0.01        3.0     0.01        3.0     0.01"
      ]
     },
     "execution_count": 45,
     "metadata": {},
     "output_type": "execute_result"
    }
   ],
   "source": [
    "#import coordinates trace GC-QEPAS\n",
    "coordinates_IMS = pd.read_excel(\"/Users/giorgiofelizzato/Desktop/RISEN project/data fusion/Moduli python data fusion-final version/coordinate_trace.xlsx\", sheet_name='Coordinate_IMS_trace', header=0)\n",
    "coordinates_IMS.head()"
   ]
  },
  {
   "cell_type": "code",
   "execution_count": 46,
   "metadata": {},
   "outputs": [
    {
     "name": "stdout",
     "output_type": "stream",
     "text": [
      "Data from coordinates_GCQEPAS at index 0 and coordinates_IMS at index 0 can be combined.\n",
      "Combined data:\n",
      "       0.52      0.54     0.56      0.58      0.6      0.62      0.64  \\\n",
      "0 -0.184356 -0.184357 -0.18436 -0.184357 -0.18436 -0.184359 -0.184356   \n",
      "\n",
      "       0.66      0.68       0.7  ...    8.1021    8.0892    8.0763    8.0635  \\\n",
      "0 -0.184358 -0.184358 -0.184357  ...  2.157777  1.974751  1.657661  1.276768   \n",
      "\n",
      "     8.0507     8.038    8.0253    8.0126         8     RT  \n",
      "0  0.847929  0.420787  0.053737 -0.225854 -0.385676  55.99  \n",
      "\n",
      "[1 rows x 797 columns]\n"
     ]
    }
   ],
   "source": [
    "THRESHOLD = 0.03  # Threshold for trace position difference\n",
    "\n",
    "def check_trace_position(coord1, coord2):\n",
    "    # Precalculate differences\n",
    "    diff_x = abs(coord1['X (meter)'] - coord2['X (meter)'] + coord1['Delta X'] + coord2['Delta X'])\n",
    "    diff_y = abs(coord1['Y (meter)'] - coord2['Y (meter)'] + coord1['Delta Y'] + coord2['Delta Y'])\n",
    "    diff_z = abs(coord1['Z (meter)'] - coord2['Z (meter)'] + coord1['Delta Z'] + coord2['Delta Z'])\n",
    "\n",
    "    # Differences must be lower than the threshold to accept the concatenation of the data\n",
    "    return diff_x < THRESHOLD and diff_y < THRESHOLD and diff_z < THRESHOLD\n",
    "\n",
    "def concatenation(coord1, coord2, IMS_data, QEPAS_data, RT_data):\n",
    "    # Check sensors position\n",
    "    if check_trace_position(coord1, coord2):\n",
    "        # Concatenation of data if the trace position is ok\n",
    "        combined_dataframe = pd.concat([IMS_data, QEPAS_data, RT_data], axis=1)\n",
    "        return combined_dataframe\n",
    "    else:\n",
    "        return None\n",
    "\n",
    "coordinates_associate = []  # Combined coordinates and data\n",
    "coordinates_non_associate = []  # Non-associated coordinates\n",
    "\n",
    "for index_gc, row_gc in coordinates_GCQEPAS.iterrows():\n",
    "    coord_sensor1 = {'X (meter)': row_gc['X (meter)'], 'Y (meter)': row_gc['Y (meter)'],\n",
    "                     'Z (meter)': row_gc['Z (meter)'], 'Delta X': row_gc['Delta X'],\n",
    "                     'Delta Y': row_gc['Delta Y'], 'Delta Z': row_gc['Delta Z']}\n",
    "\n",
    "    for index_ims, row_ims in coordinates_IMS.iterrows():\n",
    "        coord_sensor2 = {'X (meter)': row_ims['X (meter)'], 'Y (meter)': row_ims['Y (meter)'],\n",
    "                         'Z (meter)': row_ims['Z (meter)'], 'Delta X': row_ims['Delta X'],\n",
    "                         'Delta Y': row_ims['Delta Y'], 'Delta Z': row_ims['Delta Z']}\n",
    "\n",
    "        # Concatenation of data if the trace position is ok\n",
    "        combined_dataframe = concatenation(coord_sensor1, coord_sensor2, new_processed_dataframe_IMS,\n",
    "                                           new_processed_dataframe_QEPAS, new_processed_dataframe_RT)\n",
    "\n",
    "        if combined_dataframe is not None:\n",
    "            coordinates_associate.append(((index_gc, index_ims), combined_dataframe))\n",
    "        else:\n",
    "            coordinates_non_associate.append((index_gc, index_ims))\n",
    "\n",
    "# Print outputs\n",
    "for (index_gc, index_ims), combined_dataframe in coordinates_associate:\n",
    "    print(f\"Data from coordinates_GCQEPAS at index {index_gc} and coordinates_IMS at index {index_ims} can be combined.\")\n",
    "    print(\"Combined data:\")\n",
    "    print(combined_dataframe)\n",
    "\n",
    "# Print non-associated coordinates\n",
    "for index_gc, index_ims in coordinates_non_associate:\n",
    "    print(f\"Data from coordinates_GCQEPAS at index {index_gc} and coordinates_IMS at index {index_ims} CANNOT be combined.\")"
   ]
  },
  {
   "cell_type": "code",
   "execution_count": 47,
   "metadata": {},
   "outputs": [],
   "source": [
    "combined_dataframe.columns = combined_dataframe.columns.astype(str)"
   ]
  },
  {
   "cell_type": "code",
   "execution_count": 48,
   "metadata": {},
   "outputs": [
    {
     "data": {
      "text/plain": [
       "array([-1])"
      ]
     },
     "execution_count": 48,
     "metadata": {},
     "output_type": "execute_result"
    }
   ],
   "source": [
    "y_pred_unknown = clf.predict(combined_dataframe)\n",
    "y_pred_unknown"
   ]
  },
  {
   "cell_type": "code",
   "execution_count": 49,
   "metadata": {},
   "outputs": [
    {
     "data": {
      "text/plain": [
       "array([109.81610221])"
      ]
     },
     "execution_count": 49,
     "metadata": {},
     "output_type": "execute_result"
    }
   ],
   "source": [
    "clf.score_samples(combined_dataframe)"
   ]
  },
  {
   "cell_type": "code",
   "execution_count": 50,
   "metadata": {},
   "outputs": [
    {
     "data": {
      "text/plain": [
       "array([-141.17857747])"
      ]
     },
     "execution_count": 50,
     "metadata": {},
     "output_type": "execute_result"
    }
   ],
   "source": [
    "# Use the decision function to get the signed distance\n",
    "decision_values = clf.decision_function(combined_dataframe)\n",
    "decision_values"
   ]
  },
  {
   "cell_type": "code",
   "execution_count": 51,
   "metadata": {},
   "outputs": [],
   "source": [
    "# Set your threshold\n",
    "threshold = -0.50  # Adjust this threshold as needed"
   ]
  },
  {
   "cell_type": "code",
   "execution_count": 52,
   "metadata": {},
   "outputs": [
    {
     "data": {
      "text/plain": [
       "array(['unknown'], dtype='<U7')"
      ]
     },
     "execution_count": 52,
     "metadata": {},
     "output_type": "execute_result"
    }
   ],
   "source": [
    "# Predict inliers and outliers based on the threshold\n",
    "predictions = np.where(decision_values < threshold, \"unknown\", \"DMMP\")\n",
    "predictions"
   ]
  },
  {
   "cell_type": "code",
   "execution_count": 53,
   "metadata": {},
   "outputs": [
    {
     "data": {
      "application/vnd.plotly.v1+json": {
       "config": {
        "plotlyServerURL": "https://plot.ly"
       },
       "data": [
        {
         "line": {
          "color": "blue"
         },
         "mode": "lines+markers",
         "name": "Training Samples",
         "type": "scatter",
         "x": [
          0,
          1,
          2,
          3,
          4,
          5,
          6,
          7,
          8,
          9,
          10,
          11,
          12,
          13
         ],
         "y": [
          251.195183999208,
          251.06252891293897,
          250.99468940000006,
          251.02945555123054,
          262.76452747000025,
          271.0509920056549,
          266.3534926551976,
          266.3209028812306,
          272.3718074845922,
          271.1843375913082,
          266.87992721420716,
          266.6684623966606,
          268.19475278062026,
          266.8065655514272
         ]
        },
        {
         "marker": {
          "color": "red",
          "size": 10
         },
         "mode": "markers",
         "name": "Unknown Sample (Unknown sample)",
         "type": "scatter",
         "x": [
          14
         ],
         "y": [
          109.82
         ]
        },
        {
         "line": {
          "color": "green",
          "dash": "dash"
         },
         "mode": "lines",
         "name": "Lower Threshold",
         "type": "scatter",
         "x": [
          0,
          13
         ],
         "y": [
          240,
          240
         ]
        },
        {
         "line": {
          "color": "orange",
          "dash": "dash"
         },
         "mode": "lines",
         "name": "Upper Threshold",
         "type": "scatter",
         "x": [
          0,
          13
         ],
         "y": [
          280,
          280
         ]
        }
       ],
       "layout": {
        "annotations": [
         {
          "arrowhead": 2,
          "ax": 0,
          "ay": -30,
          "showarrow": true,
          "text": "DMMP",
          "x": 0,
          "y": 251.195183999208
         },
         {
          "arrowhead": 2,
          "ax": 0,
          "ay": -30,
          "showarrow": true,
          "text": "DMMP",
          "x": 1,
          "y": 251.06252891293897
         },
         {
          "arrowhead": 2,
          "ax": 0,
          "ay": -30,
          "showarrow": true,
          "text": "DMMP",
          "x": 2,
          "y": 250.99468940000006
         },
         {
          "arrowhead": 2,
          "ax": 0,
          "ay": -30,
          "showarrow": true,
          "text": "DMMP",
          "x": 3,
          "y": 251.02945555123054
         },
         {
          "arrowhead": 2,
          "ax": 0,
          "ay": -30,
          "showarrow": true,
          "text": "DMMP",
          "x": 4,
          "y": 262.76452747000025
         },
         {
          "arrowhead": 2,
          "ax": 0,
          "ay": -30,
          "showarrow": true,
          "text": "DMMP",
          "x": 5,
          "y": 271.0509920056549
         },
         {
          "arrowhead": 2,
          "ax": 0,
          "ay": -30,
          "showarrow": true,
          "text": "DMMP",
          "x": 6,
          "y": 266.3534926551976
         },
         {
          "arrowhead": 2,
          "ax": 0,
          "ay": -30,
          "showarrow": true,
          "text": "DMMP",
          "x": 7,
          "y": 266.3209028812306
         },
         {
          "arrowhead": 2,
          "ax": 0,
          "ay": -30,
          "showarrow": true,
          "text": "DMMP",
          "x": 8,
          "y": 272.3718074845922
         },
         {
          "arrowhead": 2,
          "ax": 0,
          "ay": -30,
          "showarrow": true,
          "text": "DMMP",
          "x": 9,
          "y": 271.1843375913082
         },
         {
          "arrowhead": 2,
          "ax": 0,
          "ay": -30,
          "showarrow": true,
          "text": "DMMP",
          "x": 10,
          "y": 266.87992721420716
         },
         {
          "arrowhead": 2,
          "ax": 0,
          "ay": -30,
          "showarrow": true,
          "text": "DMMP",
          "x": 11,
          "y": 266.6684623966606
         },
         {
          "arrowhead": 2,
          "ax": 0,
          "ay": -30,
          "showarrow": true,
          "text": "DMMP",
          "x": 12,
          "y": 268.19475278062026
         },
         {
          "arrowhead": 2,
          "ax": 0,
          "ay": -30,
          "showarrow": true,
          "text": "DMMP",
          "x": 13,
          "y": 266.8065655514272
         },
         {
          "arrowhead": 2,
          "ax": 0,
          "ay": -30,
          "showarrow": true,
          "text": "Unknown sample",
          "x": 14,
          "y": 109.82
         }
        ],
        "legend": {
         "x": 1,
         "y": 0.5
        },
        "template": {
         "data": {
          "bar": [
           {
            "error_x": {
             "color": "#2a3f5f"
            },
            "error_y": {
             "color": "#2a3f5f"
            },
            "marker": {
             "line": {
              "color": "#E5ECF6",
              "width": 0.5
             },
             "pattern": {
              "fillmode": "overlay",
              "size": 10,
              "solidity": 0.2
             }
            },
            "type": "bar"
           }
          ],
          "barpolar": [
           {
            "marker": {
             "line": {
              "color": "#E5ECF6",
              "width": 0.5
             },
             "pattern": {
              "fillmode": "overlay",
              "size": 10,
              "solidity": 0.2
             }
            },
            "type": "barpolar"
           }
          ],
          "carpet": [
           {
            "aaxis": {
             "endlinecolor": "#2a3f5f",
             "gridcolor": "white",
             "linecolor": "white",
             "minorgridcolor": "white",
             "startlinecolor": "#2a3f5f"
            },
            "baxis": {
             "endlinecolor": "#2a3f5f",
             "gridcolor": "white",
             "linecolor": "white",
             "minorgridcolor": "white",
             "startlinecolor": "#2a3f5f"
            },
            "type": "carpet"
           }
          ],
          "choropleth": [
           {
            "colorbar": {
             "outlinewidth": 0,
             "ticks": ""
            },
            "type": "choropleth"
           }
          ],
          "contour": [
           {
            "colorbar": {
             "outlinewidth": 0,
             "ticks": ""
            },
            "colorscale": [
             [
              0,
              "#0d0887"
             ],
             [
              0.1111111111111111,
              "#46039f"
             ],
             [
              0.2222222222222222,
              "#7201a8"
             ],
             [
              0.3333333333333333,
              "#9c179e"
             ],
             [
              0.4444444444444444,
              "#bd3786"
             ],
             [
              0.5555555555555556,
              "#d8576b"
             ],
             [
              0.6666666666666666,
              "#ed7953"
             ],
             [
              0.7777777777777778,
              "#fb9f3a"
             ],
             [
              0.8888888888888888,
              "#fdca26"
             ],
             [
              1,
              "#f0f921"
             ]
            ],
            "type": "contour"
           }
          ],
          "contourcarpet": [
           {
            "colorbar": {
             "outlinewidth": 0,
             "ticks": ""
            },
            "type": "contourcarpet"
           }
          ],
          "heatmap": [
           {
            "colorbar": {
             "outlinewidth": 0,
             "ticks": ""
            },
            "colorscale": [
             [
              0,
              "#0d0887"
             ],
             [
              0.1111111111111111,
              "#46039f"
             ],
             [
              0.2222222222222222,
              "#7201a8"
             ],
             [
              0.3333333333333333,
              "#9c179e"
             ],
             [
              0.4444444444444444,
              "#bd3786"
             ],
             [
              0.5555555555555556,
              "#d8576b"
             ],
             [
              0.6666666666666666,
              "#ed7953"
             ],
             [
              0.7777777777777778,
              "#fb9f3a"
             ],
             [
              0.8888888888888888,
              "#fdca26"
             ],
             [
              1,
              "#f0f921"
             ]
            ],
            "type": "heatmap"
           }
          ],
          "heatmapgl": [
           {
            "colorbar": {
             "outlinewidth": 0,
             "ticks": ""
            },
            "colorscale": [
             [
              0,
              "#0d0887"
             ],
             [
              0.1111111111111111,
              "#46039f"
             ],
             [
              0.2222222222222222,
              "#7201a8"
             ],
             [
              0.3333333333333333,
              "#9c179e"
             ],
             [
              0.4444444444444444,
              "#bd3786"
             ],
             [
              0.5555555555555556,
              "#d8576b"
             ],
             [
              0.6666666666666666,
              "#ed7953"
             ],
             [
              0.7777777777777778,
              "#fb9f3a"
             ],
             [
              0.8888888888888888,
              "#fdca26"
             ],
             [
              1,
              "#f0f921"
             ]
            ],
            "type": "heatmapgl"
           }
          ],
          "histogram": [
           {
            "marker": {
             "pattern": {
              "fillmode": "overlay",
              "size": 10,
              "solidity": 0.2
             }
            },
            "type": "histogram"
           }
          ],
          "histogram2d": [
           {
            "colorbar": {
             "outlinewidth": 0,
             "ticks": ""
            },
            "colorscale": [
             [
              0,
              "#0d0887"
             ],
             [
              0.1111111111111111,
              "#46039f"
             ],
             [
              0.2222222222222222,
              "#7201a8"
             ],
             [
              0.3333333333333333,
              "#9c179e"
             ],
             [
              0.4444444444444444,
              "#bd3786"
             ],
             [
              0.5555555555555556,
              "#d8576b"
             ],
             [
              0.6666666666666666,
              "#ed7953"
             ],
             [
              0.7777777777777778,
              "#fb9f3a"
             ],
             [
              0.8888888888888888,
              "#fdca26"
             ],
             [
              1,
              "#f0f921"
             ]
            ],
            "type": "histogram2d"
           }
          ],
          "histogram2dcontour": [
           {
            "colorbar": {
             "outlinewidth": 0,
             "ticks": ""
            },
            "colorscale": [
             [
              0,
              "#0d0887"
             ],
             [
              0.1111111111111111,
              "#46039f"
             ],
             [
              0.2222222222222222,
              "#7201a8"
             ],
             [
              0.3333333333333333,
              "#9c179e"
             ],
             [
              0.4444444444444444,
              "#bd3786"
             ],
             [
              0.5555555555555556,
              "#d8576b"
             ],
             [
              0.6666666666666666,
              "#ed7953"
             ],
             [
              0.7777777777777778,
              "#fb9f3a"
             ],
             [
              0.8888888888888888,
              "#fdca26"
             ],
             [
              1,
              "#f0f921"
             ]
            ],
            "type": "histogram2dcontour"
           }
          ],
          "mesh3d": [
           {
            "colorbar": {
             "outlinewidth": 0,
             "ticks": ""
            },
            "type": "mesh3d"
           }
          ],
          "parcoords": [
           {
            "line": {
             "colorbar": {
              "outlinewidth": 0,
              "ticks": ""
             }
            },
            "type": "parcoords"
           }
          ],
          "pie": [
           {
            "automargin": true,
            "type": "pie"
           }
          ],
          "scatter": [
           {
            "fillpattern": {
             "fillmode": "overlay",
             "size": 10,
             "solidity": 0.2
            },
            "type": "scatter"
           }
          ],
          "scatter3d": [
           {
            "line": {
             "colorbar": {
              "outlinewidth": 0,
              "ticks": ""
             }
            },
            "marker": {
             "colorbar": {
              "outlinewidth": 0,
              "ticks": ""
             }
            },
            "type": "scatter3d"
           }
          ],
          "scattercarpet": [
           {
            "marker": {
             "colorbar": {
              "outlinewidth": 0,
              "ticks": ""
             }
            },
            "type": "scattercarpet"
           }
          ],
          "scattergeo": [
           {
            "marker": {
             "colorbar": {
              "outlinewidth": 0,
              "ticks": ""
             }
            },
            "type": "scattergeo"
           }
          ],
          "scattergl": [
           {
            "marker": {
             "colorbar": {
              "outlinewidth": 0,
              "ticks": ""
             }
            },
            "type": "scattergl"
           }
          ],
          "scattermapbox": [
           {
            "marker": {
             "colorbar": {
              "outlinewidth": 0,
              "ticks": ""
             }
            },
            "type": "scattermapbox"
           }
          ],
          "scatterpolar": [
           {
            "marker": {
             "colorbar": {
              "outlinewidth": 0,
              "ticks": ""
             }
            },
            "type": "scatterpolar"
           }
          ],
          "scatterpolargl": [
           {
            "marker": {
             "colorbar": {
              "outlinewidth": 0,
              "ticks": ""
             }
            },
            "type": "scatterpolargl"
           }
          ],
          "scatterternary": [
           {
            "marker": {
             "colorbar": {
              "outlinewidth": 0,
              "ticks": ""
             }
            },
            "type": "scatterternary"
           }
          ],
          "surface": [
           {
            "colorbar": {
             "outlinewidth": 0,
             "ticks": ""
            },
            "colorscale": [
             [
              0,
              "#0d0887"
             ],
             [
              0.1111111111111111,
              "#46039f"
             ],
             [
              0.2222222222222222,
              "#7201a8"
             ],
             [
              0.3333333333333333,
              "#9c179e"
             ],
             [
              0.4444444444444444,
              "#bd3786"
             ],
             [
              0.5555555555555556,
              "#d8576b"
             ],
             [
              0.6666666666666666,
              "#ed7953"
             ],
             [
              0.7777777777777778,
              "#fb9f3a"
             ],
             [
              0.8888888888888888,
              "#fdca26"
             ],
             [
              1,
              "#f0f921"
             ]
            ],
            "type": "surface"
           }
          ],
          "table": [
           {
            "cells": {
             "fill": {
              "color": "#EBF0F8"
             },
             "line": {
              "color": "white"
             }
            },
            "header": {
             "fill": {
              "color": "#C8D4E3"
             },
             "line": {
              "color": "white"
             }
            },
            "type": "table"
           }
          ]
         },
         "layout": {
          "annotationdefaults": {
           "arrowcolor": "#2a3f5f",
           "arrowhead": 0,
           "arrowwidth": 1
          },
          "autotypenumbers": "strict",
          "coloraxis": {
           "colorbar": {
            "outlinewidth": 0,
            "ticks": ""
           }
          },
          "colorscale": {
           "diverging": [
            [
             0,
             "#8e0152"
            ],
            [
             0.1,
             "#c51b7d"
            ],
            [
             0.2,
             "#de77ae"
            ],
            [
             0.3,
             "#f1b6da"
            ],
            [
             0.4,
             "#fde0ef"
            ],
            [
             0.5,
             "#f7f7f7"
            ],
            [
             0.6,
             "#e6f5d0"
            ],
            [
             0.7,
             "#b8e186"
            ],
            [
             0.8,
             "#7fbc41"
            ],
            [
             0.9,
             "#4d9221"
            ],
            [
             1,
             "#276419"
            ]
           ],
           "sequential": [
            [
             0,
             "#0d0887"
            ],
            [
             0.1111111111111111,
             "#46039f"
            ],
            [
             0.2222222222222222,
             "#7201a8"
            ],
            [
             0.3333333333333333,
             "#9c179e"
            ],
            [
             0.4444444444444444,
             "#bd3786"
            ],
            [
             0.5555555555555556,
             "#d8576b"
            ],
            [
             0.6666666666666666,
             "#ed7953"
            ],
            [
             0.7777777777777778,
             "#fb9f3a"
            ],
            [
             0.8888888888888888,
             "#fdca26"
            ],
            [
             1,
             "#f0f921"
            ]
           ],
           "sequentialminus": [
            [
             0,
             "#0d0887"
            ],
            [
             0.1111111111111111,
             "#46039f"
            ],
            [
             0.2222222222222222,
             "#7201a8"
            ],
            [
             0.3333333333333333,
             "#9c179e"
            ],
            [
             0.4444444444444444,
             "#bd3786"
            ],
            [
             0.5555555555555556,
             "#d8576b"
            ],
            [
             0.6666666666666666,
             "#ed7953"
            ],
            [
             0.7777777777777778,
             "#fb9f3a"
            ],
            [
             0.8888888888888888,
             "#fdca26"
            ],
            [
             1,
             "#f0f921"
            ]
           ]
          },
          "colorway": [
           "#636efa",
           "#EF553B",
           "#00cc96",
           "#ab63fa",
           "#FFA15A",
           "#19d3f3",
           "#FF6692",
           "#B6E880",
           "#FF97FF",
           "#FECB52"
          ],
          "font": {
           "color": "#2a3f5f"
          },
          "geo": {
           "bgcolor": "white",
           "lakecolor": "white",
           "landcolor": "#E5ECF6",
           "showlakes": true,
           "showland": true,
           "subunitcolor": "white"
          },
          "hoverlabel": {
           "align": "left"
          },
          "hovermode": "closest",
          "mapbox": {
           "style": "light"
          },
          "paper_bgcolor": "white",
          "plot_bgcolor": "#E5ECF6",
          "polar": {
           "angularaxis": {
            "gridcolor": "white",
            "linecolor": "white",
            "ticks": ""
           },
           "bgcolor": "#E5ECF6",
           "radialaxis": {
            "gridcolor": "white",
            "linecolor": "white",
            "ticks": ""
           }
          },
          "scene": {
           "xaxis": {
            "backgroundcolor": "#E5ECF6",
            "gridcolor": "white",
            "gridwidth": 2,
            "linecolor": "white",
            "showbackground": true,
            "ticks": "",
            "zerolinecolor": "white"
           },
           "yaxis": {
            "backgroundcolor": "#E5ECF6",
            "gridcolor": "white",
            "gridwidth": 2,
            "linecolor": "white",
            "showbackground": true,
            "ticks": "",
            "zerolinecolor": "white"
           },
           "zaxis": {
            "backgroundcolor": "#E5ECF6",
            "gridcolor": "white",
            "gridwidth": 2,
            "linecolor": "white",
            "showbackground": true,
            "ticks": "",
            "zerolinecolor": "white"
           }
          },
          "shapedefaults": {
           "line": {
            "color": "#2a3f5f"
           }
          },
          "ternary": {
           "aaxis": {
            "gridcolor": "white",
            "linecolor": "white",
            "ticks": ""
           },
           "baxis": {
            "gridcolor": "white",
            "linecolor": "white",
            "ticks": ""
           },
           "bgcolor": "#E5ECF6",
           "caxis": {
            "gridcolor": "white",
            "linecolor": "white",
            "ticks": ""
           }
          },
          "title": {
           "x": 0.05
          },
          "xaxis": {
           "automargin": true,
           "gridcolor": "white",
           "linecolor": "white",
           "ticks": "",
           "title": {
            "standoff": 15
           },
           "zerolinecolor": "white",
           "zerolinewidth": 2
          },
          "yaxis": {
           "automargin": true,
           "gridcolor": "white",
           "linecolor": "white",
           "ticks": "",
           "title": {
            "standoff": 15
           },
           "zerolinecolor": "white",
           "zerolinewidth": 2
          }
         }
        },
        "title": {
         "text": "One-Class SVM Detection of DMMP"
        },
        "xaxis": {
         "title": {
          "text": "Sample Index"
         }
        },
        "yaxis": {
         "title": {
          "text": "Score Samples Value"
         }
        }
       }
      }
     },
     "metadata": {},
     "output_type": "display_data"
    }
   ],
   "source": [
    "import plotly.graph_objects as go\n",
    "\n",
    "# OneClassSVM model\n",
    "Z_train = clf.score_samples(X_train)\n",
    "decision_function_scores_unknown = clf.score_samples(combined_dataframe)\n",
    "\n",
    "# Convert the scores to a pandas DataFrame\n",
    "scores_df_train = pd.DataFrame({'Sample Index': X_train.index, 'Decision Function Scores': Z_train})\n",
    "scores_df_unknown = pd.DataFrame({'Sample Index': [X_train.index.max() + 1], 'Decision Function Scores': decision_function_scores_unknown})\n",
    "scores_df_unknown['Decision Function Scores'] = scores_df_unknown['Decision Function Scores'].round(decimals=2)\n",
    "\n",
    "# Define thresholds\n",
    "lower_threshold = 240\n",
    "upper_threshold = 280\n",
    "\n",
    "# Predict inliers and outliers based on the threshold for score samples\n",
    "unknown_prediction = \"DMMP\"\n",
    "if scores_df_unknown['Decision Function Scores'].iloc[0] < lower_threshold or scores_df_unknown['Decision Function Scores'].iloc[0] > upper_threshold:\n",
    "    unknown_prediction = \"Unknown sample\"\n",
    "\n",
    "# Create traces for training samples, unknown sample, and decision boundary\n",
    "trace_train = go.Scatter(x=scores_df_train['Sample Index'], y=scores_df_train['Decision Function Scores'], mode='lines+markers',\n",
    "                         name='Training Samples', line=dict(color='blue'))\n",
    "\n",
    "trace_unknown = go.Scatter(x=scores_df_unknown['Sample Index'], y=scores_df_unknown['Decision Function Scores'], mode='markers',\n",
    "                           name=f'Unknown Sample ({unknown_prediction})', marker=dict(color='red', size=10))\n",
    "\n",
    "# Add labels for training samples\n",
    "predictions = np.where(scores_df_train['Decision Function Scores'] < lower_threshold, \"Unknown sample\",\n",
    "                       np.where(scores_df_train['Decision Function Scores'] > upper_threshold, \"Unknown sample\", \"DMMP\"))\n",
    "annotations_train = [dict(x=scores_df_train['Sample Index'][i], y=scores_df_train['Decision Function Scores'][i],\n",
    "                          text=predictions[i], showarrow=True, arrowhead=2, ax=0, ay=-30) for i in range(len(predictions))]\n",
    "\n",
    "# Add label for unknown sample\n",
    "annotations_unknown = [dict(x=scores_df_unknown['Sample Index'].iloc[0], y=scores_df_unknown['Decision Function Scores'].iloc[0],\n",
    "                            text=unknown_prediction, showarrow=True, arrowhead=2, ax=0, ay=-30)]\n",
    "\n",
    "# Create decision boundary traces\n",
    "lower_decision_boundary_trace = go.Scatter(x=[scores_df_train['Sample Index'].min(), scores_df_train['Sample Index'].max()],\n",
    "                                            y=[lower_threshold, lower_threshold], mode='lines', name='Lower Threshold',\n",
    "                                            line=dict(color='green', dash='dash'))\n",
    "upper_decision_boundary_trace = go.Scatter(x=[scores_df_train['Sample Index'].min(), scores_df_train['Sample Index'].max()],\n",
    "                                            y=[upper_threshold, upper_threshold], mode='lines', name='Upper Threshold',\n",
    "                                            line=dict(color='orange', dash='dash'))\n",
    "\n",
    "# Create layout\n",
    "layout = go.Layout(title=\"One-Class SVM Detection of DMMP\", xaxis=dict(title=\"Sample Index\"), yaxis=dict(title=\"Score Samples Value\"),\n",
    "                   legend=dict(x=1, y=0.5), annotations=annotations_train + annotations_unknown)\n",
    "\n",
    "# Create figure\n",
    "fig = go.Figure(data=[trace_train, trace_unknown, lower_decision_boundary_trace, upper_decision_boundary_trace], layout=layout)\n",
    "\n",
    "fig.show()"
   ]
  },
  {
   "cell_type": "code",
   "execution_count": 54,
   "metadata": {},
   "outputs": [
    {
     "data": {
      "application/vnd.plotly.v1+json": {
       "config": {
        "plotlyServerURL": "https://plot.ly"
       },
       "data": [
        {
         "line": {
          "color": "blue"
         },
         "mode": "lines+markers",
         "name": "Training Samples",
         "type": "scatter",
         "x": [
          0,
          1,
          2,
          3,
          4,
          5,
          6,
          7,
          8,
          9,
          10,
          11,
          12,
          13
         ],
         "y": [
          0.20050431170790262,
          0.06784922543886296,
          0.0000097124999456355,
          0.034775863730430956,
          11.769847782500136,
          20.056312318154795,
          15.358812967697503,
          15.326223193730499,
          21.377127797092072,
          20.18965790380807,
          15.885247526707047,
          15.673782709160463,
          17.200073093120153,
          15.811885863927074
         ]
        },
        {
         "marker": {
          "color": "red",
          "size": 10
         },
         "mode": "markers",
         "name": "Unknown Sample (unknown)",
         "type": "scatter",
         "x": [
          14
         ],
         "y": [
          -141.18
         ]
        },
        {
         "line": {
          "color": "red",
          "dash": "dash"
         },
         "mode": "lines",
         "name": "Decision Boundary",
         "type": "scatter",
         "x": [
          0,
          13
         ],
         "y": [
          -1,
          -1
         ]
        }
       ],
       "layout": {
        "annotations": [
         {
          "arrowhead": 2,
          "ax": 0,
          "ay": -30,
          "showarrow": true,
          "text": "DMMP",
          "x": 0,
          "y": 0.20050431170790262
         },
         {
          "arrowhead": 2,
          "ax": 0,
          "ay": -30,
          "showarrow": true,
          "text": "DMMP",
          "x": 1,
          "y": 0.06784922543886296
         },
         {
          "arrowhead": 2,
          "ax": 0,
          "ay": -30,
          "showarrow": true,
          "text": "DMMP",
          "x": 2,
          "y": 0.0000097124999456355
         },
         {
          "arrowhead": 2,
          "ax": 0,
          "ay": -30,
          "showarrow": true,
          "text": "DMMP",
          "x": 3,
          "y": 0.034775863730430956
         },
         {
          "arrowhead": 2,
          "ax": 0,
          "ay": -30,
          "showarrow": true,
          "text": "DMMP",
          "x": 4,
          "y": 11.769847782500136
         },
         {
          "arrowhead": 2,
          "ax": 0,
          "ay": -30,
          "showarrow": true,
          "text": "DMMP",
          "x": 5,
          "y": 20.056312318154795
         },
         {
          "arrowhead": 2,
          "ax": 0,
          "ay": -30,
          "showarrow": true,
          "text": "DMMP",
          "x": 6,
          "y": 15.358812967697503
         },
         {
          "arrowhead": 2,
          "ax": 0,
          "ay": -30,
          "showarrow": true,
          "text": "DMMP",
          "x": 7,
          "y": 15.326223193730499
         },
         {
          "arrowhead": 2,
          "ax": 0,
          "ay": -30,
          "showarrow": true,
          "text": "DMMP",
          "x": 8,
          "y": 21.377127797092072
         },
         {
          "arrowhead": 2,
          "ax": 0,
          "ay": -30,
          "showarrow": true,
          "text": "DMMP",
          "x": 9,
          "y": 20.18965790380807
         },
         {
          "arrowhead": 2,
          "ax": 0,
          "ay": -30,
          "showarrow": true,
          "text": "DMMP",
          "x": 10,
          "y": 15.885247526707047
         },
         {
          "arrowhead": 2,
          "ax": 0,
          "ay": -30,
          "showarrow": true,
          "text": "DMMP",
          "x": 11,
          "y": 15.673782709160463
         },
         {
          "arrowhead": 2,
          "ax": 0,
          "ay": -30,
          "showarrow": true,
          "text": "DMMP",
          "x": 12,
          "y": 17.200073093120153
         },
         {
          "arrowhead": 2,
          "ax": 0,
          "ay": -30,
          "showarrow": true,
          "text": "DMMP",
          "x": 13,
          "y": 15.811885863927074
         },
         {
          "arrowhead": 2,
          "ax": 0,
          "ay": -30,
          "showarrow": true,
          "text": "unknown",
          "x": 14,
          "y": -141.18
         }
        ],
        "legend": {
         "x": 1,
         "y": 0.5
        },
        "template": {
         "data": {
          "bar": [
           {
            "error_x": {
             "color": "#2a3f5f"
            },
            "error_y": {
             "color": "#2a3f5f"
            },
            "marker": {
             "line": {
              "color": "#E5ECF6",
              "width": 0.5
             },
             "pattern": {
              "fillmode": "overlay",
              "size": 10,
              "solidity": 0.2
             }
            },
            "type": "bar"
           }
          ],
          "barpolar": [
           {
            "marker": {
             "line": {
              "color": "#E5ECF6",
              "width": 0.5
             },
             "pattern": {
              "fillmode": "overlay",
              "size": 10,
              "solidity": 0.2
             }
            },
            "type": "barpolar"
           }
          ],
          "carpet": [
           {
            "aaxis": {
             "endlinecolor": "#2a3f5f",
             "gridcolor": "white",
             "linecolor": "white",
             "minorgridcolor": "white",
             "startlinecolor": "#2a3f5f"
            },
            "baxis": {
             "endlinecolor": "#2a3f5f",
             "gridcolor": "white",
             "linecolor": "white",
             "minorgridcolor": "white",
             "startlinecolor": "#2a3f5f"
            },
            "type": "carpet"
           }
          ],
          "choropleth": [
           {
            "colorbar": {
             "outlinewidth": 0,
             "ticks": ""
            },
            "type": "choropleth"
           }
          ],
          "contour": [
           {
            "colorbar": {
             "outlinewidth": 0,
             "ticks": ""
            },
            "colorscale": [
             [
              0,
              "#0d0887"
             ],
             [
              0.1111111111111111,
              "#46039f"
             ],
             [
              0.2222222222222222,
              "#7201a8"
             ],
             [
              0.3333333333333333,
              "#9c179e"
             ],
             [
              0.4444444444444444,
              "#bd3786"
             ],
             [
              0.5555555555555556,
              "#d8576b"
             ],
             [
              0.6666666666666666,
              "#ed7953"
             ],
             [
              0.7777777777777778,
              "#fb9f3a"
             ],
             [
              0.8888888888888888,
              "#fdca26"
             ],
             [
              1,
              "#f0f921"
             ]
            ],
            "type": "contour"
           }
          ],
          "contourcarpet": [
           {
            "colorbar": {
             "outlinewidth": 0,
             "ticks": ""
            },
            "type": "contourcarpet"
           }
          ],
          "heatmap": [
           {
            "colorbar": {
             "outlinewidth": 0,
             "ticks": ""
            },
            "colorscale": [
             [
              0,
              "#0d0887"
             ],
             [
              0.1111111111111111,
              "#46039f"
             ],
             [
              0.2222222222222222,
              "#7201a8"
             ],
             [
              0.3333333333333333,
              "#9c179e"
             ],
             [
              0.4444444444444444,
              "#bd3786"
             ],
             [
              0.5555555555555556,
              "#d8576b"
             ],
             [
              0.6666666666666666,
              "#ed7953"
             ],
             [
              0.7777777777777778,
              "#fb9f3a"
             ],
             [
              0.8888888888888888,
              "#fdca26"
             ],
             [
              1,
              "#f0f921"
             ]
            ],
            "type": "heatmap"
           }
          ],
          "heatmapgl": [
           {
            "colorbar": {
             "outlinewidth": 0,
             "ticks": ""
            },
            "colorscale": [
             [
              0,
              "#0d0887"
             ],
             [
              0.1111111111111111,
              "#46039f"
             ],
             [
              0.2222222222222222,
              "#7201a8"
             ],
             [
              0.3333333333333333,
              "#9c179e"
             ],
             [
              0.4444444444444444,
              "#bd3786"
             ],
             [
              0.5555555555555556,
              "#d8576b"
             ],
             [
              0.6666666666666666,
              "#ed7953"
             ],
             [
              0.7777777777777778,
              "#fb9f3a"
             ],
             [
              0.8888888888888888,
              "#fdca26"
             ],
             [
              1,
              "#f0f921"
             ]
            ],
            "type": "heatmapgl"
           }
          ],
          "histogram": [
           {
            "marker": {
             "pattern": {
              "fillmode": "overlay",
              "size": 10,
              "solidity": 0.2
             }
            },
            "type": "histogram"
           }
          ],
          "histogram2d": [
           {
            "colorbar": {
             "outlinewidth": 0,
             "ticks": ""
            },
            "colorscale": [
             [
              0,
              "#0d0887"
             ],
             [
              0.1111111111111111,
              "#46039f"
             ],
             [
              0.2222222222222222,
              "#7201a8"
             ],
             [
              0.3333333333333333,
              "#9c179e"
             ],
             [
              0.4444444444444444,
              "#bd3786"
             ],
             [
              0.5555555555555556,
              "#d8576b"
             ],
             [
              0.6666666666666666,
              "#ed7953"
             ],
             [
              0.7777777777777778,
              "#fb9f3a"
             ],
             [
              0.8888888888888888,
              "#fdca26"
             ],
             [
              1,
              "#f0f921"
             ]
            ],
            "type": "histogram2d"
           }
          ],
          "histogram2dcontour": [
           {
            "colorbar": {
             "outlinewidth": 0,
             "ticks": ""
            },
            "colorscale": [
             [
              0,
              "#0d0887"
             ],
             [
              0.1111111111111111,
              "#46039f"
             ],
             [
              0.2222222222222222,
              "#7201a8"
             ],
             [
              0.3333333333333333,
              "#9c179e"
             ],
             [
              0.4444444444444444,
              "#bd3786"
             ],
             [
              0.5555555555555556,
              "#d8576b"
             ],
             [
              0.6666666666666666,
              "#ed7953"
             ],
             [
              0.7777777777777778,
              "#fb9f3a"
             ],
             [
              0.8888888888888888,
              "#fdca26"
             ],
             [
              1,
              "#f0f921"
             ]
            ],
            "type": "histogram2dcontour"
           }
          ],
          "mesh3d": [
           {
            "colorbar": {
             "outlinewidth": 0,
             "ticks": ""
            },
            "type": "mesh3d"
           }
          ],
          "parcoords": [
           {
            "line": {
             "colorbar": {
              "outlinewidth": 0,
              "ticks": ""
             }
            },
            "type": "parcoords"
           }
          ],
          "pie": [
           {
            "automargin": true,
            "type": "pie"
           }
          ],
          "scatter": [
           {
            "fillpattern": {
             "fillmode": "overlay",
             "size": 10,
             "solidity": 0.2
            },
            "type": "scatter"
           }
          ],
          "scatter3d": [
           {
            "line": {
             "colorbar": {
              "outlinewidth": 0,
              "ticks": ""
             }
            },
            "marker": {
             "colorbar": {
              "outlinewidth": 0,
              "ticks": ""
             }
            },
            "type": "scatter3d"
           }
          ],
          "scattercarpet": [
           {
            "marker": {
             "colorbar": {
              "outlinewidth": 0,
              "ticks": ""
             }
            },
            "type": "scattercarpet"
           }
          ],
          "scattergeo": [
           {
            "marker": {
             "colorbar": {
              "outlinewidth": 0,
              "ticks": ""
             }
            },
            "type": "scattergeo"
           }
          ],
          "scattergl": [
           {
            "marker": {
             "colorbar": {
              "outlinewidth": 0,
              "ticks": ""
             }
            },
            "type": "scattergl"
           }
          ],
          "scattermapbox": [
           {
            "marker": {
             "colorbar": {
              "outlinewidth": 0,
              "ticks": ""
             }
            },
            "type": "scattermapbox"
           }
          ],
          "scatterpolar": [
           {
            "marker": {
             "colorbar": {
              "outlinewidth": 0,
              "ticks": ""
             }
            },
            "type": "scatterpolar"
           }
          ],
          "scatterpolargl": [
           {
            "marker": {
             "colorbar": {
              "outlinewidth": 0,
              "ticks": ""
             }
            },
            "type": "scatterpolargl"
           }
          ],
          "scatterternary": [
           {
            "marker": {
             "colorbar": {
              "outlinewidth": 0,
              "ticks": ""
             }
            },
            "type": "scatterternary"
           }
          ],
          "surface": [
           {
            "colorbar": {
             "outlinewidth": 0,
             "ticks": ""
            },
            "colorscale": [
             [
              0,
              "#0d0887"
             ],
             [
              0.1111111111111111,
              "#46039f"
             ],
             [
              0.2222222222222222,
              "#7201a8"
             ],
             [
              0.3333333333333333,
              "#9c179e"
             ],
             [
              0.4444444444444444,
              "#bd3786"
             ],
             [
              0.5555555555555556,
              "#d8576b"
             ],
             [
              0.6666666666666666,
              "#ed7953"
             ],
             [
              0.7777777777777778,
              "#fb9f3a"
             ],
             [
              0.8888888888888888,
              "#fdca26"
             ],
             [
              1,
              "#f0f921"
             ]
            ],
            "type": "surface"
           }
          ],
          "table": [
           {
            "cells": {
             "fill": {
              "color": "#EBF0F8"
             },
             "line": {
              "color": "white"
             }
            },
            "header": {
             "fill": {
              "color": "#C8D4E3"
             },
             "line": {
              "color": "white"
             }
            },
            "type": "table"
           }
          ]
         },
         "layout": {
          "annotationdefaults": {
           "arrowcolor": "#2a3f5f",
           "arrowhead": 0,
           "arrowwidth": 1
          },
          "autotypenumbers": "strict",
          "coloraxis": {
           "colorbar": {
            "outlinewidth": 0,
            "ticks": ""
           }
          },
          "colorscale": {
           "diverging": [
            [
             0,
             "#8e0152"
            ],
            [
             0.1,
             "#c51b7d"
            ],
            [
             0.2,
             "#de77ae"
            ],
            [
             0.3,
             "#f1b6da"
            ],
            [
             0.4,
             "#fde0ef"
            ],
            [
             0.5,
             "#f7f7f7"
            ],
            [
             0.6,
             "#e6f5d0"
            ],
            [
             0.7,
             "#b8e186"
            ],
            [
             0.8,
             "#7fbc41"
            ],
            [
             0.9,
             "#4d9221"
            ],
            [
             1,
             "#276419"
            ]
           ],
           "sequential": [
            [
             0,
             "#0d0887"
            ],
            [
             0.1111111111111111,
             "#46039f"
            ],
            [
             0.2222222222222222,
             "#7201a8"
            ],
            [
             0.3333333333333333,
             "#9c179e"
            ],
            [
             0.4444444444444444,
             "#bd3786"
            ],
            [
             0.5555555555555556,
             "#d8576b"
            ],
            [
             0.6666666666666666,
             "#ed7953"
            ],
            [
             0.7777777777777778,
             "#fb9f3a"
            ],
            [
             0.8888888888888888,
             "#fdca26"
            ],
            [
             1,
             "#f0f921"
            ]
           ],
           "sequentialminus": [
            [
             0,
             "#0d0887"
            ],
            [
             0.1111111111111111,
             "#46039f"
            ],
            [
             0.2222222222222222,
             "#7201a8"
            ],
            [
             0.3333333333333333,
             "#9c179e"
            ],
            [
             0.4444444444444444,
             "#bd3786"
            ],
            [
             0.5555555555555556,
             "#d8576b"
            ],
            [
             0.6666666666666666,
             "#ed7953"
            ],
            [
             0.7777777777777778,
             "#fb9f3a"
            ],
            [
             0.8888888888888888,
             "#fdca26"
            ],
            [
             1,
             "#f0f921"
            ]
           ]
          },
          "colorway": [
           "#636efa",
           "#EF553B",
           "#00cc96",
           "#ab63fa",
           "#FFA15A",
           "#19d3f3",
           "#FF6692",
           "#B6E880",
           "#FF97FF",
           "#FECB52"
          ],
          "font": {
           "color": "#2a3f5f"
          },
          "geo": {
           "bgcolor": "white",
           "lakecolor": "white",
           "landcolor": "#E5ECF6",
           "showlakes": true,
           "showland": true,
           "subunitcolor": "white"
          },
          "hoverlabel": {
           "align": "left"
          },
          "hovermode": "closest",
          "mapbox": {
           "style": "light"
          },
          "paper_bgcolor": "white",
          "plot_bgcolor": "#E5ECF6",
          "polar": {
           "angularaxis": {
            "gridcolor": "white",
            "linecolor": "white",
            "ticks": ""
           },
           "bgcolor": "#E5ECF6",
           "radialaxis": {
            "gridcolor": "white",
            "linecolor": "white",
            "ticks": ""
           }
          },
          "scene": {
           "xaxis": {
            "backgroundcolor": "#E5ECF6",
            "gridcolor": "white",
            "gridwidth": 2,
            "linecolor": "white",
            "showbackground": true,
            "ticks": "",
            "zerolinecolor": "white"
           },
           "yaxis": {
            "backgroundcolor": "#E5ECF6",
            "gridcolor": "white",
            "gridwidth": 2,
            "linecolor": "white",
            "showbackground": true,
            "ticks": "",
            "zerolinecolor": "white"
           },
           "zaxis": {
            "backgroundcolor": "#E5ECF6",
            "gridcolor": "white",
            "gridwidth": 2,
            "linecolor": "white",
            "showbackground": true,
            "ticks": "",
            "zerolinecolor": "white"
           }
          },
          "shapedefaults": {
           "line": {
            "color": "#2a3f5f"
           }
          },
          "ternary": {
           "aaxis": {
            "gridcolor": "white",
            "linecolor": "white",
            "ticks": ""
           },
           "baxis": {
            "gridcolor": "white",
            "linecolor": "white",
            "ticks": ""
           },
           "bgcolor": "#E5ECF6",
           "caxis": {
            "gridcolor": "white",
            "linecolor": "white",
            "ticks": ""
           }
          },
          "title": {
           "x": 0.05
          },
          "xaxis": {
           "automargin": true,
           "gridcolor": "white",
           "linecolor": "white",
           "ticks": "",
           "title": {
            "standoff": 15
           },
           "zerolinecolor": "white",
           "zerolinewidth": 2
          },
          "yaxis": {
           "automargin": true,
           "gridcolor": "white",
           "linecolor": "white",
           "ticks": "",
           "title": {
            "standoff": 15
           },
           "zerolinecolor": "white",
           "zerolinewidth": 2
          }
         }
        },
        "title": {
         "text": "One-Class SVM Detection of DMMP"
        },
        "xaxis": {
         "title": {
          "text": "Sample Index"
         }
        },
        "yaxis": {
         "title": {
          "text": "Decision Function Scores"
         }
        }
       }
      }
     },
     "metadata": {},
     "output_type": "display_data"
    }
   ],
   "source": [
    "# OneClassSVM model\n",
    "Z_train = clf.decision_function(X_train)\n",
    "decision_function_scores_unknown = clf.decision_function(combined_dataframe)\n",
    "\n",
    "# Convert the scores to a pandas DataFrame\n",
    "scores_df_train = pd.DataFrame({'Sample Index': X_train.index, 'Decision Function Scores': Z_train})\n",
    "scores_df_unknown = pd.DataFrame({'Sample Index': [X_train.index.max() + 1], 'Decision Function Scores': decision_function_scores_unknown})\n",
    "scores_df_unknown['Decision Function Scores'] = scores_df_unknown['Decision Function Scores'].round(decimals=2)\n",
    "\n",
    "# Predict inliers and outliers based on the threshold for decision function value\n",
    "threshold = -1\n",
    "unknown_prediction = \"unknown\" if scores_df_unknown['Decision Function Scores'].iloc[0] < threshold else \"DMMP\"\n",
    "\n",
    "# Create traces for training samples, unknown sample, and decision boundary\n",
    "trace_train = go.Scatter(x=scores_df_train['Sample Index'], y=scores_df_train['Decision Function Scores'], mode='lines+markers',\n",
    "                         name='Training Samples', line=dict(color='blue'))\n",
    "\n",
    "trace_unknown = go.Scatter(x=scores_df_unknown['Sample Index'], y=scores_df_unknown['Decision Function Scores'], mode='markers',\n",
    "                           name=f'Unknown Sample ({unknown_prediction})', marker=dict(color='red', size=10))\n",
    "\n",
    "# Add labels for training samples\n",
    "predictions = np.where(scores_df_train['Decision Function Scores'] < threshold, \"unknown\", \"DMMP\")\n",
    "annotations_train = [dict(x=scores_df_train['Sample Index'][i], y=scores_df_train['Decision Function Scores'][i],\n",
    "                           text=predictions[i], showarrow=True, arrowhead=2, ax=0, ay=-30) for i in range(len(predictions))]\n",
    "\n",
    "# Add label for unknown sample\n",
    "annotations_unknown = [dict(x=scores_df_unknown['Sample Index'].iloc[0], y=scores_df_unknown['Decision Function Scores'].iloc[0],\n",
    "                             text=unknown_prediction, showarrow=True, arrowhead=2, ax=0, ay=-30)]\n",
    "\n",
    "# Create decision boundary trace\n",
    "decision_boundary_trace = go.Scatter(x=[scores_df_train['Sample Index'].min(), scores_df_train['Sample Index'].max()],\n",
    "                                     y=[threshold, threshold], mode='lines', name='Decision Boundary', line=dict(color='red', dash='dash'))\n",
    "\n",
    "# Create layout\n",
    "layout = go.Layout(title=\"One-Class SVM Detection of DMMP\", xaxis=dict(title=\"Sample Index\"), yaxis=dict(title=\"Decision Function Scores\"),\n",
    "                   legend=dict(x=1, y=0.5), annotations=annotations_train + annotations_unknown)\n",
    "\n",
    "# Create figure\n",
    "fig = go.Figure(data=[trace_train, trace_unknown, decision_boundary_trace], layout=layout)\n",
    "\n",
    "fig.show()"
   ]
  },
  {
   "cell_type": "code",
   "execution_count": 55,
   "metadata": {},
   "outputs": [
    {
     "name": "stdout",
     "output_type": "stream",
     "text": [
      "The method parameters were not calculated due to the lack of experimental data. \n",
      "Model accuracy = N/A \n",
      "Model precision = N/A \n",
      "Model selectivity = N/A \n",
      "As a result, the data fusion method developed should be considered as a pilot study.\n"
     ]
    }
   ],
   "source": [
    "print(\"The method parameters were not calculated due to the lack of experimental data. \\nModel accuracy = N/A \\nModel precision = N/A \\nModel selectivity = N/A \\nAs a result, the data fusion method developed should be considered as a pilot study.\")"
   ]
  }
 ],
 "metadata": {
  "kernelspec": {
   "display_name": "env",
   "language": "python",
   "name": "python3"
  },
  "language_info": {
   "codemirror_mode": {
    "name": "ipython",
    "version": 3
   },
   "file_extension": ".py",
   "mimetype": "text/x-python",
   "name": "python",
   "nbconvert_exporter": "python",
   "pygments_lexer": "ipython3",
   "version": "3.12.2"
  }
 },
 "nbformat": 4,
 "nbformat_minor": 2
}
