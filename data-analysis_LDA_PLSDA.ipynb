{
 "cells": [
  {
   "cell_type": "code",
   "execution_count": 65,
   "metadata": {},
   "outputs": [],
   "source": [
    "import pandas as pd\n",
    "import numpy as np\n",
    "import seaborn as sns\n",
    "from sklearn.discriminant_analysis import LinearDiscriminantAnalysis as LDA\n",
    "from sklearn.metrics import confusion_matrix, classification_report, precision_score"
   ]
  },
  {
   "cell_type": "code",
   "execution_count": 66,
   "metadata": {},
   "outputs": [],
   "source": [
    "import matplotlib.pyplot as plt\n",
    "from sklearn.datasets import make_classification\n",
    "from sklearn.metrics import ConfusionMatrixDisplay\n",
    "from sklearn.model_selection import train_test_split"
   ]
  },
  {
   "cell_type": "code",
   "execution_count": 67,
   "metadata": {},
   "outputs": [],
   "source": [
    "from sklearn.cross_decomposition import PLSRegression as PLSR"
   ]
  },
  {
   "cell_type": "code",
   "execution_count": 68,
   "metadata": {},
   "outputs": [
    {
     "data": {
      "text/html": [
       "<div>\n",
       "<style scoped>\n",
       "    .dataframe tbody tr th:only-of-type {\n",
       "        vertical-align: middle;\n",
       "    }\n",
       "\n",
       "    .dataframe tbody tr th {\n",
       "        vertical-align: top;\n",
       "    }\n",
       "\n",
       "    .dataframe thead th {\n",
       "        text-align: right;\n",
       "    }\n",
       "</style>\n",
       "<table border=\"1\" class=\"dataframe\">\n",
       "  <thead>\n",
       "    <tr style=\"text-align: right;\">\n",
       "      <th></th>\n",
       "      <th>Class</th>\n",
       "      <th>0.52</th>\n",
       "      <th>0.54</th>\n",
       "      <th>0.56</th>\n",
       "      <th>0.58</th>\n",
       "      <th>0.6</th>\n",
       "      <th>0.62</th>\n",
       "      <th>0.64</th>\n",
       "      <th>0.66</th>\n",
       "      <th>0.68</th>\n",
       "      <th>...</th>\n",
       "      <th>13.68</th>\n",
       "      <th>13.7</th>\n",
       "      <th>13.72</th>\n",
       "      <th>13.74</th>\n",
       "      <th>13.76</th>\n",
       "      <th>13.78</th>\n",
       "      <th>13.8</th>\n",
       "      <th>13.82</th>\n",
       "      <th>13.84</th>\n",
       "      <th>13.86</th>\n",
       "    </tr>\n",
       "    <tr>\n",
       "      <th>Sample_id</th>\n",
       "      <th></th>\n",
       "      <th></th>\n",
       "      <th></th>\n",
       "      <th></th>\n",
       "      <th></th>\n",
       "      <th></th>\n",
       "      <th></th>\n",
       "      <th></th>\n",
       "      <th></th>\n",
       "      <th></th>\n",
       "      <th></th>\n",
       "      <th></th>\n",
       "      <th></th>\n",
       "      <th></th>\n",
       "      <th></th>\n",
       "      <th></th>\n",
       "      <th></th>\n",
       "      <th></th>\n",
       "      <th></th>\n",
       "      <th></th>\n",
       "      <th></th>\n",
       "    </tr>\n",
       "  </thead>\n",
       "  <tbody>\n",
       "    <tr>\n",
       "      <th>TATP_1</th>\n",
       "      <td>TATP</td>\n",
       "      <td>0.076</td>\n",
       "      <td>0.081</td>\n",
       "      <td>0.080</td>\n",
       "      <td>0.077</td>\n",
       "      <td>0.081</td>\n",
       "      <td>0.082</td>\n",
       "      <td>0.080</td>\n",
       "      <td>0.079</td>\n",
       "      <td>0.082</td>\n",
       "      <td>...</td>\n",
       "      <td>0.080</td>\n",
       "      <td>0.078</td>\n",
       "      <td>0.080</td>\n",
       "      <td>0.081</td>\n",
       "      <td>0.081</td>\n",
       "      <td>0.081</td>\n",
       "      <td>0.081</td>\n",
       "      <td>0.079</td>\n",
       "      <td>0.082</td>\n",
       "      <td>0.035</td>\n",
       "    </tr>\n",
       "    <tr>\n",
       "      <th>TATP_2</th>\n",
       "      <td>TATP</td>\n",
       "      <td>0.073</td>\n",
       "      <td>0.079</td>\n",
       "      <td>0.081</td>\n",
       "      <td>0.081</td>\n",
       "      <td>0.080</td>\n",
       "      <td>0.081</td>\n",
       "      <td>0.079</td>\n",
       "      <td>0.077</td>\n",
       "      <td>0.083</td>\n",
       "      <td>...</td>\n",
       "      <td>0.082</td>\n",
       "      <td>0.081</td>\n",
       "      <td>0.081</td>\n",
       "      <td>0.079</td>\n",
       "      <td>0.080</td>\n",
       "      <td>0.084</td>\n",
       "      <td>0.071</td>\n",
       "      <td>0.083</td>\n",
       "      <td>0.078</td>\n",
       "      <td>0.040</td>\n",
       "    </tr>\n",
       "    <tr>\n",
       "      <th>TATP_3</th>\n",
       "      <td>TATP</td>\n",
       "      <td>0.075</td>\n",
       "      <td>0.079</td>\n",
       "      <td>0.078</td>\n",
       "      <td>0.080</td>\n",
       "      <td>0.082</td>\n",
       "      <td>0.079</td>\n",
       "      <td>0.079</td>\n",
       "      <td>0.080</td>\n",
       "      <td>0.079</td>\n",
       "      <td>...</td>\n",
       "      <td>0.084</td>\n",
       "      <td>0.082</td>\n",
       "      <td>0.078</td>\n",
       "      <td>0.078</td>\n",
       "      <td>0.080</td>\n",
       "      <td>0.081</td>\n",
       "      <td>0.081</td>\n",
       "      <td>0.082</td>\n",
       "      <td>0.082</td>\n",
       "      <td>0.040</td>\n",
       "    </tr>\n",
       "    <tr>\n",
       "      <th>TATP_4</th>\n",
       "      <td>TATP</td>\n",
       "      <td>0.079</td>\n",
       "      <td>0.077</td>\n",
       "      <td>0.080</td>\n",
       "      <td>0.080</td>\n",
       "      <td>0.079</td>\n",
       "      <td>0.079</td>\n",
       "      <td>0.080</td>\n",
       "      <td>0.079</td>\n",
       "      <td>0.077</td>\n",
       "      <td>...</td>\n",
       "      <td>0.080</td>\n",
       "      <td>0.084</td>\n",
       "      <td>0.072</td>\n",
       "      <td>0.080</td>\n",
       "      <td>0.079</td>\n",
       "      <td>0.079</td>\n",
       "      <td>0.079</td>\n",
       "      <td>0.080</td>\n",
       "      <td>0.080</td>\n",
       "      <td>0.040</td>\n",
       "    </tr>\n",
       "    <tr>\n",
       "      <th>TATP_5</th>\n",
       "      <td>TATP</td>\n",
       "      <td>0.083</td>\n",
       "      <td>0.080</td>\n",
       "      <td>0.080</td>\n",
       "      <td>0.080</td>\n",
       "      <td>0.078</td>\n",
       "      <td>0.079</td>\n",
       "      <td>0.082</td>\n",
       "      <td>0.085</td>\n",
       "      <td>0.077</td>\n",
       "      <td>...</td>\n",
       "      <td>0.066</td>\n",
       "      <td>0.078</td>\n",
       "      <td>0.077</td>\n",
       "      <td>0.079</td>\n",
       "      <td>0.078</td>\n",
       "      <td>0.077</td>\n",
       "      <td>0.079</td>\n",
       "      <td>0.079</td>\n",
       "      <td>0.079</td>\n",
       "      <td>0.035</td>\n",
       "    </tr>\n",
       "  </tbody>\n",
       "</table>\n",
       "<p>5 rows × 669 columns</p>\n",
       "</div>"
      ],
      "text/plain": [
       "          Class   0.52   0.54   0.56   0.58    0.6   0.62   0.64   0.66  \\\n",
       "Sample_id                                                                 \n",
       "TATP_1     TATP  0.076  0.081  0.080  0.077  0.081  0.082  0.080  0.079   \n",
       "TATP_2     TATP  0.073  0.079  0.081  0.081  0.080  0.081  0.079  0.077   \n",
       "TATP_3     TATP  0.075  0.079  0.078  0.080  0.082  0.079  0.079  0.080   \n",
       "TATP_4     TATP  0.079  0.077  0.080  0.080  0.079  0.079  0.080  0.079   \n",
       "TATP_5     TATP  0.083  0.080  0.080  0.080  0.078  0.079  0.082  0.085   \n",
       "\n",
       "            0.68  ...  13.68   13.7  13.72  13.74  13.76  13.78   13.8  13.82  \\\n",
       "Sample_id         ...                                                           \n",
       "TATP_1     0.082  ...  0.080  0.078  0.080  0.081  0.081  0.081  0.081  0.079   \n",
       "TATP_2     0.083  ...  0.082  0.081  0.081  0.079  0.080  0.084  0.071  0.083   \n",
       "TATP_3     0.079  ...  0.084  0.082  0.078  0.078  0.080  0.081  0.081  0.082   \n",
       "TATP_4     0.077  ...  0.080  0.084  0.072  0.080  0.079  0.079  0.079  0.080   \n",
       "TATP_5     0.077  ...  0.066  0.078  0.077  0.079  0.078  0.077  0.079  0.079   \n",
       "\n",
       "           13.84  13.86  \n",
       "Sample_id                \n",
       "TATP_1     0.082  0.035  \n",
       "TATP_2     0.078  0.040  \n",
       "TATP_3     0.082  0.040  \n",
       "TATP_4     0.080  0.040  \n",
       "TATP_5     0.079  0.035  \n",
       "\n",
       "[5 rows x 669 columns]"
      ]
     },
     "execution_count": 68,
     "metadata": {},
     "output_type": "execute_result"
    }
   ],
   "source": [
    "# Import 'coffee_region' sheet file from 'coffee.xlsx' Excel file\n",
    "df = pd.read_excel('/Users/giorgiofelizzato/Desktop/RISEN project/Articles/IMS_GC-QEPAS data fusion/ims/IMS.xlsx', sheet_name='Foglio1', index_col=0, header=0)\n",
    "df.head()"
   ]
  },
  {
   "cell_type": "code",
   "execution_count": 69,
   "metadata": {},
   "outputs": [
    {
     "data": {
      "text/html": [
       "<div>\n",
       "<style scoped>\n",
       "    .dataframe tbody tr th:only-of-type {\n",
       "        vertical-align: middle;\n",
       "    }\n",
       "\n",
       "    .dataframe tbody tr th {\n",
       "        vertical-align: top;\n",
       "    }\n",
       "\n",
       "    .dataframe thead th {\n",
       "        text-align: right;\n",
       "    }\n",
       "</style>\n",
       "<table border=\"1\" class=\"dataframe\">\n",
       "  <thead>\n",
       "    <tr style=\"text-align: right;\">\n",
       "      <th></th>\n",
       "      <th>0.52</th>\n",
       "      <th>0.54</th>\n",
       "      <th>0.56</th>\n",
       "      <th>0.58</th>\n",
       "      <th>0.60</th>\n",
       "      <th>0.62</th>\n",
       "      <th>0.64</th>\n",
       "      <th>0.66</th>\n",
       "      <th>0.68</th>\n",
       "      <th>0.70</th>\n",
       "      <th>...</th>\n",
       "      <th>13.68</th>\n",
       "      <th>13.70</th>\n",
       "      <th>13.72</th>\n",
       "      <th>13.74</th>\n",
       "      <th>13.76</th>\n",
       "      <th>13.78</th>\n",
       "      <th>13.80</th>\n",
       "      <th>13.82</th>\n",
       "      <th>13.84</th>\n",
       "      <th>13.86</th>\n",
       "    </tr>\n",
       "    <tr>\n",
       "      <th>Sample_id</th>\n",
       "      <th></th>\n",
       "      <th></th>\n",
       "      <th></th>\n",
       "      <th></th>\n",
       "      <th></th>\n",
       "      <th></th>\n",
       "      <th></th>\n",
       "      <th></th>\n",
       "      <th></th>\n",
       "      <th></th>\n",
       "      <th></th>\n",
       "      <th></th>\n",
       "      <th></th>\n",
       "      <th></th>\n",
       "      <th></th>\n",
       "      <th></th>\n",
       "      <th></th>\n",
       "      <th></th>\n",
       "      <th></th>\n",
       "      <th></th>\n",
       "      <th></th>\n",
       "    </tr>\n",
       "  </thead>\n",
       "  <tbody>\n",
       "    <tr>\n",
       "      <th>TATP_1</th>\n",
       "      <td>0.076</td>\n",
       "      <td>0.081</td>\n",
       "      <td>0.080</td>\n",
       "      <td>0.077</td>\n",
       "      <td>0.081</td>\n",
       "      <td>0.082</td>\n",
       "      <td>0.080</td>\n",
       "      <td>0.079</td>\n",
       "      <td>0.082</td>\n",
       "      <td>0.079</td>\n",
       "      <td>...</td>\n",
       "      <td>0.080</td>\n",
       "      <td>0.078</td>\n",
       "      <td>0.080</td>\n",
       "      <td>0.081</td>\n",
       "      <td>0.081</td>\n",
       "      <td>0.081</td>\n",
       "      <td>0.081</td>\n",
       "      <td>0.079</td>\n",
       "      <td>0.082</td>\n",
       "      <td>0.035</td>\n",
       "    </tr>\n",
       "    <tr>\n",
       "      <th>TATP_2</th>\n",
       "      <td>0.073</td>\n",
       "      <td>0.079</td>\n",
       "      <td>0.081</td>\n",
       "      <td>0.081</td>\n",
       "      <td>0.080</td>\n",
       "      <td>0.081</td>\n",
       "      <td>0.079</td>\n",
       "      <td>0.077</td>\n",
       "      <td>0.083</td>\n",
       "      <td>0.081</td>\n",
       "      <td>...</td>\n",
       "      <td>0.082</td>\n",
       "      <td>0.081</td>\n",
       "      <td>0.081</td>\n",
       "      <td>0.079</td>\n",
       "      <td>0.080</td>\n",
       "      <td>0.084</td>\n",
       "      <td>0.071</td>\n",
       "      <td>0.083</td>\n",
       "      <td>0.078</td>\n",
       "      <td>0.040</td>\n",
       "    </tr>\n",
       "    <tr>\n",
       "      <th>TATP_3</th>\n",
       "      <td>0.075</td>\n",
       "      <td>0.079</td>\n",
       "      <td>0.078</td>\n",
       "      <td>0.080</td>\n",
       "      <td>0.082</td>\n",
       "      <td>0.079</td>\n",
       "      <td>0.079</td>\n",
       "      <td>0.080</td>\n",
       "      <td>0.079</td>\n",
       "      <td>0.079</td>\n",
       "      <td>...</td>\n",
       "      <td>0.084</td>\n",
       "      <td>0.082</td>\n",
       "      <td>0.078</td>\n",
       "      <td>0.078</td>\n",
       "      <td>0.080</td>\n",
       "      <td>0.081</td>\n",
       "      <td>0.081</td>\n",
       "      <td>0.082</td>\n",
       "      <td>0.082</td>\n",
       "      <td>0.040</td>\n",
       "    </tr>\n",
       "    <tr>\n",
       "      <th>TATP_4</th>\n",
       "      <td>0.079</td>\n",
       "      <td>0.077</td>\n",
       "      <td>0.080</td>\n",
       "      <td>0.080</td>\n",
       "      <td>0.079</td>\n",
       "      <td>0.079</td>\n",
       "      <td>0.080</td>\n",
       "      <td>0.079</td>\n",
       "      <td>0.077</td>\n",
       "      <td>0.076</td>\n",
       "      <td>...</td>\n",
       "      <td>0.080</td>\n",
       "      <td>0.084</td>\n",
       "      <td>0.072</td>\n",
       "      <td>0.080</td>\n",
       "      <td>0.079</td>\n",
       "      <td>0.079</td>\n",
       "      <td>0.079</td>\n",
       "      <td>0.080</td>\n",
       "      <td>0.080</td>\n",
       "      <td>0.040</td>\n",
       "    </tr>\n",
       "    <tr>\n",
       "      <th>TATP_5</th>\n",
       "      <td>0.083</td>\n",
       "      <td>0.080</td>\n",
       "      <td>0.080</td>\n",
       "      <td>0.080</td>\n",
       "      <td>0.078</td>\n",
       "      <td>0.079</td>\n",
       "      <td>0.082</td>\n",
       "      <td>0.085</td>\n",
       "      <td>0.077</td>\n",
       "      <td>0.082</td>\n",
       "      <td>...</td>\n",
       "      <td>0.066</td>\n",
       "      <td>0.078</td>\n",
       "      <td>0.077</td>\n",
       "      <td>0.079</td>\n",
       "      <td>0.078</td>\n",
       "      <td>0.077</td>\n",
       "      <td>0.079</td>\n",
       "      <td>0.079</td>\n",
       "      <td>0.079</td>\n",
       "      <td>0.035</td>\n",
       "    </tr>\n",
       "    <tr>\n",
       "      <th>TATP_6</th>\n",
       "      <td>0.081</td>\n",
       "      <td>0.080</td>\n",
       "      <td>0.081</td>\n",
       "      <td>0.080</td>\n",
       "      <td>0.081</td>\n",
       "      <td>0.084</td>\n",
       "      <td>0.082</td>\n",
       "      <td>0.081</td>\n",
       "      <td>0.081</td>\n",
       "      <td>0.078</td>\n",
       "      <td>...</td>\n",
       "      <td>0.081</td>\n",
       "      <td>0.081</td>\n",
       "      <td>0.080</td>\n",
       "      <td>0.077</td>\n",
       "      <td>0.080</td>\n",
       "      <td>0.081</td>\n",
       "      <td>0.081</td>\n",
       "      <td>0.081</td>\n",
       "      <td>0.081</td>\n",
       "      <td>0.040</td>\n",
       "    </tr>\n",
       "    <tr>\n",
       "      <th>TATP_7</th>\n",
       "      <td>0.087</td>\n",
       "      <td>0.068</td>\n",
       "      <td>0.081</td>\n",
       "      <td>0.081</td>\n",
       "      <td>0.084</td>\n",
       "      <td>0.073</td>\n",
       "      <td>0.080</td>\n",
       "      <td>0.080</td>\n",
       "      <td>0.080</td>\n",
       "      <td>0.085</td>\n",
       "      <td>...</td>\n",
       "      <td>0.083</td>\n",
       "      <td>0.077</td>\n",
       "      <td>0.082</td>\n",
       "      <td>0.079</td>\n",
       "      <td>0.080</td>\n",
       "      <td>0.081</td>\n",
       "      <td>0.080</td>\n",
       "      <td>0.081</td>\n",
       "      <td>0.081</td>\n",
       "      <td>0.040</td>\n",
       "    </tr>\n",
       "    <tr>\n",
       "      <th>TATP_8</th>\n",
       "      <td>0.077</td>\n",
       "      <td>0.083</td>\n",
       "      <td>0.081</td>\n",
       "      <td>0.078</td>\n",
       "      <td>0.078</td>\n",
       "      <td>0.082</td>\n",
       "      <td>0.079</td>\n",
       "      <td>0.079</td>\n",
       "      <td>0.081</td>\n",
       "      <td>0.083</td>\n",
       "      <td>...</td>\n",
       "      <td>0.082</td>\n",
       "      <td>0.080</td>\n",
       "      <td>0.083</td>\n",
       "      <td>0.080</td>\n",
       "      <td>0.078</td>\n",
       "      <td>0.083</td>\n",
       "      <td>0.077</td>\n",
       "      <td>0.079</td>\n",
       "      <td>0.079</td>\n",
       "      <td>0.040</td>\n",
       "    </tr>\n",
       "    <tr>\n",
       "      <th>TATP_9</th>\n",
       "      <td>0.083</td>\n",
       "      <td>0.080</td>\n",
       "      <td>0.080</td>\n",
       "      <td>0.081</td>\n",
       "      <td>0.080</td>\n",
       "      <td>0.078</td>\n",
       "      <td>0.077</td>\n",
       "      <td>0.081</td>\n",
       "      <td>0.083</td>\n",
       "      <td>0.082</td>\n",
       "      <td>...</td>\n",
       "      <td>0.079</td>\n",
       "      <td>0.081</td>\n",
       "      <td>0.082</td>\n",
       "      <td>0.079</td>\n",
       "      <td>0.080</td>\n",
       "      <td>0.083</td>\n",
       "      <td>0.084</td>\n",
       "      <td>0.081</td>\n",
       "      <td>0.084</td>\n",
       "      <td>0.035</td>\n",
       "    </tr>\n",
       "    <tr>\n",
       "      <th>TATP_10</th>\n",
       "      <td>0.081</td>\n",
       "      <td>0.080</td>\n",
       "      <td>0.082</td>\n",
       "      <td>0.081</td>\n",
       "      <td>0.080</td>\n",
       "      <td>0.074</td>\n",
       "      <td>0.082</td>\n",
       "      <td>0.084</td>\n",
       "      <td>0.072</td>\n",
       "      <td>0.081</td>\n",
       "      <td>...</td>\n",
       "      <td>0.079</td>\n",
       "      <td>0.079</td>\n",
       "      <td>0.082</td>\n",
       "      <td>0.085</td>\n",
       "      <td>0.084</td>\n",
       "      <td>0.082</td>\n",
       "      <td>0.080</td>\n",
       "      <td>0.082</td>\n",
       "      <td>0.083</td>\n",
       "      <td>0.040</td>\n",
       "    </tr>\n",
       "    <tr>\n",
       "      <th>TATP_11</th>\n",
       "      <td>0.083</td>\n",
       "      <td>0.073</td>\n",
       "      <td>0.080</td>\n",
       "      <td>0.080</td>\n",
       "      <td>0.079</td>\n",
       "      <td>0.082</td>\n",
       "      <td>0.079</td>\n",
       "      <td>0.078</td>\n",
       "      <td>0.078</td>\n",
       "      <td>0.080</td>\n",
       "      <td>...</td>\n",
       "      <td>0.078</td>\n",
       "      <td>0.080</td>\n",
       "      <td>0.083</td>\n",
       "      <td>0.081</td>\n",
       "      <td>0.081</td>\n",
       "      <td>0.079</td>\n",
       "      <td>0.084</td>\n",
       "      <td>0.082</td>\n",
       "      <td>0.082</td>\n",
       "      <td>0.040</td>\n",
       "    </tr>\n",
       "    <tr>\n",
       "      <th>TATP_12</th>\n",
       "      <td>0.080</td>\n",
       "      <td>0.080</td>\n",
       "      <td>0.081</td>\n",
       "      <td>0.081</td>\n",
       "      <td>0.080</td>\n",
       "      <td>0.079</td>\n",
       "      <td>0.079</td>\n",
       "      <td>0.079</td>\n",
       "      <td>0.080</td>\n",
       "      <td>0.080</td>\n",
       "      <td>...</td>\n",
       "      <td>0.080</td>\n",
       "      <td>0.081</td>\n",
       "      <td>0.079</td>\n",
       "      <td>0.077</td>\n",
       "      <td>0.080</td>\n",
       "      <td>0.081</td>\n",
       "      <td>0.081</td>\n",
       "      <td>0.081</td>\n",
       "      <td>0.082</td>\n",
       "      <td>0.040</td>\n",
       "    </tr>\n",
       "    <tr>\n",
       "      <th>TATP_13</th>\n",
       "      <td>0.079</td>\n",
       "      <td>0.081</td>\n",
       "      <td>0.085</td>\n",
       "      <td>0.074</td>\n",
       "      <td>0.080</td>\n",
       "      <td>0.079</td>\n",
       "      <td>0.080</td>\n",
       "      <td>0.079</td>\n",
       "      <td>0.077</td>\n",
       "      <td>0.080</td>\n",
       "      <td>...</td>\n",
       "      <td>0.082</td>\n",
       "      <td>0.081</td>\n",
       "      <td>0.080</td>\n",
       "      <td>0.079</td>\n",
       "      <td>0.079</td>\n",
       "      <td>0.079</td>\n",
       "      <td>0.079</td>\n",
       "      <td>0.081</td>\n",
       "      <td>0.081</td>\n",
       "      <td>0.040</td>\n",
       "    </tr>\n",
       "    <tr>\n",
       "      <th>TATP_14</th>\n",
       "      <td>0.080</td>\n",
       "      <td>0.078</td>\n",
       "      <td>0.079</td>\n",
       "      <td>0.078</td>\n",
       "      <td>0.079</td>\n",
       "      <td>0.079</td>\n",
       "      <td>0.080</td>\n",
       "      <td>0.077</td>\n",
       "      <td>0.077</td>\n",
       "      <td>0.081</td>\n",
       "      <td>...</td>\n",
       "      <td>0.078</td>\n",
       "      <td>0.081</td>\n",
       "      <td>0.080</td>\n",
       "      <td>0.080</td>\n",
       "      <td>0.082</td>\n",
       "      <td>0.081</td>\n",
       "      <td>0.080</td>\n",
       "      <td>0.079</td>\n",
       "      <td>0.078</td>\n",
       "      <td>0.040</td>\n",
       "    </tr>\n",
       "    <tr>\n",
       "      <th>Acetone_1</th>\n",
       "      <td>0.020</td>\n",
       "      <td>0.018</td>\n",
       "      <td>0.014</td>\n",
       "      <td>0.019</td>\n",
       "      <td>0.014</td>\n",
       "      <td>0.015</td>\n",
       "      <td>0.021</td>\n",
       "      <td>0.017</td>\n",
       "      <td>0.017</td>\n",
       "      <td>0.018</td>\n",
       "      <td>...</td>\n",
       "      <td>0.021</td>\n",
       "      <td>0.017</td>\n",
       "      <td>0.016</td>\n",
       "      <td>0.020</td>\n",
       "      <td>0.020</td>\n",
       "      <td>0.015</td>\n",
       "      <td>0.017</td>\n",
       "      <td>0.024</td>\n",
       "      <td>0.021</td>\n",
       "      <td>-0.035</td>\n",
       "    </tr>\n",
       "    <tr>\n",
       "      <th>Acetone_2</th>\n",
       "      <td>0.017</td>\n",
       "      <td>0.015</td>\n",
       "      <td>0.014</td>\n",
       "      <td>0.015</td>\n",
       "      <td>0.013</td>\n",
       "      <td>0.019</td>\n",
       "      <td>0.024</td>\n",
       "      <td>0.020</td>\n",
       "      <td>0.020</td>\n",
       "      <td>0.017</td>\n",
       "      <td>...</td>\n",
       "      <td>0.019</td>\n",
       "      <td>0.020</td>\n",
       "      <td>0.026</td>\n",
       "      <td>0.025</td>\n",
       "      <td>0.025</td>\n",
       "      <td>0.023</td>\n",
       "      <td>0.024</td>\n",
       "      <td>0.020</td>\n",
       "      <td>0.020</td>\n",
       "      <td>-0.035</td>\n",
       "    </tr>\n",
       "    <tr>\n",
       "      <th>Acetone_3</th>\n",
       "      <td>0.018</td>\n",
       "      <td>0.022</td>\n",
       "      <td>0.020</td>\n",
       "      <td>0.022</td>\n",
       "      <td>0.020</td>\n",
       "      <td>0.016</td>\n",
       "      <td>0.020</td>\n",
       "      <td>0.020</td>\n",
       "      <td>0.018</td>\n",
       "      <td>0.015</td>\n",
       "      <td>...</td>\n",
       "      <td>0.017</td>\n",
       "      <td>0.020</td>\n",
       "      <td>0.022</td>\n",
       "      <td>0.024</td>\n",
       "      <td>0.019</td>\n",
       "      <td>0.022</td>\n",
       "      <td>0.021</td>\n",
       "      <td>0.026</td>\n",
       "      <td>0.021</td>\n",
       "      <td>-0.035</td>\n",
       "    </tr>\n",
       "    <tr>\n",
       "      <th>Acetone_4</th>\n",
       "      <td>0.023</td>\n",
       "      <td>0.019</td>\n",
       "      <td>0.015</td>\n",
       "      <td>0.019</td>\n",
       "      <td>0.016</td>\n",
       "      <td>0.025</td>\n",
       "      <td>0.026</td>\n",
       "      <td>0.021</td>\n",
       "      <td>0.020</td>\n",
       "      <td>0.020</td>\n",
       "      <td>...</td>\n",
       "      <td>0.023</td>\n",
       "      <td>0.020</td>\n",
       "      <td>0.019</td>\n",
       "      <td>0.023</td>\n",
       "      <td>0.022</td>\n",
       "      <td>0.023</td>\n",
       "      <td>0.026</td>\n",
       "      <td>0.022</td>\n",
       "      <td>0.026</td>\n",
       "      <td>-0.035</td>\n",
       "    </tr>\n",
       "    <tr>\n",
       "      <th>Acetone_5</th>\n",
       "      <td>0.018</td>\n",
       "      <td>0.015</td>\n",
       "      <td>0.022</td>\n",
       "      <td>0.022</td>\n",
       "      <td>0.019</td>\n",
       "      <td>0.020</td>\n",
       "      <td>0.025</td>\n",
       "      <td>0.023</td>\n",
       "      <td>0.022</td>\n",
       "      <td>0.015</td>\n",
       "      <td>...</td>\n",
       "      <td>0.026</td>\n",
       "      <td>0.023</td>\n",
       "      <td>0.019</td>\n",
       "      <td>0.020</td>\n",
       "      <td>0.019</td>\n",
       "      <td>0.022</td>\n",
       "      <td>0.027</td>\n",
       "      <td>0.021</td>\n",
       "      <td>0.029</td>\n",
       "      <td>-0.035</td>\n",
       "    </tr>\n",
       "    <tr>\n",
       "      <th>Acetone_6</th>\n",
       "      <td>0.020</td>\n",
       "      <td>0.021</td>\n",
       "      <td>0.019</td>\n",
       "      <td>0.018</td>\n",
       "      <td>0.022</td>\n",
       "      <td>0.017</td>\n",
       "      <td>0.021</td>\n",
       "      <td>0.022</td>\n",
       "      <td>0.020</td>\n",
       "      <td>0.025</td>\n",
       "      <td>...</td>\n",
       "      <td>0.016</td>\n",
       "      <td>0.023</td>\n",
       "      <td>0.023</td>\n",
       "      <td>0.022</td>\n",
       "      <td>0.022</td>\n",
       "      <td>0.020</td>\n",
       "      <td>0.025</td>\n",
       "      <td>0.022</td>\n",
       "      <td>0.018</td>\n",
       "      <td>-0.035</td>\n",
       "    </tr>\n",
       "    <tr>\n",
       "      <th>Acetone_7</th>\n",
       "      <td>0.017</td>\n",
       "      <td>0.017</td>\n",
       "      <td>0.020</td>\n",
       "      <td>0.021</td>\n",
       "      <td>0.020</td>\n",
       "      <td>0.017</td>\n",
       "      <td>0.021</td>\n",
       "      <td>0.020</td>\n",
       "      <td>0.022</td>\n",
       "      <td>0.019</td>\n",
       "      <td>...</td>\n",
       "      <td>0.022</td>\n",
       "      <td>0.022</td>\n",
       "      <td>0.018</td>\n",
       "      <td>0.022</td>\n",
       "      <td>0.023</td>\n",
       "      <td>0.022</td>\n",
       "      <td>0.022</td>\n",
       "      <td>0.022</td>\n",
       "      <td>0.022</td>\n",
       "      <td>-0.035</td>\n",
       "    </tr>\n",
       "    <tr>\n",
       "      <th>Acetone_8</th>\n",
       "      <td>0.018</td>\n",
       "      <td>0.020</td>\n",
       "      <td>0.022</td>\n",
       "      <td>0.022</td>\n",
       "      <td>0.022</td>\n",
       "      <td>0.018</td>\n",
       "      <td>0.017</td>\n",
       "      <td>0.019</td>\n",
       "      <td>0.019</td>\n",
       "      <td>0.021</td>\n",
       "      <td>...</td>\n",
       "      <td>0.021</td>\n",
       "      <td>0.018</td>\n",
       "      <td>0.024</td>\n",
       "      <td>0.016</td>\n",
       "      <td>0.018</td>\n",
       "      <td>0.020</td>\n",
       "      <td>0.020</td>\n",
       "      <td>0.026</td>\n",
       "      <td>0.023</td>\n",
       "      <td>0.035</td>\n",
       "    </tr>\n",
       "    <tr>\n",
       "      <th>Acetone_9</th>\n",
       "      <td>0.018</td>\n",
       "      <td>0.016</td>\n",
       "      <td>0.023</td>\n",
       "      <td>0.018</td>\n",
       "      <td>0.023</td>\n",
       "      <td>0.025</td>\n",
       "      <td>0.026</td>\n",
       "      <td>0.022</td>\n",
       "      <td>0.020</td>\n",
       "      <td>0.020</td>\n",
       "      <td>...</td>\n",
       "      <td>0.019</td>\n",
       "      <td>0.021</td>\n",
       "      <td>0.024</td>\n",
       "      <td>0.026</td>\n",
       "      <td>0.021</td>\n",
       "      <td>0.021</td>\n",
       "      <td>0.026</td>\n",
       "      <td>0.022</td>\n",
       "      <td>0.024</td>\n",
       "      <td>0.035</td>\n",
       "    </tr>\n",
       "    <tr>\n",
       "      <th>Acetone_10</th>\n",
       "      <td>0.016</td>\n",
       "      <td>0.016</td>\n",
       "      <td>0.019</td>\n",
       "      <td>0.024</td>\n",
       "      <td>0.019</td>\n",
       "      <td>0.016</td>\n",
       "      <td>0.022</td>\n",
       "      <td>0.024</td>\n",
       "      <td>0.022</td>\n",
       "      <td>0.016</td>\n",
       "      <td>...</td>\n",
       "      <td>0.023</td>\n",
       "      <td>0.021</td>\n",
       "      <td>0.026</td>\n",
       "      <td>0.027</td>\n",
       "      <td>0.023</td>\n",
       "      <td>0.019</td>\n",
       "      <td>0.022</td>\n",
       "      <td>0.024</td>\n",
       "      <td>0.022</td>\n",
       "      <td>0.035</td>\n",
       "    </tr>\n",
       "    <tr>\n",
       "      <th>Acetone_11</th>\n",
       "      <td>0.019</td>\n",
       "      <td>0.024</td>\n",
       "      <td>0.023</td>\n",
       "      <td>0.018</td>\n",
       "      <td>0.018</td>\n",
       "      <td>0.021</td>\n",
       "      <td>0.019</td>\n",
       "      <td>0.021</td>\n",
       "      <td>0.018</td>\n",
       "      <td>0.022</td>\n",
       "      <td>...</td>\n",
       "      <td>0.020</td>\n",
       "      <td>0.023</td>\n",
       "      <td>0.023</td>\n",
       "      <td>0.013</td>\n",
       "      <td>0.017</td>\n",
       "      <td>0.022</td>\n",
       "      <td>0.015</td>\n",
       "      <td>0.023</td>\n",
       "      <td>0.021</td>\n",
       "      <td>0.035</td>\n",
       "    </tr>\n",
       "    <tr>\n",
       "      <th>Acetone_12</th>\n",
       "      <td>0.017</td>\n",
       "      <td>0.013</td>\n",
       "      <td>0.016</td>\n",
       "      <td>0.017</td>\n",
       "      <td>0.017</td>\n",
       "      <td>0.019</td>\n",
       "      <td>0.019</td>\n",
       "      <td>0.017</td>\n",
       "      <td>0.018</td>\n",
       "      <td>0.019</td>\n",
       "      <td>...</td>\n",
       "      <td>0.013</td>\n",
       "      <td>0.017</td>\n",
       "      <td>0.016</td>\n",
       "      <td>0.014</td>\n",
       "      <td>0.016</td>\n",
       "      <td>0.021</td>\n",
       "      <td>0.023</td>\n",
       "      <td>0.019</td>\n",
       "      <td>0.022</td>\n",
       "      <td>0.035</td>\n",
       "    </tr>\n",
       "    <tr>\n",
       "      <th>Acetone_13</th>\n",
       "      <td>0.019</td>\n",
       "      <td>0.019</td>\n",
       "      <td>0.019</td>\n",
       "      <td>0.015</td>\n",
       "      <td>0.016</td>\n",
       "      <td>0.017</td>\n",
       "      <td>0.016</td>\n",
       "      <td>0.014</td>\n",
       "      <td>0.017</td>\n",
       "      <td>0.020</td>\n",
       "      <td>...</td>\n",
       "      <td>0.015</td>\n",
       "      <td>0.016</td>\n",
       "      <td>0.017</td>\n",
       "      <td>0.020</td>\n",
       "      <td>0.023</td>\n",
       "      <td>0.026</td>\n",
       "      <td>0.025</td>\n",
       "      <td>0.020</td>\n",
       "      <td>0.019</td>\n",
       "      <td>0.035</td>\n",
       "    </tr>\n",
       "    <tr>\n",
       "      <th>Acetone_14</th>\n",
       "      <td>0.028</td>\n",
       "      <td>0.024</td>\n",
       "      <td>0.021</td>\n",
       "      <td>0.017</td>\n",
       "      <td>0.017</td>\n",
       "      <td>0.026</td>\n",
       "      <td>0.018</td>\n",
       "      <td>0.018</td>\n",
       "      <td>0.018</td>\n",
       "      <td>0.018</td>\n",
       "      <td>...</td>\n",
       "      <td>0.027</td>\n",
       "      <td>0.024</td>\n",
       "      <td>0.025</td>\n",
       "      <td>0.022</td>\n",
       "      <td>0.014</td>\n",
       "      <td>0.018</td>\n",
       "      <td>0.019</td>\n",
       "      <td>0.024</td>\n",
       "      <td>0.021</td>\n",
       "      <td>0.035</td>\n",
       "    </tr>\n",
       "    <tr>\n",
       "      <th>Acetone_15</th>\n",
       "      <td>0.014</td>\n",
       "      <td>0.017</td>\n",
       "      <td>0.018</td>\n",
       "      <td>0.020</td>\n",
       "      <td>0.020</td>\n",
       "      <td>0.020</td>\n",
       "      <td>0.023</td>\n",
       "      <td>0.024</td>\n",
       "      <td>0.026</td>\n",
       "      <td>0.025</td>\n",
       "      <td>...</td>\n",
       "      <td>0.016</td>\n",
       "      <td>0.018</td>\n",
       "      <td>0.025</td>\n",
       "      <td>0.020</td>\n",
       "      <td>0.022</td>\n",
       "      <td>0.023</td>\n",
       "      <td>0.021</td>\n",
       "      <td>0.017</td>\n",
       "      <td>0.019</td>\n",
       "      <td>0.035</td>\n",
       "    </tr>\n",
       "    <tr>\n",
       "      <th>DMMP_1</th>\n",
       "      <td>0.022</td>\n",
       "      <td>0.022</td>\n",
       "      <td>0.019</td>\n",
       "      <td>0.016</td>\n",
       "      <td>0.021</td>\n",
       "      <td>0.019</td>\n",
       "      <td>0.020</td>\n",
       "      <td>0.018</td>\n",
       "      <td>0.019</td>\n",
       "      <td>0.018</td>\n",
       "      <td>...</td>\n",
       "      <td>0.022</td>\n",
       "      <td>0.019</td>\n",
       "      <td>0.025</td>\n",
       "      <td>0.024</td>\n",
       "      <td>0.023</td>\n",
       "      <td>0.025</td>\n",
       "      <td>0.023</td>\n",
       "      <td>0.023</td>\n",
       "      <td>0.024</td>\n",
       "      <td>-0.035</td>\n",
       "    </tr>\n",
       "    <tr>\n",
       "      <th>DMMP_2</th>\n",
       "      <td>0.020</td>\n",
       "      <td>0.019</td>\n",
       "      <td>0.018</td>\n",
       "      <td>0.017</td>\n",
       "      <td>0.018</td>\n",
       "      <td>0.020</td>\n",
       "      <td>0.022</td>\n",
       "      <td>0.023</td>\n",
       "      <td>0.021</td>\n",
       "      <td>0.020</td>\n",
       "      <td>...</td>\n",
       "      <td>0.021</td>\n",
       "      <td>0.022</td>\n",
       "      <td>0.022</td>\n",
       "      <td>0.021</td>\n",
       "      <td>0.018</td>\n",
       "      <td>0.024</td>\n",
       "      <td>0.022</td>\n",
       "      <td>0.020</td>\n",
       "      <td>0.021</td>\n",
       "      <td>-0.035</td>\n",
       "    </tr>\n",
       "    <tr>\n",
       "      <th>DMMP_3</th>\n",
       "      <td>0.016</td>\n",
       "      <td>0.022</td>\n",
       "      <td>0.021</td>\n",
       "      <td>0.020</td>\n",
       "      <td>0.020</td>\n",
       "      <td>0.020</td>\n",
       "      <td>0.020</td>\n",
       "      <td>0.018</td>\n",
       "      <td>0.018</td>\n",
       "      <td>0.018</td>\n",
       "      <td>...</td>\n",
       "      <td>0.020</td>\n",
       "      <td>0.022</td>\n",
       "      <td>0.023</td>\n",
       "      <td>0.024</td>\n",
       "      <td>0.023</td>\n",
       "      <td>0.019</td>\n",
       "      <td>0.018</td>\n",
       "      <td>0.021</td>\n",
       "      <td>0.019</td>\n",
       "      <td>-0.035</td>\n",
       "    </tr>\n",
       "    <tr>\n",
       "      <th>DMMP_4</th>\n",
       "      <td>0.015</td>\n",
       "      <td>0.020</td>\n",
       "      <td>0.020</td>\n",
       "      <td>0.024</td>\n",
       "      <td>0.021</td>\n",
       "      <td>0.022</td>\n",
       "      <td>0.021</td>\n",
       "      <td>0.023</td>\n",
       "      <td>0.023</td>\n",
       "      <td>0.022</td>\n",
       "      <td>...</td>\n",
       "      <td>0.024</td>\n",
       "      <td>0.025</td>\n",
       "      <td>0.025</td>\n",
       "      <td>0.023</td>\n",
       "      <td>0.022</td>\n",
       "      <td>0.025</td>\n",
       "      <td>0.022</td>\n",
       "      <td>0.019</td>\n",
       "      <td>0.022</td>\n",
       "      <td>-0.035</td>\n",
       "    </tr>\n",
       "    <tr>\n",
       "      <th>DMMP_5</th>\n",
       "      <td>0.016</td>\n",
       "      <td>0.015</td>\n",
       "      <td>0.020</td>\n",
       "      <td>0.020</td>\n",
       "      <td>0.018</td>\n",
       "      <td>0.018</td>\n",
       "      <td>0.018</td>\n",
       "      <td>0.024</td>\n",
       "      <td>0.024</td>\n",
       "      <td>0.022</td>\n",
       "      <td>...</td>\n",
       "      <td>0.021</td>\n",
       "      <td>0.020</td>\n",
       "      <td>0.018</td>\n",
       "      <td>0.024</td>\n",
       "      <td>0.026</td>\n",
       "      <td>0.027</td>\n",
       "      <td>0.023</td>\n",
       "      <td>0.025</td>\n",
       "      <td>0.020</td>\n",
       "      <td>-0.035</td>\n",
       "    </tr>\n",
       "    <tr>\n",
       "      <th>DMMP_6</th>\n",
       "      <td>0.018</td>\n",
       "      <td>0.024</td>\n",
       "      <td>0.016</td>\n",
       "      <td>0.020</td>\n",
       "      <td>0.019</td>\n",
       "      <td>0.018</td>\n",
       "      <td>0.019</td>\n",
       "      <td>0.022</td>\n",
       "      <td>0.020</td>\n",
       "      <td>0.017</td>\n",
       "      <td>...</td>\n",
       "      <td>0.025</td>\n",
       "      <td>0.024</td>\n",
       "      <td>0.018</td>\n",
       "      <td>0.017</td>\n",
       "      <td>0.022</td>\n",
       "      <td>0.022</td>\n",
       "      <td>0.021</td>\n",
       "      <td>0.022</td>\n",
       "      <td>0.021</td>\n",
       "      <td>-0.035</td>\n",
       "    </tr>\n",
       "    <tr>\n",
       "      <th>DMMP_7</th>\n",
       "      <td>0.017</td>\n",
       "      <td>0.020</td>\n",
       "      <td>0.019</td>\n",
       "      <td>0.020</td>\n",
       "      <td>0.020</td>\n",
       "      <td>0.021</td>\n",
       "      <td>0.017</td>\n",
       "      <td>0.020</td>\n",
       "      <td>0.020</td>\n",
       "      <td>0.021</td>\n",
       "      <td>...</td>\n",
       "      <td>0.022</td>\n",
       "      <td>0.020</td>\n",
       "      <td>0.019</td>\n",
       "      <td>0.020</td>\n",
       "      <td>0.019</td>\n",
       "      <td>0.021</td>\n",
       "      <td>0.021</td>\n",
       "      <td>0.024</td>\n",
       "      <td>0.023</td>\n",
       "      <td>-0.035</td>\n",
       "    </tr>\n",
       "    <tr>\n",
       "      <th>DMMP_8</th>\n",
       "      <td>0.025</td>\n",
       "      <td>0.022</td>\n",
       "      <td>0.023</td>\n",
       "      <td>0.024</td>\n",
       "      <td>0.022</td>\n",
       "      <td>0.025</td>\n",
       "      <td>0.023</td>\n",
       "      <td>0.022</td>\n",
       "      <td>0.021</td>\n",
       "      <td>0.018</td>\n",
       "      <td>...</td>\n",
       "      <td>0.025</td>\n",
       "      <td>0.020</td>\n",
       "      <td>0.021</td>\n",
       "      <td>0.022</td>\n",
       "      <td>0.018</td>\n",
       "      <td>0.020</td>\n",
       "      <td>0.020</td>\n",
       "      <td>0.019</td>\n",
       "      <td>0.020</td>\n",
       "      <td>-0.035</td>\n",
       "    </tr>\n",
       "    <tr>\n",
       "      <th>DMMP_9</th>\n",
       "      <td>0.021</td>\n",
       "      <td>0.022</td>\n",
       "      <td>0.022</td>\n",
       "      <td>0.021</td>\n",
       "      <td>0.021</td>\n",
       "      <td>0.018</td>\n",
       "      <td>0.018</td>\n",
       "      <td>0.019</td>\n",
       "      <td>0.021</td>\n",
       "      <td>0.023</td>\n",
       "      <td>...</td>\n",
       "      <td>0.023</td>\n",
       "      <td>0.021</td>\n",
       "      <td>0.018</td>\n",
       "      <td>0.019</td>\n",
       "      <td>0.023</td>\n",
       "      <td>0.025</td>\n",
       "      <td>0.024</td>\n",
       "      <td>0.021</td>\n",
       "      <td>0.022</td>\n",
       "      <td>0.035</td>\n",
       "    </tr>\n",
       "    <tr>\n",
       "      <th>DMMP_10</th>\n",
       "      <td>0.022</td>\n",
       "      <td>0.016</td>\n",
       "      <td>0.021</td>\n",
       "      <td>0.017</td>\n",
       "      <td>0.019</td>\n",
       "      <td>0.023</td>\n",
       "      <td>0.021</td>\n",
       "      <td>0.021</td>\n",
       "      <td>0.026</td>\n",
       "      <td>0.017</td>\n",
       "      <td>...</td>\n",
       "      <td>0.024</td>\n",
       "      <td>0.024</td>\n",
       "      <td>0.022</td>\n",
       "      <td>0.024</td>\n",
       "      <td>0.021</td>\n",
       "      <td>0.024</td>\n",
       "      <td>0.021</td>\n",
       "      <td>0.017</td>\n",
       "      <td>0.023</td>\n",
       "      <td>0.035</td>\n",
       "    </tr>\n",
       "    <tr>\n",
       "      <th>DMMP_11</th>\n",
       "      <td>0.018</td>\n",
       "      <td>0.016</td>\n",
       "      <td>0.014</td>\n",
       "      <td>0.017</td>\n",
       "      <td>0.017</td>\n",
       "      <td>0.017</td>\n",
       "      <td>0.020</td>\n",
       "      <td>0.018</td>\n",
       "      <td>0.021</td>\n",
       "      <td>0.020</td>\n",
       "      <td>...</td>\n",
       "      <td>0.022</td>\n",
       "      <td>0.022</td>\n",
       "      <td>0.022</td>\n",
       "      <td>0.024</td>\n",
       "      <td>0.021</td>\n",
       "      <td>0.019</td>\n",
       "      <td>0.025</td>\n",
       "      <td>0.024</td>\n",
       "      <td>0.021</td>\n",
       "      <td>0.035</td>\n",
       "    </tr>\n",
       "    <tr>\n",
       "      <th>DMMP_12</th>\n",
       "      <td>0.014</td>\n",
       "      <td>0.019</td>\n",
       "      <td>0.021</td>\n",
       "      <td>0.019</td>\n",
       "      <td>0.021</td>\n",
       "      <td>0.021</td>\n",
       "      <td>0.025</td>\n",
       "      <td>0.022</td>\n",
       "      <td>0.022</td>\n",
       "      <td>0.019</td>\n",
       "      <td>...</td>\n",
       "      <td>0.020</td>\n",
       "      <td>0.017</td>\n",
       "      <td>0.022</td>\n",
       "      <td>0.023</td>\n",
       "      <td>0.023</td>\n",
       "      <td>0.021</td>\n",
       "      <td>0.025</td>\n",
       "      <td>0.022</td>\n",
       "      <td>0.021</td>\n",
       "      <td>0.035</td>\n",
       "    </tr>\n",
       "    <tr>\n",
       "      <th>DMMP_13</th>\n",
       "      <td>0.027</td>\n",
       "      <td>0.024</td>\n",
       "      <td>0.022</td>\n",
       "      <td>0.020</td>\n",
       "      <td>0.018</td>\n",
       "      <td>0.021</td>\n",
       "      <td>0.021</td>\n",
       "      <td>0.022</td>\n",
       "      <td>0.023</td>\n",
       "      <td>0.018</td>\n",
       "      <td>...</td>\n",
       "      <td>0.025</td>\n",
       "      <td>0.022</td>\n",
       "      <td>0.021</td>\n",
       "      <td>0.022</td>\n",
       "      <td>0.025</td>\n",
       "      <td>0.021</td>\n",
       "      <td>0.021</td>\n",
       "      <td>0.023</td>\n",
       "      <td>0.024</td>\n",
       "      <td>0.035</td>\n",
       "    </tr>\n",
       "    <tr>\n",
       "      <th>DMMP_14</th>\n",
       "      <td>0.020</td>\n",
       "      <td>0.020</td>\n",
       "      <td>0.020</td>\n",
       "      <td>0.025</td>\n",
       "      <td>0.017</td>\n",
       "      <td>0.016</td>\n",
       "      <td>0.018</td>\n",
       "      <td>0.023</td>\n",
       "      <td>0.019</td>\n",
       "      <td>0.021</td>\n",
       "      <td>...</td>\n",
       "      <td>0.026</td>\n",
       "      <td>0.026</td>\n",
       "      <td>0.022</td>\n",
       "      <td>0.025</td>\n",
       "      <td>0.023</td>\n",
       "      <td>0.027</td>\n",
       "      <td>0.018</td>\n",
       "      <td>0.024</td>\n",
       "      <td>0.026</td>\n",
       "      <td>0.035</td>\n",
       "    </tr>\n",
       "  </tbody>\n",
       "</table>\n",
       "<p>43 rows × 668 columns</p>\n",
       "</div>"
      ],
      "text/plain": [
       "            0.52   0.54   0.56   0.58   0.60   0.62   0.64   0.66   0.68   \\\n",
       "Sample_id                                                                   \n",
       "TATP_1      0.076  0.081  0.080  0.077  0.081  0.082  0.080  0.079  0.082   \n",
       "TATP_2      0.073  0.079  0.081  0.081  0.080  0.081  0.079  0.077  0.083   \n",
       "TATP_3      0.075  0.079  0.078  0.080  0.082  0.079  0.079  0.080  0.079   \n",
       "TATP_4      0.079  0.077  0.080  0.080  0.079  0.079  0.080  0.079  0.077   \n",
       "TATP_5      0.083  0.080  0.080  0.080  0.078  0.079  0.082  0.085  0.077   \n",
       "TATP_6      0.081  0.080  0.081  0.080  0.081  0.084  0.082  0.081  0.081   \n",
       "TATP_7      0.087  0.068  0.081  0.081  0.084  0.073  0.080  0.080  0.080   \n",
       "TATP_8      0.077  0.083  0.081  0.078  0.078  0.082  0.079  0.079  0.081   \n",
       "TATP_9      0.083  0.080  0.080  0.081  0.080  0.078  0.077  0.081  0.083   \n",
       "TATP_10     0.081  0.080  0.082  0.081  0.080  0.074  0.082  0.084  0.072   \n",
       "TATP_11     0.083  0.073  0.080  0.080  0.079  0.082  0.079  0.078  0.078   \n",
       "TATP_12     0.080  0.080  0.081  0.081  0.080  0.079  0.079  0.079  0.080   \n",
       "TATP_13     0.079  0.081  0.085  0.074  0.080  0.079  0.080  0.079  0.077   \n",
       "TATP_14     0.080  0.078  0.079  0.078  0.079  0.079  0.080  0.077  0.077   \n",
       "Acetone_1   0.020  0.018  0.014  0.019  0.014  0.015  0.021  0.017  0.017   \n",
       "Acetone_2   0.017  0.015  0.014  0.015  0.013  0.019  0.024  0.020  0.020   \n",
       "Acetone_3   0.018  0.022  0.020  0.022  0.020  0.016  0.020  0.020  0.018   \n",
       "Acetone_4   0.023  0.019  0.015  0.019  0.016  0.025  0.026  0.021  0.020   \n",
       "Acetone_5   0.018  0.015  0.022  0.022  0.019  0.020  0.025  0.023  0.022   \n",
       "Acetone_6   0.020  0.021  0.019  0.018  0.022  0.017  0.021  0.022  0.020   \n",
       "Acetone_7   0.017  0.017  0.020  0.021  0.020  0.017  0.021  0.020  0.022   \n",
       "Acetone_8   0.018  0.020  0.022  0.022  0.022  0.018  0.017  0.019  0.019   \n",
       "Acetone_9   0.018  0.016  0.023  0.018  0.023  0.025  0.026  0.022  0.020   \n",
       "Acetone_10  0.016  0.016  0.019  0.024  0.019  0.016  0.022  0.024  0.022   \n",
       "Acetone_11  0.019  0.024  0.023  0.018  0.018  0.021  0.019  0.021  0.018   \n",
       "Acetone_12  0.017  0.013  0.016  0.017  0.017  0.019  0.019  0.017  0.018   \n",
       "Acetone_13  0.019  0.019  0.019  0.015  0.016  0.017  0.016  0.014  0.017   \n",
       "Acetone_14  0.028  0.024  0.021  0.017  0.017  0.026  0.018  0.018  0.018   \n",
       "Acetone_15  0.014  0.017  0.018  0.020  0.020  0.020  0.023  0.024  0.026   \n",
       "DMMP_1      0.022  0.022  0.019  0.016  0.021  0.019  0.020  0.018  0.019   \n",
       "DMMP_2      0.020  0.019  0.018  0.017  0.018  0.020  0.022  0.023  0.021   \n",
       "DMMP_3      0.016  0.022  0.021  0.020  0.020  0.020  0.020  0.018  0.018   \n",
       "DMMP_4      0.015  0.020  0.020  0.024  0.021  0.022  0.021  0.023  0.023   \n",
       "DMMP_5      0.016  0.015  0.020  0.020  0.018  0.018  0.018  0.024  0.024   \n",
       "DMMP_6      0.018  0.024  0.016  0.020  0.019  0.018  0.019  0.022  0.020   \n",
       "DMMP_7      0.017  0.020  0.019  0.020  0.020  0.021  0.017  0.020  0.020   \n",
       "DMMP_8      0.025  0.022  0.023  0.024  0.022  0.025  0.023  0.022  0.021   \n",
       "DMMP_9      0.021  0.022  0.022  0.021  0.021  0.018  0.018  0.019  0.021   \n",
       "DMMP_10     0.022  0.016  0.021  0.017  0.019  0.023  0.021  0.021  0.026   \n",
       "DMMP_11     0.018  0.016  0.014  0.017  0.017  0.017  0.020  0.018  0.021   \n",
       "DMMP_12     0.014  0.019  0.021  0.019  0.021  0.021  0.025  0.022  0.022   \n",
       "DMMP_13     0.027  0.024  0.022  0.020  0.018  0.021  0.021  0.022  0.023   \n",
       "DMMP_14     0.020  0.020  0.020  0.025  0.017  0.016  0.018  0.023  0.019   \n",
       "\n",
       "            0.70   ...  13.68  13.70  13.72  13.74  13.76  13.78  13.80  \\\n",
       "Sample_id          ...                                                    \n",
       "TATP_1      0.079  ...  0.080  0.078  0.080  0.081  0.081  0.081  0.081   \n",
       "TATP_2      0.081  ...  0.082  0.081  0.081  0.079  0.080  0.084  0.071   \n",
       "TATP_3      0.079  ...  0.084  0.082  0.078  0.078  0.080  0.081  0.081   \n",
       "TATP_4      0.076  ...  0.080  0.084  0.072  0.080  0.079  0.079  0.079   \n",
       "TATP_5      0.082  ...  0.066  0.078  0.077  0.079  0.078  0.077  0.079   \n",
       "TATP_6      0.078  ...  0.081  0.081  0.080  0.077  0.080  0.081  0.081   \n",
       "TATP_7      0.085  ...  0.083  0.077  0.082  0.079  0.080  0.081  0.080   \n",
       "TATP_8      0.083  ...  0.082  0.080  0.083  0.080  0.078  0.083  0.077   \n",
       "TATP_9      0.082  ...  0.079  0.081  0.082  0.079  0.080  0.083  0.084   \n",
       "TATP_10     0.081  ...  0.079  0.079  0.082  0.085  0.084  0.082  0.080   \n",
       "TATP_11     0.080  ...  0.078  0.080  0.083  0.081  0.081  0.079  0.084   \n",
       "TATP_12     0.080  ...  0.080  0.081  0.079  0.077  0.080  0.081  0.081   \n",
       "TATP_13     0.080  ...  0.082  0.081  0.080  0.079  0.079  0.079  0.079   \n",
       "TATP_14     0.081  ...  0.078  0.081  0.080  0.080  0.082  0.081  0.080   \n",
       "Acetone_1   0.018  ...  0.021  0.017  0.016  0.020  0.020  0.015  0.017   \n",
       "Acetone_2   0.017  ...  0.019  0.020  0.026  0.025  0.025  0.023  0.024   \n",
       "Acetone_3   0.015  ...  0.017  0.020  0.022  0.024  0.019  0.022  0.021   \n",
       "Acetone_4   0.020  ...  0.023  0.020  0.019  0.023  0.022  0.023  0.026   \n",
       "Acetone_5   0.015  ...  0.026  0.023  0.019  0.020  0.019  0.022  0.027   \n",
       "Acetone_6   0.025  ...  0.016  0.023  0.023  0.022  0.022  0.020  0.025   \n",
       "Acetone_7   0.019  ...  0.022  0.022  0.018  0.022  0.023  0.022  0.022   \n",
       "Acetone_8   0.021  ...  0.021  0.018  0.024  0.016  0.018  0.020  0.020   \n",
       "Acetone_9   0.020  ...  0.019  0.021  0.024  0.026  0.021  0.021  0.026   \n",
       "Acetone_10  0.016  ...  0.023  0.021  0.026  0.027  0.023  0.019  0.022   \n",
       "Acetone_11  0.022  ...  0.020  0.023  0.023  0.013  0.017  0.022  0.015   \n",
       "Acetone_12  0.019  ...  0.013  0.017  0.016  0.014  0.016  0.021  0.023   \n",
       "Acetone_13  0.020  ...  0.015  0.016  0.017  0.020  0.023  0.026  0.025   \n",
       "Acetone_14  0.018  ...  0.027  0.024  0.025  0.022  0.014  0.018  0.019   \n",
       "Acetone_15  0.025  ...  0.016  0.018  0.025  0.020  0.022  0.023  0.021   \n",
       "DMMP_1      0.018  ...  0.022  0.019  0.025  0.024  0.023  0.025  0.023   \n",
       "DMMP_2      0.020  ...  0.021  0.022  0.022  0.021  0.018  0.024  0.022   \n",
       "DMMP_3      0.018  ...  0.020  0.022  0.023  0.024  0.023  0.019  0.018   \n",
       "DMMP_4      0.022  ...  0.024  0.025  0.025  0.023  0.022  0.025  0.022   \n",
       "DMMP_5      0.022  ...  0.021  0.020  0.018  0.024  0.026  0.027  0.023   \n",
       "DMMP_6      0.017  ...  0.025  0.024  0.018  0.017  0.022  0.022  0.021   \n",
       "DMMP_7      0.021  ...  0.022  0.020  0.019  0.020  0.019  0.021  0.021   \n",
       "DMMP_8      0.018  ...  0.025  0.020  0.021  0.022  0.018  0.020  0.020   \n",
       "DMMP_9      0.023  ...  0.023  0.021  0.018  0.019  0.023  0.025  0.024   \n",
       "DMMP_10     0.017  ...  0.024  0.024  0.022  0.024  0.021  0.024  0.021   \n",
       "DMMP_11     0.020  ...  0.022  0.022  0.022  0.024  0.021  0.019  0.025   \n",
       "DMMP_12     0.019  ...  0.020  0.017  0.022  0.023  0.023  0.021  0.025   \n",
       "DMMP_13     0.018  ...  0.025  0.022  0.021  0.022  0.025  0.021  0.021   \n",
       "DMMP_14     0.021  ...  0.026  0.026  0.022  0.025  0.023  0.027  0.018   \n",
       "\n",
       "            13.82  13.84  13.86  \n",
       "Sample_id                        \n",
       "TATP_1      0.079  0.082  0.035  \n",
       "TATP_2      0.083  0.078  0.040  \n",
       "TATP_3      0.082  0.082  0.040  \n",
       "TATP_4      0.080  0.080  0.040  \n",
       "TATP_5      0.079  0.079  0.035  \n",
       "TATP_6      0.081  0.081  0.040  \n",
       "TATP_7      0.081  0.081  0.040  \n",
       "TATP_8      0.079  0.079  0.040  \n",
       "TATP_9      0.081  0.084  0.035  \n",
       "TATP_10     0.082  0.083  0.040  \n",
       "TATP_11     0.082  0.082  0.040  \n",
       "TATP_12     0.081  0.082  0.040  \n",
       "TATP_13     0.081  0.081  0.040  \n",
       "TATP_14     0.079  0.078  0.040  \n",
       "Acetone_1   0.024  0.021 -0.035  \n",
       "Acetone_2   0.020  0.020 -0.035  \n",
       "Acetone_3   0.026  0.021 -0.035  \n",
       "Acetone_4   0.022  0.026 -0.035  \n",
       "Acetone_5   0.021  0.029 -0.035  \n",
       "Acetone_6   0.022  0.018 -0.035  \n",
       "Acetone_7   0.022  0.022 -0.035  \n",
       "Acetone_8   0.026  0.023  0.035  \n",
       "Acetone_9   0.022  0.024  0.035  \n",
       "Acetone_10  0.024  0.022  0.035  \n",
       "Acetone_11  0.023  0.021  0.035  \n",
       "Acetone_12  0.019  0.022  0.035  \n",
       "Acetone_13  0.020  0.019  0.035  \n",
       "Acetone_14  0.024  0.021  0.035  \n",
       "Acetone_15  0.017  0.019  0.035  \n",
       "DMMP_1      0.023  0.024 -0.035  \n",
       "DMMP_2      0.020  0.021 -0.035  \n",
       "DMMP_3      0.021  0.019 -0.035  \n",
       "DMMP_4      0.019  0.022 -0.035  \n",
       "DMMP_5      0.025  0.020 -0.035  \n",
       "DMMP_6      0.022  0.021 -0.035  \n",
       "DMMP_7      0.024  0.023 -0.035  \n",
       "DMMP_8      0.019  0.020 -0.035  \n",
       "DMMP_9      0.021  0.022  0.035  \n",
       "DMMP_10     0.017  0.023  0.035  \n",
       "DMMP_11     0.024  0.021  0.035  \n",
       "DMMP_12     0.022  0.021  0.035  \n",
       "DMMP_13     0.023  0.024  0.035  \n",
       "DMMP_14     0.024  0.026  0.035  \n",
       "\n",
       "[43 rows x 668 columns]"
      ]
     },
     "execution_count": 69,
     "metadata": {},
     "output_type": "execute_result"
    }
   ],
   "source": [
    "X = df.iloc[:,1:]\n",
    "X"
   ]
  },
  {
   "cell_type": "code",
   "execution_count": 70,
   "metadata": {},
   "outputs": [
    {
     "data": {
      "text/plain": [
       "Class    0\n",
       "0.52     0\n",
       "0.54     0\n",
       "0.56     0\n",
       "0.58     0\n",
       "        ..\n",
       "13.78    0\n",
       "13.8     0\n",
       "13.82    0\n",
       "13.84    0\n",
       "13.86    0\n",
       "Length: 669, dtype: int64"
      ]
     },
     "execution_count": 70,
     "metadata": {},
     "output_type": "execute_result"
    }
   ],
   "source": [
    "# Checking the presence missing values\n",
    "df.isnull().sum()"
   ]
  },
  {
   "cell_type": "code",
   "execution_count": 71,
   "metadata": {},
   "outputs": [
    {
     "name": "stdout",
     "output_type": "stream",
     "text": [
      "<class 'pandas.core.frame.DataFrame'>\n",
      "Index: 43 entries, TATP_1 to DMMP_14\n",
      "Columns: 669 entries, Class to 13.86\n",
      "dtypes: float64(668), object(1)\n",
      "memory usage: 225.1+ KB\n"
     ]
    }
   ],
   "source": [
    "df.info()"
   ]
  },
  {
   "cell_type": "code",
   "execution_count": 72,
   "metadata": {},
   "outputs": [
    {
     "data": {
      "text/html": [
       "<div>\n",
       "<style scoped>\n",
       "    .dataframe tbody tr th:only-of-type {\n",
       "        vertical-align: middle;\n",
       "    }\n",
       "\n",
       "    .dataframe tbody tr th {\n",
       "        vertical-align: top;\n",
       "    }\n",
       "\n",
       "    .dataframe thead th {\n",
       "        text-align: right;\n",
       "    }\n",
       "</style>\n",
       "<table border=\"1\" class=\"dataframe\">\n",
       "  <thead>\n",
       "    <tr style=\"text-align: right;\">\n",
       "      <th></th>\n",
       "      <th>0.52</th>\n",
       "      <th>0.54</th>\n",
       "      <th>0.56</th>\n",
       "      <th>0.58</th>\n",
       "      <th>0.60</th>\n",
       "      <th>0.62</th>\n",
       "      <th>0.64</th>\n",
       "      <th>0.66</th>\n",
       "      <th>0.68</th>\n",
       "      <th>0.70</th>\n",
       "      <th>...</th>\n",
       "      <th>13.68</th>\n",
       "      <th>13.70</th>\n",
       "      <th>13.72</th>\n",
       "      <th>13.74</th>\n",
       "      <th>13.76</th>\n",
       "      <th>13.78</th>\n",
       "      <th>13.80</th>\n",
       "      <th>13.82</th>\n",
       "      <th>13.84</th>\n",
       "      <th>13.86</th>\n",
       "    </tr>\n",
       "  </thead>\n",
       "  <tbody>\n",
       "    <tr>\n",
       "      <th>count</th>\n",
       "      <td>43.000000</td>\n",
       "      <td>43.000000</td>\n",
       "      <td>43.000000</td>\n",
       "      <td>43.000000</td>\n",
       "      <td>43.000000</td>\n",
       "      <td>43.000000</td>\n",
       "      <td>43.000000</td>\n",
       "      <td>43.000000</td>\n",
       "      <td>43.000000</td>\n",
       "      <td>43.000000</td>\n",
       "      <td>...</td>\n",
       "      <td>43.000000</td>\n",
       "      <td>43.000000</td>\n",
       "      <td>43.000000</td>\n",
       "      <td>43.000000</td>\n",
       "      <td>43.000000</td>\n",
       "      <td>43.000000</td>\n",
       "      <td>43.000000</td>\n",
       "      <td>43.000000</td>\n",
       "      <td>43.000000</td>\n",
       "      <td>43.000000</td>\n",
       "    </tr>\n",
       "    <tr>\n",
       "      <th>mean</th>\n",
       "      <td>0.038837</td>\n",
       "      <td>0.038512</td>\n",
       "      <td>0.039302</td>\n",
       "      <td>0.039047</td>\n",
       "      <td>0.038814</td>\n",
       "      <td>0.039070</td>\n",
       "      <td>0.039977</td>\n",
       "      <td>0.039884</td>\n",
       "      <td>0.039581</td>\n",
       "      <td>0.039326</td>\n",
       "      <td>...</td>\n",
       "      <td>0.040279</td>\n",
       "      <td>0.040256</td>\n",
       "      <td>0.040465</td>\n",
       "      <td>0.040465</td>\n",
       "      <td>0.040302</td>\n",
       "      <td>0.041140</td>\n",
       "      <td>0.040791</td>\n",
       "      <td>0.041070</td>\n",
       "      <td>0.041093</td>\n",
       "      <td>0.011860</td>\n",
       "    </tr>\n",
       "    <tr>\n",
       "      <th>std</th>\n",
       "      <td>0.029001</td>\n",
       "      <td>0.028311</td>\n",
       "      <td>0.029164</td>\n",
       "      <td>0.028499</td>\n",
       "      <td>0.029085</td>\n",
       "      <td>0.028428</td>\n",
       "      <td>0.028136</td>\n",
       "      <td>0.028205</td>\n",
       "      <td>0.027881</td>\n",
       "      <td>0.029049</td>\n",
       "      <td>...</td>\n",
       "      <td>0.027874</td>\n",
       "      <td>0.028239</td>\n",
       "      <td>0.027901</td>\n",
       "      <td>0.027652</td>\n",
       "      <td>0.028118</td>\n",
       "      <td>0.028033</td>\n",
       "      <td>0.027571</td>\n",
       "      <td>0.027949</td>\n",
       "      <td>0.028041</td>\n",
       "      <td>0.034761</td>\n",
       "    </tr>\n",
       "    <tr>\n",
       "      <th>min</th>\n",
       "      <td>0.014000</td>\n",
       "      <td>0.013000</td>\n",
       "      <td>0.014000</td>\n",
       "      <td>0.015000</td>\n",
       "      <td>0.013000</td>\n",
       "      <td>0.015000</td>\n",
       "      <td>0.016000</td>\n",
       "      <td>0.014000</td>\n",
       "      <td>0.017000</td>\n",
       "      <td>0.015000</td>\n",
       "      <td>...</td>\n",
       "      <td>0.013000</td>\n",
       "      <td>0.016000</td>\n",
       "      <td>0.016000</td>\n",
       "      <td>0.013000</td>\n",
       "      <td>0.014000</td>\n",
       "      <td>0.015000</td>\n",
       "      <td>0.015000</td>\n",
       "      <td>0.017000</td>\n",
       "      <td>0.018000</td>\n",
       "      <td>-0.035000</td>\n",
       "    </tr>\n",
       "    <tr>\n",
       "      <th>25%</th>\n",
       "      <td>0.018000</td>\n",
       "      <td>0.018500</td>\n",
       "      <td>0.019000</td>\n",
       "      <td>0.018500</td>\n",
       "      <td>0.018000</td>\n",
       "      <td>0.018000</td>\n",
       "      <td>0.020000</td>\n",
       "      <td>0.020000</td>\n",
       "      <td>0.020000</td>\n",
       "      <td>0.018000</td>\n",
       "      <td>...</td>\n",
       "      <td>0.021000</td>\n",
       "      <td>0.020000</td>\n",
       "      <td>0.021000</td>\n",
       "      <td>0.021500</td>\n",
       "      <td>0.021000</td>\n",
       "      <td>0.021000</td>\n",
       "      <td>0.021000</td>\n",
       "      <td>0.021500</td>\n",
       "      <td>0.021000</td>\n",
       "      <td>-0.035000</td>\n",
       "    </tr>\n",
       "    <tr>\n",
       "      <th>50%</th>\n",
       "      <td>0.020000</td>\n",
       "      <td>0.022000</td>\n",
       "      <td>0.021000</td>\n",
       "      <td>0.021000</td>\n",
       "      <td>0.021000</td>\n",
       "      <td>0.021000</td>\n",
       "      <td>0.022000</td>\n",
       "      <td>0.022000</td>\n",
       "      <td>0.022000</td>\n",
       "      <td>0.021000</td>\n",
       "      <td>...</td>\n",
       "      <td>0.024000</td>\n",
       "      <td>0.023000</td>\n",
       "      <td>0.024000</td>\n",
       "      <td>0.024000</td>\n",
       "      <td>0.023000</td>\n",
       "      <td>0.024000</td>\n",
       "      <td>0.024000</td>\n",
       "      <td>0.024000</td>\n",
       "      <td>0.023000</td>\n",
       "      <td>0.035000</td>\n",
       "    </tr>\n",
       "    <tr>\n",
       "      <th>75%</th>\n",
       "      <td>0.076500</td>\n",
       "      <td>0.077500</td>\n",
       "      <td>0.080000</td>\n",
       "      <td>0.078000</td>\n",
       "      <td>0.079000</td>\n",
       "      <td>0.078500</td>\n",
       "      <td>0.079000</td>\n",
       "      <td>0.078500</td>\n",
       "      <td>0.077000</td>\n",
       "      <td>0.079000</td>\n",
       "      <td>...</td>\n",
       "      <td>0.078500</td>\n",
       "      <td>0.078500</td>\n",
       "      <td>0.078500</td>\n",
       "      <td>0.078500</td>\n",
       "      <td>0.079000</td>\n",
       "      <td>0.079000</td>\n",
       "      <td>0.079000</td>\n",
       "      <td>0.079000</td>\n",
       "      <td>0.079000</td>\n",
       "      <td>0.037500</td>\n",
       "    </tr>\n",
       "    <tr>\n",
       "      <th>max</th>\n",
       "      <td>0.087000</td>\n",
       "      <td>0.083000</td>\n",
       "      <td>0.085000</td>\n",
       "      <td>0.081000</td>\n",
       "      <td>0.084000</td>\n",
       "      <td>0.084000</td>\n",
       "      <td>0.082000</td>\n",
       "      <td>0.085000</td>\n",
       "      <td>0.083000</td>\n",
       "      <td>0.085000</td>\n",
       "      <td>...</td>\n",
       "      <td>0.084000</td>\n",
       "      <td>0.084000</td>\n",
       "      <td>0.083000</td>\n",
       "      <td>0.085000</td>\n",
       "      <td>0.084000</td>\n",
       "      <td>0.084000</td>\n",
       "      <td>0.084000</td>\n",
       "      <td>0.083000</td>\n",
       "      <td>0.084000</td>\n",
       "      <td>0.040000</td>\n",
       "    </tr>\n",
       "  </tbody>\n",
       "</table>\n",
       "<p>8 rows × 668 columns</p>\n",
       "</div>"
      ],
      "text/plain": [
       "           0.52       0.54       0.56       0.58       0.60       0.62   \\\n",
       "count  43.000000  43.000000  43.000000  43.000000  43.000000  43.000000   \n",
       "mean    0.038837   0.038512   0.039302   0.039047   0.038814   0.039070   \n",
       "std     0.029001   0.028311   0.029164   0.028499   0.029085   0.028428   \n",
       "min     0.014000   0.013000   0.014000   0.015000   0.013000   0.015000   \n",
       "25%     0.018000   0.018500   0.019000   0.018500   0.018000   0.018000   \n",
       "50%     0.020000   0.022000   0.021000   0.021000   0.021000   0.021000   \n",
       "75%     0.076500   0.077500   0.080000   0.078000   0.079000   0.078500   \n",
       "max     0.087000   0.083000   0.085000   0.081000   0.084000   0.084000   \n",
       "\n",
       "           0.64       0.66       0.68       0.70   ...      13.68      13.70  \\\n",
       "count  43.000000  43.000000  43.000000  43.000000  ...  43.000000  43.000000   \n",
       "mean    0.039977   0.039884   0.039581   0.039326  ...   0.040279   0.040256   \n",
       "std     0.028136   0.028205   0.027881   0.029049  ...   0.027874   0.028239   \n",
       "min     0.016000   0.014000   0.017000   0.015000  ...   0.013000   0.016000   \n",
       "25%     0.020000   0.020000   0.020000   0.018000  ...   0.021000   0.020000   \n",
       "50%     0.022000   0.022000   0.022000   0.021000  ...   0.024000   0.023000   \n",
       "75%     0.079000   0.078500   0.077000   0.079000  ...   0.078500   0.078500   \n",
       "max     0.082000   0.085000   0.083000   0.085000  ...   0.084000   0.084000   \n",
       "\n",
       "           13.72      13.74      13.76      13.78      13.80      13.82  \\\n",
       "count  43.000000  43.000000  43.000000  43.000000  43.000000  43.000000   \n",
       "mean    0.040465   0.040465   0.040302   0.041140   0.040791   0.041070   \n",
       "std     0.027901   0.027652   0.028118   0.028033   0.027571   0.027949   \n",
       "min     0.016000   0.013000   0.014000   0.015000   0.015000   0.017000   \n",
       "25%     0.021000   0.021500   0.021000   0.021000   0.021000   0.021500   \n",
       "50%     0.024000   0.024000   0.023000   0.024000   0.024000   0.024000   \n",
       "75%     0.078500   0.078500   0.079000   0.079000   0.079000   0.079000   \n",
       "max     0.083000   0.085000   0.084000   0.084000   0.084000   0.083000   \n",
       "\n",
       "           13.84      13.86  \n",
       "count  43.000000  43.000000  \n",
       "mean    0.041093   0.011860  \n",
       "std     0.028041   0.034761  \n",
       "min     0.018000  -0.035000  \n",
       "25%     0.021000  -0.035000  \n",
       "50%     0.023000   0.035000  \n",
       "75%     0.079000   0.037500  \n",
       "max     0.084000   0.040000  \n",
       "\n",
       "[8 rows x 668 columns]"
      ]
     },
     "execution_count": 72,
     "metadata": {},
     "output_type": "execute_result"
    }
   ],
   "source": [
    "df.describe()"
   ]
  },
  {
   "cell_type": "code",
   "execution_count": 73,
   "metadata": {},
   "outputs": [
    {
     "data": {
      "text/plain": [
       "Sample_id\n",
       "TATP_1           TATP\n",
       "TATP_2           TATP\n",
       "TATP_3           TATP\n",
       "TATP_4           TATP\n",
       "TATP_5           TATP\n",
       "TATP_6           TATP\n",
       "TATP_7           TATP\n",
       "TATP_8           TATP\n",
       "TATP_9           TATP\n",
       "TATP_10          TATP\n",
       "TATP_11          TATP\n",
       "TATP_12          TATP\n",
       "TATP_13          TATP\n",
       "TATP_14          TATP\n",
       "Acetone_1     acetone\n",
       "Acetone_2     acetone\n",
       "Acetone_3     acetone\n",
       "Acetone_4     acetone\n",
       "Acetone_5     acetone\n",
       "Acetone_6     acetone\n",
       "Acetone_7     acetone\n",
       "Acetone_8     acetone\n",
       "Acetone_9     acetone\n",
       "Acetone_10    acetone\n",
       "Acetone_11    acetone\n",
       "Acetone_12    acetone\n",
       "Acetone_13    acetone\n",
       "Acetone_14    acetone\n",
       "Acetone_15    acetone\n",
       "DMMP_1           DMMP\n",
       "DMMP_2           DMMP\n",
       "DMMP_3           DMMP\n",
       "DMMP_4           DMMP\n",
       "DMMP_5           DMMP\n",
       "DMMP_6           DMMP\n",
       "DMMP_7           DMMP\n",
       "DMMP_8           DMMP\n",
       "DMMP_9           DMMP\n",
       "DMMP_10          DMMP\n",
       "DMMP_11          DMMP\n",
       "DMMP_12          DMMP\n",
       "DMMP_13          DMMP\n",
       "DMMP_14          DMMP\n",
       "Name: Class, dtype: object"
      ]
     },
     "execution_count": 73,
     "metadata": {},
     "output_type": "execute_result"
    }
   ],
   "source": [
    "Y = df.loc[:,'Class']\n",
    "Y"
   ]
  },
  {
   "cell_type": "code",
   "execution_count": 74,
   "metadata": {},
   "outputs": [
    {
     "data": {
      "text/plain": [
       "array([[ 1.29660731,  1.51855163,  1.41198289, ...,  1.373171  ,\n",
       "         1.476067  ,  0.67354382],\n",
       "       [ 1.19193751,  1.44707082,  1.44667733, ...,  1.51798118,\n",
       "         1.33173299,  0.81908344],\n",
       "       [ 1.26171738,  1.44707082,  1.34259402, ...,  1.48177863,\n",
       "         1.476067  ,  0.81908344],\n",
       "       ...,\n",
       "       [-0.86656859, -0.69735348, -0.63498888, ..., -0.69037414,\n",
       "        -0.72502665,  0.67354382],\n",
       "       [-0.41299945, -0.51865146, -0.60029444, ..., -0.65417159,\n",
       "        -0.61677615,  0.67354382],\n",
       "       [-0.65722899, -0.66161308, -0.66968331, ..., -0.61796904,\n",
       "        -0.54460914,  0.67354382]])"
      ]
     },
     "execution_count": 74,
     "metadata": {},
     "output_type": "execute_result"
    }
   ],
   "source": [
    "# autoscale the data\n",
    "from sklearn.preprocessing import scale\n",
    "X_autosc = scale(X.values)\n",
    "X_autosc"
   ]
  },
  {
   "cell_type": "code",
   "execution_count": 75,
   "metadata": {},
   "outputs": [],
   "source": [
    "# Write the SNV function (is, actually, like autoscaling by row)\n",
    "def snv(input_data):\n",
    "  \n",
    "    # Define a new array and populate it with the corrected data  \n",
    "    output_data = np.zeros_like(input_data)\n",
    "    for i in range(input_data.shape[0]):\n",
    " \n",
    "        # Apply correction\n",
    "        output_data[i,:] = (input_data[i,:] - np.mean(input_data[i,:])) / np.std(input_data[i,:])\n",
    " \n",
    "    return output_data"
   ]
  },
  {
   "cell_type": "code",
   "execution_count": 76,
   "metadata": {},
   "outputs": [
    {
     "data": {
      "text/plain": [
       "array([[-0.59939413, -0.58920342, -0.59124156, ..., -0.5932797 ,\n",
       "        -0.58716527, -0.68295801],\n",
       "       [-0.50637416, -0.4964454 , -0.49313581, ..., -0.48982623,\n",
       "        -0.49810019, -0.56098234],\n",
       "       [-0.5957196 , -0.58742874, -0.58950145, ..., -0.58121059,\n",
       "        -0.58121059, -0.66826465],\n",
       "       ...,\n",
       "       [-0.28256351, -0.27854558, -0.27693841, ..., -0.27613483,\n",
       "        -0.27693841, -0.26568823],\n",
       "       [-0.30701047, -0.31038571, -0.31263587, ..., -0.31151079,\n",
       "        -0.31038571, -0.29800983],\n",
       "       [-0.31412998, -0.31412998, -0.31412998, ..., -0.30964052,\n",
       "        -0.30739578, -0.29729448]])"
      ]
     },
     "execution_count": 76,
     "metadata": {},
     "output_type": "execute_result"
    }
   ],
   "source": [
    "# Compute the SNV on np data\n",
    "Xsnv = snv(X.values)\n",
    "Xsnv"
   ]
  },
  {
   "cell_type": "code",
   "execution_count": 77,
   "metadata": {},
   "outputs": [],
   "source": [
    "lda = LDA(n_components=2) # N-1 where N are the classes\n",
    "scores_lda = lda.fit(X_autosc, Y).transform(X_autosc)"
   ]
  },
  {
   "cell_type": "code",
   "execution_count": 78,
   "metadata": {},
   "outputs": [
    {
     "data": {
      "text/plain": [
       "array([[ 46.11230424,   0.67036776],\n",
       "       [ 47.34386286,  -0.11514391],\n",
       "       [ 46.36350348,  -1.21873411],\n",
       "       [ 43.96789617,  -1.38838569],\n",
       "       [ 46.78643495,   0.21884249],\n",
       "       [ 49.26743063,   0.25194314],\n",
       "       [ 47.55505502,   1.26429697],\n",
       "       [ 47.30308204,  -0.95887378],\n",
       "       [ 47.62847412,  -0.64943089],\n",
       "       [ 48.51652882,   0.54062129],\n",
       "       [ 47.55471915,   0.2529615 ],\n",
       "       [ 48.32872541,  -0.07008532],\n",
       "       [ 46.8539048 ,   0.77469328],\n",
       "       [ 47.98711441,   0.48619994],\n",
       "       [-24.08271334,   2.36948294],\n",
       "       [-23.0408271 ,   0.6912287 ],\n",
       "       [-23.1669734 ,  -0.06221232],\n",
       "       [-22.39337111,   1.37235938],\n",
       "       [-22.21806574,   1.13907672],\n",
       "       [-22.19341369,   0.45300317],\n",
       "       [-22.9797753 ,   1.63551639],\n",
       "       [-22.67734511,   2.56409836],\n",
       "       [-21.3350137 ,   1.89568941],\n",
       "       [-22.67529437,   2.8273131 ],\n",
       "       [-22.93404339,   2.15948061],\n",
       "       [-23.82033893,   3.12345049],\n",
       "       [-24.33581853,   3.10495357],\n",
       "       [-22.57328502,   1.31048018],\n",
       "       [-22.93307135,   1.12349533],\n",
       "       [-23.61305359,  -0.79935492],\n",
       "       [-24.20928801,  -1.53856261],\n",
       "       [-22.00488834,  -1.84099961],\n",
       "       [-23.1756288 ,   1.46684615],\n",
       "       [-20.66691348,  -1.39875855],\n",
       "       [-22.72387407,  -0.92673968],\n",
       "       [-22.51799552,  -2.06847696],\n",
       "       [-21.77588931,  -2.5390845 ],\n",
       "       [-22.38118673,  -2.5241705 ],\n",
       "       [-22.89006863,  -2.386579  ],\n",
       "       [-22.90153691,  -2.34210571],\n",
       "       [-23.96228363,  -2.74066495],\n",
       "       [-22.98463846,  -2.876856  ],\n",
       "       [-22.40244055,  -3.2511819 ]])"
      ]
     },
     "execution_count": 78,
     "metadata": {},
     "output_type": "execute_result"
    }
   ],
   "source": [
    "scores_lda"
   ]
  },
  {
   "cell_type": "code",
   "execution_count": 79,
   "metadata": {},
   "outputs": [
    {
     "name": "stdout",
     "output_type": "stream",
     "text": [
      "[0.3255814  0.3255814  0.34883721]\n"
     ]
    }
   ],
   "source": [
    "print(lda.priors_)"
   ]
  },
  {
   "cell_type": "code",
   "execution_count": 80,
   "metadata": {},
   "outputs": [
    {
     "name": "stdout",
     "output_type": "stream",
     "text": [
      "[[-0.67965823 -0.65906019 -0.67959601 ... -0.70071772 -0.69152054\n",
      "  -0.49077313]\n",
      " [ 1.42869063  1.42920061  1.43428646 ...  1.4352325   1.43482871\n",
      "   0.78789638]\n",
      " [-0.69909691 -0.71879773 -0.70437775 ... -0.68554713 -0.69375429\n",
      "  -0.27731503]]\n"
     ]
    }
   ],
   "source": [
    "print(lda.means_)"
   ]
  },
  {
   "cell_type": "code",
   "execution_count": 81,
   "metadata": {},
   "outputs": [
    {
     "name": "stdout",
     "output_type": "stream",
     "text": [
      "[[ -3.20653725   6.40656762  -3.90611558 ...  -4.11403016  -0.38076569\n",
      "    0.15903416]\n",
      " [  5.5837932  -12.09312526   7.69070901 ...   8.15488257   0.14977493\n",
      "   -0.33181581]\n",
      " [ -2.21877222   5.3074538   -3.53228719 ...  -3.77146225   0.21559138\n",
      "    0.16126287]]\n"
     ]
    }
   ],
   "source": [
    "print(lda.coef_[0:7,:])"
   ]
  },
  {
   "cell_type": "code",
   "execution_count": 82,
   "metadata": {},
   "outputs": [
    {
     "name": "stdout",
     "output_type": "stream",
     "text": [
      "(array(['DMMP', 'TATP', 'acetone'], dtype='<U7'), array([13, 14, 16]))\n"
     ]
    }
   ],
   "source": [
    "pred=lda.predict(X_autosc)\n",
    "print(np.unique(pred, return_counts=True))"
   ]
  },
  {
   "cell_type": "code",
   "execution_count": 83,
   "metadata": {},
   "outputs": [
    {
     "name": "stdout",
     "output_type": "stream",
     "text": [
      "[[13  0  0]\n",
      " [ 0 14  0]\n",
      " [ 1  0 15]]\n",
      "              precision    recall  f1-score   support\n",
      "\n",
      "        DMMP       1.00      0.93      0.96        14\n",
      "        TATP       1.00      1.00      1.00        14\n",
      "     acetone       0.94      1.00      0.97        15\n",
      "\n",
      "    accuracy                           0.98        43\n",
      "   macro avg       0.98      0.98      0.98        43\n",
      "weighted avg       0.98      0.98      0.98        43\n",
      "\n"
     ]
    }
   ],
   "source": [
    "print(confusion_matrix(pred, Y))\n",
    "print(classification_report(Y, pred, digits=2))"
   ]
  },
  {
   "cell_type": "code",
   "execution_count": 84,
   "metadata": {},
   "outputs": [
    {
     "data": {
      "text/html": [
       "<div>\n",
       "<style scoped>\n",
       "    .dataframe tbody tr th:only-of-type {\n",
       "        vertical-align: middle;\n",
       "    }\n",
       "\n",
       "    .dataframe tbody tr th {\n",
       "        vertical-align: top;\n",
       "    }\n",
       "\n",
       "    .dataframe thead th {\n",
       "        text-align: right;\n",
       "    }\n",
       "</style>\n",
       "<table border=\"1\" class=\"dataframe\">\n",
       "  <thead>\n",
       "    <tr style=\"text-align: right;\">\n",
       "      <th></th>\n",
       "      <th>LV1</th>\n",
       "      <th>LV2</th>\n",
       "    </tr>\n",
       "    <tr>\n",
       "      <th>Sample_id</th>\n",
       "      <th></th>\n",
       "      <th></th>\n",
       "    </tr>\n",
       "  </thead>\n",
       "  <tbody>\n",
       "    <tr>\n",
       "      <th>TATP_1</th>\n",
       "      <td>46.112304</td>\n",
       "      <td>0.670368</td>\n",
       "    </tr>\n",
       "    <tr>\n",
       "      <th>TATP_2</th>\n",
       "      <td>47.343863</td>\n",
       "      <td>-0.115144</td>\n",
       "    </tr>\n",
       "    <tr>\n",
       "      <th>TATP_3</th>\n",
       "      <td>46.363503</td>\n",
       "      <td>-1.218734</td>\n",
       "    </tr>\n",
       "    <tr>\n",
       "      <th>TATP_4</th>\n",
       "      <td>43.967896</td>\n",
       "      <td>-1.388386</td>\n",
       "    </tr>\n",
       "    <tr>\n",
       "      <th>TATP_5</th>\n",
       "      <td>46.786435</td>\n",
       "      <td>0.218842</td>\n",
       "    </tr>\n",
       "    <tr>\n",
       "      <th>TATP_6</th>\n",
       "      <td>49.267431</td>\n",
       "      <td>0.251943</td>\n",
       "    </tr>\n",
       "    <tr>\n",
       "      <th>TATP_7</th>\n",
       "      <td>47.555055</td>\n",
       "      <td>1.264297</td>\n",
       "    </tr>\n",
       "    <tr>\n",
       "      <th>TATP_8</th>\n",
       "      <td>47.303082</td>\n",
       "      <td>-0.958874</td>\n",
       "    </tr>\n",
       "    <tr>\n",
       "      <th>TATP_9</th>\n",
       "      <td>47.628474</td>\n",
       "      <td>-0.649431</td>\n",
       "    </tr>\n",
       "    <tr>\n",
       "      <th>TATP_10</th>\n",
       "      <td>48.516529</td>\n",
       "      <td>0.540621</td>\n",
       "    </tr>\n",
       "    <tr>\n",
       "      <th>TATP_11</th>\n",
       "      <td>47.554719</td>\n",
       "      <td>0.252962</td>\n",
       "    </tr>\n",
       "    <tr>\n",
       "      <th>TATP_12</th>\n",
       "      <td>48.328725</td>\n",
       "      <td>-0.070085</td>\n",
       "    </tr>\n",
       "    <tr>\n",
       "      <th>TATP_13</th>\n",
       "      <td>46.853905</td>\n",
       "      <td>0.774693</td>\n",
       "    </tr>\n",
       "    <tr>\n",
       "      <th>TATP_14</th>\n",
       "      <td>47.987114</td>\n",
       "      <td>0.486200</td>\n",
       "    </tr>\n",
       "    <tr>\n",
       "      <th>Acetone_1</th>\n",
       "      <td>-24.082713</td>\n",
       "      <td>2.369483</td>\n",
       "    </tr>\n",
       "    <tr>\n",
       "      <th>Acetone_2</th>\n",
       "      <td>-23.040827</td>\n",
       "      <td>0.691229</td>\n",
       "    </tr>\n",
       "    <tr>\n",
       "      <th>Acetone_3</th>\n",
       "      <td>-23.166973</td>\n",
       "      <td>-0.062212</td>\n",
       "    </tr>\n",
       "    <tr>\n",
       "      <th>Acetone_4</th>\n",
       "      <td>-22.393371</td>\n",
       "      <td>1.372359</td>\n",
       "    </tr>\n",
       "    <tr>\n",
       "      <th>Acetone_5</th>\n",
       "      <td>-22.218066</td>\n",
       "      <td>1.139077</td>\n",
       "    </tr>\n",
       "    <tr>\n",
       "      <th>Acetone_6</th>\n",
       "      <td>-22.193414</td>\n",
       "      <td>0.453003</td>\n",
       "    </tr>\n",
       "    <tr>\n",
       "      <th>Acetone_7</th>\n",
       "      <td>-22.979775</td>\n",
       "      <td>1.635516</td>\n",
       "    </tr>\n",
       "    <tr>\n",
       "      <th>Acetone_8</th>\n",
       "      <td>-22.677345</td>\n",
       "      <td>2.564098</td>\n",
       "    </tr>\n",
       "    <tr>\n",
       "      <th>Acetone_9</th>\n",
       "      <td>-21.335014</td>\n",
       "      <td>1.895689</td>\n",
       "    </tr>\n",
       "    <tr>\n",
       "      <th>Acetone_10</th>\n",
       "      <td>-22.675294</td>\n",
       "      <td>2.827313</td>\n",
       "    </tr>\n",
       "    <tr>\n",
       "      <th>Acetone_11</th>\n",
       "      <td>-22.934043</td>\n",
       "      <td>2.159481</td>\n",
       "    </tr>\n",
       "    <tr>\n",
       "      <th>Acetone_12</th>\n",
       "      <td>-23.820339</td>\n",
       "      <td>3.123450</td>\n",
       "    </tr>\n",
       "    <tr>\n",
       "      <th>Acetone_13</th>\n",
       "      <td>-24.335819</td>\n",
       "      <td>3.104954</td>\n",
       "    </tr>\n",
       "    <tr>\n",
       "      <th>Acetone_14</th>\n",
       "      <td>-22.573285</td>\n",
       "      <td>1.310480</td>\n",
       "    </tr>\n",
       "    <tr>\n",
       "      <th>Acetone_15</th>\n",
       "      <td>-22.933071</td>\n",
       "      <td>1.123495</td>\n",
       "    </tr>\n",
       "    <tr>\n",
       "      <th>DMMP_1</th>\n",
       "      <td>-23.613054</td>\n",
       "      <td>-0.799355</td>\n",
       "    </tr>\n",
       "    <tr>\n",
       "      <th>DMMP_2</th>\n",
       "      <td>-24.209288</td>\n",
       "      <td>-1.538563</td>\n",
       "    </tr>\n",
       "    <tr>\n",
       "      <th>DMMP_3</th>\n",
       "      <td>-22.004888</td>\n",
       "      <td>-1.841000</td>\n",
       "    </tr>\n",
       "    <tr>\n",
       "      <th>DMMP_4</th>\n",
       "      <td>-23.175629</td>\n",
       "      <td>1.466846</td>\n",
       "    </tr>\n",
       "    <tr>\n",
       "      <th>DMMP_5</th>\n",
       "      <td>-20.666913</td>\n",
       "      <td>-1.398759</td>\n",
       "    </tr>\n",
       "    <tr>\n",
       "      <th>DMMP_6</th>\n",
       "      <td>-22.723874</td>\n",
       "      <td>-0.926740</td>\n",
       "    </tr>\n",
       "    <tr>\n",
       "      <th>DMMP_7</th>\n",
       "      <td>-22.517996</td>\n",
       "      <td>-2.068477</td>\n",
       "    </tr>\n",
       "    <tr>\n",
       "      <th>DMMP_8</th>\n",
       "      <td>-21.775889</td>\n",
       "      <td>-2.539084</td>\n",
       "    </tr>\n",
       "    <tr>\n",
       "      <th>DMMP_9</th>\n",
       "      <td>-22.381187</td>\n",
       "      <td>-2.524170</td>\n",
       "    </tr>\n",
       "    <tr>\n",
       "      <th>DMMP_10</th>\n",
       "      <td>-22.890069</td>\n",
       "      <td>-2.386579</td>\n",
       "    </tr>\n",
       "    <tr>\n",
       "      <th>DMMP_11</th>\n",
       "      <td>-22.901537</td>\n",
       "      <td>-2.342106</td>\n",
       "    </tr>\n",
       "    <tr>\n",
       "      <th>DMMP_12</th>\n",
       "      <td>-23.962284</td>\n",
       "      <td>-2.740665</td>\n",
       "    </tr>\n",
       "    <tr>\n",
       "      <th>DMMP_13</th>\n",
       "      <td>-22.984638</td>\n",
       "      <td>-2.876856</td>\n",
       "    </tr>\n",
       "    <tr>\n",
       "      <th>DMMP_14</th>\n",
       "      <td>-22.402441</td>\n",
       "      <td>-3.251182</td>\n",
       "    </tr>\n",
       "  </tbody>\n",
       "</table>\n",
       "</div>"
      ],
      "text/plain": [
       "                  LV1       LV2\n",
       "Sample_id                      \n",
       "TATP_1      46.112304  0.670368\n",
       "TATP_2      47.343863 -0.115144\n",
       "TATP_3      46.363503 -1.218734\n",
       "TATP_4      43.967896 -1.388386\n",
       "TATP_5      46.786435  0.218842\n",
       "TATP_6      49.267431  0.251943\n",
       "TATP_7      47.555055  1.264297\n",
       "TATP_8      47.303082 -0.958874\n",
       "TATP_9      47.628474 -0.649431\n",
       "TATP_10     48.516529  0.540621\n",
       "TATP_11     47.554719  0.252962\n",
       "TATP_12     48.328725 -0.070085\n",
       "TATP_13     46.853905  0.774693\n",
       "TATP_14     47.987114  0.486200\n",
       "Acetone_1  -24.082713  2.369483\n",
       "Acetone_2  -23.040827  0.691229\n",
       "Acetone_3  -23.166973 -0.062212\n",
       "Acetone_4  -22.393371  1.372359\n",
       "Acetone_5  -22.218066  1.139077\n",
       "Acetone_6  -22.193414  0.453003\n",
       "Acetone_7  -22.979775  1.635516\n",
       "Acetone_8  -22.677345  2.564098\n",
       "Acetone_9  -21.335014  1.895689\n",
       "Acetone_10 -22.675294  2.827313\n",
       "Acetone_11 -22.934043  2.159481\n",
       "Acetone_12 -23.820339  3.123450\n",
       "Acetone_13 -24.335819  3.104954\n",
       "Acetone_14 -22.573285  1.310480\n",
       "Acetone_15 -22.933071  1.123495\n",
       "DMMP_1     -23.613054 -0.799355\n",
       "DMMP_2     -24.209288 -1.538563\n",
       "DMMP_3     -22.004888 -1.841000\n",
       "DMMP_4     -23.175629  1.466846\n",
       "DMMP_5     -20.666913 -1.398759\n",
       "DMMP_6     -22.723874 -0.926740\n",
       "DMMP_7     -22.517996 -2.068477\n",
       "DMMP_8     -21.775889 -2.539084\n",
       "DMMP_9     -22.381187 -2.524170\n",
       "DMMP_10    -22.890069 -2.386579\n",
       "DMMP_11    -22.901537 -2.342106\n",
       "DMMP_12    -23.962284 -2.740665\n",
       "DMMP_13    -22.984638 -2.876856\n",
       "DMMP_14    -22.402441 -3.251182"
      ]
     },
     "execution_count": 84,
     "metadata": {},
     "output_type": "execute_result"
    }
   ],
   "source": [
    "scores = pd.DataFrame(data = scores_lda, columns = ['LV1','LV2']) # latent variables\n",
    "scores.index = df.index\n",
    "scores"
   ]
  },
  {
   "cell_type": "code",
   "execution_count": 85,
   "metadata": {},
   "outputs": [
    {
     "name": "stdout",
     "output_type": "stream",
     "text": [
      "                  LV1       LV2    Class\n",
      "Sample_id                               \n",
      "TATP_1      46.112304  0.670368     TATP\n",
      "TATP_2      47.343863 -0.115144     TATP\n",
      "TATP_3      46.363503 -1.218734     TATP\n",
      "TATP_4      43.967896 -1.388386     TATP\n",
      "TATP_5      46.786435  0.218842     TATP\n",
      "TATP_6      49.267431  0.251943     TATP\n",
      "TATP_7      47.555055  1.264297     TATP\n",
      "TATP_8      47.303082 -0.958874     TATP\n",
      "TATP_9      47.628474 -0.649431     TATP\n",
      "TATP_10     48.516529  0.540621     TATP\n",
      "TATP_11     47.554719  0.252962     TATP\n",
      "TATP_12     48.328725 -0.070085     TATP\n",
      "TATP_13     46.853905  0.774693     TATP\n",
      "TATP_14     47.987114  0.486200     TATP\n",
      "Acetone_1  -24.082713  2.369483  acetone\n",
      "Acetone_2  -23.040827  0.691229  acetone\n",
      "Acetone_3  -23.166973 -0.062212  acetone\n",
      "Acetone_4  -22.393371  1.372359  acetone\n",
      "Acetone_5  -22.218066  1.139077  acetone\n",
      "Acetone_6  -22.193414  0.453003  acetone\n",
      "Acetone_7  -22.979775  1.635516  acetone\n",
      "Acetone_8  -22.677345  2.564098  acetone\n",
      "Acetone_9  -21.335014  1.895689  acetone\n",
      "Acetone_10 -22.675294  2.827313  acetone\n",
      "Acetone_11 -22.934043  2.159481  acetone\n",
      "Acetone_12 -23.820339  3.123450  acetone\n",
      "Acetone_13 -24.335819  3.104954  acetone\n",
      "Acetone_14 -22.573285  1.310480  acetone\n",
      "Acetone_15 -22.933071  1.123495  acetone\n",
      "DMMP_1     -23.613054 -0.799355     DMMP\n",
      "DMMP_2     -24.209288 -1.538563     DMMP\n",
      "DMMP_3     -22.004888 -1.841000     DMMP\n",
      "DMMP_4     -23.175629  1.466846     DMMP\n",
      "DMMP_5     -20.666913 -1.398759     DMMP\n",
      "DMMP_6     -22.723874 -0.926740     DMMP\n",
      "DMMP_7     -22.517996 -2.068477     DMMP\n",
      "DMMP_8     -21.775889 -2.539084     DMMP\n",
      "DMMP_9     -22.381187 -2.524170     DMMP\n",
      "DMMP_10    -22.890069 -2.386579     DMMP\n",
      "DMMP_11    -22.901537 -2.342106     DMMP\n",
      "DMMP_12    -23.962284 -2.740665     DMMP\n",
      "DMMP_13    -22.984638 -2.876856     DMMP\n",
      "DMMP_14    -22.402441 -3.251182     DMMP\n"
     ]
    }
   ],
   "source": [
    "scores = pd.concat([scores, Y], axis = 1)\n",
    "print(scores)"
   ]
  },
  {
   "cell_type": "code",
   "execution_count": 86,
   "metadata": {},
   "outputs": [
    {
     "name": "stdout",
     "output_type": "stream",
     "text": [
      "explained variance ratio (first four components) with LDA: [0.99803038 0.00196962]\n"
     ]
    }
   ],
   "source": [
    "print('explained variance ratio (first four components) with LDA: %s'\n",
    "  % str(lda.explained_variance_ratio_))"
   ]
  },
  {
   "cell_type": "code",
   "execution_count": 87,
   "metadata": {},
   "outputs": [
    {
     "data": {
      "text/plain": [
       "array([0.99803038, 0.00196962])"
      ]
     },
     "execution_count": 87,
     "metadata": {},
     "output_type": "execute_result"
    }
   ],
   "source": [
    "lda.explained_variance_ratio_"
   ]
  },
  {
   "cell_type": "code",
   "execution_count": 88,
   "metadata": {},
   "outputs": [
    {
     "data": {
      "text/html": [
       "<div>\n",
       "<style scoped>\n",
       "    .dataframe tbody tr th:only-of-type {\n",
       "        vertical-align: middle;\n",
       "    }\n",
       "\n",
       "    .dataframe tbody tr th {\n",
       "        vertical-align: top;\n",
       "    }\n",
       "\n",
       "    .dataframe thead th {\n",
       "        text-align: right;\n",
       "    }\n",
       "</style>\n",
       "<table border=\"1\" class=\"dataframe\">\n",
       "  <thead>\n",
       "    <tr style=\"text-align: right;\">\n",
       "      <th></th>\n",
       "      <th>LV1</th>\n",
       "      <th>LV2</th>\n",
       "      <th>Attributes</th>\n",
       "    </tr>\n",
       "  </thead>\n",
       "  <tbody>\n",
       "    <tr>\n",
       "      <th>0</th>\n",
       "      <td>-3.206537</td>\n",
       "      <td>5.583793</td>\n",
       "      <td>0.52</td>\n",
       "    </tr>\n",
       "    <tr>\n",
       "      <th>1</th>\n",
       "      <td>6.406568</td>\n",
       "      <td>-12.093125</td>\n",
       "      <td>0.54</td>\n",
       "    </tr>\n",
       "    <tr>\n",
       "      <th>2</th>\n",
       "      <td>-3.906116</td>\n",
       "      <td>7.690709</td>\n",
       "      <td>0.56</td>\n",
       "    </tr>\n",
       "    <tr>\n",
       "      <th>3</th>\n",
       "      <td>-10.025207</td>\n",
       "      <td>21.614206</td>\n",
       "      <td>0.58</td>\n",
       "    </tr>\n",
       "    <tr>\n",
       "      <th>4</th>\n",
       "      <td>-0.326416</td>\n",
       "      <td>0.722161</td>\n",
       "      <td>0.6</td>\n",
       "    </tr>\n",
       "    <tr>\n",
       "      <th>...</th>\n",
       "      <td>...</td>\n",
       "      <td>...</td>\n",
       "      <td>...</td>\n",
       "    </tr>\n",
       "    <tr>\n",
       "      <th>663</th>\n",
       "      <td>-5.922316</td>\n",
       "      <td>13.582151</td>\n",
       "      <td>13.78</td>\n",
       "    </tr>\n",
       "    <tr>\n",
       "      <th>664</th>\n",
       "      <td>-2.700182</td>\n",
       "      <td>5.733327</td>\n",
       "      <td>13.8</td>\n",
       "    </tr>\n",
       "    <tr>\n",
       "      <th>665</th>\n",
       "      <td>-4.114030</td>\n",
       "      <td>8.154883</td>\n",
       "      <td>13.82</td>\n",
       "    </tr>\n",
       "    <tr>\n",
       "      <th>666</th>\n",
       "      <td>-0.380766</td>\n",
       "      <td>0.149775</td>\n",
       "      <td>13.84</td>\n",
       "    </tr>\n",
       "    <tr>\n",
       "      <th>667</th>\n",
       "      <td>0.159034</td>\n",
       "      <td>-0.331816</td>\n",
       "      <td>13.86</td>\n",
       "    </tr>\n",
       "  </tbody>\n",
       "</table>\n",
       "<p>668 rows × 3 columns</p>\n",
       "</div>"
      ],
      "text/plain": [
       "           LV1        LV2 Attributes\n",
       "0    -3.206537   5.583793       0.52\n",
       "1     6.406568 -12.093125       0.54\n",
       "2    -3.906116   7.690709       0.56\n",
       "3   -10.025207  21.614206       0.58\n",
       "4    -0.326416   0.722161        0.6\n",
       "..         ...        ...        ...\n",
       "663  -5.922316  13.582151      13.78\n",
       "664  -2.700182   5.733327       13.8\n",
       "665  -4.114030   8.154883      13.82\n",
       "666  -0.380766   0.149775      13.84\n",
       "667   0.159034  -0.331816      13.86\n",
       "\n",
       "[668 rows x 3 columns]"
      ]
     },
     "execution_count": 88,
     "metadata": {},
     "output_type": "execute_result"
    }
   ],
   "source": [
    "loadings = pd.DataFrame(lda.coef_.T[:,0:2],columns = ['LV1','LV2'])\n",
    "loadings[\"Attributes\"] = df.iloc[:,1:].columns\n",
    "loadings"
   ]
  },
  {
   "cell_type": "code",
   "execution_count": 89,
   "metadata": {},
   "outputs": [
    {
     "data": {
      "application/vnd.plotly.v1+json": {
       "config": {
        "plotlyServerURL": "https://plot.ly"
       },
       "data": [
        {
         "customdata": [
          [
           "TATP"
          ],
          [
           "TATP"
          ],
          [
           "TATP"
          ],
          [
           "TATP"
          ],
          [
           "TATP"
          ],
          [
           "TATP"
          ],
          [
           "TATP"
          ],
          [
           "TATP"
          ],
          [
           "TATP"
          ],
          [
           "TATP"
          ],
          [
           "TATP"
          ],
          [
           "TATP"
          ],
          [
           "TATP"
          ],
          [
           "TATP"
          ]
         ],
         "hovertemplate": "Class=%{customdata[0]}<br>LV1=%{x}<br>LV2=%{y}<extra></extra>",
         "legendgroup": "TATP",
         "marker": {
          "color": "#636efa",
          "symbol": "circle"
         },
         "mode": "markers",
         "name": "TATP",
         "orientation": "v",
         "showlegend": true,
         "type": "scatter",
         "x": [
          46.11230424392083,
          47.34386286291163,
          46.36350348352123,
          43.967896174782396,
          46.78643495084373,
          49.26743063109612,
          47.555055016497946,
          47.30308204127777,
          47.62847411905137,
          48.516528823180515,
          47.55471914973218,
          48.32872540924992,
          46.853904798754726,
          47.98711440849786
         ],
         "xaxis": "x",
         "y": [
          0.6703677610553986,
          -0.11514391376448008,
          -1.2187341090908528,
          -1.3883856945839241,
          0.21884249456821503,
          0.2519431378313537,
          1.2642969669517177,
          -0.9588737773815794,
          -0.6494308908548869,
          0.5406212925715632,
          0.252961504659822,
          -0.07008532232473952,
          0.7746932831988472,
          0.48619993564043973
         ],
         "yaxis": "y"
        },
        {
         "customdata": [
          [
           "acetone"
          ],
          [
           "acetone"
          ],
          [
           "acetone"
          ],
          [
           "acetone"
          ],
          [
           "acetone"
          ],
          [
           "acetone"
          ],
          [
           "acetone"
          ],
          [
           "acetone"
          ],
          [
           "acetone"
          ],
          [
           "acetone"
          ],
          [
           "acetone"
          ],
          [
           "acetone"
          ],
          [
           "acetone"
          ],
          [
           "acetone"
          ],
          [
           "acetone"
          ]
         ],
         "hovertemplate": "Class=%{customdata[0]}<br>LV1=%{x}<br>LV2=%{y}<extra></extra>",
         "legendgroup": "acetone",
         "marker": {
          "color": "#EF553B",
          "symbol": "circle"
         },
         "mode": "markers",
         "name": "acetone",
         "orientation": "v",
         "showlegend": true,
         "type": "scatter",
         "x": [
          -24.082713337605803,
          -23.040827100516257,
          -23.166973398553623,
          -22.393371111872323,
          -22.218065738447695,
          -22.193413694979107,
          -22.97977530169286,
          -22.677345110791915,
          -21.33501369509557,
          -22.675294365415077,
          -22.93404338830487,
          -23.820338932736295,
          -24.335818533957905,
          -22.573285024284278,
          -22.93307134635548
         ],
         "xaxis": "x",
         "y": [
          2.3694829406036693,
          0.6912287007135165,
          -0.062212317473705134,
          1.3723593829238645,
          1.1390767240281134,
          0.4530031677665701,
          1.6355163935775603,
          2.564098362406745,
          1.8956894139004963,
          2.8273130953202594,
          2.159480609872964,
          3.123450490210639,
          3.1049535729044733,
          1.3104801844843976,
          1.1234953258402949
         ],
         "yaxis": "y"
        },
        {
         "customdata": [
          [
           "DMMP"
          ],
          [
           "DMMP"
          ],
          [
           "DMMP"
          ],
          [
           "DMMP"
          ],
          [
           "DMMP"
          ],
          [
           "DMMP"
          ],
          [
           "DMMP"
          ],
          [
           "DMMP"
          ],
          [
           "DMMP"
          ],
          [
           "DMMP"
          ],
          [
           "DMMP"
          ],
          [
           "DMMP"
          ],
          [
           "DMMP"
          ],
          [
           "DMMP"
          ]
         ],
         "hovertemplate": "Class=%{customdata[0]}<br>LV1=%{x}<br>LV2=%{y}<extra></extra>",
         "legendgroup": "DMMP",
         "marker": {
          "color": "#00cc96",
          "symbol": "circle"
         },
         "mode": "markers",
         "name": "DMMP",
         "orientation": "v",
         "showlegend": true,
         "type": "scatter",
         "x": [
          -23.61305358560144,
          -24.209288008796733,
          -22.004888341213917,
          -23.175628802101734,
          -20.666913482509756,
          -22.723874069716107,
          -22.517995524598174,
          -21.775889305344897,
          -22.381186734017376,
          -22.89006862652214,
          -22.90153691098019,
          -23.9622836324748,
          -22.98463846074691,
          -22.402440548084922
         ],
         "xaxis": "x",
         "y": [
          -0.7993549175825075,
          -1.5385626062838198,
          -1.8409996093867496,
          1.466846149822353,
          -1.3987585494688746,
          -0.9267396759953198,
          -2.0684769562125633,
          -2.5390844978733185,
          -2.5241704971971335,
          -2.3865789963655435,
          -2.3421057080602026,
          -2.7406649454975054,
          -2.8768560006603114,
          -3.2511819047952355
         ],
         "yaxis": "y"
        }
       ],
       "layout": {
        "height": 600,
        "legend": {
         "title": {
          "text": "Class"
         },
         "tracegroupgap": 0
        },
        "margin": {
         "t": 60
        },
        "template": {
         "data": {
          "bar": [
           {
            "error_x": {
             "color": "#2a3f5f"
            },
            "error_y": {
             "color": "#2a3f5f"
            },
            "marker": {
             "line": {
              "color": "#E5ECF6",
              "width": 0.5
             },
             "pattern": {
              "fillmode": "overlay",
              "size": 10,
              "solidity": 0.2
             }
            },
            "type": "bar"
           }
          ],
          "barpolar": [
           {
            "marker": {
             "line": {
              "color": "#E5ECF6",
              "width": 0.5
             },
             "pattern": {
              "fillmode": "overlay",
              "size": 10,
              "solidity": 0.2
             }
            },
            "type": "barpolar"
           }
          ],
          "carpet": [
           {
            "aaxis": {
             "endlinecolor": "#2a3f5f",
             "gridcolor": "white",
             "linecolor": "white",
             "minorgridcolor": "white",
             "startlinecolor": "#2a3f5f"
            },
            "baxis": {
             "endlinecolor": "#2a3f5f",
             "gridcolor": "white",
             "linecolor": "white",
             "minorgridcolor": "white",
             "startlinecolor": "#2a3f5f"
            },
            "type": "carpet"
           }
          ],
          "choropleth": [
           {
            "colorbar": {
             "outlinewidth": 0,
             "ticks": ""
            },
            "type": "choropleth"
           }
          ],
          "contour": [
           {
            "colorbar": {
             "outlinewidth": 0,
             "ticks": ""
            },
            "colorscale": [
             [
              0,
              "#0d0887"
             ],
             [
              0.1111111111111111,
              "#46039f"
             ],
             [
              0.2222222222222222,
              "#7201a8"
             ],
             [
              0.3333333333333333,
              "#9c179e"
             ],
             [
              0.4444444444444444,
              "#bd3786"
             ],
             [
              0.5555555555555556,
              "#d8576b"
             ],
             [
              0.6666666666666666,
              "#ed7953"
             ],
             [
              0.7777777777777778,
              "#fb9f3a"
             ],
             [
              0.8888888888888888,
              "#fdca26"
             ],
             [
              1,
              "#f0f921"
             ]
            ],
            "type": "contour"
           }
          ],
          "contourcarpet": [
           {
            "colorbar": {
             "outlinewidth": 0,
             "ticks": ""
            },
            "type": "contourcarpet"
           }
          ],
          "heatmap": [
           {
            "colorbar": {
             "outlinewidth": 0,
             "ticks": ""
            },
            "colorscale": [
             [
              0,
              "#0d0887"
             ],
             [
              0.1111111111111111,
              "#46039f"
             ],
             [
              0.2222222222222222,
              "#7201a8"
             ],
             [
              0.3333333333333333,
              "#9c179e"
             ],
             [
              0.4444444444444444,
              "#bd3786"
             ],
             [
              0.5555555555555556,
              "#d8576b"
             ],
             [
              0.6666666666666666,
              "#ed7953"
             ],
             [
              0.7777777777777778,
              "#fb9f3a"
             ],
             [
              0.8888888888888888,
              "#fdca26"
             ],
             [
              1,
              "#f0f921"
             ]
            ],
            "type": "heatmap"
           }
          ],
          "heatmapgl": [
           {
            "colorbar": {
             "outlinewidth": 0,
             "ticks": ""
            },
            "colorscale": [
             [
              0,
              "#0d0887"
             ],
             [
              0.1111111111111111,
              "#46039f"
             ],
             [
              0.2222222222222222,
              "#7201a8"
             ],
             [
              0.3333333333333333,
              "#9c179e"
             ],
             [
              0.4444444444444444,
              "#bd3786"
             ],
             [
              0.5555555555555556,
              "#d8576b"
             ],
             [
              0.6666666666666666,
              "#ed7953"
             ],
             [
              0.7777777777777778,
              "#fb9f3a"
             ],
             [
              0.8888888888888888,
              "#fdca26"
             ],
             [
              1,
              "#f0f921"
             ]
            ],
            "type": "heatmapgl"
           }
          ],
          "histogram": [
           {
            "marker": {
             "pattern": {
              "fillmode": "overlay",
              "size": 10,
              "solidity": 0.2
             }
            },
            "type": "histogram"
           }
          ],
          "histogram2d": [
           {
            "colorbar": {
             "outlinewidth": 0,
             "ticks": ""
            },
            "colorscale": [
             [
              0,
              "#0d0887"
             ],
             [
              0.1111111111111111,
              "#46039f"
             ],
             [
              0.2222222222222222,
              "#7201a8"
             ],
             [
              0.3333333333333333,
              "#9c179e"
             ],
             [
              0.4444444444444444,
              "#bd3786"
             ],
             [
              0.5555555555555556,
              "#d8576b"
             ],
             [
              0.6666666666666666,
              "#ed7953"
             ],
             [
              0.7777777777777778,
              "#fb9f3a"
             ],
             [
              0.8888888888888888,
              "#fdca26"
             ],
             [
              1,
              "#f0f921"
             ]
            ],
            "type": "histogram2d"
           }
          ],
          "histogram2dcontour": [
           {
            "colorbar": {
             "outlinewidth": 0,
             "ticks": ""
            },
            "colorscale": [
             [
              0,
              "#0d0887"
             ],
             [
              0.1111111111111111,
              "#46039f"
             ],
             [
              0.2222222222222222,
              "#7201a8"
             ],
             [
              0.3333333333333333,
              "#9c179e"
             ],
             [
              0.4444444444444444,
              "#bd3786"
             ],
             [
              0.5555555555555556,
              "#d8576b"
             ],
             [
              0.6666666666666666,
              "#ed7953"
             ],
             [
              0.7777777777777778,
              "#fb9f3a"
             ],
             [
              0.8888888888888888,
              "#fdca26"
             ],
             [
              1,
              "#f0f921"
             ]
            ],
            "type": "histogram2dcontour"
           }
          ],
          "mesh3d": [
           {
            "colorbar": {
             "outlinewidth": 0,
             "ticks": ""
            },
            "type": "mesh3d"
           }
          ],
          "parcoords": [
           {
            "line": {
             "colorbar": {
              "outlinewidth": 0,
              "ticks": ""
             }
            },
            "type": "parcoords"
           }
          ],
          "pie": [
           {
            "automargin": true,
            "type": "pie"
           }
          ],
          "scatter": [
           {
            "fillpattern": {
             "fillmode": "overlay",
             "size": 10,
             "solidity": 0.2
            },
            "type": "scatter"
           }
          ],
          "scatter3d": [
           {
            "line": {
             "colorbar": {
              "outlinewidth": 0,
              "ticks": ""
             }
            },
            "marker": {
             "colorbar": {
              "outlinewidth": 0,
              "ticks": ""
             }
            },
            "type": "scatter3d"
           }
          ],
          "scattercarpet": [
           {
            "marker": {
             "colorbar": {
              "outlinewidth": 0,
              "ticks": ""
             }
            },
            "type": "scattercarpet"
           }
          ],
          "scattergeo": [
           {
            "marker": {
             "colorbar": {
              "outlinewidth": 0,
              "ticks": ""
             }
            },
            "type": "scattergeo"
           }
          ],
          "scattergl": [
           {
            "marker": {
             "colorbar": {
              "outlinewidth": 0,
              "ticks": ""
             }
            },
            "type": "scattergl"
           }
          ],
          "scattermapbox": [
           {
            "marker": {
             "colorbar": {
              "outlinewidth": 0,
              "ticks": ""
             }
            },
            "type": "scattermapbox"
           }
          ],
          "scatterpolar": [
           {
            "marker": {
             "colorbar": {
              "outlinewidth": 0,
              "ticks": ""
             }
            },
            "type": "scatterpolar"
           }
          ],
          "scatterpolargl": [
           {
            "marker": {
             "colorbar": {
              "outlinewidth": 0,
              "ticks": ""
             }
            },
            "type": "scatterpolargl"
           }
          ],
          "scatterternary": [
           {
            "marker": {
             "colorbar": {
              "outlinewidth": 0,
              "ticks": ""
             }
            },
            "type": "scatterternary"
           }
          ],
          "surface": [
           {
            "colorbar": {
             "outlinewidth": 0,
             "ticks": ""
            },
            "colorscale": [
             [
              0,
              "#0d0887"
             ],
             [
              0.1111111111111111,
              "#46039f"
             ],
             [
              0.2222222222222222,
              "#7201a8"
             ],
             [
              0.3333333333333333,
              "#9c179e"
             ],
             [
              0.4444444444444444,
              "#bd3786"
             ],
             [
              0.5555555555555556,
              "#d8576b"
             ],
             [
              0.6666666666666666,
              "#ed7953"
             ],
             [
              0.7777777777777778,
              "#fb9f3a"
             ],
             [
              0.8888888888888888,
              "#fdca26"
             ],
             [
              1,
              "#f0f921"
             ]
            ],
            "type": "surface"
           }
          ],
          "table": [
           {
            "cells": {
             "fill": {
              "color": "#EBF0F8"
             },
             "line": {
              "color": "white"
             }
            },
            "header": {
             "fill": {
              "color": "#C8D4E3"
             },
             "line": {
              "color": "white"
             }
            },
            "type": "table"
           }
          ]
         },
         "layout": {
          "annotationdefaults": {
           "arrowcolor": "#2a3f5f",
           "arrowhead": 0,
           "arrowwidth": 1
          },
          "autotypenumbers": "strict",
          "coloraxis": {
           "colorbar": {
            "outlinewidth": 0,
            "ticks": ""
           }
          },
          "colorscale": {
           "diverging": [
            [
             0,
             "#8e0152"
            ],
            [
             0.1,
             "#c51b7d"
            ],
            [
             0.2,
             "#de77ae"
            ],
            [
             0.3,
             "#f1b6da"
            ],
            [
             0.4,
             "#fde0ef"
            ],
            [
             0.5,
             "#f7f7f7"
            ],
            [
             0.6,
             "#e6f5d0"
            ],
            [
             0.7,
             "#b8e186"
            ],
            [
             0.8,
             "#7fbc41"
            ],
            [
             0.9,
             "#4d9221"
            ],
            [
             1,
             "#276419"
            ]
           ],
           "sequential": [
            [
             0,
             "#0d0887"
            ],
            [
             0.1111111111111111,
             "#46039f"
            ],
            [
             0.2222222222222222,
             "#7201a8"
            ],
            [
             0.3333333333333333,
             "#9c179e"
            ],
            [
             0.4444444444444444,
             "#bd3786"
            ],
            [
             0.5555555555555556,
             "#d8576b"
            ],
            [
             0.6666666666666666,
             "#ed7953"
            ],
            [
             0.7777777777777778,
             "#fb9f3a"
            ],
            [
             0.8888888888888888,
             "#fdca26"
            ],
            [
             1,
             "#f0f921"
            ]
           ],
           "sequentialminus": [
            [
             0,
             "#0d0887"
            ],
            [
             0.1111111111111111,
             "#46039f"
            ],
            [
             0.2222222222222222,
             "#7201a8"
            ],
            [
             0.3333333333333333,
             "#9c179e"
            ],
            [
             0.4444444444444444,
             "#bd3786"
            ],
            [
             0.5555555555555556,
             "#d8576b"
            ],
            [
             0.6666666666666666,
             "#ed7953"
            ],
            [
             0.7777777777777778,
             "#fb9f3a"
            ],
            [
             0.8888888888888888,
             "#fdca26"
            ],
            [
             1,
             "#f0f921"
            ]
           ]
          },
          "colorway": [
           "#636efa",
           "#EF553B",
           "#00cc96",
           "#ab63fa",
           "#FFA15A",
           "#19d3f3",
           "#FF6692",
           "#B6E880",
           "#FF97FF",
           "#FECB52"
          ],
          "font": {
           "color": "#2a3f5f"
          },
          "geo": {
           "bgcolor": "white",
           "lakecolor": "white",
           "landcolor": "#E5ECF6",
           "showlakes": true,
           "showland": true,
           "subunitcolor": "white"
          },
          "hoverlabel": {
           "align": "left"
          },
          "hovermode": "closest",
          "mapbox": {
           "style": "light"
          },
          "paper_bgcolor": "white",
          "plot_bgcolor": "#E5ECF6",
          "polar": {
           "angularaxis": {
            "gridcolor": "white",
            "linecolor": "white",
            "ticks": ""
           },
           "bgcolor": "#E5ECF6",
           "radialaxis": {
            "gridcolor": "white",
            "linecolor": "white",
            "ticks": ""
           }
          },
          "scene": {
           "xaxis": {
            "backgroundcolor": "#E5ECF6",
            "gridcolor": "white",
            "gridwidth": 2,
            "linecolor": "white",
            "showbackground": true,
            "ticks": "",
            "zerolinecolor": "white"
           },
           "yaxis": {
            "backgroundcolor": "#E5ECF6",
            "gridcolor": "white",
            "gridwidth": 2,
            "linecolor": "white",
            "showbackground": true,
            "ticks": "",
            "zerolinecolor": "white"
           },
           "zaxis": {
            "backgroundcolor": "#E5ECF6",
            "gridcolor": "white",
            "gridwidth": 2,
            "linecolor": "white",
            "showbackground": true,
            "ticks": "",
            "zerolinecolor": "white"
           }
          },
          "shapedefaults": {
           "line": {
            "color": "#2a3f5f"
           }
          },
          "ternary": {
           "aaxis": {
            "gridcolor": "white",
            "linecolor": "white",
            "ticks": ""
           },
           "baxis": {
            "gridcolor": "white",
            "linecolor": "white",
            "ticks": ""
           },
           "bgcolor": "#E5ECF6",
           "caxis": {
            "gridcolor": "white",
            "linecolor": "white",
            "ticks": ""
           }
          },
          "title": {
           "x": 0.05
          },
          "xaxis": {
           "automargin": true,
           "gridcolor": "white",
           "linecolor": "white",
           "ticks": "",
           "title": {
            "standoff": 15
           },
           "zerolinecolor": "white",
           "zerolinewidth": 2
          },
          "yaxis": {
           "automargin": true,
           "gridcolor": "white",
           "linecolor": "white",
           "ticks": "",
           "title": {
            "standoff": 15
           },
           "zerolinecolor": "white",
           "zerolinewidth": 2
          }
         }
        },
        "title": {
         "text": "Scores Plot"
        },
        "width": 800,
        "xaxis": {
         "anchor": "y",
         "domain": [
          0,
          1
         ],
         "title": {
          "text": "LV1"
         },
         "zeroline": true,
         "zerolinecolor": "Black",
         "zerolinewidth": 1
        },
        "yaxis": {
         "anchor": "x",
         "domain": [
          0,
          1
         ],
         "title": {
          "text": "LV2"
         },
         "zeroline": true,
         "zerolinecolor": "Black",
         "zerolinewidth": 1
        }
       }
      }
     },
     "metadata": {},
     "output_type": "display_data"
    }
   ],
   "source": [
    "#Scores plot\n",
    "import plotly.express as px\n",
    "fig = px.scatter(scores, x=\"LV1\", y=\"LV2\", color=\"Class\", hover_data=['Class'])\n",
    "fig.update_xaxes(zeroline=True, zerolinewidth=1, zerolinecolor='Black')\n",
    "fig.update_yaxes(zeroline=True, zerolinewidth=1, zerolinecolor='Black')\n",
    "fig.update_layout(\n",
    "    height=600,\n",
    "    width=800,\n",
    "    title_text='Scores Plot')\n",
    "fig.show()"
   ]
  },
  {
   "cell_type": "markdown",
   "metadata": {},
   "source": [
    "## PLSDA"
   ]
  },
  {
   "cell_type": "code",
   "execution_count": 90,
   "metadata": {},
   "outputs": [
    {
     "data": {
      "text/plain": [
       "Sample_id\n",
       "TATP_1           TATP\n",
       "TATP_2           TATP\n",
       "TATP_3           TATP\n",
       "TATP_4           TATP\n",
       "TATP_5           TATP\n",
       "TATP_6           TATP\n",
       "TATP_7           TATP\n",
       "TATP_8           TATP\n",
       "TATP_9           TATP\n",
       "TATP_10          TATP\n",
       "TATP_11          TATP\n",
       "TATP_12          TATP\n",
       "TATP_13          TATP\n",
       "TATP_14          TATP\n",
       "Acetone_1     acetone\n",
       "Acetone_2     acetone\n",
       "Acetone_3     acetone\n",
       "Acetone_4     acetone\n",
       "Acetone_5     acetone\n",
       "Acetone_6     acetone\n",
       "Acetone_7     acetone\n",
       "Acetone_8     acetone\n",
       "Acetone_9     acetone\n",
       "Acetone_10    acetone\n",
       "Acetone_11    acetone\n",
       "Acetone_12    acetone\n",
       "Acetone_13    acetone\n",
       "Acetone_14    acetone\n",
       "Acetone_15    acetone\n",
       "DMMP_1           DMMP\n",
       "DMMP_2           DMMP\n",
       "DMMP_3           DMMP\n",
       "DMMP_4           DMMP\n",
       "DMMP_5           DMMP\n",
       "DMMP_6           DMMP\n",
       "DMMP_7           DMMP\n",
       "DMMP_8           DMMP\n",
       "DMMP_9           DMMP\n",
       "DMMP_10          DMMP\n",
       "DMMP_11          DMMP\n",
       "DMMP_12          DMMP\n",
       "DMMP_13          DMMP\n",
       "DMMP_14          DMMP\n",
       "Name: Class, dtype: category\n",
       "Categories (3, object): ['DMMP', 'TATP', 'acetone']"
      ]
     },
     "execution_count": 90,
     "metadata": {},
     "output_type": "execute_result"
    }
   ],
   "source": [
    "Y = Y.astype('category')\n",
    "Y"
   ]
  },
  {
   "cell_type": "code",
   "execution_count": 91,
   "metadata": {},
   "outputs": [
    {
     "data": {
      "text/plain": [
       "Sample_id\n",
       "TATP_1        1\n",
       "TATP_2        1\n",
       "TATP_3        1\n",
       "TATP_4        1\n",
       "TATP_5        1\n",
       "TATP_6        1\n",
       "TATP_7        1\n",
       "TATP_8        1\n",
       "TATP_9        1\n",
       "TATP_10       1\n",
       "TATP_11       1\n",
       "TATP_12       1\n",
       "TATP_13       1\n",
       "TATP_14       1\n",
       "Acetone_1     2\n",
       "Acetone_2     2\n",
       "Acetone_3     2\n",
       "Acetone_4     2\n",
       "Acetone_5     2\n",
       "Acetone_6     2\n",
       "Acetone_7     2\n",
       "Acetone_8     2\n",
       "Acetone_9     2\n",
       "Acetone_10    2\n",
       "Acetone_11    2\n",
       "Acetone_12    2\n",
       "Acetone_13    2\n",
       "Acetone_14    2\n",
       "Acetone_15    2\n",
       "DMMP_1        0\n",
       "DMMP_2        0\n",
       "DMMP_3        0\n",
       "DMMP_4        0\n",
       "DMMP_5        0\n",
       "DMMP_6        0\n",
       "DMMP_7        0\n",
       "DMMP_8        0\n",
       "DMMP_9        0\n",
       "DMMP_10       0\n",
       "DMMP_11       0\n",
       "DMMP_12       0\n",
       "DMMP_13       0\n",
       "DMMP_14       0\n",
       "dtype: int8"
      ]
     },
     "execution_count": 91,
     "metadata": {},
     "output_type": "execute_result"
    }
   ],
   "source": [
    "Y = Y.cat.codes\n",
    "Y"
   ]
  },
  {
   "cell_type": "code",
   "execution_count": 92,
   "metadata": {},
   "outputs": [
    {
     "name": "stdout",
     "output_type": "stream",
     "text": [
      "[[  5.9136147   21.02344212   1.00324803]\n",
      " [  8.93645708  24.28032944  -5.07207308]\n",
      " [  5.9602526   20.93864855   1.20952224]\n",
      " [  5.47182091  17.97114414   0.64547739]\n",
      " [  6.55665755  22.97486619  -1.36223215]\n",
      " [  5.36968247  19.00999047  -1.14326341]\n",
      " [  6.36136089  21.4814855    1.15676636]\n",
      " [  6.37475593  19.99885239   0.83091575]\n",
      " [  5.73436672  23.54366566   1.22800325]\n",
      " [  5.7254621   23.88761091   1.16982672]\n",
      " [  5.78774099  24.6166465    1.09066426]\n",
      " [  6.75150238  20.97598163   1.3201249 ]\n",
      " [  6.16571887  20.31948797   0.46142543]\n",
      " [  6.14154258  20.10945974   0.31742087]\n",
      " [ -6.64202927  -3.38641034 -10.87053066]\n",
      " [ -6.67073719  -3.07279291 -11.20350304]\n",
      " [ -5.41615706  -5.28570223  -3.88735152]\n",
      " [ -5.25816365  -5.2917655   -3.96103377]\n",
      " [ -6.14168325  -4.49803358  -3.22511124]\n",
      " [ -5.54741143  -5.21891015  -3.33571541]\n",
      " [ -7.50100984  -2.7878139   -8.00066978]\n",
      " [ -9.66665584  -0.22829936  -0.88579266]\n",
      " [-11.58866619   2.50646213   0.506044  ]\n",
      " [-13.08206995   4.04001466   1.79011458]\n",
      " [-12.93388341   3.73353341   1.95507847]\n",
      " [-14.3568684    4.3268368    1.34361881]\n",
      " [-14.76646177   4.97142488   1.62947461]\n",
      " [-14.16073889   4.52753426   5.86274787]\n",
      " [-14.33719093   4.24438862   7.33402742]\n",
      " [  0.49901872 -15.01702853   3.19503821]\n",
      " [  0.43646042 -15.23583514   3.32670051]\n",
      " [  0.71690598 -15.07712596   3.40246074]\n",
      " [ -4.36094487  -8.4268994    3.02292803]\n",
      " [  2.61666134 -18.86725661   3.67361113]\n",
      " [  2.58163173 -19.05864913   3.7352947 ]\n",
      " [  5.64487348 -22.77458204   0.71316948]\n",
      " [  5.42688871 -22.07466636   0.76665014]\n",
      " [  4.55542201 -22.34171926   2.98346164]\n",
      " [  4.59845899 -22.49062084   3.06623037]\n",
      " [  8.73141905 -28.09360301  -0.32166547]\n",
      " [  8.41550943 -27.59626742  -0.19556737]\n",
      " [ 10.56448398 -31.32858545  -2.70378126]\n",
      " [ 10.39200234 -31.32923884  -2.57175507]]\n"
     ]
    }
   ],
   "source": [
    "regr_pls = PLSR(n_components=3)\n",
    "PLS_scores=regr_pls.fit_transform(X_autosc,Y)\n",
    "print(regr_pls.x_scores_)"
   ]
  },
  {
   "cell_type": "code",
   "execution_count": 93,
   "metadata": {},
   "outputs": [
    {
     "data": {
      "text/plain": [
       "array([[  5.9136147 ,  21.02344212,   1.00324803],\n",
       "       [  8.93645708,  24.28032944,  -5.07207308],\n",
       "       [  5.9602526 ,  20.93864855,   1.20952224],\n",
       "       [  5.47182091,  17.97114414,   0.64547739],\n",
       "       [  6.55665755,  22.97486619,  -1.36223215],\n",
       "       [  5.36968247,  19.00999047,  -1.14326341],\n",
       "       [  6.36136089,  21.4814855 ,   1.15676636],\n",
       "       [  6.37475593,  19.99885239,   0.83091575],\n",
       "       [  5.73436672,  23.54366566,   1.22800325],\n",
       "       [  5.7254621 ,  23.88761091,   1.16982672],\n",
       "       [  5.78774099,  24.6166465 ,   1.09066426],\n",
       "       [  6.75150238,  20.97598163,   1.3201249 ],\n",
       "       [  6.16571887,  20.31948797,   0.46142543],\n",
       "       [  6.14154258,  20.10945974,   0.31742087],\n",
       "       [ -6.64202927,  -3.38641034, -10.87053066],\n",
       "       [ -6.67073719,  -3.07279291, -11.20350304],\n",
       "       [ -5.41615706,  -5.28570223,  -3.88735152],\n",
       "       [ -5.25816365,  -5.2917655 ,  -3.96103377],\n",
       "       [ -6.14168325,  -4.49803358,  -3.22511124],\n",
       "       [ -5.54741143,  -5.21891015,  -3.33571541],\n",
       "       [ -7.50100984,  -2.7878139 ,  -8.00066978],\n",
       "       [ -9.66665584,  -0.22829936,  -0.88579266],\n",
       "       [-11.58866619,   2.50646213,   0.506044  ],\n",
       "       [-13.08206995,   4.04001466,   1.79011458],\n",
       "       [-12.93388341,   3.73353341,   1.95507847],\n",
       "       [-14.3568684 ,   4.3268368 ,   1.34361881],\n",
       "       [-14.76646177,   4.97142488,   1.62947461],\n",
       "       [-14.16073889,   4.52753426,   5.86274787],\n",
       "       [-14.33719093,   4.24438862,   7.33402742],\n",
       "       [  0.49901872, -15.01702853,   3.19503821],\n",
       "       [  0.43646042, -15.23583514,   3.32670051],\n",
       "       [  0.71690598, -15.07712596,   3.40246074],\n",
       "       [ -4.36094487,  -8.4268994 ,   3.02292803],\n",
       "       [  2.61666134, -18.86725661,   3.67361113],\n",
       "       [  2.58163173, -19.05864913,   3.7352947 ],\n",
       "       [  5.64487348, -22.77458204,   0.71316948],\n",
       "       [  5.42688871, -22.07466636,   0.76665014],\n",
       "       [  4.55542201, -22.34171926,   2.98346164],\n",
       "       [  4.59845899, -22.49062084,   3.06623037],\n",
       "       [  8.73141905, -28.09360301,  -0.32166547],\n",
       "       [  8.41550943, -27.59626742,  -0.19556737],\n",
       "       [ 10.56448398, -31.32858545,  -2.70378126],\n",
       "       [ 10.39200234, -31.32923884,  -2.57175507]])"
      ]
     },
     "execution_count": 93,
     "metadata": {},
     "output_type": "execute_result"
    }
   ],
   "source": [
    "scores = regr_pls.x_scores_\n",
    "scores"
   ]
  },
  {
   "cell_type": "code",
   "execution_count": 94,
   "metadata": {},
   "outputs": [
    {
     "data": {
      "text/html": [
       "<div>\n",
       "<style scoped>\n",
       "    .dataframe tbody tr th:only-of-type {\n",
       "        vertical-align: middle;\n",
       "    }\n",
       "\n",
       "    .dataframe tbody tr th {\n",
       "        vertical-align: top;\n",
       "    }\n",
       "\n",
       "    .dataframe thead th {\n",
       "        text-align: right;\n",
       "    }\n",
       "</style>\n",
       "<table border=\"1\" class=\"dataframe\">\n",
       "  <thead>\n",
       "    <tr style=\"text-align: right;\">\n",
       "      <th></th>\n",
       "      <th>LV1</th>\n",
       "      <th>LV2</th>\n",
       "      <th>LV3</th>\n",
       "      <th>Class</th>\n",
       "    </tr>\n",
       "    <tr>\n",
       "      <th>Sample_id</th>\n",
       "      <th></th>\n",
       "      <th></th>\n",
       "      <th></th>\n",
       "      <th></th>\n",
       "    </tr>\n",
       "  </thead>\n",
       "  <tbody>\n",
       "    <tr>\n",
       "      <th>TATP_1</th>\n",
       "      <td>5.913615</td>\n",
       "      <td>21.023442</td>\n",
       "      <td>1.003248</td>\n",
       "      <td>TATP</td>\n",
       "    </tr>\n",
       "    <tr>\n",
       "      <th>TATP_2</th>\n",
       "      <td>8.936457</td>\n",
       "      <td>24.280329</td>\n",
       "      <td>-5.072073</td>\n",
       "      <td>TATP</td>\n",
       "    </tr>\n",
       "    <tr>\n",
       "      <th>TATP_3</th>\n",
       "      <td>5.960253</td>\n",
       "      <td>20.938649</td>\n",
       "      <td>1.209522</td>\n",
       "      <td>TATP</td>\n",
       "    </tr>\n",
       "    <tr>\n",
       "      <th>TATP_4</th>\n",
       "      <td>5.471821</td>\n",
       "      <td>17.971144</td>\n",
       "      <td>0.645477</td>\n",
       "      <td>TATP</td>\n",
       "    </tr>\n",
       "    <tr>\n",
       "      <th>TATP_5</th>\n",
       "      <td>6.556658</td>\n",
       "      <td>22.974866</td>\n",
       "      <td>-1.362232</td>\n",
       "      <td>TATP</td>\n",
       "    </tr>\n",
       "    <tr>\n",
       "      <th>TATP_6</th>\n",
       "      <td>5.369682</td>\n",
       "      <td>19.009990</td>\n",
       "      <td>-1.143263</td>\n",
       "      <td>TATP</td>\n",
       "    </tr>\n",
       "    <tr>\n",
       "      <th>TATP_7</th>\n",
       "      <td>6.361361</td>\n",
       "      <td>21.481485</td>\n",
       "      <td>1.156766</td>\n",
       "      <td>TATP</td>\n",
       "    </tr>\n",
       "    <tr>\n",
       "      <th>TATP_8</th>\n",
       "      <td>6.374756</td>\n",
       "      <td>19.998852</td>\n",
       "      <td>0.830916</td>\n",
       "      <td>TATP</td>\n",
       "    </tr>\n",
       "    <tr>\n",
       "      <th>TATP_9</th>\n",
       "      <td>5.734367</td>\n",
       "      <td>23.543666</td>\n",
       "      <td>1.228003</td>\n",
       "      <td>TATP</td>\n",
       "    </tr>\n",
       "    <tr>\n",
       "      <th>TATP_10</th>\n",
       "      <td>5.725462</td>\n",
       "      <td>23.887611</td>\n",
       "      <td>1.169827</td>\n",
       "      <td>TATP</td>\n",
       "    </tr>\n",
       "    <tr>\n",
       "      <th>TATP_11</th>\n",
       "      <td>5.787741</td>\n",
       "      <td>24.616647</td>\n",
       "      <td>1.090664</td>\n",
       "      <td>TATP</td>\n",
       "    </tr>\n",
       "    <tr>\n",
       "      <th>TATP_12</th>\n",
       "      <td>6.751502</td>\n",
       "      <td>20.975982</td>\n",
       "      <td>1.320125</td>\n",
       "      <td>TATP</td>\n",
       "    </tr>\n",
       "    <tr>\n",
       "      <th>TATP_13</th>\n",
       "      <td>6.165719</td>\n",
       "      <td>20.319488</td>\n",
       "      <td>0.461425</td>\n",
       "      <td>TATP</td>\n",
       "    </tr>\n",
       "    <tr>\n",
       "      <th>TATP_14</th>\n",
       "      <td>6.141543</td>\n",
       "      <td>20.109460</td>\n",
       "      <td>0.317421</td>\n",
       "      <td>TATP</td>\n",
       "    </tr>\n",
       "    <tr>\n",
       "      <th>Acetone_1</th>\n",
       "      <td>-6.642029</td>\n",
       "      <td>-3.386410</td>\n",
       "      <td>-10.870531</td>\n",
       "      <td>acetone</td>\n",
       "    </tr>\n",
       "    <tr>\n",
       "      <th>Acetone_2</th>\n",
       "      <td>-6.670737</td>\n",
       "      <td>-3.072793</td>\n",
       "      <td>-11.203503</td>\n",
       "      <td>acetone</td>\n",
       "    </tr>\n",
       "    <tr>\n",
       "      <th>Acetone_3</th>\n",
       "      <td>-5.416157</td>\n",
       "      <td>-5.285702</td>\n",
       "      <td>-3.887352</td>\n",
       "      <td>acetone</td>\n",
       "    </tr>\n",
       "    <tr>\n",
       "      <th>Acetone_4</th>\n",
       "      <td>-5.258164</td>\n",
       "      <td>-5.291766</td>\n",
       "      <td>-3.961034</td>\n",
       "      <td>acetone</td>\n",
       "    </tr>\n",
       "    <tr>\n",
       "      <th>Acetone_5</th>\n",
       "      <td>-6.141683</td>\n",
       "      <td>-4.498034</td>\n",
       "      <td>-3.225111</td>\n",
       "      <td>acetone</td>\n",
       "    </tr>\n",
       "    <tr>\n",
       "      <th>Acetone_6</th>\n",
       "      <td>-5.547411</td>\n",
       "      <td>-5.218910</td>\n",
       "      <td>-3.335715</td>\n",
       "      <td>acetone</td>\n",
       "    </tr>\n",
       "    <tr>\n",
       "      <th>Acetone_7</th>\n",
       "      <td>-7.501010</td>\n",
       "      <td>-2.787814</td>\n",
       "      <td>-8.000670</td>\n",
       "      <td>acetone</td>\n",
       "    </tr>\n",
       "    <tr>\n",
       "      <th>Acetone_8</th>\n",
       "      <td>-9.666656</td>\n",
       "      <td>-0.228299</td>\n",
       "      <td>-0.885793</td>\n",
       "      <td>acetone</td>\n",
       "    </tr>\n",
       "    <tr>\n",
       "      <th>Acetone_9</th>\n",
       "      <td>-11.588666</td>\n",
       "      <td>2.506462</td>\n",
       "      <td>0.506044</td>\n",
       "      <td>acetone</td>\n",
       "    </tr>\n",
       "    <tr>\n",
       "      <th>Acetone_10</th>\n",
       "      <td>-13.082070</td>\n",
       "      <td>4.040015</td>\n",
       "      <td>1.790115</td>\n",
       "      <td>acetone</td>\n",
       "    </tr>\n",
       "    <tr>\n",
       "      <th>Acetone_11</th>\n",
       "      <td>-12.933883</td>\n",
       "      <td>3.733533</td>\n",
       "      <td>1.955078</td>\n",
       "      <td>acetone</td>\n",
       "    </tr>\n",
       "    <tr>\n",
       "      <th>Acetone_12</th>\n",
       "      <td>-14.356868</td>\n",
       "      <td>4.326837</td>\n",
       "      <td>1.343619</td>\n",
       "      <td>acetone</td>\n",
       "    </tr>\n",
       "    <tr>\n",
       "      <th>Acetone_13</th>\n",
       "      <td>-14.766462</td>\n",
       "      <td>4.971425</td>\n",
       "      <td>1.629475</td>\n",
       "      <td>acetone</td>\n",
       "    </tr>\n",
       "    <tr>\n",
       "      <th>Acetone_14</th>\n",
       "      <td>-14.160739</td>\n",
       "      <td>4.527534</td>\n",
       "      <td>5.862748</td>\n",
       "      <td>acetone</td>\n",
       "    </tr>\n",
       "    <tr>\n",
       "      <th>Acetone_15</th>\n",
       "      <td>-14.337191</td>\n",
       "      <td>4.244389</td>\n",
       "      <td>7.334027</td>\n",
       "      <td>acetone</td>\n",
       "    </tr>\n",
       "    <tr>\n",
       "      <th>DMMP_1</th>\n",
       "      <td>0.499019</td>\n",
       "      <td>-15.017029</td>\n",
       "      <td>3.195038</td>\n",
       "      <td>DMMP</td>\n",
       "    </tr>\n",
       "    <tr>\n",
       "      <th>DMMP_2</th>\n",
       "      <td>0.436460</td>\n",
       "      <td>-15.235835</td>\n",
       "      <td>3.326701</td>\n",
       "      <td>DMMP</td>\n",
       "    </tr>\n",
       "    <tr>\n",
       "      <th>DMMP_3</th>\n",
       "      <td>0.716906</td>\n",
       "      <td>-15.077126</td>\n",
       "      <td>3.402461</td>\n",
       "      <td>DMMP</td>\n",
       "    </tr>\n",
       "    <tr>\n",
       "      <th>DMMP_4</th>\n",
       "      <td>-4.360945</td>\n",
       "      <td>-8.426899</td>\n",
       "      <td>3.022928</td>\n",
       "      <td>DMMP</td>\n",
       "    </tr>\n",
       "    <tr>\n",
       "      <th>DMMP_5</th>\n",
       "      <td>2.616661</td>\n",
       "      <td>-18.867257</td>\n",
       "      <td>3.673611</td>\n",
       "      <td>DMMP</td>\n",
       "    </tr>\n",
       "    <tr>\n",
       "      <th>DMMP_6</th>\n",
       "      <td>2.581632</td>\n",
       "      <td>-19.058649</td>\n",
       "      <td>3.735295</td>\n",
       "      <td>DMMP</td>\n",
       "    </tr>\n",
       "    <tr>\n",
       "      <th>DMMP_7</th>\n",
       "      <td>5.644873</td>\n",
       "      <td>-22.774582</td>\n",
       "      <td>0.713169</td>\n",
       "      <td>DMMP</td>\n",
       "    </tr>\n",
       "    <tr>\n",
       "      <th>DMMP_8</th>\n",
       "      <td>5.426889</td>\n",
       "      <td>-22.074666</td>\n",
       "      <td>0.766650</td>\n",
       "      <td>DMMP</td>\n",
       "    </tr>\n",
       "    <tr>\n",
       "      <th>DMMP_9</th>\n",
       "      <td>4.555422</td>\n",
       "      <td>-22.341719</td>\n",
       "      <td>2.983462</td>\n",
       "      <td>DMMP</td>\n",
       "    </tr>\n",
       "    <tr>\n",
       "      <th>DMMP_10</th>\n",
       "      <td>4.598459</td>\n",
       "      <td>-22.490621</td>\n",
       "      <td>3.066230</td>\n",
       "      <td>DMMP</td>\n",
       "    </tr>\n",
       "    <tr>\n",
       "      <th>DMMP_11</th>\n",
       "      <td>8.731419</td>\n",
       "      <td>-28.093603</td>\n",
       "      <td>-0.321665</td>\n",
       "      <td>DMMP</td>\n",
       "    </tr>\n",
       "    <tr>\n",
       "      <th>DMMP_12</th>\n",
       "      <td>8.415509</td>\n",
       "      <td>-27.596267</td>\n",
       "      <td>-0.195567</td>\n",
       "      <td>DMMP</td>\n",
       "    </tr>\n",
       "    <tr>\n",
       "      <th>DMMP_13</th>\n",
       "      <td>10.564484</td>\n",
       "      <td>-31.328585</td>\n",
       "      <td>-2.703781</td>\n",
       "      <td>DMMP</td>\n",
       "    </tr>\n",
       "    <tr>\n",
       "      <th>DMMP_14</th>\n",
       "      <td>10.392002</td>\n",
       "      <td>-31.329239</td>\n",
       "      <td>-2.571755</td>\n",
       "      <td>DMMP</td>\n",
       "    </tr>\n",
       "  </tbody>\n",
       "</table>\n",
       "</div>"
      ],
      "text/plain": [
       "                  LV1        LV2        LV3    Class\n",
       "Sample_id                                           \n",
       "TATP_1       5.913615  21.023442   1.003248     TATP\n",
       "TATP_2       8.936457  24.280329  -5.072073     TATP\n",
       "TATP_3       5.960253  20.938649   1.209522     TATP\n",
       "TATP_4       5.471821  17.971144   0.645477     TATP\n",
       "TATP_5       6.556658  22.974866  -1.362232     TATP\n",
       "TATP_6       5.369682  19.009990  -1.143263     TATP\n",
       "TATP_7       6.361361  21.481485   1.156766     TATP\n",
       "TATP_8       6.374756  19.998852   0.830916     TATP\n",
       "TATP_9       5.734367  23.543666   1.228003     TATP\n",
       "TATP_10      5.725462  23.887611   1.169827     TATP\n",
       "TATP_11      5.787741  24.616647   1.090664     TATP\n",
       "TATP_12      6.751502  20.975982   1.320125     TATP\n",
       "TATP_13      6.165719  20.319488   0.461425     TATP\n",
       "TATP_14      6.141543  20.109460   0.317421     TATP\n",
       "Acetone_1   -6.642029  -3.386410 -10.870531  acetone\n",
       "Acetone_2   -6.670737  -3.072793 -11.203503  acetone\n",
       "Acetone_3   -5.416157  -5.285702  -3.887352  acetone\n",
       "Acetone_4   -5.258164  -5.291766  -3.961034  acetone\n",
       "Acetone_5   -6.141683  -4.498034  -3.225111  acetone\n",
       "Acetone_6   -5.547411  -5.218910  -3.335715  acetone\n",
       "Acetone_7   -7.501010  -2.787814  -8.000670  acetone\n",
       "Acetone_8   -9.666656  -0.228299  -0.885793  acetone\n",
       "Acetone_9  -11.588666   2.506462   0.506044  acetone\n",
       "Acetone_10 -13.082070   4.040015   1.790115  acetone\n",
       "Acetone_11 -12.933883   3.733533   1.955078  acetone\n",
       "Acetone_12 -14.356868   4.326837   1.343619  acetone\n",
       "Acetone_13 -14.766462   4.971425   1.629475  acetone\n",
       "Acetone_14 -14.160739   4.527534   5.862748  acetone\n",
       "Acetone_15 -14.337191   4.244389   7.334027  acetone\n",
       "DMMP_1       0.499019 -15.017029   3.195038     DMMP\n",
       "DMMP_2       0.436460 -15.235835   3.326701     DMMP\n",
       "DMMP_3       0.716906 -15.077126   3.402461     DMMP\n",
       "DMMP_4      -4.360945  -8.426899   3.022928     DMMP\n",
       "DMMP_5       2.616661 -18.867257   3.673611     DMMP\n",
       "DMMP_6       2.581632 -19.058649   3.735295     DMMP\n",
       "DMMP_7       5.644873 -22.774582   0.713169     DMMP\n",
       "DMMP_8       5.426889 -22.074666   0.766650     DMMP\n",
       "DMMP_9       4.555422 -22.341719   2.983462     DMMP\n",
       "DMMP_10      4.598459 -22.490621   3.066230     DMMP\n",
       "DMMP_11      8.731419 -28.093603  -0.321665     DMMP\n",
       "DMMP_12      8.415509 -27.596267  -0.195567     DMMP\n",
       "DMMP_13     10.564484 -31.328585  -2.703781     DMMP\n",
       "DMMP_14     10.392002 -31.329239  -2.571755     DMMP"
      ]
     },
     "execution_count": 94,
     "metadata": {},
     "output_type": "execute_result"
    }
   ],
   "source": [
    "scores = pd.DataFrame(scores, columns = ['LV1','LV2','LV3'])\n",
    "scores.index = df.index\n",
    "y = df.Class\n",
    "scores = pd.concat([scores, y], axis = 1)\n",
    "scores"
   ]
  },
  {
   "cell_type": "code",
   "execution_count": 95,
   "metadata": {},
   "outputs": [
    {
     "data": {
      "text/html": [
       "<div>\n",
       "<style scoped>\n",
       "    .dataframe tbody tr th:only-of-type {\n",
       "        vertical-align: middle;\n",
       "    }\n",
       "\n",
       "    .dataframe tbody tr th {\n",
       "        vertical-align: top;\n",
       "    }\n",
       "\n",
       "    .dataframe thead th {\n",
       "        text-align: right;\n",
       "    }\n",
       "</style>\n",
       "<table border=\"1\" class=\"dataframe\">\n",
       "  <thead>\n",
       "    <tr style=\"text-align: right;\">\n",
       "      <th></th>\n",
       "      <th>LV1</th>\n",
       "      <th>LV2</th>\n",
       "      <th>LV3</th>\n",
       "      <th>Attributes</th>\n",
       "    </tr>\n",
       "  </thead>\n",
       "  <tbody>\n",
       "    <tr>\n",
       "      <th>0</th>\n",
       "      <td>0.068621</td>\n",
       "      <td>0.045250</td>\n",
       "      <td>0.011553</td>\n",
       "      <td>0.52</td>\n",
       "    </tr>\n",
       "    <tr>\n",
       "      <th>1</th>\n",
       "      <td>0.069285</td>\n",
       "      <td>0.045081</td>\n",
       "      <td>0.014468</td>\n",
       "      <td>0.54</td>\n",
       "    </tr>\n",
       "    <tr>\n",
       "      <th>2</th>\n",
       "      <td>0.067850</td>\n",
       "      <td>0.045739</td>\n",
       "      <td>0.016649</td>\n",
       "      <td>0.56</td>\n",
       "    </tr>\n",
       "    <tr>\n",
       "      <th>3</th>\n",
       "      <td>0.069053</td>\n",
       "      <td>0.045483</td>\n",
       "      <td>0.009509</td>\n",
       "      <td>0.58</td>\n",
       "    </tr>\n",
       "    <tr>\n",
       "      <th>4</th>\n",
       "      <td>0.068170</td>\n",
       "      <td>0.045717</td>\n",
       "      <td>0.017263</td>\n",
       "      <td>0.6</td>\n",
       "    </tr>\n",
       "    <tr>\n",
       "      <th>...</th>\n",
       "      <td>...</td>\n",
       "      <td>...</td>\n",
       "      <td>...</td>\n",
       "      <td>...</td>\n",
       "    </tr>\n",
       "    <tr>\n",
       "      <th>663</th>\n",
       "      <td>0.069022</td>\n",
       "      <td>0.045393</td>\n",
       "      <td>0.014746</td>\n",
       "      <td>13.78</td>\n",
       "    </tr>\n",
       "    <tr>\n",
       "      <th>664</th>\n",
       "      <td>0.066798</td>\n",
       "      <td>0.045850</td>\n",
       "      <td>0.011274</td>\n",
       "      <td>13.8</td>\n",
       "    </tr>\n",
       "    <tr>\n",
       "      <th>665</th>\n",
       "      <td>0.068128</td>\n",
       "      <td>0.045850</td>\n",
       "      <td>0.005045</td>\n",
       "      <td>13.82</td>\n",
       "    </tr>\n",
       "    <tr>\n",
       "      <th>666</th>\n",
       "      <td>0.068407</td>\n",
       "      <td>0.045647</td>\n",
       "      <td>0.008282</td>\n",
       "      <td>13.84</td>\n",
       "    </tr>\n",
       "    <tr>\n",
       "      <th>667</th>\n",
       "      <td>0.025541</td>\n",
       "      <td>0.026703</td>\n",
       "      <td>0.076039</td>\n",
       "      <td>13.86</td>\n",
       "    </tr>\n",
       "  </tbody>\n",
       "</table>\n",
       "<p>668 rows × 4 columns</p>\n",
       "</div>"
      ],
      "text/plain": [
       "          LV1       LV2       LV3 Attributes\n",
       "0    0.068621  0.045250  0.011553       0.52\n",
       "1    0.069285  0.045081  0.014468       0.54\n",
       "2    0.067850  0.045739  0.016649       0.56\n",
       "3    0.069053  0.045483  0.009509       0.58\n",
       "4    0.068170  0.045717  0.017263        0.6\n",
       "..        ...       ...       ...        ...\n",
       "663  0.069022  0.045393  0.014746      13.78\n",
       "664  0.066798  0.045850  0.011274       13.8\n",
       "665  0.068128  0.045850  0.005045      13.82\n",
       "666  0.068407  0.045647  0.008282      13.84\n",
       "667  0.025541  0.026703  0.076039      13.86\n",
       "\n",
       "[668 rows x 4 columns]"
      ]
     },
     "execution_count": 95,
     "metadata": {},
     "output_type": "execute_result"
    }
   ],
   "source": [
    "loadings = pd.DataFrame(regr_pls.x_loadings_,columns = [\"LV1\",'LV2','LV3'])\n",
    "loadings[\"Attributes\"] = df.iloc[:,1:].columns\n",
    "loadings"
   ]
  },
  {
   "cell_type": "code",
   "execution_count": 96,
   "metadata": {},
   "outputs": [
    {
     "data": {
      "application/vnd.plotly.v1+json": {
       "config": {
        "plotlyServerURL": "https://plot.ly"
       },
       "data": [
        {
         "customdata": [
          [
           "TATP"
          ],
          [
           "TATP"
          ],
          [
           "TATP"
          ],
          [
           "TATP"
          ],
          [
           "TATP"
          ],
          [
           "TATP"
          ],
          [
           "TATP"
          ],
          [
           "TATP"
          ],
          [
           "TATP"
          ],
          [
           "TATP"
          ],
          [
           "TATP"
          ],
          [
           "TATP"
          ],
          [
           "TATP"
          ],
          [
           "TATP"
          ]
         ],
         "hovertemplate": "Class=%{customdata[0]}<br>LV1=%{x}<br>LV2=%{y}<extra></extra>",
         "legendgroup": "TATP",
         "marker": {
          "color": "#636efa",
          "symbol": "circle"
         },
         "mode": "markers",
         "name": "TATP",
         "orientation": "v",
         "showlegend": true,
         "type": "scatter",
         "x": [
          5.913614695333437,
          8.936457084595137,
          5.960252599408362,
          5.4718209119451,
          6.556657554720242,
          5.369682474141218,
          6.361360887886578,
          6.374755929432714,
          5.7343667173766715,
          5.725462097221644,
          5.787740985762173,
          6.751502376407902,
          6.165718867222037,
          6.141542583044997
         ],
         "xaxis": "x",
         "y": [
          21.02344211578147,
          24.28032944038905,
          20.938648549334225,
          17.97114414319789,
          22.974866190122718,
          19.00999046964193,
          21.481485495124353,
          19.99885238955396,
          23.543665655020877,
          23.887610912951907,
          24.616646500274825,
          20.975981630186645,
          20.31948796601577,
          20.109459736606844
         ],
         "yaxis": "y"
        },
        {
         "customdata": [
          [
           "acetone"
          ],
          [
           "acetone"
          ],
          [
           "acetone"
          ],
          [
           "acetone"
          ],
          [
           "acetone"
          ],
          [
           "acetone"
          ],
          [
           "acetone"
          ],
          [
           "acetone"
          ],
          [
           "acetone"
          ],
          [
           "acetone"
          ],
          [
           "acetone"
          ],
          [
           "acetone"
          ],
          [
           "acetone"
          ],
          [
           "acetone"
          ],
          [
           "acetone"
          ]
         ],
         "hovertemplate": "Class=%{customdata[0]}<br>LV1=%{x}<br>LV2=%{y}<extra></extra>",
         "legendgroup": "acetone",
         "marker": {
          "color": "#EF553B",
          "symbol": "circle"
         },
         "mode": "markers",
         "name": "acetone",
         "orientation": "v",
         "showlegend": true,
         "type": "scatter",
         "x": [
          -6.642029267814911,
          -6.670737194145788,
          -5.416157060546379,
          -5.258163649673488,
          -6.141683252640278,
          -5.547411429570304,
          -7.501009838404514,
          -9.666655840673865,
          -11.588666191363831,
          -13.082069952103424,
          -12.93388340655306,
          -14.35686840334368,
          -14.766461767362562,
          -14.160738892729189,
          -14.33719093125141
         ],
         "xaxis": "x",
         "y": [
          -3.3864103393056975,
          -3.0727929080872878,
          -5.285702231584832,
          -5.291765503640008,
          -4.49803358251648,
          -5.218910147312325,
          -2.7878138963675436,
          -0.22829936044387764,
          2.5064621339939626,
          4.040014660464305,
          3.73353341138135,
          4.32683679801767,
          4.971424877791887,
          4.527534264568119,
          4.244388624607031
         ],
         "yaxis": "y"
        },
        {
         "customdata": [
          [
           "DMMP"
          ],
          [
           "DMMP"
          ],
          [
           "DMMP"
          ],
          [
           "DMMP"
          ],
          [
           "DMMP"
          ],
          [
           "DMMP"
          ],
          [
           "DMMP"
          ],
          [
           "DMMP"
          ],
          [
           "DMMP"
          ],
          [
           "DMMP"
          ],
          [
           "DMMP"
          ],
          [
           "DMMP"
          ],
          [
           "DMMP"
          ],
          [
           "DMMP"
          ]
         ],
         "hovertemplate": "Class=%{customdata[0]}<br>LV1=%{x}<br>LV2=%{y}<extra></extra>",
         "legendgroup": "DMMP",
         "marker": {
          "color": "#00cc96",
          "symbol": "circle"
         },
         "mode": "markers",
         "name": "DMMP",
         "orientation": "v",
         "showlegend": true,
         "type": "scatter",
         "x": [
          0.49901872022767174,
          0.4364604222634514,
          0.7169059817127664,
          -4.360944872522542,
          2.6166613441131985,
          2.5816317336615597,
          5.644873483617922,
          5.426888706070527,
          4.55542200687527,
          4.598458987562624,
          8.73141904961592,
          8.415509431762116,
          10.56448397820776,
          10.392002340510285
         ],
         "xaxis": "x",
         "y": [
          -15.017028526509474,
          -15.235835140113425,
          -15.077125964935046,
          -8.426899400533232,
          -18.86725661275727,
          -19.058649126844276,
          -22.774582043572657,
          -22.074666363393707,
          -22.341719258590796,
          -22.49062083937789,
          -28.0936030148081,
          -27.596267417141018,
          -31.328585448136366,
          -31.329238839055524
         ],
         "yaxis": "y"
        }
       ],
       "layout": {
        "height": 600,
        "legend": {
         "title": {
          "text": "Class"
         },
         "tracegroupgap": 0
        },
        "margin": {
         "t": 60
        },
        "template": {
         "data": {
          "bar": [
           {
            "error_x": {
             "color": "#2a3f5f"
            },
            "error_y": {
             "color": "#2a3f5f"
            },
            "marker": {
             "line": {
              "color": "#E5ECF6",
              "width": 0.5
             },
             "pattern": {
              "fillmode": "overlay",
              "size": 10,
              "solidity": 0.2
             }
            },
            "type": "bar"
           }
          ],
          "barpolar": [
           {
            "marker": {
             "line": {
              "color": "#E5ECF6",
              "width": 0.5
             },
             "pattern": {
              "fillmode": "overlay",
              "size": 10,
              "solidity": 0.2
             }
            },
            "type": "barpolar"
           }
          ],
          "carpet": [
           {
            "aaxis": {
             "endlinecolor": "#2a3f5f",
             "gridcolor": "white",
             "linecolor": "white",
             "minorgridcolor": "white",
             "startlinecolor": "#2a3f5f"
            },
            "baxis": {
             "endlinecolor": "#2a3f5f",
             "gridcolor": "white",
             "linecolor": "white",
             "minorgridcolor": "white",
             "startlinecolor": "#2a3f5f"
            },
            "type": "carpet"
           }
          ],
          "choropleth": [
           {
            "colorbar": {
             "outlinewidth": 0,
             "ticks": ""
            },
            "type": "choropleth"
           }
          ],
          "contour": [
           {
            "colorbar": {
             "outlinewidth": 0,
             "ticks": ""
            },
            "colorscale": [
             [
              0,
              "#0d0887"
             ],
             [
              0.1111111111111111,
              "#46039f"
             ],
             [
              0.2222222222222222,
              "#7201a8"
             ],
             [
              0.3333333333333333,
              "#9c179e"
             ],
             [
              0.4444444444444444,
              "#bd3786"
             ],
             [
              0.5555555555555556,
              "#d8576b"
             ],
             [
              0.6666666666666666,
              "#ed7953"
             ],
             [
              0.7777777777777778,
              "#fb9f3a"
             ],
             [
              0.8888888888888888,
              "#fdca26"
             ],
             [
              1,
              "#f0f921"
             ]
            ],
            "type": "contour"
           }
          ],
          "contourcarpet": [
           {
            "colorbar": {
             "outlinewidth": 0,
             "ticks": ""
            },
            "type": "contourcarpet"
           }
          ],
          "heatmap": [
           {
            "colorbar": {
             "outlinewidth": 0,
             "ticks": ""
            },
            "colorscale": [
             [
              0,
              "#0d0887"
             ],
             [
              0.1111111111111111,
              "#46039f"
             ],
             [
              0.2222222222222222,
              "#7201a8"
             ],
             [
              0.3333333333333333,
              "#9c179e"
             ],
             [
              0.4444444444444444,
              "#bd3786"
             ],
             [
              0.5555555555555556,
              "#d8576b"
             ],
             [
              0.6666666666666666,
              "#ed7953"
             ],
             [
              0.7777777777777778,
              "#fb9f3a"
             ],
             [
              0.8888888888888888,
              "#fdca26"
             ],
             [
              1,
              "#f0f921"
             ]
            ],
            "type": "heatmap"
           }
          ],
          "heatmapgl": [
           {
            "colorbar": {
             "outlinewidth": 0,
             "ticks": ""
            },
            "colorscale": [
             [
              0,
              "#0d0887"
             ],
             [
              0.1111111111111111,
              "#46039f"
             ],
             [
              0.2222222222222222,
              "#7201a8"
             ],
             [
              0.3333333333333333,
              "#9c179e"
             ],
             [
              0.4444444444444444,
              "#bd3786"
             ],
             [
              0.5555555555555556,
              "#d8576b"
             ],
             [
              0.6666666666666666,
              "#ed7953"
             ],
             [
              0.7777777777777778,
              "#fb9f3a"
             ],
             [
              0.8888888888888888,
              "#fdca26"
             ],
             [
              1,
              "#f0f921"
             ]
            ],
            "type": "heatmapgl"
           }
          ],
          "histogram": [
           {
            "marker": {
             "pattern": {
              "fillmode": "overlay",
              "size": 10,
              "solidity": 0.2
             }
            },
            "type": "histogram"
           }
          ],
          "histogram2d": [
           {
            "colorbar": {
             "outlinewidth": 0,
             "ticks": ""
            },
            "colorscale": [
             [
              0,
              "#0d0887"
             ],
             [
              0.1111111111111111,
              "#46039f"
             ],
             [
              0.2222222222222222,
              "#7201a8"
             ],
             [
              0.3333333333333333,
              "#9c179e"
             ],
             [
              0.4444444444444444,
              "#bd3786"
             ],
             [
              0.5555555555555556,
              "#d8576b"
             ],
             [
              0.6666666666666666,
              "#ed7953"
             ],
             [
              0.7777777777777778,
              "#fb9f3a"
             ],
             [
              0.8888888888888888,
              "#fdca26"
             ],
             [
              1,
              "#f0f921"
             ]
            ],
            "type": "histogram2d"
           }
          ],
          "histogram2dcontour": [
           {
            "colorbar": {
             "outlinewidth": 0,
             "ticks": ""
            },
            "colorscale": [
             [
              0,
              "#0d0887"
             ],
             [
              0.1111111111111111,
              "#46039f"
             ],
             [
              0.2222222222222222,
              "#7201a8"
             ],
             [
              0.3333333333333333,
              "#9c179e"
             ],
             [
              0.4444444444444444,
              "#bd3786"
             ],
             [
              0.5555555555555556,
              "#d8576b"
             ],
             [
              0.6666666666666666,
              "#ed7953"
             ],
             [
              0.7777777777777778,
              "#fb9f3a"
             ],
             [
              0.8888888888888888,
              "#fdca26"
             ],
             [
              1,
              "#f0f921"
             ]
            ],
            "type": "histogram2dcontour"
           }
          ],
          "mesh3d": [
           {
            "colorbar": {
             "outlinewidth": 0,
             "ticks": ""
            },
            "type": "mesh3d"
           }
          ],
          "parcoords": [
           {
            "line": {
             "colorbar": {
              "outlinewidth": 0,
              "ticks": ""
             }
            },
            "type": "parcoords"
           }
          ],
          "pie": [
           {
            "automargin": true,
            "type": "pie"
           }
          ],
          "scatter": [
           {
            "fillpattern": {
             "fillmode": "overlay",
             "size": 10,
             "solidity": 0.2
            },
            "type": "scatter"
           }
          ],
          "scatter3d": [
           {
            "line": {
             "colorbar": {
              "outlinewidth": 0,
              "ticks": ""
             }
            },
            "marker": {
             "colorbar": {
              "outlinewidth": 0,
              "ticks": ""
             }
            },
            "type": "scatter3d"
           }
          ],
          "scattercarpet": [
           {
            "marker": {
             "colorbar": {
              "outlinewidth": 0,
              "ticks": ""
             }
            },
            "type": "scattercarpet"
           }
          ],
          "scattergeo": [
           {
            "marker": {
             "colorbar": {
              "outlinewidth": 0,
              "ticks": ""
             }
            },
            "type": "scattergeo"
           }
          ],
          "scattergl": [
           {
            "marker": {
             "colorbar": {
              "outlinewidth": 0,
              "ticks": ""
             }
            },
            "type": "scattergl"
           }
          ],
          "scattermapbox": [
           {
            "marker": {
             "colorbar": {
              "outlinewidth": 0,
              "ticks": ""
             }
            },
            "type": "scattermapbox"
           }
          ],
          "scatterpolar": [
           {
            "marker": {
             "colorbar": {
              "outlinewidth": 0,
              "ticks": ""
             }
            },
            "type": "scatterpolar"
           }
          ],
          "scatterpolargl": [
           {
            "marker": {
             "colorbar": {
              "outlinewidth": 0,
              "ticks": ""
             }
            },
            "type": "scatterpolargl"
           }
          ],
          "scatterternary": [
           {
            "marker": {
             "colorbar": {
              "outlinewidth": 0,
              "ticks": ""
             }
            },
            "type": "scatterternary"
           }
          ],
          "surface": [
           {
            "colorbar": {
             "outlinewidth": 0,
             "ticks": ""
            },
            "colorscale": [
             [
              0,
              "#0d0887"
             ],
             [
              0.1111111111111111,
              "#46039f"
             ],
             [
              0.2222222222222222,
              "#7201a8"
             ],
             [
              0.3333333333333333,
              "#9c179e"
             ],
             [
              0.4444444444444444,
              "#bd3786"
             ],
             [
              0.5555555555555556,
              "#d8576b"
             ],
             [
              0.6666666666666666,
              "#ed7953"
             ],
             [
              0.7777777777777778,
              "#fb9f3a"
             ],
             [
              0.8888888888888888,
              "#fdca26"
             ],
             [
              1,
              "#f0f921"
             ]
            ],
            "type": "surface"
           }
          ],
          "table": [
           {
            "cells": {
             "fill": {
              "color": "#EBF0F8"
             },
             "line": {
              "color": "white"
             }
            },
            "header": {
             "fill": {
              "color": "#C8D4E3"
             },
             "line": {
              "color": "white"
             }
            },
            "type": "table"
           }
          ]
         },
         "layout": {
          "annotationdefaults": {
           "arrowcolor": "#2a3f5f",
           "arrowhead": 0,
           "arrowwidth": 1
          },
          "autotypenumbers": "strict",
          "coloraxis": {
           "colorbar": {
            "outlinewidth": 0,
            "ticks": ""
           }
          },
          "colorscale": {
           "diverging": [
            [
             0,
             "#8e0152"
            ],
            [
             0.1,
             "#c51b7d"
            ],
            [
             0.2,
             "#de77ae"
            ],
            [
             0.3,
             "#f1b6da"
            ],
            [
             0.4,
             "#fde0ef"
            ],
            [
             0.5,
             "#f7f7f7"
            ],
            [
             0.6,
             "#e6f5d0"
            ],
            [
             0.7,
             "#b8e186"
            ],
            [
             0.8,
             "#7fbc41"
            ],
            [
             0.9,
             "#4d9221"
            ],
            [
             1,
             "#276419"
            ]
           ],
           "sequential": [
            [
             0,
             "#0d0887"
            ],
            [
             0.1111111111111111,
             "#46039f"
            ],
            [
             0.2222222222222222,
             "#7201a8"
            ],
            [
             0.3333333333333333,
             "#9c179e"
            ],
            [
             0.4444444444444444,
             "#bd3786"
            ],
            [
             0.5555555555555556,
             "#d8576b"
            ],
            [
             0.6666666666666666,
             "#ed7953"
            ],
            [
             0.7777777777777778,
             "#fb9f3a"
            ],
            [
             0.8888888888888888,
             "#fdca26"
            ],
            [
             1,
             "#f0f921"
            ]
           ],
           "sequentialminus": [
            [
             0,
             "#0d0887"
            ],
            [
             0.1111111111111111,
             "#46039f"
            ],
            [
             0.2222222222222222,
             "#7201a8"
            ],
            [
             0.3333333333333333,
             "#9c179e"
            ],
            [
             0.4444444444444444,
             "#bd3786"
            ],
            [
             0.5555555555555556,
             "#d8576b"
            ],
            [
             0.6666666666666666,
             "#ed7953"
            ],
            [
             0.7777777777777778,
             "#fb9f3a"
            ],
            [
             0.8888888888888888,
             "#fdca26"
            ],
            [
             1,
             "#f0f921"
            ]
           ]
          },
          "colorway": [
           "#636efa",
           "#EF553B",
           "#00cc96",
           "#ab63fa",
           "#FFA15A",
           "#19d3f3",
           "#FF6692",
           "#B6E880",
           "#FF97FF",
           "#FECB52"
          ],
          "font": {
           "color": "#2a3f5f"
          },
          "geo": {
           "bgcolor": "white",
           "lakecolor": "white",
           "landcolor": "#E5ECF6",
           "showlakes": true,
           "showland": true,
           "subunitcolor": "white"
          },
          "hoverlabel": {
           "align": "left"
          },
          "hovermode": "closest",
          "mapbox": {
           "style": "light"
          },
          "paper_bgcolor": "white",
          "plot_bgcolor": "#E5ECF6",
          "polar": {
           "angularaxis": {
            "gridcolor": "white",
            "linecolor": "white",
            "ticks": ""
           },
           "bgcolor": "#E5ECF6",
           "radialaxis": {
            "gridcolor": "white",
            "linecolor": "white",
            "ticks": ""
           }
          },
          "scene": {
           "xaxis": {
            "backgroundcolor": "#E5ECF6",
            "gridcolor": "white",
            "gridwidth": 2,
            "linecolor": "white",
            "showbackground": true,
            "ticks": "",
            "zerolinecolor": "white"
           },
           "yaxis": {
            "backgroundcolor": "#E5ECF6",
            "gridcolor": "white",
            "gridwidth": 2,
            "linecolor": "white",
            "showbackground": true,
            "ticks": "",
            "zerolinecolor": "white"
           },
           "zaxis": {
            "backgroundcolor": "#E5ECF6",
            "gridcolor": "white",
            "gridwidth": 2,
            "linecolor": "white",
            "showbackground": true,
            "ticks": "",
            "zerolinecolor": "white"
           }
          },
          "shapedefaults": {
           "line": {
            "color": "#2a3f5f"
           }
          },
          "ternary": {
           "aaxis": {
            "gridcolor": "white",
            "linecolor": "white",
            "ticks": ""
           },
           "baxis": {
            "gridcolor": "white",
            "linecolor": "white",
            "ticks": ""
           },
           "bgcolor": "#E5ECF6",
           "caxis": {
            "gridcolor": "white",
            "linecolor": "white",
            "ticks": ""
           }
          },
          "title": {
           "x": 0.05
          },
          "xaxis": {
           "automargin": true,
           "gridcolor": "white",
           "linecolor": "white",
           "ticks": "",
           "title": {
            "standoff": 15
           },
           "zerolinecolor": "white",
           "zerolinewidth": 2
          },
          "yaxis": {
           "automargin": true,
           "gridcolor": "white",
           "linecolor": "white",
           "ticks": "",
           "title": {
            "standoff": 15
           },
           "zerolinecolor": "white",
           "zerolinewidth": 2
          }
         }
        },
        "title": {
         "text": "Scores Plot"
        },
        "width": 800,
        "xaxis": {
         "anchor": "y",
         "domain": [
          0,
          1
         ],
         "title": {
          "text": "LV1"
         },
         "zeroline": true,
         "zerolinecolor": "Black",
         "zerolinewidth": 1
        },
        "yaxis": {
         "anchor": "x",
         "domain": [
          0,
          1
         ],
         "title": {
          "text": "LV2"
         },
         "zeroline": true,
         "zerolinecolor": "Black",
         "zerolinewidth": 1
        }
       }
      }
     },
     "metadata": {},
     "output_type": "display_data"
    }
   ],
   "source": [
    "import plotly.express as px\n",
    "fig = px.scatter(scores, x=\"LV1\", y=\"LV2\", color=\"Class\", hover_data=['Class'])\n",
    "fig.update_xaxes(zeroline=True, zerolinewidth=1, zerolinecolor='Black')\n",
    "fig.update_yaxes(zeroline=True, zerolinewidth=1, zerolinecolor='Black')\n",
    "fig.update_layout(\n",
    "    height=600,\n",
    "    width=800,\n",
    "    title_text='Scores Plot')\n",
    "fig.show()"
   ]
  }
 ],
 "metadata": {
  "kernelspec": {
   "display_name": "venv",
   "language": "python",
   "name": "python3"
  },
  "language_info": {
   "codemirror_mode": {
    "name": "ipython",
    "version": 3
   },
   "file_extension": ".py",
   "mimetype": "text/x-python",
   "name": "python",
   "nbconvert_exporter": "python",
   "pygments_lexer": "ipython3",
   "version": "3.12.2"
  }
 },
 "nbformat": 4,
 "nbformat_minor": 2
}
